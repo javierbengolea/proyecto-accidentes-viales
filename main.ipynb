{
 "cells": [
  {
   "cell_type": "markdown",
   "metadata": {},
   "source": [
    "1. Importaciones"
   ]
  },
  {
   "cell_type": "code",
   "execution_count": 1,
   "metadata": {},
   "outputs": [],
   "source": [
    "import numpy as np\n",
    "import pandas as pd\n",
    "import matplotlib.pyplot as plt\n",
    "import seaborn as sns\n",
    "import plotly.express as px\n",
    "import json\n",
    "import warnings\n",
    "import re\n",
    "from datetime import datetime\n",
    "warnings.filterwarnings('ignore')\n",
    "from IPython.display import display, Markdown\n"
   ]
  },
  {
   "cell_type": "markdown",
   "metadata": {},
   "source": [
    "#### 1.0 Funciones útiles"
   ]
  },
  {
   "cell_type": "code",
   "execution_count": 130,
   "metadata": {},
   "outputs": [],
   "source": [
    "def showPie(columna, excluir=[\"SD\"], max=15):\n",
    "  for substring in excluir:\n",
    "    columna = columna[~columna.astype(str).str.contains(substring)]\n",
    "  \n",
    "  count_values = pd.Series(columna).value_counts()\n",
    "  count_2 = count_values.copy()\n",
    "  \n",
    "  if max > count_values.shape[0]:\n",
    "    max = count_values.shape[0]\n",
    "  \n",
    "  if len(count_values) > max:\n",
    "      count_values = count_2.iloc[:max]\n",
    "      count_values['Otros'] = count_2.iloc[max:].sum()\n",
    "      \n",
    "  if 'Otros' not in count_values.index:\n",
    "    count_values['Otros'] = 0\n",
    "  \n",
    "  datos = pd.DataFrame({\"valor\":count_values.index, \"ocurrencia\": count_values.values})\n",
    "\n",
    "  plt.title(columna.name)\n",
    "  plt.pie(datos[\"ocurrencia\"], labels=datos['valor'], autopct='%1.1f%%')\n",
    "  plt.show()\n",
    " \n",
    "def concatenar(data_1, data_2,  axis=1):\n",
    "  return pd.concat([data_1, data_2], axis=axis)\n",
    "\n",
    "def contar_nulos(data):\n",
    "  return data.isna().sum()\n",
    "\n",
    "def mapear(columna: pd.Series, mapa={'NO': 0, 'SI':1}):\n",
    "  return columna.map(mapa)\n",
    "\n",
    "def showPiePx(columna, max=15, pref=\"\", title=\"\"):\n",
    "  count_values = pd.Series(columna).value_counts()\n",
    "  count_2 = count_values.copy()\n",
    "  \n",
    "  if max > count_values.shape[0]:\n",
    "    max = count_values.shape[0]\n",
    "  \n",
    "  if len(count_values) > max:\n",
    "      count_values = count_2.iloc[:max]\n",
    "      count_values['Otros'] = count_2.iloc[max:].sum()\n",
    "      \n",
    "  if 'Otros' not in count_values.index:\n",
    "    count_values['Otros'] = 0\n",
    "  \n",
    "  datos = pd.DataFrame({\"valor\":count_values.index, \"ocurrencia\": count_values.values})\n",
    "\n",
    "     \n",
    "  # Plot pie chart using Plotly Express\n",
    "  fig = px.pie(datos, values='ocurrencia', names='valor', title=title)\n",
    "  fig.update_traces(textposition='outside', textinfo='percent+label')\n",
    "  fig.show()\n",
    "\n",
    "def nulos_filas(data):\n",
    "    return pd.DataFrame(data.isna().sum(axis=1).value_counts().reset_index().values, columns=['cant_col_nulas', 'cantidad'])\n",
    "\n",
    "def resumen(data, nombre_tabla=\"Resumen Tabla\"):\n",
    "    filas, columnas = data.shape\n",
    "    valores = filas * columnas\n",
    "    nulos, duplicados =  data.isna().values.sum(), data.duplicated().sum()\n",
    "    tasa_nulos, tasa_duplicados = nulos / valores, duplicados / valores\n",
    "\n",
    "    salida = f'''<table>\n",
    "    <thead>\n",
    "    <tr><th colspan=3 style='text-align: center'>{nombre_tabla}</th></tr>\n",
    "    </thead>\n",
    "    <tbody>\n",
    "    <tr><th> Detalle </th><th> Cantidad </th><th>Tasa</th></tr>\n",
    "    <tr><td> Filas </td><td style='text-align: right'> {filas} </td><td style='text-align: center'>---</td><tr/>\n",
    "    <tr><td> Columnas </td><td style='text-align: right'> {columnas} </td><td style='text-align: center'>---</td><tr/>\n",
    "    <tr><td> Valores </td><td style='text-align: right'> {valores} </td><td style='text-align: center'>---</td<tr/>\n",
    "    <tr><td> Nulos </td><td style='text-align: right'> {nulos} </td><td style='text-align: right'> {round(100*tasa_nulos, 2)} % </td><tr/>\n",
    "    <tr><td> Duplicados </td><td style='text-align: right'> {duplicados} </td><td style='text-align: right'> {round(100*tasa_duplicados, 2)} %</td><tr/>\n",
    "    </tbody>\n",
    "    </table>'''\n",
    "\n",
    "    display(Markdown(salida))\n",
    "\n",
    "def ver_nulos_x_fila(data):\n",
    "  ax = sns.barplot(x=nulos_filas(data).cant_col_nulas, y=nulos_filas(data).cantidad)\n",
    "  for i in ax.containers:\n",
    "      ax.bar_label(i,)\n",
    "  plt.title(\"cantidad nulos x fila\")\n",
    "  plt.show()\n",
    "\n",
    "def ver_nulos_x_columna(data):\n",
    "  nulos_columnas = data.isna().sum()[data.isna().sum() > 0].sort_values(ascending=False)\n",
    "  # ax = sns.barplot(x=nulos_columnas.index, y=nulos_columnas.values)\n",
    "  if len(nulos_columnas) > 0:\n",
    "    ax = sns.barplot(x=nulos_columnas.index, y=nulos_columnas.values)\n",
    "    for i in ax.containers:\n",
    "      ax.bar_label(i,)"
   ]
  },
  {
   "cell_type": "markdown",
   "metadata": {},
   "source": [
    "## 1.1 Extracción, Transformación y Carga de Datos (ETL)"
   ]
  },
  {
   "cell_type": "markdown",
   "metadata": {},
   "source": [
    "### 1.1.1 Extracción"
   ]
  },
  {
   "cell_type": "code",
   "execution_count": 3,
   "metadata": {},
   "outputs": [],
   "source": [
    "\n",
    "# Datos Homicidios Hechos\n",
    "data_hm = pd.read_excel('data/homicidios.xlsx', sheet_name='HECHOS')\n",
    "\n",
    "# Datos Homicidios Victimas\n",
    "data_vm = pd.read_excel('data/homicidios.xlsx', sheet_name='VICTIMAS')\n",
    "# Datos Lesiones Hechos\n",
    "# data_hl = pd.read_excel('data/lesiones.xlsx', sheet_name='HECHOS')\n",
    "data_hl = pd.read_csv('data/generated/data_hl.csv')\n",
    "# Datos Lesiones Victimas\n",
    "# data_vl = pd.read_excel('data/lesiones.xlsx', sheet_name='VICTIMAS')\n",
    "data_vl = pd.read_csv('data/generated/data_vl.csv')\n",
    "\n",
    "# https://www.indec.gob.ar/ftp/cuadros/poblacion/cnphv2022_resultados_provisionales.pdf Página 8\n",
    "data_pob_comunas = pd.read_excel('data/cnphv2022_resultados_provisionales.xlsx', sheet_name='Table 2').query(\"Comuna != 'Total'\").iloc[:,[3]]\n",
    "\n",
    "# Barrios\n",
    "df_barrios = pd.read_excel('data/barrios.xlsx')\n",
    "# Comunas\n",
    "df_comunas = pd.read_excel('data/comunas.xlsx')"
   ]
  },
  {
   "cell_type": "markdown",
   "metadata": {},
   "source": [
    "### 1.1.2 Transformación"
   ]
  },
  {
   "cell_type": "markdown",
   "metadata": {},
   "source": [
    "### 1.1.2.1 Dataset Homicidios"
   ]
  },
  {
   "cell_type": "markdown",
   "metadata": {},
   "source": [
    "#### 1.1.2.1.0 Primer Vistazo al Set de Datos"
   ]
  },
  {
   "cell_type": "code",
   "execution_count": 4,
   "metadata": {},
   "outputs": [
    {
     "data": {
      "text/markdown": [
       "<table>\n",
       "    <thead>\n",
       "    <tr><th colspan=3 style='text-align: center'>Resumen Tabla</th></tr>\n",
       "    </thead>\n",
       "    <tbody>\n",
       "    <tr><th> Detalle </th><th> Cantidad </th><th>Tasa</th></tr>\n",
       "    <tr><td> Filas </td><td style='text-align: right'> 696 </td><td style='text-align: center'>---</td><tr/>\n",
       "    <tr><td> Columnas </td><td style='text-align: right'> 21 </td><td style='text-align: center'>---</td><tr/>\n",
       "    <tr><td> Valores </td><td style='text-align: right'> 14616 </td><td style='text-align: center'>---</td<tr/>\n",
       "    <tr><td> Nulos </td><td style='text-align: right'> 747 </td><td style='text-align: right'> 5.11 % </td><tr/>\n",
       "    <tr><td> Duplicados </td><td style='text-align: right'> 0 </td><td style='text-align: right'> 0.0 %</td><tr/>\n",
       "    </tbody>\n",
       "    </table>"
      ],
      "text/plain": [
       "<IPython.core.display.Markdown object>"
      ]
     },
     "metadata": {},
     "output_type": "display_data"
    }
   ],
   "source": [
    "resumen(data_hm)"
   ]
  },
  {
   "cell_type": "markdown",
   "metadata": {},
   "source": [
    "#### 1.1.2.1.1 Análisis de Nulos"
   ]
  },
  {
   "cell_type": "markdown",
   "metadata": {},
   "source": [
    "##### a. Por filas"
   ]
  },
  {
   "cell_type": "code",
   "execution_count": 5,
   "metadata": {},
   "outputs": [
    {
     "data": {
      "image/png": "[encoded data removed]",
      "text/plain": [
       "<Figure size 640x480 with 1 Axes>"
      ]
     },
     "metadata": {},
     "output_type": "display_data"
    }
   ],
   "source": [
    "ver_nulos_x_fila(data_hm)"
   ]
  },
  {
   "cell_type": "markdown",
   "metadata": {},
   "source": [
    "Significa que hay 654 filas que tienen una columna nula, 34 filas con 2 columnas nulas. Este análisis sirve para detectar filas completamente nulas, por ejemplo."
   ]
  },
  {
   "cell_type": "markdown",
   "metadata": {},
   "source": [
    "Ahora analizamos los valores nulos por columna."
   ]
  },
  {
   "cell_type": "markdown",
   "metadata": {},
   "source": [
    "##### b. Por columnas"
   ]
  },
  {
   "cell_type": "code",
   "execution_count": 6,
   "metadata": {},
   "outputs": [
    {
     "data": {
      "image/png": "[encoded data removed]",
      "text/plain": [
       "<Figure size 640x480 with 1 Axes>"
      ]
     },
     "metadata": {},
     "output_type": "display_data"
    }
   ],
   "source": [
    "ver_nulos_x_columna(data_hm)"
   ]
  },
  {
   "cell_type": "code",
   "execution_count": 7,
   "metadata": {},
   "outputs": [
    {
     "name": "stdout",
     "output_type": "stream",
     "text": [
      "Cantidad filas: 696\n",
      "Cantidad filas al menos un nulo: 696\n"
     ]
    }
   ],
   "source": [
    "# la cantidad de filas del data frame es igual a la cantidad de filas que tiene un al menos un valor nulo\n",
    "\n",
    "print(f\"Cantidad filas: {data_hm.shape[0]}\")\n",
    "print(f\"Cantidad filas al menos un nulo: {len(data_hm.isna().T.sum()>0)}\")"
   ]
  },
  {
   "cell_type": "markdown",
   "metadata": {},
   "source": [
    "Vemos que todas las filas tienen al menos un valor nulo."
   ]
  },
  {
   "cell_type": "markdown",
   "metadata": {},
   "source": [
    "##### c. Nulos Reales y Estructurales"
   ]
  },
  {
   "cell_type": "markdown",
   "metadata": {},
   "source": [
    "Después de hacer un oversight sobre el dataset, vemos que Altura y Cruce son excluyentes, cuando está definida la altura es porque es sobre una calle propia y en caso contrario es una esquina. Por lo tanto, vamos a excluirlas del análisis de nulos."
   ]
  },
  {
   "cell_type": "code",
   "execution_count": 8,
   "metadata": {},
   "outputs": [],
   "source": [
    "# La columna altura se llena con ESQ cuando es esquina\n",
    "# data_hm.Altura = data_hm.Altura.fillna('ESQ')\n",
    "data_hm.fillna({'Altura': \"ESQ\"}, inplace = True)\n",
    "\n",
    "# Se limpia el valor altura cuando lo toma como decimal\n",
    "data_hm.Altura = data_hm.Altura.apply(lambda x: str(x)[:-2] if str(x)[-2:] == '.0' else str(x))"
   ]
  },
  {
   "cell_type": "code",
   "execution_count": 9,
   "metadata": {},
   "outputs": [],
   "source": [
    "# La columna Cruce se llena con 'NA': 'No Aplica'\n",
    "data_hm.fillna({'Cruce': \"N_A\"}, inplace = True)"
   ]
  },
  {
   "cell_type": "markdown",
   "metadata": {},
   "source": [
    "Ya limpio de los nulos estructurales o sea, definidos por la naturaleza de los campos, vamos a los nulos reales."
   ]
  },
  {
   "cell_type": "code",
   "execution_count": 10,
   "metadata": {},
   "outputs": [
    {
     "data": {
      "image/png": "[encoded data removed]",
      "text/plain": [
       "<Figure size 640x480 with 1 Axes>"
      ]
     },
     "metadata": {},
     "output_type": "display_data"
    }
   ],
   "source": [
    "ver_nulos_x_columna(data_hm)"
   ]
  },
  {
   "cell_type": "markdown",
   "metadata": {},
   "source": [
    "Columna ```Dirección Normalizada```"
   ]
  },
  {
   "cell_type": "code",
   "execution_count": 11,
   "metadata": {},
   "outputs": [
    {
     "data": {
      "text/html": [
       "<div>\n",
       "<style scoped>\n",
       "    .dataframe tbody tr th:only-of-type {\n",
       "        vertical-align: middle;\n",
       "    }\n",
       "\n",
       "    .dataframe tbody tr th {\n",
       "        vertical-align: top;\n",
       "    }\n",
       "\n",
       "    .dataframe thead th {\n",
       "        text-align: right;\n",
       "    }\n",
       "</style>\n",
       "<table border=\"1\" class=\"dataframe\">\n",
       "  <thead>\n",
       "    <tr style=\"text-align: right;\">\n",
       "      <th></th>\n",
       "      <th>ID</th>\n",
       "      <th>N_VICTIMAS</th>\n",
       "      <th>FECHA</th>\n",
       "      <th>AAAA</th>\n",
       "      <th>MM</th>\n",
       "      <th>DD</th>\n",
       "      <th>HORA</th>\n",
       "      <th>HH</th>\n",
       "      <th>LUGAR_DEL_HECHO</th>\n",
       "      <th>TIPO_DE_CALLE</th>\n",
       "      <th>...</th>\n",
       "      <th>Altura</th>\n",
       "      <th>Cruce</th>\n",
       "      <th>Dirección Normalizada</th>\n",
       "      <th>COMUNA</th>\n",
       "      <th>XY (CABA)</th>\n",
       "      <th>pos x</th>\n",
       "      <th>pos y</th>\n",
       "      <th>PARTICIPANTES</th>\n",
       "      <th>VICTIMA</th>\n",
       "      <th>ACUSADO</th>\n",
       "    </tr>\n",
       "  </thead>\n",
       "  <tbody>\n",
       "    <tr>\n",
       "      <th>38</th>\n",
       "      <td>2016-0052</td>\n",
       "      <td>1</td>\n",
       "      <td>2016-04-20</td>\n",
       "      <td>2016</td>\n",
       "      <td>4</td>\n",
       "      <td>20</td>\n",
       "      <td>20:00:00</td>\n",
       "      <td>20</td>\n",
       "      <td>AUTOPISTA LUGONES PK 10000</td>\n",
       "      <td>AUTOPISTA</td>\n",
       "      <td>...</td>\n",
       "      <td>ESQ</td>\n",
       "      <td>N_A</td>\n",
       "      <td>NaN</td>\n",
       "      <td>13</td>\n",
       "      <td>Point (. .)</td>\n",
       "      <td>.</td>\n",
       "      <td>.</td>\n",
       "      <td>MOTO-SD</td>\n",
       "      <td>MOTO</td>\n",
       "      <td>SD</td>\n",
       "    </tr>\n",
       "    <tr>\n",
       "      <th>106</th>\n",
       "      <td>2016-0136</td>\n",
       "      <td>1</td>\n",
       "      <td>2016-10-25</td>\n",
       "      <td>2016</td>\n",
       "      <td>10</td>\n",
       "      <td>25</td>\n",
       "      <td>00:00:00</td>\n",
       "      <td>0</td>\n",
       "      <td>AU BUENOS AIRES - LA PLATA KM. 4</td>\n",
       "      <td>AUTOPISTA</td>\n",
       "      <td>...</td>\n",
       "      <td>ESQ</td>\n",
       "      <td>N_A</td>\n",
       "      <td>NaN</td>\n",
       "      <td>4</td>\n",
       "      <td>Point (. .)</td>\n",
       "      <td>.</td>\n",
       "      <td>.</td>\n",
       "      <td>MOTO-CARGAS</td>\n",
       "      <td>MOTO</td>\n",
       "      <td>CARGAS</td>\n",
       "    </tr>\n",
       "    <tr>\n",
       "      <th>119</th>\n",
       "      <td>2016-0151</td>\n",
       "      <td>1</td>\n",
       "      <td>2016-11-18</td>\n",
       "      <td>2016</td>\n",
       "      <td>11</td>\n",
       "      <td>18</td>\n",
       "      <td>20:35:00</td>\n",
       "      <td>20</td>\n",
       "      <td>SD</td>\n",
       "      <td>CALLE</td>\n",
       "      <td>...</td>\n",
       "      <td>ESQ</td>\n",
       "      <td>N_A</td>\n",
       "      <td>NaN</td>\n",
       "      <td>0</td>\n",
       "      <td>Point (. .)</td>\n",
       "      <td>.</td>\n",
       "      <td>.</td>\n",
       "      <td>PEATON-SD</td>\n",
       "      <td>PEATON</td>\n",
       "      <td>SD</td>\n",
       "    </tr>\n",
       "  </tbody>\n",
       "</table>\n",
       "<p>3 rows × 21 columns</p>\n",
       "</div>"
      ],
      "text/plain": [
       "            ID  N_VICTIMAS      FECHA  AAAA  MM  DD      HORA  HH  \\\n",
       "38   2016-0052           1 2016-04-20  2016   4  20  20:00:00  20   \n",
       "106  2016-0136           1 2016-10-25  2016  10  25  00:00:00   0   \n",
       "119  2016-0151           1 2016-11-18  2016  11  18  20:35:00  20   \n",
       "\n",
       "                      LUGAR_DEL_HECHO TIPO_DE_CALLE  ... Altura Cruce  \\\n",
       "38         AUTOPISTA LUGONES PK 10000     AUTOPISTA  ...    ESQ   N_A   \n",
       "106  AU BUENOS AIRES - LA PLATA KM. 4     AUTOPISTA  ...    ESQ   N_A   \n",
       "119                                SD         CALLE  ...    ESQ   N_A   \n",
       "\n",
       "    Dirección Normalizada COMUNA    XY (CABA) pos x pos y PARTICIPANTES  \\\n",
       "38                    NaN     13  Point (. .)     .     .       MOTO-SD   \n",
       "106                   NaN      4  Point (. .)     .     .   MOTO-CARGAS   \n",
       "119                   NaN      0  Point (. .)     .     .     PEATON-SD   \n",
       "\n",
       "    VICTIMA ACUSADO  \n",
       "38     MOTO      SD  \n",
       "106    MOTO  CARGAS  \n",
       "119  PEATON      SD  \n",
       "\n",
       "[3 rows x 21 columns]"
      ]
     },
     "execution_count": 11,
     "metadata": {},
     "output_type": "execute_result"
    }
   ],
   "source": [
    "data_hm[data_hm.isna().loc[:, 'Dirección Normalizada']].head(3)"
   ]
  },
  {
   "cell_type": "markdown",
   "metadata": {},
   "source": [
    "Rellenamos la información faltante en la columna ```Dirección Normalizada``` con los valores de ```LUGAR_DEL_HECHO```"
   ]
  },
  {
   "cell_type": "code",
   "execution_count": 12,
   "metadata": {},
   "outputs": [],
   "source": [
    "nulos = [idx for idx, _ in enumerate(data_hm['Dirección Normalizada'].isna())]\n",
    "for i in nulos:\n",
    "    data_hm.loc[i, 'Dirección Normalizada'] = data_hm.loc[i, 'LUGAR_DEL_HECHO']"
   ]
  },
  {
   "cell_type": "markdown",
   "metadata": {},
   "source": [
    "Columna ```Calle```"
   ]
  },
  {
   "cell_type": "code",
   "execution_count": 13,
   "metadata": {},
   "outputs": [
    {
     "data": {
      "text/html": [
       "<div>\n",
       "<style scoped>\n",
       "    .dataframe tbody tr th:only-of-type {\n",
       "        vertical-align: middle;\n",
       "    }\n",
       "\n",
       "    .dataframe tbody tr th {\n",
       "        vertical-align: top;\n",
       "    }\n",
       "\n",
       "    .dataframe thead th {\n",
       "        text-align: right;\n",
       "    }\n",
       "</style>\n",
       "<table border=\"1\" class=\"dataframe\">\n",
       "  <thead>\n",
       "    <tr style=\"text-align: right;\">\n",
       "      <th></th>\n",
       "      <th>119</th>\n",
       "    </tr>\n",
       "  </thead>\n",
       "  <tbody>\n",
       "    <tr>\n",
       "      <th>ID</th>\n",
       "      <td>2016-0151</td>\n",
       "    </tr>\n",
       "    <tr>\n",
       "      <th>N_VICTIMAS</th>\n",
       "      <td>1</td>\n",
       "    </tr>\n",
       "    <tr>\n",
       "      <th>FECHA</th>\n",
       "      <td>2016-11-18 00:00:00</td>\n",
       "    </tr>\n",
       "    <tr>\n",
       "      <th>AAAA</th>\n",
       "      <td>2016</td>\n",
       "    </tr>\n",
       "    <tr>\n",
       "      <th>MM</th>\n",
       "      <td>11</td>\n",
       "    </tr>\n",
       "    <tr>\n",
       "      <th>DD</th>\n",
       "      <td>18</td>\n",
       "    </tr>\n",
       "    <tr>\n",
       "      <th>HORA</th>\n",
       "      <td>20:35:00</td>\n",
       "    </tr>\n",
       "    <tr>\n",
       "      <th>HH</th>\n",
       "      <td>20</td>\n",
       "    </tr>\n",
       "    <tr>\n",
       "      <th>LUGAR_DEL_HECHO</th>\n",
       "      <td>SD</td>\n",
       "    </tr>\n",
       "    <tr>\n",
       "      <th>TIPO_DE_CALLE</th>\n",
       "      <td>CALLE</td>\n",
       "    </tr>\n",
       "    <tr>\n",
       "      <th>Calle</th>\n",
       "      <td>NaN</td>\n",
       "    </tr>\n",
       "    <tr>\n",
       "      <th>Altura</th>\n",
       "      <td>ESQ</td>\n",
       "    </tr>\n",
       "    <tr>\n",
       "      <th>Cruce</th>\n",
       "      <td>N_A</td>\n",
       "    </tr>\n",
       "    <tr>\n",
       "      <th>Dirección Normalizada</th>\n",
       "      <td>SD</td>\n",
       "    </tr>\n",
       "    <tr>\n",
       "      <th>COMUNA</th>\n",
       "      <td>0</td>\n",
       "    </tr>\n",
       "    <tr>\n",
       "      <th>XY (CABA)</th>\n",
       "      <td>Point (. .)</td>\n",
       "    </tr>\n",
       "    <tr>\n",
       "      <th>pos x</th>\n",
       "      <td>.</td>\n",
       "    </tr>\n",
       "    <tr>\n",
       "      <th>pos y</th>\n",
       "      <td>.</td>\n",
       "    </tr>\n",
       "    <tr>\n",
       "      <th>PARTICIPANTES</th>\n",
       "      <td>PEATON-SD</td>\n",
       "    </tr>\n",
       "    <tr>\n",
       "      <th>VICTIMA</th>\n",
       "      <td>PEATON</td>\n",
       "    </tr>\n",
       "    <tr>\n",
       "      <th>ACUSADO</th>\n",
       "      <td>SD</td>\n",
       "    </tr>\n",
       "  </tbody>\n",
       "</table>\n",
       "</div>"
      ],
      "text/plain": [
       "                                       119\n",
       "ID                               2016-0151\n",
       "N_VICTIMAS                               1\n",
       "FECHA                  2016-11-18 00:00:00\n",
       "AAAA                                  2016\n",
       "MM                                      11\n",
       "DD                                      18\n",
       "HORA                              20:35:00\n",
       "HH                                      20\n",
       "LUGAR_DEL_HECHO                         SD\n",
       "TIPO_DE_CALLE                        CALLE\n",
       "Calle                                  NaN\n",
       "Altura                                 ESQ\n",
       "Cruce                                  N_A\n",
       "Dirección Normalizada                   SD\n",
       "COMUNA                                   0\n",
       "XY (CABA)                      Point (. .)\n",
       "pos x                                    .\n",
       "pos y                                    .\n",
       "PARTICIPANTES                    PEATON-SD\n",
       "VICTIMA                             PEATON\n",
       "ACUSADO                                 SD"
      ]
     },
     "execution_count": 13,
     "metadata": {},
     "output_type": "execute_result"
    }
   ],
   "source": [
    "data_hm[data_hm.isna().loc[:, 'Calle']].T"
   ]
  },
  {
   "cell_type": "markdown",
   "metadata": {},
   "source": [
    "No tenemos información suficiente en el registro ```2016-0151```. No tenemos información geográfica, estos registros podemos diferenciarlos posteriormente para saber en qué análisis los incluimos y en cuáles no."
   ]
  },
  {
   "cell_type": "code",
   "execution_count": 14,
   "metadata": {},
   "outputs": [],
   "source": [
    "data_hm[data_hm.loc[:, 'Calle'].isna()].fillna({'Calle': 'SD'}, inplace=True)"
   ]
  },
  {
   "cell_type": "markdown",
   "metadata": {},
   "source": [
    "Vemos que hay otros valores nulos encubiertos, como ```'.'``` en las coordenadas GPS, o ```Point (. .)```, en las otras coordenads espaciales, o ```SD``` en otros campos. Inclusive ```0``` en la columna ```COMUNA```, siendo 15 comunas a partir de la 1."
   ]
  },
  {
   "cell_type": "markdown",
   "metadata": {},
   "source": [
    "Columnas <code>\"pos x\"</code> y <code>\"pos y\"</code>"
   ]
  },
  {
   "cell_type": "markdown",
   "metadata": {},
   "source": [
    "Marcamos las filas que no tienen valores geográficos."
   ]
  },
  {
   "cell_type": "code",
   "execution_count": 15,
   "metadata": {},
   "outputs": [
    {
     "data": {
      "text/plain": [
       "data_geo\n",
       "True     684\n",
       "False     12\n",
       "Name: count, dtype: int64"
      ]
     },
     "execution_count": 15,
     "metadata": {},
     "output_type": "execute_result"
    }
   ],
   "source": [
    "data_hm['data_geo'] = True\n",
    "\n",
    "limpiar_coord = lambda x: 0 if x == '.' else float(x)\n",
    "data_hm['pos x'] = data_hm['pos x'].apply(limpiar_coord)\n",
    "data_hm['pos y'] = data_hm['pos y'].apply(limpiar_coord)\n",
    "\n",
    "for i in data_hm.index:\n",
    "    if data_hm.loc[i, 'pos x'] == 0:\n",
    "        data_hm.loc[i, 'data_geo'] = False\n",
    "    if data_hm.loc[i, 'pos y'] == 0:\n",
    "        data_hm.loc[i, 'data_geo'] = False\n",
    "\n",
    "data_hm['data_geo'].value_counts()        "
   ]
  },
  {
   "cell_type": "markdown",
   "metadata": {},
   "source": [
    "Columna <code>COMUNA</code>"
   ]
  },
  {
   "cell_type": "code",
   "execution_count": 16,
   "metadata": {},
   "outputs": [],
   "source": [
    "data_hm.loc[:, 'COMUNA'] = data_hm.loc[:, 'COMUNA'].astype(str);"
   ]
  },
  {
   "cell_type": "code",
   "execution_count": 17,
   "metadata": {},
   "outputs": [
    {
     "data": {
      "text/html": [
       "<div>\n",
       "<style scoped>\n",
       "    .dataframe tbody tr th:only-of-type {\n",
       "        vertical-align: middle;\n",
       "    }\n",
       "\n",
       "    .dataframe tbody tr th {\n",
       "        vertical-align: top;\n",
       "    }\n",
       "\n",
       "    .dataframe thead th {\n",
       "        text-align: right;\n",
       "    }\n",
       "</style>\n",
       "<table border=\"1\" class=\"dataframe\">\n",
       "  <thead>\n",
       "    <tr style=\"text-align: right;\">\n",
       "      <th></th>\n",
       "      <th>ID</th>\n",
       "      <th>N_VICTIMAS</th>\n",
       "      <th>FECHA</th>\n",
       "      <th>AAAA</th>\n",
       "      <th>MM</th>\n",
       "      <th>DD</th>\n",
       "      <th>HORA</th>\n",
       "      <th>HH</th>\n",
       "      <th>LUGAR_DEL_HECHO</th>\n",
       "      <th>TIPO_DE_CALLE</th>\n",
       "      <th>...</th>\n",
       "      <th>Cruce</th>\n",
       "      <th>Dirección Normalizada</th>\n",
       "      <th>COMUNA</th>\n",
       "      <th>XY (CABA)</th>\n",
       "      <th>pos x</th>\n",
       "      <th>pos y</th>\n",
       "      <th>PARTICIPANTES</th>\n",
       "      <th>VICTIMA</th>\n",
       "      <th>ACUSADO</th>\n",
       "      <th>data_geo</th>\n",
       "    </tr>\n",
       "  </thead>\n",
       "  <tbody>\n",
       "    <tr>\n",
       "      <th>119</th>\n",
       "      <td>2016-0151</td>\n",
       "      <td>1</td>\n",
       "      <td>2016-11-18</td>\n",
       "      <td>2016</td>\n",
       "      <td>11</td>\n",
       "      <td>18</td>\n",
       "      <td>20:35:00</td>\n",
       "      <td>20</td>\n",
       "      <td>SD</td>\n",
       "      <td>CALLE</td>\n",
       "      <td>...</td>\n",
       "      <td>N_A</td>\n",
       "      <td>SD</td>\n",
       "      <td>0</td>\n",
       "      <td>Point (. .)</td>\n",
       "      <td>0.0</td>\n",
       "      <td>0.0</td>\n",
       "      <td>PEATON-SD</td>\n",
       "      <td>PEATON</td>\n",
       "      <td>SD</td>\n",
       "      <td>False</td>\n",
       "    </tr>\n",
       "    <tr>\n",
       "      <th>139</th>\n",
       "      <td>2016-0174</td>\n",
       "      <td>1</td>\n",
       "      <td>2016-12-27</td>\n",
       "      <td>2016</td>\n",
       "      <td>12</td>\n",
       "      <td>27</td>\n",
       "      <td>00:00:00</td>\n",
       "      <td>0</td>\n",
       "      <td>AUTOPISTA 25 DE MAYO</td>\n",
       "      <td>AUTOPISTA</td>\n",
       "      <td>...</td>\n",
       "      <td>N_A</td>\n",
       "      <td>AUTOPISTA 25 DE MAYO</td>\n",
       "      <td>0</td>\n",
       "      <td>Point (. .)</td>\n",
       "      <td>0.0</td>\n",
       "      <td>0.0</td>\n",
       "      <td>SD-SD</td>\n",
       "      <td>SD</td>\n",
       "      <td>SD</td>\n",
       "      <td>False</td>\n",
       "    </tr>\n",
       "  </tbody>\n",
       "</table>\n",
       "<p>2 rows × 22 columns</p>\n",
       "</div>"
      ],
      "text/plain": [
       "            ID  N_VICTIMAS      FECHA  AAAA  MM  DD      HORA  HH  \\\n",
       "119  2016-0151           1 2016-11-18  2016  11  18  20:35:00  20   \n",
       "139  2016-0174           1 2016-12-27  2016  12  27  00:00:00   0   \n",
       "\n",
       "          LUGAR_DEL_HECHO TIPO_DE_CALLE  ... Cruce Dirección Normalizada  \\\n",
       "119                    SD         CALLE  ...   N_A                    SD   \n",
       "139  AUTOPISTA 25 DE MAYO     AUTOPISTA  ...   N_A  AUTOPISTA 25 DE MAYO   \n",
       "\n",
       "    COMUNA    XY (CABA) pos x pos y  PARTICIPANTES  VICTIMA ACUSADO data_geo  \n",
       "119      0  Point (. .)   0.0   0.0      PEATON-SD   PEATON      SD    False  \n",
       "139      0  Point (. .)   0.0   0.0          SD-SD       SD      SD    False  \n",
       "\n",
       "[2 rows x 22 columns]"
      ]
     },
     "execution_count": 17,
     "metadata": {},
     "output_type": "execute_result"
    }
   ],
   "source": [
    "data_hm.query(\"COMUNA == '0'\")"
   ]
  },
  {
   "cell_type": "markdown",
   "metadata": {},
   "source": [
    "Vemos que la marca <code>data_geo</code> está en <code>Falso</code> por lo tanto, estos registros que no tienen <code>Comuna</code> definida, no se registrarán para análisis geográficos."
   ]
  },
  {
   "cell_type": "code",
   "execution_count": 18,
   "metadata": {},
   "outputs": [
    {
     "data": {
      "text/html": [
       "<div>\n",
       "<style scoped>\n",
       "    .dataframe tbody tr th:only-of-type {\n",
       "        vertical-align: middle;\n",
       "    }\n",
       "\n",
       "    .dataframe tbody tr th {\n",
       "        vertical-align: top;\n",
       "    }\n",
       "\n",
       "    .dataframe thead th {\n",
       "        text-align: right;\n",
       "    }\n",
       "</style>\n",
       "<table border=\"1\" class=\"dataframe\">\n",
       "  <thead>\n",
       "    <tr style=\"text-align: right;\">\n",
       "      <th></th>\n",
       "      <th>ID</th>\n",
       "      <th>N_VICTIMAS</th>\n",
       "      <th>FECHA</th>\n",
       "      <th>AAAA</th>\n",
       "      <th>MM</th>\n",
       "      <th>DD</th>\n",
       "      <th>HORA</th>\n",
       "      <th>HH</th>\n",
       "      <th>LUGAR_DEL_HECHO</th>\n",
       "      <th>TIPO_DE_CALLE</th>\n",
       "      <th>...</th>\n",
       "      <th>Cruce</th>\n",
       "      <th>Dirección Normalizada</th>\n",
       "      <th>COMUNA</th>\n",
       "      <th>XY (CABA)</th>\n",
       "      <th>pos x</th>\n",
       "      <th>pos y</th>\n",
       "      <th>PARTICIPANTES</th>\n",
       "      <th>VICTIMA</th>\n",
       "      <th>ACUSADO</th>\n",
       "      <th>data_geo</th>\n",
       "    </tr>\n",
       "  </thead>\n",
       "  <tbody>\n",
       "    <tr>\n",
       "      <th>119</th>\n",
       "      <td>2016-0151</td>\n",
       "      <td>1</td>\n",
       "      <td>2016-11-18</td>\n",
       "      <td>2016</td>\n",
       "      <td>11</td>\n",
       "      <td>18</td>\n",
       "      <td>20:35:00</td>\n",
       "      <td>20</td>\n",
       "      <td>SD</td>\n",
       "      <td>CALLE</td>\n",
       "      <td>...</td>\n",
       "      <td>N_A</td>\n",
       "      <td>SD</td>\n",
       "      <td>0</td>\n",
       "      <td>Point (. .)</td>\n",
       "      <td>0.0</td>\n",
       "      <td>0.0</td>\n",
       "      <td>PEATON-SD</td>\n",
       "      <td>PEATON</td>\n",
       "      <td>SD</td>\n",
       "      <td>False</td>\n",
       "    </tr>\n",
       "  </tbody>\n",
       "</table>\n",
       "<p>1 rows × 22 columns</p>\n",
       "</div>"
      ],
      "text/plain": [
       "            ID  N_VICTIMAS      FECHA  AAAA  MM  DD      HORA  HH  \\\n",
       "119  2016-0151           1 2016-11-18  2016  11  18  20:35:00  20   \n",
       "\n",
       "    LUGAR_DEL_HECHO TIPO_DE_CALLE  ... Cruce Dirección Normalizada COMUNA  \\\n",
       "119              SD         CALLE  ...   N_A                    SD      0   \n",
       "\n",
       "       XY (CABA) pos x pos y  PARTICIPANTES  VICTIMA ACUSADO data_geo  \n",
       "119  Point (. .)   0.0   0.0      PEATON-SD   PEATON      SD    False  \n",
       "\n",
       "[1 rows x 22 columns]"
      ]
     },
     "execution_count": 18,
     "metadata": {},
     "output_type": "execute_result"
    }
   ],
   "source": [
    "data_hm[data_hm.loc[:, 'Dirección Normalizada'] == 'SD']"
   ]
  },
  {
   "cell_type": "markdown",
   "metadata": {},
   "source": [
    "Mismo caso que el anterior, para excluir de los análisis geográficos."
   ]
  },
  {
   "cell_type": "markdown",
   "metadata": {},
   "source": [
    "Podemos prescindir de las columnas ```AAAA, MM, DD, HH, XY (CABA)``` ya que duplican información"
   ]
  },
  {
   "cell_type": "code",
   "execution_count": 19,
   "metadata": {},
   "outputs": [],
   "source": [
    "data_hm = data_hm[data_hm.columns[~data_hm.columns.isin(['AAAA', 'MM', 'DD', 'HH',  'XY (CABA)'])]]"
   ]
  },
  {
   "cell_type": "markdown",
   "metadata": {},
   "source": [
    "Columna <code>Hora</code>"
   ]
  },
  {
   "cell_type": "code",
   "execution_count": 20,
   "metadata": {},
   "outputs": [
    {
     "data": {
      "text/html": [
       "<div>\n",
       "<style scoped>\n",
       "    .dataframe tbody tr th:only-of-type {\n",
       "        vertical-align: middle;\n",
       "    }\n",
       "\n",
       "    .dataframe tbody tr th {\n",
       "        vertical-align: top;\n",
       "    }\n",
       "\n",
       "    .dataframe thead th {\n",
       "        text-align: right;\n",
       "    }\n",
       "</style>\n",
       "<table border=\"1\" class=\"dataframe\">\n",
       "  <thead>\n",
       "    <tr style=\"text-align: right;\">\n",
       "      <th></th>\n",
       "      <th>ID</th>\n",
       "      <th>N_VICTIMAS</th>\n",
       "      <th>FECHA</th>\n",
       "      <th>HORA</th>\n",
       "      <th>LUGAR_DEL_HECHO</th>\n",
       "      <th>TIPO_DE_CALLE</th>\n",
       "      <th>Calle</th>\n",
       "      <th>Altura</th>\n",
       "      <th>Cruce</th>\n",
       "      <th>Dirección Normalizada</th>\n",
       "      <th>COMUNA</th>\n",
       "      <th>pos x</th>\n",
       "      <th>pos y</th>\n",
       "      <th>PARTICIPANTES</th>\n",
       "      <th>VICTIMA</th>\n",
       "      <th>ACUSADO</th>\n",
       "      <th>data_geo</th>\n",
       "    </tr>\n",
       "  </thead>\n",
       "  <tbody>\n",
       "    <tr>\n",
       "      <th>518</th>\n",
       "      <td>2019-0103</td>\n",
       "      <td>1</td>\n",
       "      <td>2019-12-18</td>\n",
       "      <td>SD</td>\n",
       "      <td>PAZ, GRAL. AV. Y GRIVEO</td>\n",
       "      <td>GRAL PAZ</td>\n",
       "      <td>PAZ, GRAL. AV.</td>\n",
       "      <td>ESQ</td>\n",
       "      <td>GRIVEO</td>\n",
       "      <td>PAZ, GRAL. AV. Y GRIVEO</td>\n",
       "      <td>11</td>\n",
       "      <td>-58.521694</td>\n",
       "      <td>-34.594716</td>\n",
       "      <td>MOTO-MOTO</td>\n",
       "      <td>MOTO</td>\n",
       "      <td>MOTO</td>\n",
       "      <td>True</td>\n",
       "    </tr>\n",
       "  </tbody>\n",
       "</table>\n",
       "</div>"
      ],
      "text/plain": [
       "            ID  N_VICTIMAS      FECHA HORA          LUGAR_DEL_HECHO  \\\n",
       "518  2019-0103           1 2019-12-18   SD  PAZ, GRAL. AV. Y GRIVEO   \n",
       "\n",
       "    TIPO_DE_CALLE           Calle Altura   Cruce    Dirección Normalizada  \\\n",
       "518      GRAL PAZ  PAZ, GRAL. AV.    ESQ  GRIVEO  PAZ, GRAL. AV. Y GRIVEO   \n",
       "\n",
       "    COMUNA      pos x      pos y PARTICIPANTES VICTIMA ACUSADO  data_geo  \n",
       "518     11 -58.521694 -34.594716     MOTO-MOTO    MOTO    MOTO      True  "
      ]
     },
     "execution_count": 20,
     "metadata": {},
     "output_type": "execute_result"
    }
   ],
   "source": [
    "data_hm.query(\"HORA == 'SD'\")"
   ]
  },
  {
   "cell_type": "code",
   "execution_count": 21,
   "metadata": {},
   "outputs": [],
   "source": [
    "data_hm[\"HORA\"] = data_hm[\"HORA\"].replace('SD', '00:00:00')\n",
    "data_hm[\"HORA\"] = data_hm[\"HORA\"].astype(str)\n",
    "data_hm['HORA'] = data_hm['HORA'].apply(lambda x: x[11:] if len(x) > 8 else x)\n",
    "data_hm['HORA'] = data_hm['HORA'].astype(str)"
   ]
  },
  {
   "cell_type": "markdown",
   "metadata": {},
   "source": [
    "Creación de la columna <code>FECHA_HORA</code> a partir de las columnas de fecha y hora."
   ]
  },
  {
   "cell_type": "code",
   "execution_count": 22,
   "metadata": {},
   "outputs": [],
   "source": [
    "import re\n",
    "\n",
    "pattern = r'[:\\s;-]'\n",
    "\n",
    "data_hm['FECHA_HORA'] = (data_hm['FECHA'].astype(str) + ' ' + data_hm['HORA'].astype(str)).apply(lambda x: re.split(pattern, x))\n",
    "data_hm['FECHA_HORA'] = data_hm['FECHA_HORA'].apply(lambda x: list(map(int, x)))\n",
    "\n",
    "def to_date(t):\n",
    "    return datetime(* t)\n",
    "\n",
    "data_hm['FECHA_HORA'] = data_hm['FECHA_HORA'].apply(to_date)\n",
    "\n"
   ]
  },
  {
   "cell_type": "code",
   "execution_count": 23,
   "metadata": {},
   "outputs": [],
   "source": [
    "data_hm.query(\"Calle.isna()\")\n",
    "data_hm.fillna({'Calle': 'SD'}, inplace=True)"
   ]
  },
  {
   "cell_type": "code",
   "execution_count": 24,
   "metadata": {},
   "outputs": [
    {
     "data": {
      "text/plain": [
       "0     2016-01-01 04:00:00\n",
       "1     2016-01-02 01:15:00\n",
       "2     2016-01-03 07:00:00\n",
       "3     2016-01-10 00:00:00\n",
       "4     2016-01-21 05:20:00\n",
       "              ...        \n",
       "691   2021-12-13 17:10:00\n",
       "692   2021-12-20 01:10:00\n",
       "693   2021-12-30 00:43:00\n",
       "694   2021-12-15 10:30:00\n",
       "695   2021-11-18 06:10:00\n",
       "Name: FECHA_HORA, Length: 696, dtype: datetime64[ns]"
      ]
     },
     "execution_count": 24,
     "metadata": {},
     "output_type": "execute_result"
    }
   ],
   "source": [
    "data_hm['FECHA_HORA']"
   ]
  },
  {
   "cell_type": "code",
   "execution_count": 25,
   "metadata": {},
   "outputs": [],
   "source": [
    "# import json\n",
    "coordinates = [data_hm['pos x'].sample(1).values[0], data_hm['pos y'].sample(2).values[0]]\n",
    "\n",
    "# Create a GeoJSON point feature\n",
    "point_geojson = [{\n",
    "    \"type\": \"Feature\",\n",
    "    \"geometry\": {\n",
    "        \"type\": \"Point\",\n",
    "        \"coordinates\": [x, y]\n",
    "    },\n",
    "    \"properties\": {\"participantes\" : str(p), 'direccion': str(d)}\n",
    "} for x, y, p, d in zip(data_hm['pos x'].values, data_hm['pos y'].values, data_hm['PARTICIPANTES'].values, data_hm['Dirección Normalizada'].values)]\n",
    "\n",
    "# Convert the GeoJSON to a JSON string\n",
    "point_geojson_str = json.dumps(point_geojson)\n",
    "\n",
    "# pd.DataFrame(point_geojson)\n",
    "\n",
    "json_file_path = \"data/generated/output.json\"\n",
    "\n",
    "# Write the data to the JSON file\n",
    "with open(json_file_path, \"w\") as json_file:\n",
    "    json.dump(point_geojson, json_file, indent=4) "
   ]
  },
  {
   "cell_type": "code",
   "execution_count": 26,
   "metadata": {},
   "outputs": [
    {
     "data": {
      "text/plain": [
       "-58.441545233561044"
      ]
     },
     "execution_count": 26,
     "metadata": {},
     "output_type": "execute_result"
    }
   ],
   "source": [
    "data_hm[data_hm['data_geo']]['pos x'].mean()"
   ]
  },
  {
   "cell_type": "code",
   "execution_count": 27,
   "metadata": {},
   "outputs": [
    {
     "data": {
      "text/plain": [
       "-34.61963157034327"
      ]
     },
     "execution_count": 27,
     "metadata": {},
     "output_type": "execute_result"
    }
   ],
   "source": [
    "data_hm[data_hm['data_geo']]['pos y'].mean()"
   ]
  },
  {
   "cell_type": "code",
   "execution_count": 28,
   "metadata": {},
   "outputs": [],
   "source": [
    "data_hm['ES_CRUCE'] = data_hm['Cruce'] != 'N_A'"
   ]
  },
  {
   "cell_type": "code",
   "execution_count": 29,
   "metadata": {},
   "outputs": [
    {
     "data": {
      "text/html": [
       "<div>\n",
       "<style scoped>\n",
       "    .dataframe tbody tr th:only-of-type {\n",
       "        vertical-align: middle;\n",
       "    }\n",
       "\n",
       "    .dataframe tbody tr th {\n",
       "        vertical-align: top;\n",
       "    }\n",
       "\n",
       "    .dataframe thead th {\n",
       "        text-align: right;\n",
       "    }\n",
       "</style>\n",
       "<table border=\"1\" class=\"dataframe\">\n",
       "  <thead>\n",
       "    <tr style=\"text-align: right;\">\n",
       "      <th></th>\n",
       "      <th>N_VICTIMAS</th>\n",
       "      <th>FECHA</th>\n",
       "      <th>HORA</th>\n",
       "      <th>LUGAR_DEL_HECHO</th>\n",
       "      <th>TIPO_DE_CALLE</th>\n",
       "      <th>Calle</th>\n",
       "      <th>Altura</th>\n",
       "      <th>Cruce</th>\n",
       "      <th>Dirección Normalizada</th>\n",
       "      <th>COMUNA</th>\n",
       "      <th>pos x</th>\n",
       "      <th>pos y</th>\n",
       "      <th>PARTICIPANTES</th>\n",
       "      <th>VICTIMA</th>\n",
       "      <th>ACUSADO</th>\n",
       "      <th>data_geo</th>\n",
       "      <th>FECHA_HORA</th>\n",
       "      <th>ES_CRUCE</th>\n",
       "    </tr>\n",
       "    <tr>\n",
       "      <th>ID</th>\n",
       "      <th></th>\n",
       "      <th></th>\n",
       "      <th></th>\n",
       "      <th></th>\n",
       "      <th></th>\n",
       "      <th></th>\n",
       "      <th></th>\n",
       "      <th></th>\n",
       "      <th></th>\n",
       "      <th></th>\n",
       "      <th></th>\n",
       "      <th></th>\n",
       "      <th></th>\n",
       "      <th></th>\n",
       "      <th></th>\n",
       "      <th></th>\n",
       "      <th></th>\n",
       "      <th></th>\n",
       "    </tr>\n",
       "  </thead>\n",
       "  <tbody>\n",
       "    <tr>\n",
       "      <th>2016-0001</th>\n",
       "      <td>1</td>\n",
       "      <td>2016-01-01</td>\n",
       "      <td>04:00:00</td>\n",
       "      <td>AV PIEDRA BUENA Y AV FERNANDEZ DE LA CRUZ</td>\n",
       "      <td>AVENIDA</td>\n",
       "      <td>PIEDRA BUENA AV.</td>\n",
       "      <td>ESQ</td>\n",
       "      <td>FERNANDEZ DE LA CRUZ, F., GRAL. AV.</td>\n",
       "      <td>AV PIEDRA BUENA Y AV FERNANDEZ DE LA CRUZ</td>\n",
       "      <td>8</td>\n",
       "      <td>-58.475340</td>\n",
       "      <td>-34.687570</td>\n",
       "      <td>MOTO-AUTO</td>\n",
       "      <td>MOTO</td>\n",
       "      <td>AUTO</td>\n",
       "      <td>True</td>\n",
       "      <td>2016-01-01 04:00:00</td>\n",
       "      <td>True</td>\n",
       "    </tr>\n",
       "    <tr>\n",
       "      <th>2016-0002</th>\n",
       "      <td>1</td>\n",
       "      <td>2016-01-02</td>\n",
       "      <td>01:15:00</td>\n",
       "      <td>AV GRAL PAZ  Y AV DE LOS CORRALES</td>\n",
       "      <td>GRAL PAZ</td>\n",
       "      <td>PAZ, GRAL. AV.</td>\n",
       "      <td>ESQ</td>\n",
       "      <td>DE LOS CORRALES AV.</td>\n",
       "      <td>AV GRAL PAZ  Y AV DE LOS CORRALES</td>\n",
       "      <td>9</td>\n",
       "      <td>-58.508775</td>\n",
       "      <td>-34.669777</td>\n",
       "      <td>AUTO-PASAJEROS</td>\n",
       "      <td>AUTO</td>\n",
       "      <td>PASAJEROS</td>\n",
       "      <td>True</td>\n",
       "      <td>2016-01-02 01:15:00</td>\n",
       "      <td>True</td>\n",
       "    </tr>\n",
       "    <tr>\n",
       "      <th>2016-0003</th>\n",
       "      <td>1</td>\n",
       "      <td>2016-01-03</td>\n",
       "      <td>07:00:00</td>\n",
       "      <td>AV ENTRE RIOS 2034</td>\n",
       "      <td>AVENIDA</td>\n",
       "      <td>ENTRE RIOS AV.</td>\n",
       "      <td>2034</td>\n",
       "      <td>N_A</td>\n",
       "      <td>AV ENTRE RIOS 2034</td>\n",
       "      <td>1</td>\n",
       "      <td>-58.390403</td>\n",
       "      <td>-34.631894</td>\n",
       "      <td>MOTO-AUTO</td>\n",
       "      <td>MOTO</td>\n",
       "      <td>AUTO</td>\n",
       "      <td>True</td>\n",
       "      <td>2016-01-03 07:00:00</td>\n",
       "      <td>False</td>\n",
       "    </tr>\n",
       "    <tr>\n",
       "      <th>2016-0004</th>\n",
       "      <td>1</td>\n",
       "      <td>2016-01-10</td>\n",
       "      <td>00:00:00</td>\n",
       "      <td>AV LARRAZABAL Y GRAL VILLEGAS CONRADO</td>\n",
       "      <td>AVENIDA</td>\n",
       "      <td>LARRAZABAL AV.</td>\n",
       "      <td>ESQ</td>\n",
       "      <td>VILLEGAS, CONRADO, GRAL.</td>\n",
       "      <td>AV LARRAZABAL Y GRAL VILLEGAS CONRADO</td>\n",
       "      <td>8</td>\n",
       "      <td>-58.465039</td>\n",
       "      <td>-34.680930</td>\n",
       "      <td>MOTO-SD</td>\n",
       "      <td>MOTO</td>\n",
       "      <td>SD</td>\n",
       "      <td>True</td>\n",
       "      <td>2016-01-10 00:00:00</td>\n",
       "      <td>True</td>\n",
       "    </tr>\n",
       "    <tr>\n",
       "      <th>2016-0005</th>\n",
       "      <td>1</td>\n",
       "      <td>2016-01-21</td>\n",
       "      <td>05:20:00</td>\n",
       "      <td>AV SAN JUAN Y PRESIDENTE LUIS SAENZ PEÑA</td>\n",
       "      <td>AVENIDA</td>\n",
       "      <td>SAN JUAN AV.</td>\n",
       "      <td>ESQ</td>\n",
       "      <td>SAENZ PE?A, LUIS, PRES.</td>\n",
       "      <td>AV SAN JUAN Y PRESIDENTE LUIS SAENZ PEÑA</td>\n",
       "      <td>1</td>\n",
       "      <td>-58.387183</td>\n",
       "      <td>-34.622466</td>\n",
       "      <td>MOTO-PASAJEROS</td>\n",
       "      <td>MOTO</td>\n",
       "      <td>PASAJEROS</td>\n",
       "      <td>True</td>\n",
       "      <td>2016-01-21 05:20:00</td>\n",
       "      <td>True</td>\n",
       "    </tr>\n",
       "    <tr>\n",
       "      <th>...</th>\n",
       "      <td>...</td>\n",
       "      <td>...</td>\n",
       "      <td>...</td>\n",
       "      <td>...</td>\n",
       "      <td>...</td>\n",
       "      <td>...</td>\n",
       "      <td>...</td>\n",
       "      <td>...</td>\n",
       "      <td>...</td>\n",
       "      <td>...</td>\n",
       "      <td>...</td>\n",
       "      <td>...</td>\n",
       "      <td>...</td>\n",
       "      <td>...</td>\n",
       "      <td>...</td>\n",
       "      <td>...</td>\n",
       "      <td>...</td>\n",
       "      <td>...</td>\n",
       "    </tr>\n",
       "    <tr>\n",
       "      <th>2021-0093</th>\n",
       "      <td>1</td>\n",
       "      <td>2021-12-13</td>\n",
       "      <td>17:10:00</td>\n",
       "      <td>AV. RIESTRA Y MOM</td>\n",
       "      <td>AVENIDA</td>\n",
       "      <td>RIESTRA AV.</td>\n",
       "      <td>ESQ</td>\n",
       "      <td>MOM</td>\n",
       "      <td>AV. RIESTRA Y MOM</td>\n",
       "      <td>7</td>\n",
       "      <td>-58.433538</td>\n",
       "      <td>-34.645616</td>\n",
       "      <td>MOTO-AUTO</td>\n",
       "      <td>MOTO</td>\n",
       "      <td>AUTO</td>\n",
       "      <td>True</td>\n",
       "      <td>2021-12-13 17:10:00</td>\n",
       "      <td>True</td>\n",
       "    </tr>\n",
       "    <tr>\n",
       "      <th>2021-0094</th>\n",
       "      <td>1</td>\n",
       "      <td>2021-12-20</td>\n",
       "      <td>01:10:00</td>\n",
       "      <td>AU DELLEPIANE Y LACARRA</td>\n",
       "      <td>AUTOPISTA</td>\n",
       "      <td>DELLEPIANE, LUIS, TTE. GRAL.</td>\n",
       "      <td>ESQ</td>\n",
       "      <td>LACARRA AV.</td>\n",
       "      <td>AU DELLEPIANE Y LACARRA</td>\n",
       "      <td>9</td>\n",
       "      <td>-58.467398</td>\n",
       "      <td>-34.651178</td>\n",
       "      <td>MOTO-AUTO</td>\n",
       "      <td>MOTO</td>\n",
       "      <td>AUTO</td>\n",
       "      <td>True</td>\n",
       "      <td>2021-12-20 01:10:00</td>\n",
       "      <td>True</td>\n",
       "    </tr>\n",
       "    <tr>\n",
       "      <th>2021-0095</th>\n",
       "      <td>1</td>\n",
       "      <td>2021-12-30</td>\n",
       "      <td>00:43:00</td>\n",
       "      <td>AV. GAONA Y TERRADA</td>\n",
       "      <td>AVENIDA</td>\n",
       "      <td>GAONA AV.</td>\n",
       "      <td>ESQ</td>\n",
       "      <td>TERRADA</td>\n",
       "      <td>AV. GAONA Y TERRADA</td>\n",
       "      <td>11</td>\n",
       "      <td>-58.472934</td>\n",
       "      <td>-34.619847</td>\n",
       "      <td>MOTO-CARGAS</td>\n",
       "      <td>MOTO</td>\n",
       "      <td>CARGAS</td>\n",
       "      <td>True</td>\n",
       "      <td>2021-12-30 00:43:00</td>\n",
       "      <td>True</td>\n",
       "    </tr>\n",
       "    <tr>\n",
       "      <th>2021-0096</th>\n",
       "      <td>1</td>\n",
       "      <td>2021-12-15</td>\n",
       "      <td>10:30:00</td>\n",
       "      <td>AV. EVA PERON 4071</td>\n",
       "      <td>AVENIDA</td>\n",
       "      <td>PERON, EVA AV.</td>\n",
       "      <td>4071</td>\n",
       "      <td>N_A</td>\n",
       "      <td>AV. EVA PERON 4071</td>\n",
       "      <td>9</td>\n",
       "      <td>-58.470668</td>\n",
       "      <td>-34.650217</td>\n",
       "      <td>AUTO-CARGAS</td>\n",
       "      <td>AUTO</td>\n",
       "      <td>CARGAS</td>\n",
       "      <td>True</td>\n",
       "      <td>2021-12-15 10:30:00</td>\n",
       "      <td>False</td>\n",
       "    </tr>\n",
       "    <tr>\n",
       "      <th>2021-0097</th>\n",
       "      <td>1</td>\n",
       "      <td>2021-11-18</td>\n",
       "      <td>06:10:00</td>\n",
       "      <td>PADRE CARLOS MUJICA 709</td>\n",
       "      <td>CALLE</td>\n",
       "      <td>PADRE CARLOS MUJICA</td>\n",
       "      <td>709</td>\n",
       "      <td>N_A</td>\n",
       "      <td>PADRE CARLOS MUJICA 709</td>\n",
       "      <td>1</td>\n",
       "      <td>-58.379762</td>\n",
       "      <td>-34.586796</td>\n",
       "      <td>BICICLETA-AUTO</td>\n",
       "      <td>BICICLETA</td>\n",
       "      <td>AUTO</td>\n",
       "      <td>True</td>\n",
       "      <td>2021-11-18 06:10:00</td>\n",
       "      <td>False</td>\n",
       "    </tr>\n",
       "  </tbody>\n",
       "</table>\n",
       "<p>696 rows × 18 columns</p>\n",
       "</div>"
      ],
      "text/plain": [
       "           N_VICTIMAS      FECHA      HORA  \\\n",
       "ID                                           \n",
       "2016-0001           1 2016-01-01  04:00:00   \n",
       "2016-0002           1 2016-01-02  01:15:00   \n",
       "2016-0003           1 2016-01-03  07:00:00   \n",
       "2016-0004           1 2016-01-10  00:00:00   \n",
       "2016-0005           1 2016-01-21  05:20:00   \n",
       "...               ...        ...       ...   \n",
       "2021-0093           1 2021-12-13  17:10:00   \n",
       "2021-0094           1 2021-12-20  01:10:00   \n",
       "2021-0095           1 2021-12-30  00:43:00   \n",
       "2021-0096           1 2021-12-15  10:30:00   \n",
       "2021-0097           1 2021-11-18  06:10:00   \n",
       "\n",
       "                                     LUGAR_DEL_HECHO TIPO_DE_CALLE  \\\n",
       "ID                                                                   \n",
       "2016-0001  AV PIEDRA BUENA Y AV FERNANDEZ DE LA CRUZ       AVENIDA   \n",
       "2016-0002          AV GRAL PAZ  Y AV DE LOS CORRALES      GRAL PAZ   \n",
       "2016-0003                         AV ENTRE RIOS 2034       AVENIDA   \n",
       "2016-0004      AV LARRAZABAL Y GRAL VILLEGAS CONRADO       AVENIDA   \n",
       "2016-0005  AV SAN JUAN Y PRESIDENTE LUIS SAENZ PEÑA        AVENIDA   \n",
       "...                                              ...           ...   \n",
       "2021-0093                          AV. RIESTRA Y MOM       AVENIDA   \n",
       "2021-0094                    AU DELLEPIANE Y LACARRA     AUTOPISTA   \n",
       "2021-0095                        AV. GAONA Y TERRADA       AVENIDA   \n",
       "2021-0096                         AV. EVA PERON 4071       AVENIDA   \n",
       "2021-0097                    PADRE CARLOS MUJICA 709         CALLE   \n",
       "\n",
       "                                  Calle Altura  \\\n",
       "ID                                               \n",
       "2016-0001              PIEDRA BUENA AV.    ESQ   \n",
       "2016-0002                PAZ, GRAL. AV.    ESQ   \n",
       "2016-0003                ENTRE RIOS AV.   2034   \n",
       "2016-0004                LARRAZABAL AV.    ESQ   \n",
       "2016-0005                  SAN JUAN AV.    ESQ   \n",
       "...                                 ...    ...   \n",
       "2021-0093                   RIESTRA AV.    ESQ   \n",
       "2021-0094  DELLEPIANE, LUIS, TTE. GRAL.    ESQ   \n",
       "2021-0095                     GAONA AV.    ESQ   \n",
       "2021-0096                PERON, EVA AV.   4071   \n",
       "2021-0097           PADRE CARLOS MUJICA    709   \n",
       "\n",
       "                                         Cruce  \\\n",
       "ID                                               \n",
       "2016-0001  FERNANDEZ DE LA CRUZ, F., GRAL. AV.   \n",
       "2016-0002                  DE LOS CORRALES AV.   \n",
       "2016-0003                                  N_A   \n",
       "2016-0004             VILLEGAS, CONRADO, GRAL.   \n",
       "2016-0005              SAENZ PE?A, LUIS, PRES.   \n",
       "...                                        ...   \n",
       "2021-0093                                  MOM   \n",
       "2021-0094                          LACARRA AV.   \n",
       "2021-0095                              TERRADA   \n",
       "2021-0096                                  N_A   \n",
       "2021-0097                                  N_A   \n",
       "\n",
       "                               Dirección Normalizada COMUNA      pos x  \\\n",
       "ID                                                                       \n",
       "2016-0001  AV PIEDRA BUENA Y AV FERNANDEZ DE LA CRUZ      8 -58.475340   \n",
       "2016-0002          AV GRAL PAZ  Y AV DE LOS CORRALES      9 -58.508775   \n",
       "2016-0003                         AV ENTRE RIOS 2034      1 -58.390403   \n",
       "2016-0004      AV LARRAZABAL Y GRAL VILLEGAS CONRADO      8 -58.465039   \n",
       "2016-0005  AV SAN JUAN Y PRESIDENTE LUIS SAENZ PEÑA       1 -58.387183   \n",
       "...                                              ...    ...        ...   \n",
       "2021-0093                          AV. RIESTRA Y MOM      7 -58.433538   \n",
       "2021-0094                    AU DELLEPIANE Y LACARRA      9 -58.467398   \n",
       "2021-0095                        AV. GAONA Y TERRADA     11 -58.472934   \n",
       "2021-0096                         AV. EVA PERON 4071      9 -58.470668   \n",
       "2021-0097                    PADRE CARLOS MUJICA 709      1 -58.379762   \n",
       "\n",
       "               pos y   PARTICIPANTES    VICTIMA    ACUSADO  data_geo  \\\n",
       "ID                                                                     \n",
       "2016-0001 -34.687570       MOTO-AUTO       MOTO       AUTO      True   \n",
       "2016-0002 -34.669777  AUTO-PASAJEROS       AUTO  PASAJEROS      True   \n",
       "2016-0003 -34.631894       MOTO-AUTO       MOTO       AUTO      True   \n",
       "2016-0004 -34.680930         MOTO-SD       MOTO         SD      True   \n",
       "2016-0005 -34.622466  MOTO-PASAJEROS       MOTO  PASAJEROS      True   \n",
       "...              ...             ...        ...        ...       ...   \n",
       "2021-0093 -34.645616       MOTO-AUTO       MOTO       AUTO      True   \n",
       "2021-0094 -34.651178       MOTO-AUTO       MOTO       AUTO      True   \n",
       "2021-0095 -34.619847     MOTO-CARGAS       MOTO     CARGAS      True   \n",
       "2021-0096 -34.650217     AUTO-CARGAS       AUTO     CARGAS      True   \n",
       "2021-0097 -34.586796  BICICLETA-AUTO  BICICLETA       AUTO      True   \n",
       "\n",
       "                   FECHA_HORA  ES_CRUCE  \n",
       "ID                                       \n",
       "2016-0001 2016-01-01 04:00:00      True  \n",
       "2016-0002 2016-01-02 01:15:00      True  \n",
       "2016-0003 2016-01-03 07:00:00     False  \n",
       "2016-0004 2016-01-10 00:00:00      True  \n",
       "2016-0005 2016-01-21 05:20:00      True  \n",
       "...                       ...       ...  \n",
       "2021-0093 2021-12-13 17:10:00      True  \n",
       "2021-0094 2021-12-20 01:10:00      True  \n",
       "2021-0095 2021-12-30 00:43:00      True  \n",
       "2021-0096 2021-12-15 10:30:00     False  \n",
       "2021-0097 2021-11-18 06:10:00     False  \n",
       "\n",
       "[696 rows x 18 columns]"
      ]
     },
     "execution_count": 29,
     "metadata": {},
     "output_type": "execute_result"
    }
   ],
   "source": [
    "data = data_hm.set_index(data_hm.ID)\n",
    "data.drop('ID', axis=1, inplace=True,errors='ignore')\n",
    "data"
   ]
  },
  {
   "cell_type": "code",
   "execution_count": 30,
   "metadata": {},
   "outputs": [],
   "source": [
    "# data_hm = data_hm.drop(['ID','FECHA','HORA','LUGAR_DEL_HECHO'], axis=1)"
   ]
  },
  {
   "cell_type": "code",
   "execution_count": 31,
   "metadata": {},
   "outputs": [],
   "source": [
    "data_hm.columns = [c.lower().replace(' ','_') for c in data_hm.columns]"
   ]
  },
  {
   "cell_type": "code",
   "execution_count": 32,
   "metadata": {},
   "outputs": [],
   "source": [
    "data_hm;"
   ]
  },
  {
   "cell_type": "code",
   "execution_count": 33,
   "metadata": {},
   "outputs": [],
   "source": [
    "df_comunas['barrios'] = df_comunas.BARRIOS.apply(lambda x: x.split(' - '))"
   ]
  },
  {
   "cell_type": "code",
   "execution_count": 34,
   "metadata": {},
   "outputs": [],
   "source": [
    "\n",
    "df_comunas.rename({'COMUNAS':'comuna'}, axis=1, inplace=True)\n",
    "df_comunas.index = df_comunas['comuna']\n",
    "df_comunas.drop(['ID', 'OBJETO', 'BARRIOS'], axis=1, inplace=True, errors='ignore')\n",
    "df_comunas.rename({'comuna':'nombre_comuna', 'PERIMETRO':'perimetro', 'AREA':'area'}, axis=1, inplace=True)\n"
   ]
  },
  {
   "cell_type": "markdown",
   "metadata": {},
   "source": [
    "Obtenemos la información de la población de comunas y actualizamos el frame <code>df_comunas</code>"
   ]
  },
  {
   "cell_type": "code",
   "execution_count": 35,
   "metadata": {},
   "outputs": [],
   "source": [
    "data_pob_comunas.reset_index(inplace=True)\n",
    "data_pob_comunas.rename({'index':'comuna', 'Total de población':'poblacion'}, axis=1, inplace=True)\n",
    "data_pob_comunas.index = data_pob_comunas['comuna']\n",
    "data_pob_comunas.rename({'comuna': 'nombre_comuna'}, axis=1, inplace=True)\n",
    "\n",
    "df_comunas_pob = pd.merge(df_comunas, data_pob_comunas['poblacion'], left_index=True, right_index=True)\n",
    "# df_comunas.rename({'nombre_comuna_x':'nombre_comuna','poblacion_x':'poblacion'}, axis=1, inplace=True)\n",
    "\n",
    "df_comunas_pob.to_csv('data/generated/data_comunas_pob.csv')"
   ]
  },
  {
   "cell_type": "code",
   "execution_count": 36,
   "metadata": {},
   "outputs": [],
   "source": [
    "import csv\n",
    "\n",
    "data_hm.to_csv('data/generated/data_hm.csv', sep=';', quoting=csv.QUOTE_NONNUMERIC, encoding='utf-8')"
   ]
  },
  {
   "cell_type": "markdown",
   "metadata": {},
   "source": [
    "### 1.1.2.2 Dataset Lesiones"
   ]
  },
  {
   "cell_type": "markdown",
   "metadata": {},
   "source": [
    "#### 1.1.2.1.0 Primer Vistazo al Set de Datos"
   ]
  },
  {
   "cell_type": "code",
   "execution_count": 37,
   "metadata": {},
   "outputs": [],
   "source": [
    "import pandas as pd\n",
    "import numpy as np\n",
    "\n",
    "columnas_usar = ['id', 'n_victimas', 'fecha', 'hora',\n",
    "       'direccion_normalizada', 'comuna', 'tipo_calle',\n",
    "       'otra_direccion', 'calle', 'altura', 'cruce', \n",
    "       'longitud', 'latutid', 'victima', 'acusado', 'participantes', 'moto',\n",
    "       'auto', 'transporte_publico', 'camion', 'ciclista', 'gravedad']\n",
    "\n",
    "data_hl = pd.read_csv('data/generated/data_hl.csv', usecols=columnas_usar, index_col='id')\n",
    "\n",
    "data_hl.rename({'latutid': 'latitud'}, axis=1, inplace=True)"
   ]
  },
  {
   "cell_type": "code",
   "execution_count": 38,
   "metadata": {},
   "outputs": [
    {
     "data": {
      "text/plain": [
       "gravedad\n",
       "NO_GRAVE    23139\n",
       "GRAVE         643\n",
       "FATAL           3\n",
       "Name: count, dtype: int64"
      ]
     },
     "execution_count": 38,
     "metadata": {},
     "output_type": "execute_result"
    }
   ],
   "source": [
    "data_hl.loc[:,'gravedad'] = data_hl.loc[:,'gravedad'].apply(lambda st: str(st).upper())\n",
    "data_hl.loc[:,'gravedad'].value_counts()\n",
    "\n",
    "data_hl.loc[:,'gravedad']=data_hl.loc[:,'gravedad'].replace('SD', 'NO_GRAVE');\n",
    "\n",
    "data_hl.loc[:, 'gravedad'].value_counts()\n",
    "\n",
    "# data_hl.loc[:, 'grave'] = data_hl.loc[:, 'grave'].apply(lambda st: False if pd.isna(st) else True)"
   ]
  },
  {
   "cell_type": "markdown",
   "metadata": {},
   "source": [
    "Limpieza de nulos geográficos"
   ]
  },
  {
   "cell_type": "code",
   "execution_count": 39,
   "metadata": {},
   "outputs": [],
   "source": [
    "# data_hl.loc[:,'direccion_normalizada'] = data_hl.loc[:,'direccion_normalizada'].replace('SD', np.nan)\n",
    "\n",
    "pd.set_option('future.no_silent_downcasting', True)\n",
    "data_hl = data_hl.replace('SD', np.nan)\n",
    "\n",
    "len(data_hl.query(\"direccion_normalizada.isna()\"))\n",
    "data_hl.fillna({'cruce': ''}, inplace=True)\n",
    "\n",
    "data_hl['altura'] = data_hl['altura'].apply(lambda x: int(x) if not pd.isna(x) else 0)\n",
    "\n",
    "mask = data_hl['direccion_normalizada'].isna()\n",
    "data_hl.loc[mask, 'direccion_normalizada'] = data_hl.loc[mask, 'otra_direccion']\n",
    "data_hl['direccion_normalizada'] = data_hl['direccion_normalizada'].str.extract(r'(.+?)(?=, Barrio:|$)', expand=False)\n",
    "\n",
    "indices = data_hl.query(\"direccion_normalizada.isna() and calle.notna()\")[['direccion_normalizada', 'otra_direccion', 'comuna', 'calle', 'altura', 'cruce']].index\n",
    "data_hl.altura = data_hl.altura.astype(str)\n",
    "\n",
    "\n",
    "for i in list(indices):\n",
    "    if not data_hl.loc[i, 'altura'] in [0, 'nan']:\n",
    "        data_hl.loc[i, 'direccion_normalizada'] = data_hl.loc[i, 'calle'] + ' ' + data_hl.loc[i, 'altura']\n",
    "    else:\n",
    "        data_hl.loc[i, 'direccion_normalizada'] = data_hl.loc[i, 'calle'] + ' y ' + data_hl.loc[i, 'cruce']\n",
    "        \n",
    "data_hl['data_geo'] = ~ (data_hl['direccion_normalizada'].isna() & \n",
    "                        data_hl['otra_direccion'].isna() & \n",
    "                        data_hl['latitud'].isna() & \n",
    "                        data_hl['cruce'].notna())\n",
    "\n",
    "for i in data_hl.query(\"data_geo and longitud.isna()\").index:\n",
    "    data_hl.loc[i, 'data_geo'] = False;\n",
    "\n"
   ]
  },
  {
   "cell_type": "code",
   "execution_count": 40,
   "metadata": {},
   "outputs": [
    {
     "data": {
      "text/markdown": [
       "<table>\n",
       "    <thead>\n",
       "    <tr><th colspan=3 style='text-align: center'>Lesiones</th></tr>\n",
       "    </thead>\n",
       "    <tbody>\n",
       "    <tr><th> Detalle </th><th> Cantidad </th><th>Tasa</th></tr>\n",
       "    <tr><td> Filas </td><td style='text-align: right'> 23785 </td><td style='text-align: center'>---</td><tr/>\n",
       "    <tr><td> Columnas </td><td style='text-align: right'> 22 </td><td style='text-align: center'>---</td><tr/>\n",
       "    <tr><td> Valores </td><td style='text-align: right'> 523270 </td><td style='text-align: center'>---</td<tr/>\n",
       "    <tr><td> Nulos </td><td style='text-align: right'> 132992 </td><td style='text-align: right'> 25.42 % </td><tr/>\n",
       "    <tr><td> Duplicados </td><td style='text-align: right'> 22 </td><td style='text-align: right'> 0.0 %</td><tr/>\n",
       "    </tbody>\n",
       "    </table>"
      ],
      "text/plain": [
       "<IPython.core.display.Markdown object>"
      ]
     },
     "metadata": {},
     "output_type": "display_data"
    }
   ],
   "source": [
    "resumen(data_hl, \"Lesiones\")"
   ]
  },
  {
   "cell_type": "code",
   "execution_count": 41,
   "metadata": {},
   "outputs": [],
   "source": [
    "data_hl.drop_duplicates(inplace=True)"
   ]
  },
  {
   "cell_type": "markdown",
   "metadata": {},
   "source": [
    "#### 1.1.2.2.1 Análisis de Nulos"
   ]
  },
  {
   "cell_type": "markdown",
   "metadata": {},
   "source": [
    "##### a. Por filas"
   ]
  },
  {
   "cell_type": "code",
   "execution_count": 42,
   "metadata": {},
   "outputs": [
    {
     "data": {
      "image/png": "[encoded data removed]",
      "text/plain": [
       "<Figure size 640x480 with 1 Axes>"
      ]
     },
     "metadata": {},
     "output_type": "display_data"
    }
   ],
   "source": [
    "ver_nulos_x_fila(data_hl)"
   ]
  },
  {
   "cell_type": "markdown",
   "metadata": {},
   "source": [
    "Significa que hay 287 filas que tienen una columna nula, 7437 filas con 2 columnas nula. Este análisis sirve para detectar filas completamente nulas, por ejemplo."
   ]
  },
  {
   "cell_type": "markdown",
   "metadata": {},
   "source": [
    "Ahora analizamos los valores nulos por columna."
   ]
  },
  {
   "cell_type": "markdown",
   "metadata": {},
   "source": [
    "##### b. Por columnas"
   ]
  },
  {
   "cell_type": "markdown",
   "metadata": {},
   "source": [
    "Separamos un subset para trabajar después"
   ]
  },
  {
   "cell_type": "code",
   "execution_count": 43,
   "metadata": {},
   "outputs": [],
   "source": [
    "try:\n",
    "    data_adicional = data_hl.loc[:,['moto', 'auto', 'transporte_publico', 'camion', 'ciclista']]\n",
    "\n",
    "    data_adicional.loc[:, 'involucrado'] = data_adicional.eq('x').idxmax(axis=1).str.upper()\n",
    "    data_adicional.loc[:, 'involucrado'] = data_adicional['involucrado'].apply(lambda x: 'SD' if x == 'ID' else x)\n",
    "except:\n",
    "    print(\"posiblemente operación ya realizada!!!\")"
   ]
  },
  {
   "cell_type": "code",
   "execution_count": 44,
   "metadata": {},
   "outputs": [],
   "source": [
    "data_hl = data_hl[data_hl.columns[~data_hl.columns.isin(data_adicional.columns)]]\n",
    "# data_hm = data_hm[data_hm.columns[~data_hm.columns.isin(['AAAA', 'MM', 'DD', 'HH',  'XY (CABA)'])]]"
   ]
  },
  {
   "cell_type": "code",
   "execution_count": 45,
   "metadata": {},
   "outputs": [
    {
     "data": {
      "text/plain": [
       "23763"
      ]
     },
     "execution_count": 45,
     "metadata": {},
     "output_type": "execute_result"
    }
   ],
   "source": [
    "len(data_adicional)"
   ]
  },
  {
   "cell_type": "markdown",
   "metadata": {},
   "source": [
    "Dividimos el dataset en 2 para trabajar mejor con los gráficos"
   ]
  },
  {
   "cell_type": "code",
   "execution_count": 46,
   "metadata": {},
   "outputs": [],
   "source": [
    "# data_1 = data_hl.iloc[:, :int(data_hl.shape[1]/2)]\n",
    "\n",
    "# data_2 = data_hl.iloc[:,int(data_hl.shape[1]/2)+1:]"
   ]
  },
  {
   "cell_type": "code",
   "execution_count": 47,
   "metadata": {},
   "outputs": [
    {
     "data": {
      "text/plain": [
       "Index(['n_victimas', 'fecha', 'hora', 'direccion_normalizada', 'comuna',\n",
       "       'tipo_calle', 'otra_direccion', 'calle', 'altura', 'cruce', 'longitud',\n",
       "       'latitud', 'victima', 'acusado', 'participantes', 'gravedad',\n",
       "       'data_geo'],\n",
       "      dtype='object')"
      ]
     },
     "execution_count": 47,
     "metadata": {},
     "output_type": "execute_result"
    }
   ],
   "source": [
    "data_hl.columns"
   ]
  },
  {
   "cell_type": "code",
   "execution_count": 48,
   "metadata": {},
   "outputs": [
    {
     "data": {
      "image/png": "[encoded data removed]",
      "text/plain": [
       "<Figure size 640x480 with 1 Axes>"
      ]
     },
     "metadata": {},
     "output_type": "display_data"
    }
   ],
   "source": [
    "ver_nulos_x_columna(data_hl)"
   ]
  },
  {
   "cell_type": "code",
   "execution_count": 49,
   "metadata": {},
   "outputs": [],
   "source": [
    "# nulos_columnas = data_2.isna().sum()[data_2.isna().sum() > 0].sort_values(ascending=False)\n",
    "# ax = sns.barplot(x=nulos_columnas.index, y=nulos_columnas.values)\n",
    "# for i in ax.containers:\n",
    "#     ax.bar_label(i,)"
   ]
  },
  {
   "cell_type": "code",
   "execution_count": 50,
   "metadata": {},
   "outputs": [
    {
     "name": "stdout",
     "output_type": "stream",
     "text": [
      "Cantidad filas: 23763\n",
      "Cantidad filas al menos un nulo: 23763\n"
     ]
    }
   ],
   "source": [
    "# la cantidad de filas del data frame es igual a la cantidad de filas que tiene un al menos un valor nulo\n",
    "\n",
    "print(f\"Cantidad filas: {data_hl.shape[0]}\")\n",
    "print(f\"Cantidad filas al menos un nulo: {len(data_hl.isna().T.sum()>0)}\")"
   ]
  },
  {
   "cell_type": "markdown",
   "metadata": {},
   "source": [
    "Debido a la gran cantidad de nulos, y viendo un panorama del dataset, vamos a hacer un recorte de las columnas más útiles a criterio del analista"
   ]
  },
  {
   "cell_type": "code",
   "execution_count": 51,
   "metadata": {},
   "outputs": [],
   "source": [
    "# columnas_conservar = ['id', 'n_victimas', 'fecha', 'hora','direccion_normalizada', 'comuna','tipo_calle','otra_direccion','calle','altura','cruce','longitud', 'latutid', 'victima', 'gravedad']"
   ]
  },
  {
   "cell_type": "code",
   "execution_count": 52,
   "metadata": {},
   "outputs": [],
   "source": [
    "# data_hl = data_hl[columnas_conservar]"
   ]
  },
  {
   "cell_type": "code",
   "execution_count": 53,
   "metadata": {},
   "outputs": [
    {
     "data": {
      "image/png": "[encoded data removed]",
      "text/plain": [
       "<Figure size 640x480 with 1 Axes>"
      ]
     },
     "metadata": {},
     "output_type": "display_data"
    }
   ],
   "source": [
    "ver_nulos_x_fila(data_hl)"
   ]
  },
  {
   "cell_type": "code",
   "execution_count": 54,
   "metadata": {},
   "outputs": [],
   "source": [
    "data_hl = pd.merge(data_hl,data_adicional, on='id')"
   ]
  },
  {
   "cell_type": "code",
   "execution_count": 55,
   "metadata": {},
   "outputs": [],
   "source": [
    "# data_hl.dropna(subset=['comuna'], inplace=True)\n",
    "\n",
    "data_hl.drop(['transporte_publico',\t'moto',  'auto', 'camion',\t'ciclista'], axis=1, inplace=True, errors='ignore')"
   ]
  },
  {
   "cell_type": "code",
   "execution_count": 56,
   "metadata": {},
   "outputs": [
    {
     "data": {
      "image/png": "[encoded data removed]",
      "text/plain": [
       "<Figure size 640x480 with 1 Axes>"
      ]
     },
     "metadata": {},
     "output_type": "display_data"
    }
   ],
   "source": [
    "# ax = sns.barplot(x=nulos_filas(data_hl2).cant_col_nulas, y=nulos_filas(data_hl2).cantidad)\n",
    "# for i in ax.containers:\n",
    "#     ax.bar_label(i,)\n",
    "# plt.title(\"cantidad nulos x fila\")\n",
    "# plt.show()\n",
    "\n",
    "ver_nulos_x_fila(data_hl)"
   ]
  },
  {
   "cell_type": "markdown",
   "metadata": {},
   "source": [
    "Vemos que todas las filas tienen al menos un valor nulo."
   ]
  },
  {
   "cell_type": "markdown",
   "metadata": {},
   "source": [
    "##### c. Nulos Reales y Estructurales"
   ]
  },
  {
   "cell_type": "code",
   "execution_count": 57,
   "metadata": {},
   "outputs": [
    {
     "data": {
      "image/png": "[encoded data removed]",
      "text/plain": [
       "<Figure size 640x480 with 1 Axes>"
      ]
     },
     "metadata": {},
     "output_type": "display_data"
    }
   ],
   "source": [
    "ver_nulos_x_columna(data_hl)"
   ]
  },
  {
   "cell_type": "markdown",
   "metadata": {},
   "source": [
    "Columna <code>otra_direccion</code>"
   ]
  },
  {
   "cell_type": "code",
   "execution_count": 58,
   "metadata": {},
   "outputs": [
    {
     "data": {
      "text/plain": [
       "'https://www.google.com/maps/@-34.581182,-58.421738,15z?hl=es&markers=-34.581182,-58.421738'"
      ]
     },
     "execution_count": 58,
     "metadata": {},
     "output_type": "execute_result"
    }
   ],
   "source": [
    "longitude= -58.421738\n",
    "latitude = -34.581182\n",
    "zoom_level = 15\n",
    "\n",
    "url = f'https://www.google.com/maps/@{latitude},{longitude},{zoom_level}z?hl=es&markers={latitude},{longitude}'\n",
    "url"
   ]
  },
  {
   "cell_type": "code",
   "execution_count": 59,
   "metadata": {},
   "outputs": [
    {
     "data": {
      "text/html": [
       "<div>\n",
       "<style scoped>\n",
       "    .dataframe tbody tr th:only-of-type {\n",
       "        vertical-align: middle;\n",
       "    }\n",
       "\n",
       "    .dataframe tbody tr th {\n",
       "        vertical-align: top;\n",
       "    }\n",
       "\n",
       "    .dataframe thead th {\n",
       "        text-align: right;\n",
       "    }\n",
       "</style>\n",
       "<table border=\"1\" class=\"dataframe\">\n",
       "  <thead>\n",
       "    <tr style=\"text-align: right;\">\n",
       "      <th></th>\n",
       "      <th>n_victimas</th>\n",
       "      <th>fecha</th>\n",
       "      <th>hora</th>\n",
       "      <th>direccion_normalizada</th>\n",
       "      <th>comuna</th>\n",
       "      <th>tipo_calle</th>\n",
       "      <th>otra_direccion</th>\n",
       "      <th>calle</th>\n",
       "      <th>altura</th>\n",
       "      <th>cruce</th>\n",
       "      <th>longitud</th>\n",
       "      <th>latitud</th>\n",
       "      <th>victima</th>\n",
       "      <th>acusado</th>\n",
       "      <th>participantes</th>\n",
       "      <th>gravedad</th>\n",
       "      <th>data_geo</th>\n",
       "      <th>involucrado</th>\n",
       "    </tr>\n",
       "    <tr>\n",
       "      <th>id</th>\n",
       "      <th></th>\n",
       "      <th></th>\n",
       "      <th></th>\n",
       "      <th></th>\n",
       "      <th></th>\n",
       "      <th></th>\n",
       "      <th></th>\n",
       "      <th></th>\n",
       "      <th></th>\n",
       "      <th></th>\n",
       "      <th></th>\n",
       "      <th></th>\n",
       "      <th></th>\n",
       "      <th></th>\n",
       "      <th></th>\n",
       "      <th></th>\n",
       "      <th></th>\n",
       "      <th></th>\n",
       "    </tr>\n",
       "  </thead>\n",
       "  <tbody>\n",
       "    <tr>\n",
       "      <th>LC-2019-0405413</th>\n",
       "      <td>1</td>\n",
       "      <td>2019-07-01 00:00:00</td>\n",
       "      <td>22:30:00</td>\n",
       "      <td>NaN</td>\n",
       "      <td>14</td>\n",
       "      <td>NaN</td>\n",
       "      <td>NaN</td>\n",
       "      <td>NaN</td>\n",
       "      <td>0</td>\n",
       "      <td></td>\n",
       "      <td>-58.421738</td>\n",
       "      <td>-34.581182</td>\n",
       "      <td>CICLISTA</td>\n",
       "      <td>NaN</td>\n",
       "      <td>CICLISTA-SD</td>\n",
       "      <td>NO_GRAVE</td>\n",
       "      <td>True</td>\n",
       "      <td>CICLISTA</td>\n",
       "    </tr>\n",
       "    <tr>\n",
       "      <th>LC-2019-0406180</th>\n",
       "      <td>1</td>\n",
       "      <td>2019-07-01 00:00:00</td>\n",
       "      <td>10:55:00</td>\n",
       "      <td>NaN</td>\n",
       "      <td>2</td>\n",
       "      <td>NaN</td>\n",
       "      <td>NaN</td>\n",
       "      <td>NaN</td>\n",
       "      <td>0</td>\n",
       "      <td></td>\n",
       "      <td>-58.409629</td>\n",
       "      <td>-34.595662</td>\n",
       "      <td>CICLISTA</td>\n",
       "      <td>NaN</td>\n",
       "      <td>CICLISTA-SD</td>\n",
       "      <td>NO_GRAVE</td>\n",
       "      <td>True</td>\n",
       "      <td>CICLISTA</td>\n",
       "    </tr>\n",
       "    <tr>\n",
       "      <th>LC-2019-0408076</th>\n",
       "      <td>1</td>\n",
       "      <td>2019-07-01 00:00:00</td>\n",
       "      <td>20:40:00</td>\n",
       "      <td>NaN</td>\n",
       "      <td>12</td>\n",
       "      <td>NaN</td>\n",
       "      <td>NaN</td>\n",
       "      <td>NaN</td>\n",
       "      <td>0</td>\n",
       "      <td></td>\n",
       "      <td>-58.485879</td>\n",
       "      <td>-34.543475</td>\n",
       "      <td>CICLISTA</td>\n",
       "      <td>NaN</td>\n",
       "      <td>CICLISTA-SD</td>\n",
       "      <td>NO_GRAVE</td>\n",
       "      <td>True</td>\n",
       "      <td>MOTO</td>\n",
       "    </tr>\n",
       "  </tbody>\n",
       "</table>\n",
       "</div>"
      ],
      "text/plain": [
       "                 n_victimas                fecha      hora  \\\n",
       "id                                                           \n",
       "LC-2019-0405413           1  2019-07-01 00:00:00  22:30:00   \n",
       "LC-2019-0406180           1  2019-07-01 00:00:00  10:55:00   \n",
       "LC-2019-0408076           1  2019-07-01 00:00:00  20:40:00   \n",
       "\n",
       "                direccion_normalizada comuna tipo_calle otra_direccion calle  \\\n",
       "id                                                                             \n",
       "LC-2019-0405413                   NaN     14        NaN            NaN   NaN   \n",
       "LC-2019-0406180                   NaN      2        NaN            NaN   NaN   \n",
       "LC-2019-0408076                   NaN     12        NaN            NaN   NaN   \n",
       "\n",
       "                altura cruce    longitud     latitud   victima acusado  \\\n",
       "id                                                                       \n",
       "LC-2019-0405413      0        -58.421738  -34.581182  CICLISTA     NaN   \n",
       "LC-2019-0406180      0        -58.409629  -34.595662  CICLISTA     NaN   \n",
       "LC-2019-0408076      0        -58.485879  -34.543475  CICLISTA     NaN   \n",
       "\n",
       "                participantes  gravedad  data_geo involucrado  \n",
       "id                                                             \n",
       "LC-2019-0405413   CICLISTA-SD  NO_GRAVE      True    CICLISTA  \n",
       "LC-2019-0406180   CICLISTA-SD  NO_GRAVE      True    CICLISTA  \n",
       "LC-2019-0408076   CICLISTA-SD  NO_GRAVE      True        MOTO  "
      ]
     },
     "execution_count": 59,
     "metadata": {},
     "output_type": "execute_result"
    }
   ],
   "source": [
    "data_hl.query(\"otra_direccion.isna() and data_geo\").head(3)"
   ]
  },
  {
   "cell_type": "markdown",
   "metadata": {},
   "source": [
    "Columna <code>Gravedad</code>"
   ]
  },
  {
   "cell_type": "code",
   "execution_count": 60,
   "metadata": {},
   "outputs": [
    {
     "name": "stdout",
     "output_type": "stream",
     "text": [
      "<class 'pandas.core.frame.DataFrame'>\n",
      "Index: 23763 entries, LC-2019-0000179 to LC-2020-0244615\n",
      "Data columns (total 18 columns):\n",
      " #   Column                 Non-Null Count  Dtype \n",
      "---  ------                 --------------  ----- \n",
      " 0   n_victimas             23763 non-null  int64 \n",
      " 1   fecha                  23763 non-null  object\n",
      " 2   hora                   23759 non-null  object\n",
      " 3   direccion_normalizada  18414 non-null  object\n",
      " 4   comuna                 22764 non-null  object\n",
      " 5   tipo_calle             12740 non-null  object\n",
      " 6   otra_direccion         5490 non-null   object\n",
      " 7   calle                  12867 non-null  object\n",
      " 8   altura                 23763 non-null  object\n",
      " 9   cruce                  23763 non-null  object\n",
      " 10  longitud               22314 non-null  object\n",
      " 11  latitud                22314 non-null  object\n",
      " 12  victima                13042 non-null  object\n",
      " 13  acusado                8487 non-null   object\n",
      " 14  participantes          23763 non-null  object\n",
      " 15  gravedad               23763 non-null  object\n",
      " 16  data_geo               23763 non-null  bool  \n",
      " 17  involucrado            23763 non-null  object\n",
      "dtypes: bool(1), int64(1), object(16)\n",
      "memory usage: 3.8+ MB\n"
     ]
    }
   ],
   "source": [
    "data_hl.info()"
   ]
  },
  {
   "cell_type": "code",
   "execution_count": 61,
   "metadata": {},
   "outputs": [
    {
     "data": {
      "text/plain": [
       "id\n",
       "LC-2019-0000179           \n",
       "LC-2019-0000053           \n",
       "LC-2019-0000063           \n",
       "LC-2019-0000079           \n",
       "LC-2019-0000082           \n",
       "                    ...   \n",
       "LC-2021-0652849    GUAMINI\n",
       "LC-2021-0652865           \n",
       "LC-2021-0652907           \n",
       "LC-2021-0652921     MORENO\n",
       "LC-2020-0244615           \n",
       "Name: cruce, Length: 23763, dtype: object"
      ]
     },
     "execution_count": 61,
     "metadata": {},
     "output_type": "execute_result"
    }
   ],
   "source": [
    "data_hl.cruce"
   ]
  },
  {
   "cell_type": "code",
   "execution_count": 62,
   "metadata": {},
   "outputs": [],
   "source": [
    "# La columna Cruce se llena con 'NA': 'No Aplica'\n",
    "data_hl.cruce = data_hl.cruce.fillna('NA')"
   ]
  },
  {
   "cell_type": "markdown",
   "metadata": {},
   "source": [
    "Ya limpio de los nulos estructurales o sea, definidos por la naturaleza de los campos, vamos a los nulos reales."
   ]
  },
  {
   "cell_type": "code",
   "execution_count": 63,
   "metadata": {},
   "outputs": [
    {
     "data": {
      "image/png": "[encoded data removed]",
      "text/plain": [
       "<Figure size 640x480 with 1 Axes>"
      ]
     },
     "metadata": {},
     "output_type": "display_data"
    }
   ],
   "source": [
    "nulos_columnas = data_hl.isna().sum()[data_hl.isna().sum() > 0].sort_values(ascending=False)\n",
    "\n",
    "if len(nulos_columnas) > 0:\n",
    "    ax = sns.barplot(x=nulos_columnas.index, y=nulos_columnas.values)\n",
    "for i in ax.containers:\n",
    "    ax.bar_label(i,)"
   ]
  },
  {
   "cell_type": "code",
   "execution_count": 64,
   "metadata": {},
   "outputs": [
    {
     "data": {
      "text/plain": [
       "'Obligado Rafael, Av.Costanera 3300, Barrio: Palermo  , jurisdicción comisaria:  Vecinal 14C'"
      ]
     },
     "execution_count": 64,
     "metadata": {},
     "output_type": "execute_result"
    }
   ],
   "source": [
    "data_hl.query('otra_direccion.notna() and calle.isna()').loc['LC-2019-0000179'].otra_direccion"
   ]
  },
  {
   "cell_type": "code",
   "execution_count": 65,
   "metadata": {},
   "outputs": [],
   "source": [
    "pattern = r\"Barrio:\\s*([^,]+)\"\n",
    "data_hl['barrio'] = data_hl['otra_direccion'].str.extract(pattern, expand=False)"
   ]
  },
  {
   "cell_type": "code",
   "execution_count": 66,
   "metadata": {},
   "outputs": [
    {
     "data": {
      "text/plain": [
       "barrio\n",
       "Palermo                                      381\n",
       "Flores                                       267\n",
       "Balvanera                                    256\n",
       "Caballito                                    230\n",
       "Recoleta                                     214\n",
       "                                            ... \n",
       "Boedo Vía Pública                              1\n",
       "No Especificada Villa 31                       1\n",
       "Retiro MANZANA 14                              1\n",
       "Belgrano PARADA DEL 68 DEL METROBUS            1\n",
       "Constitucion INTERIOR COLECTIVO LINEA 23       1\n",
       "Name: count, Length: 171, dtype: int64"
      ]
     },
     "execution_count": 66,
     "metadata": {},
     "output_type": "execute_result"
    }
   ],
   "source": [
    "data_hl['barrio'].value_counts()"
   ]
  },
  {
   "cell_type": "code",
   "execution_count": 67,
   "metadata": {},
   "outputs": [],
   "source": [
    "data_hl.drop('otra_direccion', axis=1, inplace=True)"
   ]
  },
  {
   "cell_type": "code",
   "execution_count": 68,
   "metadata": {},
   "outputs": [
    {
     "data": {
      "image/png": "[encoded data removed]",
      "text/plain": [
       "<Figure size 640x480 with 1 Axes>"
      ]
     },
     "metadata": {},
     "output_type": "display_data"
    }
   ],
   "source": [
    "ver_nulos_x_columna(data_hl)"
   ]
  },
  {
   "cell_type": "code",
   "execution_count": 69,
   "metadata": {},
   "outputs": [],
   "source": [
    "data_hl.loc[:,'direccion_normalizada'].fillna(\"SD\", inplace=True)"
   ]
  },
  {
   "cell_type": "markdown",
   "metadata": {},
   "source": [
    "Columna ```Dirección Normalizada```"
   ]
  },
  {
   "cell_type": "code",
   "execution_count": 70,
   "metadata": {},
   "outputs": [
    {
     "data": {
      "text/html": [
       "<div>\n",
       "<style scoped>\n",
       "    .dataframe tbody tr th:only-of-type {\n",
       "        vertical-align: middle;\n",
       "    }\n",
       "\n",
       "    .dataframe tbody tr th {\n",
       "        vertical-align: top;\n",
       "    }\n",
       "\n",
       "    .dataframe thead th {\n",
       "        text-align: right;\n",
       "    }\n",
       "</style>\n",
       "<table border=\"1\" class=\"dataframe\">\n",
       "  <thead>\n",
       "    <tr style=\"text-align: right;\">\n",
       "      <th></th>\n",
       "      <th>n_victimas</th>\n",
       "      <th>fecha</th>\n",
       "      <th>hora</th>\n",
       "      <th>direccion_normalizada</th>\n",
       "      <th>comuna</th>\n",
       "      <th>tipo_calle</th>\n",
       "      <th>calle</th>\n",
       "      <th>altura</th>\n",
       "      <th>cruce</th>\n",
       "      <th>longitud</th>\n",
       "      <th>latitud</th>\n",
       "      <th>victima</th>\n",
       "      <th>acusado</th>\n",
       "      <th>participantes</th>\n",
       "      <th>gravedad</th>\n",
       "      <th>data_geo</th>\n",
       "      <th>involucrado</th>\n",
       "      <th>barrio</th>\n",
       "    </tr>\n",
       "    <tr>\n",
       "      <th>id</th>\n",
       "      <th></th>\n",
       "      <th></th>\n",
       "      <th></th>\n",
       "      <th></th>\n",
       "      <th></th>\n",
       "      <th></th>\n",
       "      <th></th>\n",
       "      <th></th>\n",
       "      <th></th>\n",
       "      <th></th>\n",
       "      <th></th>\n",
       "      <th></th>\n",
       "      <th></th>\n",
       "      <th></th>\n",
       "      <th></th>\n",
       "      <th></th>\n",
       "      <th></th>\n",
       "      <th></th>\n",
       "    </tr>\n",
       "  </thead>\n",
       "  <tbody>\n",
       "  </tbody>\n",
       "</table>\n",
       "</div>"
      ],
      "text/plain": [
       "Empty DataFrame\n",
       "Columns: [n_victimas, fecha, hora, direccion_normalizada, comuna, tipo_calle, calle, altura, cruce, longitud, latitud, victima, acusado, participantes, gravedad, data_geo, involucrado, barrio]\n",
       "Index: []"
      ]
     },
     "execution_count": 70,
     "metadata": {},
     "output_type": "execute_result"
    }
   ],
   "source": [
    "data_hl[data_hl.isna().loc[:, 'direccion_normalizada']].query('data_geo')"
   ]
  },
  {
   "cell_type": "code",
   "execution_count": 71,
   "metadata": {},
   "outputs": [],
   "source": [
    "data_hl.fillna({'direccion_normalizada':'SD'}, inplace=True)"
   ]
  },
  {
   "cell_type": "markdown",
   "metadata": {},
   "source": [
    "Columna ```Calle```"
   ]
  },
  {
   "cell_type": "code",
   "execution_count": 72,
   "metadata": {},
   "outputs": [
    {
     "data": {
      "text/html": [
       "<div>\n",
       "<style scoped>\n",
       "    .dataframe tbody tr th:only-of-type {\n",
       "        vertical-align: middle;\n",
       "    }\n",
       "\n",
       "    .dataframe tbody tr th {\n",
       "        vertical-align: top;\n",
       "    }\n",
       "\n",
       "    .dataframe thead th {\n",
       "        text-align: right;\n",
       "    }\n",
       "</style>\n",
       "<table border=\"1\" class=\"dataframe\">\n",
       "  <thead>\n",
       "    <tr style=\"text-align: right;\">\n",
       "      <th></th>\n",
       "      <th>n_victimas</th>\n",
       "      <th>fecha</th>\n",
       "      <th>hora</th>\n",
       "      <th>direccion_normalizada</th>\n",
       "      <th>comuna</th>\n",
       "      <th>tipo_calle</th>\n",
       "      <th>calle</th>\n",
       "      <th>altura</th>\n",
       "      <th>cruce</th>\n",
       "      <th>longitud</th>\n",
       "      <th>latitud</th>\n",
       "      <th>victima</th>\n",
       "      <th>acusado</th>\n",
       "      <th>participantes</th>\n",
       "      <th>gravedad</th>\n",
       "      <th>data_geo</th>\n",
       "      <th>involucrado</th>\n",
       "      <th>barrio</th>\n",
       "    </tr>\n",
       "    <tr>\n",
       "      <th>id</th>\n",
       "      <th></th>\n",
       "      <th></th>\n",
       "      <th></th>\n",
       "      <th></th>\n",
       "      <th></th>\n",
       "      <th></th>\n",
       "      <th></th>\n",
       "      <th></th>\n",
       "      <th></th>\n",
       "      <th></th>\n",
       "      <th></th>\n",
       "      <th></th>\n",
       "      <th></th>\n",
       "      <th></th>\n",
       "      <th></th>\n",
       "      <th></th>\n",
       "      <th></th>\n",
       "      <th></th>\n",
       "    </tr>\n",
       "  </thead>\n",
       "  <tbody>\n",
       "    <tr>\n",
       "      <th>LC-2019-0000179</th>\n",
       "      <td>1</td>\n",
       "      <td>2019-01-01 00:00:00</td>\n",
       "      <td>09:00:00</td>\n",
       "      <td>Obligado Rafael, Av.Costanera 3300</td>\n",
       "      <td>14</td>\n",
       "      <td>NaN</td>\n",
       "      <td>NaN</td>\n",
       "      <td>0</td>\n",
       "      <td></td>\n",
       "      <td>-58.408911</td>\n",
       "      <td>-34.559658</td>\n",
       "      <td>CICLISTA</td>\n",
       "      <td>NaN</td>\n",
       "      <td>CICLISTA-SD</td>\n",
       "      <td>NO_GRAVE</td>\n",
       "      <td>True</td>\n",
       "      <td>CICLISTA</td>\n",
       "      <td>Palermo</td>\n",
       "    </tr>\n",
       "    <tr>\n",
       "      <th>LC-2019-0000053</th>\n",
       "      <td>1</td>\n",
       "      <td>2019-01-01 00:00:00</td>\n",
       "      <td>01:55:00</td>\n",
       "      <td>Autopista Presidente Héctor J. Cámpora y Roca,...</td>\n",
       "      <td>8</td>\n",
       "      <td>NaN</td>\n",
       "      <td>NaN</td>\n",
       "      <td>0</td>\n",
       "      <td></td>\n",
       "      <td>-58.44351</td>\n",
       "      <td>-34.669125</td>\n",
       "      <td>AUTO</td>\n",
       "      <td>NaN</td>\n",
       "      <td>AUTO-SD</td>\n",
       "      <td>NO_GRAVE</td>\n",
       "      <td>True</td>\n",
       "      <td>AUTO</td>\n",
       "      <td>Villa Soldati</td>\n",
       "    </tr>\n",
       "    <tr>\n",
       "      <th>LC-2019-0000063</th>\n",
       "      <td>1</td>\n",
       "      <td>2019-01-01 00:00:00</td>\n",
       "      <td>02:00:00</td>\n",
       "      <td>Barros Pazos, Jose y Larraya 0</td>\n",
       "      <td>8</td>\n",
       "      <td>NaN</td>\n",
       "      <td>NaN</td>\n",
       "      <td>0</td>\n",
       "      <td></td>\n",
       "      <td>-58.468335</td>\n",
       "      <td>-34.677556</td>\n",
       "      <td>NaN</td>\n",
       "      <td>NaN</td>\n",
       "      <td>SD-SD</td>\n",
       "      <td>NO_GRAVE</td>\n",
       "      <td>True</td>\n",
       "      <td>MOTO</td>\n",
       "      <td>Villa Lugano</td>\n",
       "    </tr>\n",
       "    <tr>\n",
       "      <th>LC-2019-0000079</th>\n",
       "      <td>1</td>\n",
       "      <td>2019-01-01 00:00:00</td>\n",
       "      <td>02:30:00</td>\n",
       "      <td>Torres Y Tenorio, Pres. y Riestra Av. 0</td>\n",
       "      <td>7</td>\n",
       "      <td>NaN</td>\n",
       "      <td>NaN</td>\n",
       "      <td>0</td>\n",
       "      <td></td>\n",
       "      <td>-58.437425</td>\n",
       "      <td>-34.647349</td>\n",
       "      <td>PEATON</td>\n",
       "      <td>NaN</td>\n",
       "      <td>PEATON-SD</td>\n",
       "      <td>NO_GRAVE</td>\n",
       "      <td>True</td>\n",
       "      <td>MOTO</td>\n",
       "      <td>Parque Chacabuco interior Pasaje Roldan</td>\n",
       "    </tr>\n",
       "    <tr>\n",
       "      <th>LC-2019-0000082</th>\n",
       "      <td>4</td>\n",
       "      <td>2019-01-01 00:00:00</td>\n",
       "      <td>04:30:00</td>\n",
       "      <td>Corrientes Av. y Uriburu Jose E., Pres. 0</td>\n",
       "      <td>3</td>\n",
       "      <td>NaN</td>\n",
       "      <td>NaN</td>\n",
       "      <td>0</td>\n",
       "      <td></td>\n",
       "      <td>-58.398225</td>\n",
       "      <td>-34.604579</td>\n",
       "      <td>AUTO</td>\n",
       "      <td>NaN</td>\n",
       "      <td>AUTO-SD</td>\n",
       "      <td>NO_GRAVE</td>\n",
       "      <td>True</td>\n",
       "      <td>TRANSPORTE_PUBLICO</td>\n",
       "      <td>Balvanera</td>\n",
       "    </tr>\n",
       "    <tr>\n",
       "      <th>...</th>\n",
       "      <td>...</td>\n",
       "      <td>...</td>\n",
       "      <td>...</td>\n",
       "      <td>...</td>\n",
       "      <td>...</td>\n",
       "      <td>...</td>\n",
       "      <td>...</td>\n",
       "      <td>...</td>\n",
       "      <td>...</td>\n",
       "      <td>...</td>\n",
       "      <td>...</td>\n",
       "      <td>...</td>\n",
       "      <td>...</td>\n",
       "      <td>...</td>\n",
       "      <td>...</td>\n",
       "      <td>...</td>\n",
       "      <td>...</td>\n",
       "      <td>...</td>\n",
       "    </tr>\n",
       "    <tr>\n",
       "      <th>LC-2021-0630499</th>\n",
       "      <td>1</td>\n",
       "      <td>2021-12-18 00:00:00</td>\n",
       "      <td>16:40:00</td>\n",
       "      <td>Corrientes Av. y Uriburu Jose E.</td>\n",
       "      <td>3</td>\n",
       "      <td>AVENIDA</td>\n",
       "      <td>NaN</td>\n",
       "      <td>0</td>\n",
       "      <td></td>\n",
       "      <td>-58.398221919489</td>\n",
       "      <td>-34.604579570175</td>\n",
       "      <td>MOTO</td>\n",
       "      <td>NaN</td>\n",
       "      <td>MOTO-SD</td>\n",
       "      <td>NO_GRAVE</td>\n",
       "      <td>True</td>\n",
       "      <td>MOTO</td>\n",
       "      <td>NaN</td>\n",
       "    </tr>\n",
       "    <tr>\n",
       "      <th>LC-2021-0641694</th>\n",
       "      <td>1</td>\n",
       "      <td>2021-12-24 00:00:00</td>\n",
       "      <td>19:40:00</td>\n",
       "      <td>Autopista 25 de Mayo km. 5,0 sentido CABA</td>\n",
       "      <td>NaN</td>\n",
       "      <td>NaN</td>\n",
       "      <td>NaN</td>\n",
       "      <td>0</td>\n",
       "      <td></td>\n",
       "      <td>-58.4024529002351</td>\n",
       "      <td>-34.5704677450857</td>\n",
       "      <td>NaN</td>\n",
       "      <td>NaN</td>\n",
       "      <td>SD-SD</td>\n",
       "      <td>NO_GRAVE</td>\n",
       "      <td>True</td>\n",
       "      <td>MOTO</td>\n",
       "      <td>NaN</td>\n",
       "    </tr>\n",
       "    <tr>\n",
       "      <th>LC-2021-0643354</th>\n",
       "      <td>1</td>\n",
       "      <td>2021-12-24 00:00:00</td>\n",
       "      <td>09:00:00</td>\n",
       "      <td>Alvear, Marcelo T. De y Uriburu Jose E., Pres.</td>\n",
       "      <td>2</td>\n",
       "      <td>NaN</td>\n",
       "      <td>NaN</td>\n",
       "      <td>0</td>\n",
       "      <td></td>\n",
       "      <td>-58.398875</td>\n",
       "      <td>-34.597048</td>\n",
       "      <td>NaN</td>\n",
       "      <td>MOTO</td>\n",
       "      <td>SD-MOTO</td>\n",
       "      <td>NO_GRAVE</td>\n",
       "      <td>True</td>\n",
       "      <td>MOTO</td>\n",
       "      <td>NaN</td>\n",
       "    </tr>\n",
       "    <tr>\n",
       "      <th>LC-2021-0652907</th>\n",
       "      <td>1</td>\n",
       "      <td>2021-12-31 00:00:00</td>\n",
       "      <td>20:00:00</td>\n",
       "      <td>Barrio Padre Carlos Mugica (Villa 31 bis)</td>\n",
       "      <td>1</td>\n",
       "      <td>NaN</td>\n",
       "      <td>NaN</td>\n",
       "      <td>0</td>\n",
       "      <td></td>\n",
       "      <td>-58.382894</td>\n",
       "      <td>-34.583083</td>\n",
       "      <td>NaN</td>\n",
       "      <td>NaN</td>\n",
       "      <td>SD-SD</td>\n",
       "      <td>NO_GRAVE</td>\n",
       "      <td>True</td>\n",
       "      <td>MOTO</td>\n",
       "      <td>NaN</td>\n",
       "    </tr>\n",
       "    <tr>\n",
       "      <th>LC-2020-0244615</th>\n",
       "      <td>1</td>\n",
       "      <td>5/17/2020</td>\n",
       "      <td>21:00:00</td>\n",
       "      <td>SD</td>\n",
       "      <td>NaN</td>\n",
       "      <td>NaN</td>\n",
       "      <td>NaN</td>\n",
       "      <td>0</td>\n",
       "      <td></td>\n",
       "      <td>-5829963273</td>\n",
       "      <td>-3472890716</td>\n",
       "      <td>MOTO</td>\n",
       "      <td>AUTO</td>\n",
       "      <td>MOTO-AUTO</td>\n",
       "      <td>NO_GRAVE</td>\n",
       "      <td>True</td>\n",
       "      <td>MOTO</td>\n",
       "      <td>NaN</td>\n",
       "    </tr>\n",
       "  </tbody>\n",
       "</table>\n",
       "<p>9610 rows × 18 columns</p>\n",
       "</div>"
      ],
      "text/plain": [
       "                 n_victimas                fecha      hora  \\\n",
       "id                                                           \n",
       "LC-2019-0000179           1  2019-01-01 00:00:00  09:00:00   \n",
       "LC-2019-0000053           1  2019-01-01 00:00:00  01:55:00   \n",
       "LC-2019-0000063           1  2019-01-01 00:00:00  02:00:00   \n",
       "LC-2019-0000079           1  2019-01-01 00:00:00  02:30:00   \n",
       "LC-2019-0000082           4  2019-01-01 00:00:00  04:30:00   \n",
       "...                     ...                  ...       ...   \n",
       "LC-2021-0630499           1  2021-12-18 00:00:00  16:40:00   \n",
       "LC-2021-0641694           1  2021-12-24 00:00:00  19:40:00   \n",
       "LC-2021-0643354           1  2021-12-24 00:00:00  09:00:00   \n",
       "LC-2021-0652907           1  2021-12-31 00:00:00  20:00:00   \n",
       "LC-2020-0244615           1            5/17/2020  21:00:00   \n",
       "\n",
       "                                             direccion_normalizada comuna  \\\n",
       "id                                                                          \n",
       "LC-2019-0000179                 Obligado Rafael, Av.Costanera 3300     14   \n",
       "LC-2019-0000053  Autopista Presidente Héctor J. Cámpora y Roca,...      8   \n",
       "LC-2019-0000063                     Barros Pazos, Jose y Larraya 0      8   \n",
       "LC-2019-0000079            Torres Y Tenorio, Pres. y Riestra Av. 0      7   \n",
       "LC-2019-0000082          Corrientes Av. y Uriburu Jose E., Pres. 0      3   \n",
       "...                                                            ...    ...   \n",
       "LC-2021-0630499                   Corrientes Av. y Uriburu Jose E.      3   \n",
       "LC-2021-0641694          Autopista 25 de Mayo km. 5,0 sentido CABA    NaN   \n",
       "LC-2021-0643354     Alvear, Marcelo T. De y Uriburu Jose E., Pres.      2   \n",
       "LC-2021-0652907          Barrio Padre Carlos Mugica (Villa 31 bis)      1   \n",
       "LC-2020-0244615                                                 SD    NaN   \n",
       "\n",
       "                tipo_calle calle altura cruce           longitud  \\\n",
       "id                                                                 \n",
       "LC-2019-0000179        NaN   NaN      0               -58.408911   \n",
       "LC-2019-0000053        NaN   NaN      0                -58.44351   \n",
       "LC-2019-0000063        NaN   NaN      0               -58.468335   \n",
       "LC-2019-0000079        NaN   NaN      0               -58.437425   \n",
       "LC-2019-0000082        NaN   NaN      0               -58.398225   \n",
       "...                    ...   ...    ...   ...                ...   \n",
       "LC-2021-0630499    AVENIDA   NaN      0         -58.398221919489   \n",
       "LC-2021-0641694        NaN   NaN      0        -58.4024529002351   \n",
       "LC-2021-0643354        NaN   NaN      0               -58.398875   \n",
       "LC-2021-0652907        NaN   NaN      0               -58.382894   \n",
       "LC-2020-0244615        NaN   NaN      0              -5829963273   \n",
       "\n",
       "                           latitud   victima acusado participantes  gravedad  \\\n",
       "id                                                                             \n",
       "LC-2019-0000179         -34.559658  CICLISTA     NaN   CICLISTA-SD  NO_GRAVE   \n",
       "LC-2019-0000053         -34.669125      AUTO     NaN       AUTO-SD  NO_GRAVE   \n",
       "LC-2019-0000063         -34.677556       NaN     NaN         SD-SD  NO_GRAVE   \n",
       "LC-2019-0000079         -34.647349    PEATON     NaN     PEATON-SD  NO_GRAVE   \n",
       "LC-2019-0000082         -34.604579      AUTO     NaN       AUTO-SD  NO_GRAVE   \n",
       "...                            ...       ...     ...           ...       ...   \n",
       "LC-2021-0630499   -34.604579570175      MOTO     NaN       MOTO-SD  NO_GRAVE   \n",
       "LC-2021-0641694  -34.5704677450857       NaN     NaN         SD-SD  NO_GRAVE   \n",
       "LC-2021-0643354         -34.597048       NaN    MOTO       SD-MOTO  NO_GRAVE   \n",
       "LC-2021-0652907         -34.583083       NaN     NaN         SD-SD  NO_GRAVE   \n",
       "LC-2020-0244615        -3472890716      MOTO    AUTO     MOTO-AUTO  NO_GRAVE   \n",
       "\n",
       "                 data_geo         involucrado  \\\n",
       "id                                              \n",
       "LC-2019-0000179      True            CICLISTA   \n",
       "LC-2019-0000053      True                AUTO   \n",
       "LC-2019-0000063      True                MOTO   \n",
       "LC-2019-0000079      True                MOTO   \n",
       "LC-2019-0000082      True  TRANSPORTE_PUBLICO   \n",
       "...                   ...                 ...   \n",
       "LC-2021-0630499      True                MOTO   \n",
       "LC-2021-0641694      True                MOTO   \n",
       "LC-2021-0643354      True                MOTO   \n",
       "LC-2021-0652907      True                MOTO   \n",
       "LC-2020-0244615      True                MOTO   \n",
       "\n",
       "                                                  barrio  \n",
       "id                                                        \n",
       "LC-2019-0000179                                Palermo    \n",
       "LC-2019-0000053                          Villa Soldati    \n",
       "LC-2019-0000063                           Villa Lugano    \n",
       "LC-2019-0000079  Parque Chacabuco interior Pasaje Roldan  \n",
       "LC-2019-0000082                              Balvanera    \n",
       "...                                                  ...  \n",
       "LC-2021-0630499                                      NaN  \n",
       "LC-2021-0641694                                      NaN  \n",
       "LC-2021-0643354                                      NaN  \n",
       "LC-2021-0652907                                      NaN  \n",
       "LC-2020-0244615                                      NaN  \n",
       "\n",
       "[9610 rows x 18 columns]"
      ]
     },
     "execution_count": 72,
     "metadata": {},
     "output_type": "execute_result"
    }
   ],
   "source": [
    "data_hl.query('calle.isna() and data_geo == True')"
   ]
  },
  {
   "cell_type": "code",
   "execution_count": 73,
   "metadata": {},
   "outputs": [],
   "source": [
    "mask_auto = data_hl[data_hl.loc[:,'direccion_normalizada'].apply(lambda st: st.startswith('Autopista '))].index\n",
    "\n",
    "data_hl.loc[mask_auto, 'tipo_calle'] = 'AUTOPISTA'\n",
    "\n",
    "data_hl.loc[mask_auto, 'direccion_normalizada'] = data_hl.loc[mask_auto, 'direccion_normalizada'][10:]"
   ]
  },
  {
   "cell_type": "code",
   "execution_count": 74,
   "metadata": {},
   "outputs": [],
   "source": [
    "def limpiar_auto(st):\n",
    "    try:\n",
    "        if st.startswith('Autopista '):\n",
    "            return st[10:]\n",
    "    except:\n",
    "        return st"
   ]
  },
  {
   "cell_type": "code",
   "execution_count": 75,
   "metadata": {},
   "outputs": [
    {
     "data": {
      "text/plain": [
       "id\n",
       "LC-2019-0000179    None\n",
       "LC-2019-0000053     NaN\n",
       "LC-2019-0000063    None\n",
       "LC-2019-0000079    None\n",
       "LC-2019-0000082    None\n",
       "                   ... \n",
       "LC-2021-0652849    None\n",
       "LC-2021-0652865    None\n",
       "LC-2021-0652907    None\n",
       "LC-2021-0652921    None\n",
       "LC-2020-0244615    None\n",
       "Name: direccion_normalizada, Length: 23763, dtype: object"
      ]
     },
     "execution_count": 75,
     "metadata": {},
     "output_type": "execute_result"
    }
   ],
   "source": [
    "data_hl.loc[:,'direccion_normalizada'].apply(limpiar_auto)"
   ]
  },
  {
   "cell_type": "code",
   "execution_count": 76,
   "metadata": {},
   "outputs": [
    {
     "data": {
      "text/plain": [
       "id\n",
       "LC-2019-0000179           Obligado Rafael, Av.Costanera 3300\n",
       "LC-2019-0000053                                          NaN\n",
       "LC-2019-0000063               Barros Pazos, Jose y Larraya 0\n",
       "LC-2019-0000079      Torres Y Tenorio, Pres. y Riestra Av. 0\n",
       "LC-2019-0000082    Corrientes Av. y Uriburu Jose E., Pres. 0\n",
       "                                     ...                    \n",
       "LC-2021-0652849         ALBERDI, JUAN BAUTISTA AV. y GUAMINI\n",
       "LC-2021-0652865              ALBERDI, JUAN BAUTISTA AV. 4436\n",
       "LC-2021-0652907    Barrio Padre Carlos Mugica (Villa 31 bis)\n",
       "LC-2021-0652921                      LINIERS VIRREY y MORENO\n",
       "LC-2020-0244615                                           SD\n",
       "Name: direccion_normalizada, Length: 23763, dtype: object"
      ]
     },
     "execution_count": 76,
     "metadata": {},
     "output_type": "execute_result"
    }
   ],
   "source": [
    "data_hl.loc[:,'direccion_normalizada']"
   ]
  },
  {
   "cell_type": "code",
   "execution_count": 77,
   "metadata": {},
   "outputs": [
    {
     "data": {
      "text/html": [
       "<div>\n",
       "<style scoped>\n",
       "    .dataframe tbody tr th:only-of-type {\n",
       "        vertical-align: middle;\n",
       "    }\n",
       "\n",
       "    .dataframe tbody tr th {\n",
       "        vertical-align: top;\n",
       "    }\n",
       "\n",
       "    .dataframe thead th {\n",
       "        text-align: right;\n",
       "    }\n",
       "</style>\n",
       "<table border=\"1\" class=\"dataframe\">\n",
       "  <thead>\n",
       "    <tr style=\"text-align: right;\">\n",
       "      <th></th>\n",
       "      <th>n_victimas</th>\n",
       "      <th>fecha</th>\n",
       "      <th>hora</th>\n",
       "      <th>direccion_normalizada</th>\n",
       "      <th>comuna</th>\n",
       "      <th>tipo_calle</th>\n",
       "      <th>calle</th>\n",
       "      <th>altura</th>\n",
       "      <th>cruce</th>\n",
       "      <th>longitud</th>\n",
       "      <th>latitud</th>\n",
       "      <th>victima</th>\n",
       "      <th>acusado</th>\n",
       "      <th>participantes</th>\n",
       "      <th>gravedad</th>\n",
       "      <th>data_geo</th>\n",
       "      <th>involucrado</th>\n",
       "      <th>barrio</th>\n",
       "    </tr>\n",
       "    <tr>\n",
       "      <th>id</th>\n",
       "      <th></th>\n",
       "      <th></th>\n",
       "      <th></th>\n",
       "      <th></th>\n",
       "      <th></th>\n",
       "      <th></th>\n",
       "      <th></th>\n",
       "      <th></th>\n",
       "      <th></th>\n",
       "      <th></th>\n",
       "      <th></th>\n",
       "      <th></th>\n",
       "      <th></th>\n",
       "      <th></th>\n",
       "      <th></th>\n",
       "      <th></th>\n",
       "      <th></th>\n",
       "      <th></th>\n",
       "    </tr>\n",
       "  </thead>\n",
       "  <tbody>\n",
       "    <tr>\n",
       "      <th>LC-2019-0000179</th>\n",
       "      <td>1</td>\n",
       "      <td>2019-01-01 00:00:00</td>\n",
       "      <td>09:00:00</td>\n",
       "      <td>Obligado Rafael, Av.Costanera 3300</td>\n",
       "      <td>14</td>\n",
       "      <td>NaN</td>\n",
       "      <td>NaN</td>\n",
       "      <td>0</td>\n",
       "      <td></td>\n",
       "      <td>-58.408911</td>\n",
       "      <td>-34.559658</td>\n",
       "      <td>CICLISTA</td>\n",
       "      <td>NaN</td>\n",
       "      <td>CICLISTA-SD</td>\n",
       "      <td>NO_GRAVE</td>\n",
       "      <td>True</td>\n",
       "      <td>CICLISTA</td>\n",
       "      <td>Palermo</td>\n",
       "    </tr>\n",
       "    <tr>\n",
       "      <th>LC-2019-0000063</th>\n",
       "      <td>1</td>\n",
       "      <td>2019-01-01 00:00:00</td>\n",
       "      <td>02:00:00</td>\n",
       "      <td>Barros Pazos, Jose y Larraya 0</td>\n",
       "      <td>8</td>\n",
       "      <td>NaN</td>\n",
       "      <td>NaN</td>\n",
       "      <td>0</td>\n",
       "      <td></td>\n",
       "      <td>-58.468335</td>\n",
       "      <td>-34.677556</td>\n",
       "      <td>NaN</td>\n",
       "      <td>NaN</td>\n",
       "      <td>SD-SD</td>\n",
       "      <td>NO_GRAVE</td>\n",
       "      <td>True</td>\n",
       "      <td>MOTO</td>\n",
       "      <td>Villa Lugano</td>\n",
       "    </tr>\n",
       "    <tr>\n",
       "      <th>LC-2019-0000079</th>\n",
       "      <td>1</td>\n",
       "      <td>2019-01-01 00:00:00</td>\n",
       "      <td>02:30:00</td>\n",
       "      <td>Torres Y Tenorio, Pres. y Riestra Av. 0</td>\n",
       "      <td>7</td>\n",
       "      <td>NaN</td>\n",
       "      <td>NaN</td>\n",
       "      <td>0</td>\n",
       "      <td></td>\n",
       "      <td>-58.437425</td>\n",
       "      <td>-34.647349</td>\n",
       "      <td>PEATON</td>\n",
       "      <td>NaN</td>\n",
       "      <td>PEATON-SD</td>\n",
       "      <td>NO_GRAVE</td>\n",
       "      <td>True</td>\n",
       "      <td>MOTO</td>\n",
       "      <td>Parque Chacabuco interior Pasaje Roldan</td>\n",
       "    </tr>\n",
       "    <tr>\n",
       "      <th>LC-2019-0000082</th>\n",
       "      <td>4</td>\n",
       "      <td>2019-01-01 00:00:00</td>\n",
       "      <td>04:30:00</td>\n",
       "      <td>Corrientes Av. y Uriburu Jose E., Pres. 0</td>\n",
       "      <td>3</td>\n",
       "      <td>NaN</td>\n",
       "      <td>NaN</td>\n",
       "      <td>0</td>\n",
       "      <td></td>\n",
       "      <td>-58.398225</td>\n",
       "      <td>-34.604579</td>\n",
       "      <td>AUTO</td>\n",
       "      <td>NaN</td>\n",
       "      <td>AUTO-SD</td>\n",
       "      <td>NO_GRAVE</td>\n",
       "      <td>True</td>\n",
       "      <td>TRANSPORTE_PUBLICO</td>\n",
       "      <td>Balvanera</td>\n",
       "    </tr>\n",
       "    <tr>\n",
       "      <th>LC-2019-0000136</th>\n",
       "      <td>2</td>\n",
       "      <td>2019-01-01 00:00:00</td>\n",
       "      <td>08:05:00</td>\n",
       "      <td>Cordoba Av. y Humboldt 0</td>\n",
       "      <td>15</td>\n",
       "      <td>NaN</td>\n",
       "      <td>NaN</td>\n",
       "      <td>0</td>\n",
       "      <td></td>\n",
       "      <td>-58.439392</td>\n",
       "      <td>-34.588108</td>\n",
       "      <td>MOTO</td>\n",
       "      <td>NaN</td>\n",
       "      <td>MOTO-SD</td>\n",
       "      <td>NO_GRAVE</td>\n",
       "      <td>True</td>\n",
       "      <td>MOTO</td>\n",
       "      <td>Chacarita</td>\n",
       "    </tr>\n",
       "    <tr>\n",
       "      <th>...</th>\n",
       "      <td>...</td>\n",
       "      <td>...</td>\n",
       "      <td>...</td>\n",
       "      <td>...</td>\n",
       "      <td>...</td>\n",
       "      <td>...</td>\n",
       "      <td>...</td>\n",
       "      <td>...</td>\n",
       "      <td>...</td>\n",
       "      <td>...</td>\n",
       "      <td>...</td>\n",
       "      <td>...</td>\n",
       "      <td>...</td>\n",
       "      <td>...</td>\n",
       "      <td>...</td>\n",
       "      <td>...</td>\n",
       "      <td>...</td>\n",
       "      <td>...</td>\n",
       "    </tr>\n",
       "    <tr>\n",
       "      <th>LC-2021-0628675</th>\n",
       "      <td>4</td>\n",
       "      <td>2021-12-17 00:00:00</td>\n",
       "      <td>13:00:00</td>\n",
       "      <td>SD</td>\n",
       "      <td>1</td>\n",
       "      <td>NaN</td>\n",
       "      <td>NaN</td>\n",
       "      <td>0</td>\n",
       "      <td></td>\n",
       "      <td>-58.38145</td>\n",
       "      <td>-34.606663</td>\n",
       "      <td>NaN</td>\n",
       "      <td>NaN</td>\n",
       "      <td>SD-SD</td>\n",
       "      <td>NO_GRAVE</td>\n",
       "      <td>True</td>\n",
       "      <td>MOTO</td>\n",
       "      <td>NaN</td>\n",
       "    </tr>\n",
       "    <tr>\n",
       "      <th>LC-2021-0629150</th>\n",
       "      <td>1</td>\n",
       "      <td>2021-12-17 00:00:00</td>\n",
       "      <td>16:00:00</td>\n",
       "      <td>SD</td>\n",
       "      <td>1</td>\n",
       "      <td>NaN</td>\n",
       "      <td>NaN</td>\n",
       "      <td>0</td>\n",
       "      <td></td>\n",
       "      <td>-58.381749</td>\n",
       "      <td>-34.601891</td>\n",
       "      <td>TRANSPORTE PUBLICO</td>\n",
       "      <td>TRANSPORTE PUBLICO</td>\n",
       "      <td>TRANSPORTE PUBLICO-TRANSPORTE PUBLICO</td>\n",
       "      <td>NO_GRAVE</td>\n",
       "      <td>True</td>\n",
       "      <td>TRANSPORTE_PUBLICO</td>\n",
       "      <td>NaN</td>\n",
       "    </tr>\n",
       "    <tr>\n",
       "      <th>LC-2021-0643354</th>\n",
       "      <td>1</td>\n",
       "      <td>2021-12-24 00:00:00</td>\n",
       "      <td>09:00:00</td>\n",
       "      <td>Alvear, Marcelo T. De y Uriburu Jose E., Pres.</td>\n",
       "      <td>2</td>\n",
       "      <td>NaN</td>\n",
       "      <td>NaN</td>\n",
       "      <td>0</td>\n",
       "      <td></td>\n",
       "      <td>-58.398875</td>\n",
       "      <td>-34.597048</td>\n",
       "      <td>NaN</td>\n",
       "      <td>MOTO</td>\n",
       "      <td>SD-MOTO</td>\n",
       "      <td>NO_GRAVE</td>\n",
       "      <td>True</td>\n",
       "      <td>MOTO</td>\n",
       "      <td>NaN</td>\n",
       "    </tr>\n",
       "    <tr>\n",
       "      <th>LC-2021-0652907</th>\n",
       "      <td>1</td>\n",
       "      <td>2021-12-31 00:00:00</td>\n",
       "      <td>20:00:00</td>\n",
       "      <td>Barrio Padre Carlos Mugica (Villa 31 bis)</td>\n",
       "      <td>1</td>\n",
       "      <td>NaN</td>\n",
       "      <td>NaN</td>\n",
       "      <td>0</td>\n",
       "      <td></td>\n",
       "      <td>-58.382894</td>\n",
       "      <td>-34.583083</td>\n",
       "      <td>NaN</td>\n",
       "      <td>NaN</td>\n",
       "      <td>SD-SD</td>\n",
       "      <td>NO_GRAVE</td>\n",
       "      <td>True</td>\n",
       "      <td>MOTO</td>\n",
       "      <td>NaN</td>\n",
       "    </tr>\n",
       "    <tr>\n",
       "      <th>LC-2020-0244615</th>\n",
       "      <td>1</td>\n",
       "      <td>5/17/2020</td>\n",
       "      <td>21:00:00</td>\n",
       "      <td>SD</td>\n",
       "      <td>NaN</td>\n",
       "      <td>NaN</td>\n",
       "      <td>NaN</td>\n",
       "      <td>0</td>\n",
       "      <td></td>\n",
       "      <td>-5829963273</td>\n",
       "      <td>-3472890716</td>\n",
       "      <td>MOTO</td>\n",
       "      <td>AUTO</td>\n",
       "      <td>MOTO-AUTO</td>\n",
       "      <td>NO_GRAVE</td>\n",
       "      <td>True</td>\n",
       "      <td>MOTO</td>\n",
       "      <td>NaN</td>\n",
       "    </tr>\n",
       "  </tbody>\n",
       "</table>\n",
       "<p>9553 rows × 18 columns</p>\n",
       "</div>"
      ],
      "text/plain": [
       "                 n_victimas                fecha      hora  \\\n",
       "id                                                           \n",
       "LC-2019-0000179           1  2019-01-01 00:00:00  09:00:00   \n",
       "LC-2019-0000063           1  2019-01-01 00:00:00  02:00:00   \n",
       "LC-2019-0000079           1  2019-01-01 00:00:00  02:30:00   \n",
       "LC-2019-0000082           4  2019-01-01 00:00:00  04:30:00   \n",
       "LC-2019-0000136           2  2019-01-01 00:00:00  08:05:00   \n",
       "...                     ...                  ...       ...   \n",
       "LC-2021-0628675           4  2021-12-17 00:00:00  13:00:00   \n",
       "LC-2021-0629150           1  2021-12-17 00:00:00  16:00:00   \n",
       "LC-2021-0643354           1  2021-12-24 00:00:00  09:00:00   \n",
       "LC-2021-0652907           1  2021-12-31 00:00:00  20:00:00   \n",
       "LC-2020-0244615           1            5/17/2020  21:00:00   \n",
       "\n",
       "                                          direccion_normalizada comuna  \\\n",
       "id                                                                       \n",
       "LC-2019-0000179              Obligado Rafael, Av.Costanera 3300     14   \n",
       "LC-2019-0000063                  Barros Pazos, Jose y Larraya 0      8   \n",
       "LC-2019-0000079         Torres Y Tenorio, Pres. y Riestra Av. 0      7   \n",
       "LC-2019-0000082       Corrientes Av. y Uriburu Jose E., Pres. 0      3   \n",
       "LC-2019-0000136                        Cordoba Av. y Humboldt 0     15   \n",
       "...                                                         ...    ...   \n",
       "LC-2021-0628675                                              SD      1   \n",
       "LC-2021-0629150                                              SD      1   \n",
       "LC-2021-0643354  Alvear, Marcelo T. De y Uriburu Jose E., Pres.      2   \n",
       "LC-2021-0652907       Barrio Padre Carlos Mugica (Villa 31 bis)      1   \n",
       "LC-2020-0244615                                              SD    NaN   \n",
       "\n",
       "                tipo_calle calle altura cruce     longitud      latitud  \\\n",
       "id                                                                        \n",
       "LC-2019-0000179        NaN   NaN      0         -58.408911   -34.559658   \n",
       "LC-2019-0000063        NaN   NaN      0         -58.468335   -34.677556   \n",
       "LC-2019-0000079        NaN   NaN      0         -58.437425   -34.647349   \n",
       "LC-2019-0000082        NaN   NaN      0         -58.398225   -34.604579   \n",
       "LC-2019-0000136        NaN   NaN      0         -58.439392   -34.588108   \n",
       "...                    ...   ...    ...   ...          ...          ...   \n",
       "LC-2021-0628675        NaN   NaN      0          -58.38145   -34.606663   \n",
       "LC-2021-0629150        NaN   NaN      0         -58.381749   -34.601891   \n",
       "LC-2021-0643354        NaN   NaN      0         -58.398875   -34.597048   \n",
       "LC-2021-0652907        NaN   NaN      0         -58.382894   -34.583083   \n",
       "LC-2020-0244615        NaN   NaN      0        -5829963273  -3472890716   \n",
       "\n",
       "                            victima             acusado  \\\n",
       "id                                                        \n",
       "LC-2019-0000179            CICLISTA                 NaN   \n",
       "LC-2019-0000063                 NaN                 NaN   \n",
       "LC-2019-0000079              PEATON                 NaN   \n",
       "LC-2019-0000082                AUTO                 NaN   \n",
       "LC-2019-0000136                MOTO                 NaN   \n",
       "...                             ...                 ...   \n",
       "LC-2021-0628675                 NaN                 NaN   \n",
       "LC-2021-0629150  TRANSPORTE PUBLICO  TRANSPORTE PUBLICO   \n",
       "LC-2021-0643354                 NaN                MOTO   \n",
       "LC-2021-0652907                 NaN                 NaN   \n",
       "LC-2020-0244615                MOTO                AUTO   \n",
       "\n",
       "                                         participantes  gravedad  data_geo  \\\n",
       "id                                                                           \n",
       "LC-2019-0000179                            CICLISTA-SD  NO_GRAVE      True   \n",
       "LC-2019-0000063                                  SD-SD  NO_GRAVE      True   \n",
       "LC-2019-0000079                              PEATON-SD  NO_GRAVE      True   \n",
       "LC-2019-0000082                                AUTO-SD  NO_GRAVE      True   \n",
       "LC-2019-0000136                                MOTO-SD  NO_GRAVE      True   \n",
       "...                                                ...       ...       ...   \n",
       "LC-2021-0628675                                  SD-SD  NO_GRAVE      True   \n",
       "LC-2021-0629150  TRANSPORTE PUBLICO-TRANSPORTE PUBLICO  NO_GRAVE      True   \n",
       "LC-2021-0643354                                SD-MOTO  NO_GRAVE      True   \n",
       "LC-2021-0652907                                  SD-SD  NO_GRAVE      True   \n",
       "LC-2020-0244615                              MOTO-AUTO  NO_GRAVE      True   \n",
       "\n",
       "                        involucrado                                   barrio  \n",
       "id                                                                            \n",
       "LC-2019-0000179            CICLISTA                                Palermo    \n",
       "LC-2019-0000063                MOTO                           Villa Lugano    \n",
       "LC-2019-0000079                MOTO  Parque Chacabuco interior Pasaje Roldan  \n",
       "LC-2019-0000082  TRANSPORTE_PUBLICO                              Balvanera    \n",
       "LC-2019-0000136                MOTO                              Chacarita    \n",
       "...                             ...                                      ...  \n",
       "LC-2021-0628675                MOTO                                      NaN  \n",
       "LC-2021-0629150  TRANSPORTE_PUBLICO                                      NaN  \n",
       "LC-2021-0643354                MOTO                                      NaN  \n",
       "LC-2021-0652907                MOTO                                      NaN  \n",
       "LC-2020-0244615                MOTO                                      NaN  \n",
       "\n",
       "[9553 rows x 18 columns]"
      ]
     },
     "execution_count": 77,
     "metadata": {},
     "output_type": "execute_result"
    }
   ],
   "source": [
    "data_hl.query(\"data_geo and calle.isna() and tipo_calle.isna()\")"
   ]
  },
  {
   "cell_type": "code",
   "execution_count": 78,
   "metadata": {},
   "outputs": [],
   "source": [
    "data_hl[data_hl['direccion_normalizada'].isna()].loc[:, 'direccion_normalizada'] = 'SD'"
   ]
  },
  {
   "cell_type": "code",
   "execution_count": 79,
   "metadata": {},
   "outputs": [],
   "source": [
    "data_hl['direccion_normalizada'].fillna(\"SD\", inplace=True)"
   ]
  },
  {
   "cell_type": "code",
   "execution_count": 80,
   "metadata": {},
   "outputs": [],
   "source": [
    "mask = data_hl['direccion_normalizada'].str.startswith('Rafael Obligado')\n",
    "filtered_data = data_hl[mask]"
   ]
  },
  {
   "cell_type": "code",
   "execution_count": 81,
   "metadata": {},
   "outputs": [
    {
     "data": {
      "text/plain": [
       "data_geo\n",
       "True     22314\n",
       "False     1449\n",
       "Name: count, dtype: int64"
      ]
     },
     "execution_count": 81,
     "metadata": {},
     "output_type": "execute_result"
    }
   ],
   "source": [
    "data_hl['data_geo'].value_counts()"
   ]
  },
  {
   "cell_type": "code",
   "execution_count": 82,
   "metadata": {},
   "outputs": [
    {
     "data": {
      "text/html": [
       "<div>\n",
       "<style scoped>\n",
       "    .dataframe tbody tr th:only-of-type {\n",
       "        vertical-align: middle;\n",
       "    }\n",
       "\n",
       "    .dataframe tbody tr th {\n",
       "        vertical-align: top;\n",
       "    }\n",
       "\n",
       "    .dataframe thead th {\n",
       "        text-align: right;\n",
       "    }\n",
       "</style>\n",
       "<table border=\"1\" class=\"dataframe\">\n",
       "  <thead>\n",
       "    <tr style=\"text-align: right;\">\n",
       "      <th></th>\n",
       "      <th>n_victimas</th>\n",
       "      <th>fecha</th>\n",
       "      <th>hora</th>\n",
       "      <th>direccion_normalizada</th>\n",
       "      <th>comuna</th>\n",
       "      <th>tipo_calle</th>\n",
       "      <th>calle</th>\n",
       "      <th>altura</th>\n",
       "      <th>cruce</th>\n",
       "      <th>longitud</th>\n",
       "      <th>latitud</th>\n",
       "      <th>victima</th>\n",
       "      <th>acusado</th>\n",
       "      <th>participantes</th>\n",
       "      <th>gravedad</th>\n",
       "      <th>data_geo</th>\n",
       "      <th>involucrado</th>\n",
       "      <th>barrio</th>\n",
       "    </tr>\n",
       "    <tr>\n",
       "      <th>id</th>\n",
       "      <th></th>\n",
       "      <th></th>\n",
       "      <th></th>\n",
       "      <th></th>\n",
       "      <th></th>\n",
       "      <th></th>\n",
       "      <th></th>\n",
       "      <th></th>\n",
       "      <th></th>\n",
       "      <th></th>\n",
       "      <th></th>\n",
       "      <th></th>\n",
       "      <th></th>\n",
       "      <th></th>\n",
       "      <th></th>\n",
       "      <th></th>\n",
       "      <th></th>\n",
       "      <th></th>\n",
       "    </tr>\n",
       "  </thead>\n",
       "  <tbody>\n",
       "  </tbody>\n",
       "</table>\n",
       "</div>"
      ],
      "text/plain": [
       "Empty DataFrame\n",
       "Columns: [n_victimas, fecha, hora, direccion_normalizada, comuna, tipo_calle, calle, altura, cruce, longitud, latitud, victima, acusado, participantes, gravedad, data_geo, involucrado, barrio]\n",
       "Index: []"
      ]
     },
     "execution_count": 82,
     "metadata": {},
     "output_type": "execute_result"
    }
   ],
   "source": [
    "# data_['pos x'].fillna(data_['pos x'].mean(), inplace=True)\n",
    "# data_['pos y'].fillna(data_['pos y'].mean(), inplace=True)\n",
    "# data_hm[data_hm['pos x'].isna()]\n",
    "# data_hm.query(\"PARTICIPANTES == 'SD-SD'\")\n",
    "data_hl.query(\"comuna == 0\")\n",
    "# data_hm.COMUNA.isnull().sum()"
   ]
  },
  {
   "cell_type": "code",
   "execution_count": 83,
   "metadata": {},
   "outputs": [
    {
     "data": {
      "text/plain": [
       "n_victimas                   0\n",
       "fecha                        0\n",
       "hora                         4\n",
       "direccion_normalizada        0\n",
       "comuna                     999\n",
       "tipo_calle               10994\n",
       "calle                    10896\n",
       "altura                       0\n",
       "cruce                        0\n",
       "longitud                  1449\n",
       "latitud                   1449\n",
       "victima                  10721\n",
       "acusado                  15276\n",
       "participantes                0\n",
       "gravedad                     0\n",
       "data_geo                     0\n",
       "involucrado                  0\n",
       "barrio                   18330\n",
       "dtype: int64"
      ]
     },
     "execution_count": 83,
     "metadata": {},
     "output_type": "execute_result"
    }
   ],
   "source": [
    "contar_nulos(data_hl)"
   ]
  },
  {
   "cell_type": "markdown",
   "metadata": {},
   "source": [
    "Normalización <code>Fecha</code> y <code>Hora</code>"
   ]
  },
  {
   "cell_type": "code",
   "execution_count": 84,
   "metadata": {},
   "outputs": [],
   "source": [
    "# data_hl[\"hora\"] = data_hl[\"hora\"].str.lower().replace('sd', '00:00:00')\n",
    "# data_hl[\"hora\"] = data_hl[\"hora\"].astype(str)\n",
    "# data_hl['hora'] = data_hl['hora'].apply(lambda x: x[11:] if len(x) > 8 else x)\n",
    "# data_hl['hora'] = data_hl['hora'].astype(str)"
   ]
  },
  {
   "cell_type": "code",
   "execution_count": 85,
   "metadata": {},
   "outputs": [],
   "source": [
    "data_hl['fecha'] = pd.to_datetime(data_hl['fecha'], format='mixed')"
   ]
  },
  {
   "cell_type": "code",
   "execution_count": 86,
   "metadata": {},
   "outputs": [
    {
     "data": {
      "text/html": [
       "<div>\n",
       "<style scoped>\n",
       "    .dataframe tbody tr th:only-of-type {\n",
       "        vertical-align: middle;\n",
       "    }\n",
       "\n",
       "    .dataframe tbody tr th {\n",
       "        vertical-align: top;\n",
       "    }\n",
       "\n",
       "    .dataframe thead th {\n",
       "        text-align: right;\n",
       "    }\n",
       "</style>\n",
       "<table border=\"1\" class=\"dataframe\">\n",
       "  <thead>\n",
       "    <tr style=\"text-align: right;\">\n",
       "      <th></th>\n",
       "      <th>n_victimas</th>\n",
       "      <th>fecha</th>\n",
       "      <th>hora</th>\n",
       "      <th>direccion_normalizada</th>\n",
       "      <th>comuna</th>\n",
       "      <th>tipo_calle</th>\n",
       "      <th>calle</th>\n",
       "      <th>altura</th>\n",
       "      <th>cruce</th>\n",
       "      <th>longitud</th>\n",
       "      <th>latitud</th>\n",
       "      <th>victima</th>\n",
       "      <th>acusado</th>\n",
       "      <th>participantes</th>\n",
       "      <th>gravedad</th>\n",
       "      <th>data_geo</th>\n",
       "      <th>involucrado</th>\n",
       "      <th>barrio</th>\n",
       "    </tr>\n",
       "    <tr>\n",
       "      <th>id</th>\n",
       "      <th></th>\n",
       "      <th></th>\n",
       "      <th></th>\n",
       "      <th></th>\n",
       "      <th></th>\n",
       "      <th></th>\n",
       "      <th></th>\n",
       "      <th></th>\n",
       "      <th></th>\n",
       "      <th></th>\n",
       "      <th></th>\n",
       "      <th></th>\n",
       "      <th></th>\n",
       "      <th></th>\n",
       "      <th></th>\n",
       "      <th></th>\n",
       "      <th></th>\n",
       "      <th></th>\n",
       "    </tr>\n",
       "  </thead>\n",
       "  <tbody>\n",
       "    <tr>\n",
       "      <th>LC-2019-0000179</th>\n",
       "      <td>1</td>\n",
       "      <td>2019-01-01</td>\n",
       "      <td>09:00:00</td>\n",
       "      <td>Obligado Rafael, Av.Costanera 3300</td>\n",
       "      <td>14</td>\n",
       "      <td>NaN</td>\n",
       "      <td>NaN</td>\n",
       "      <td>0</td>\n",
       "      <td></td>\n",
       "      <td>-58.408911</td>\n",
       "      <td>-34.559658</td>\n",
       "      <td>CICLISTA</td>\n",
       "      <td>NaN</td>\n",
       "      <td>CICLISTA-SD</td>\n",
       "      <td>NO_GRAVE</td>\n",
       "      <td>True</td>\n",
       "      <td>CICLISTA</td>\n",
       "      <td>Palermo</td>\n",
       "    </tr>\n",
       "    <tr>\n",
       "      <th>LC-2019-0000053</th>\n",
       "      <td>1</td>\n",
       "      <td>2019-01-01</td>\n",
       "      <td>01:55:00</td>\n",
       "      <td>SD</td>\n",
       "      <td>8</td>\n",
       "      <td>AUTOPISTA</td>\n",
       "      <td>NaN</td>\n",
       "      <td>0</td>\n",
       "      <td></td>\n",
       "      <td>-58.44351</td>\n",
       "      <td>-34.669125</td>\n",
       "      <td>AUTO</td>\n",
       "      <td>NaN</td>\n",
       "      <td>AUTO-SD</td>\n",
       "      <td>NO_GRAVE</td>\n",
       "      <td>True</td>\n",
       "      <td>AUTO</td>\n",
       "      <td>Villa Soldati</td>\n",
       "    </tr>\n",
       "    <tr>\n",
       "      <th>LC-2019-0000063</th>\n",
       "      <td>1</td>\n",
       "      <td>2019-01-01</td>\n",
       "      <td>02:00:00</td>\n",
       "      <td>Barros Pazos, Jose y Larraya 0</td>\n",
       "      <td>8</td>\n",
       "      <td>NaN</td>\n",
       "      <td>NaN</td>\n",
       "      <td>0</td>\n",
       "      <td></td>\n",
       "      <td>-58.468335</td>\n",
       "      <td>-34.677556</td>\n",
       "      <td>NaN</td>\n",
       "      <td>NaN</td>\n",
       "      <td>SD-SD</td>\n",
       "      <td>NO_GRAVE</td>\n",
       "      <td>True</td>\n",
       "      <td>MOTO</td>\n",
       "      <td>Villa Lugano</td>\n",
       "    </tr>\n",
       "    <tr>\n",
       "      <th>LC-2019-0000079</th>\n",
       "      <td>1</td>\n",
       "      <td>2019-01-01</td>\n",
       "      <td>02:30:00</td>\n",
       "      <td>Torres Y Tenorio, Pres. y Riestra Av. 0</td>\n",
       "      <td>7</td>\n",
       "      <td>NaN</td>\n",
       "      <td>NaN</td>\n",
       "      <td>0</td>\n",
       "      <td></td>\n",
       "      <td>-58.437425</td>\n",
       "      <td>-34.647349</td>\n",
       "      <td>PEATON</td>\n",
       "      <td>NaN</td>\n",
       "      <td>PEATON-SD</td>\n",
       "      <td>NO_GRAVE</td>\n",
       "      <td>True</td>\n",
       "      <td>MOTO</td>\n",
       "      <td>Parque Chacabuco interior Pasaje Roldan</td>\n",
       "    </tr>\n",
       "    <tr>\n",
       "      <th>LC-2019-0000082</th>\n",
       "      <td>4</td>\n",
       "      <td>2019-01-01</td>\n",
       "      <td>04:30:00</td>\n",
       "      <td>Corrientes Av. y Uriburu Jose E., Pres. 0</td>\n",
       "      <td>3</td>\n",
       "      <td>NaN</td>\n",
       "      <td>NaN</td>\n",
       "      <td>0</td>\n",
       "      <td></td>\n",
       "      <td>-58.398225</td>\n",
       "      <td>-34.604579</td>\n",
       "      <td>AUTO</td>\n",
       "      <td>NaN</td>\n",
       "      <td>AUTO-SD</td>\n",
       "      <td>NO_GRAVE</td>\n",
       "      <td>True</td>\n",
       "      <td>TRANSPORTE_PUBLICO</td>\n",
       "      <td>Balvanera</td>\n",
       "    </tr>\n",
       "    <tr>\n",
       "      <th>...</th>\n",
       "      <td>...</td>\n",
       "      <td>...</td>\n",
       "      <td>...</td>\n",
       "      <td>...</td>\n",
       "      <td>...</td>\n",
       "      <td>...</td>\n",
       "      <td>...</td>\n",
       "      <td>...</td>\n",
       "      <td>...</td>\n",
       "      <td>...</td>\n",
       "      <td>...</td>\n",
       "      <td>...</td>\n",
       "      <td>...</td>\n",
       "      <td>...</td>\n",
       "      <td>...</td>\n",
       "      <td>...</td>\n",
       "      <td>...</td>\n",
       "      <td>...</td>\n",
       "    </tr>\n",
       "    <tr>\n",
       "      <th>LC-2021-0652849</th>\n",
       "      <td>1</td>\n",
       "      <td>2021-12-31</td>\n",
       "      <td>19:30:00</td>\n",
       "      <td>ALBERDI, JUAN BAUTISTA AV. y GUAMINI</td>\n",
       "      <td>9</td>\n",
       "      <td>AVENIDA</td>\n",
       "      <td>ALBERDI, JUAN BAUTISTA AV.</td>\n",
       "      <td>0</td>\n",
       "      <td>GUAMINI</td>\n",
       "      <td>-58.513477158887</td>\n",
       "      <td>-34.659713573880</td>\n",
       "      <td>NaN</td>\n",
       "      <td>NaN</td>\n",
       "      <td>SD-SD</td>\n",
       "      <td>NO_GRAVE</td>\n",
       "      <td>True</td>\n",
       "      <td>MOTO</td>\n",
       "      <td>NaN</td>\n",
       "    </tr>\n",
       "    <tr>\n",
       "      <th>LC-2021-0652865</th>\n",
       "      <td>2</td>\n",
       "      <td>2021-12-31</td>\n",
       "      <td>19:40:00</td>\n",
       "      <td>ALBERDI, JUAN BAUTISTA AV. 4436</td>\n",
       "      <td>9</td>\n",
       "      <td>AVENIDA</td>\n",
       "      <td>ALBERDI, JUAN BAUTISTA AV.</td>\n",
       "      <td>4436</td>\n",
       "      <td></td>\n",
       "      <td>-58.488326609395</td>\n",
       "      <td>-34.641753304864</td>\n",
       "      <td>NaN</td>\n",
       "      <td>NaN</td>\n",
       "      <td>SD-SD</td>\n",
       "      <td>NO_GRAVE</td>\n",
       "      <td>True</td>\n",
       "      <td>MOTO</td>\n",
       "      <td>NaN</td>\n",
       "    </tr>\n",
       "    <tr>\n",
       "      <th>LC-2021-0652907</th>\n",
       "      <td>1</td>\n",
       "      <td>2021-12-31</td>\n",
       "      <td>20:00:00</td>\n",
       "      <td>Barrio Padre Carlos Mugica (Villa 31 bis)</td>\n",
       "      <td>1</td>\n",
       "      <td>NaN</td>\n",
       "      <td>NaN</td>\n",
       "      <td>0</td>\n",
       "      <td></td>\n",
       "      <td>-58.382894</td>\n",
       "      <td>-34.583083</td>\n",
       "      <td>NaN</td>\n",
       "      <td>NaN</td>\n",
       "      <td>SD-SD</td>\n",
       "      <td>NO_GRAVE</td>\n",
       "      <td>True</td>\n",
       "      <td>MOTO</td>\n",
       "      <td>NaN</td>\n",
       "    </tr>\n",
       "    <tr>\n",
       "      <th>LC-2021-0652921</th>\n",
       "      <td>1</td>\n",
       "      <td>2021-12-31</td>\n",
       "      <td>22:00:00</td>\n",
       "      <td>LINIERS VIRREY y MORENO</td>\n",
       "      <td>5</td>\n",
       "      <td>CALLE</td>\n",
       "      <td>LINIERS VIRREY</td>\n",
       "      <td>0</td>\n",
       "      <td>MORENO</td>\n",
       "      <td>-58.414532050899</td>\n",
       "      <td>-34.614288229345</td>\n",
       "      <td>MOTO</td>\n",
       "      <td>TRANSPORTE PUBLICO</td>\n",
       "      <td>MOTO-TRANSPORTE PUBLICO</td>\n",
       "      <td>GRAVE</td>\n",
       "      <td>True</td>\n",
       "      <td>MOTO</td>\n",
       "      <td>NaN</td>\n",
       "    </tr>\n",
       "    <tr>\n",
       "      <th>LC-2020-0244615</th>\n",
       "      <td>1</td>\n",
       "      <td>2020-05-17</td>\n",
       "      <td>21:00:00</td>\n",
       "      <td>SD</td>\n",
       "      <td>NaN</td>\n",
       "      <td>NaN</td>\n",
       "      <td>NaN</td>\n",
       "      <td>0</td>\n",
       "      <td></td>\n",
       "      <td>-5829963273</td>\n",
       "      <td>-3472890716</td>\n",
       "      <td>MOTO</td>\n",
       "      <td>AUTO</td>\n",
       "      <td>MOTO-AUTO</td>\n",
       "      <td>NO_GRAVE</td>\n",
       "      <td>True</td>\n",
       "      <td>MOTO</td>\n",
       "      <td>NaN</td>\n",
       "    </tr>\n",
       "  </tbody>\n",
       "</table>\n",
       "<p>23763 rows × 18 columns</p>\n",
       "</div>"
      ],
      "text/plain": [
       "                 n_victimas      fecha      hora  \\\n",
       "id                                                 \n",
       "LC-2019-0000179           1 2019-01-01  09:00:00   \n",
       "LC-2019-0000053           1 2019-01-01  01:55:00   \n",
       "LC-2019-0000063           1 2019-01-01  02:00:00   \n",
       "LC-2019-0000079           1 2019-01-01  02:30:00   \n",
       "LC-2019-0000082           4 2019-01-01  04:30:00   \n",
       "...                     ...        ...       ...   \n",
       "LC-2021-0652849           1 2021-12-31  19:30:00   \n",
       "LC-2021-0652865           2 2021-12-31  19:40:00   \n",
       "LC-2021-0652907           1 2021-12-31  20:00:00   \n",
       "LC-2021-0652921           1 2021-12-31  22:00:00   \n",
       "LC-2020-0244615           1 2020-05-17  21:00:00   \n",
       "\n",
       "                                     direccion_normalizada comuna tipo_calle  \\\n",
       "id                                                                             \n",
       "LC-2019-0000179         Obligado Rafael, Av.Costanera 3300     14        NaN   \n",
       "LC-2019-0000053                                         SD      8  AUTOPISTA   \n",
       "LC-2019-0000063             Barros Pazos, Jose y Larraya 0      8        NaN   \n",
       "LC-2019-0000079    Torres Y Tenorio, Pres. y Riestra Av. 0      7        NaN   \n",
       "LC-2019-0000082  Corrientes Av. y Uriburu Jose E., Pres. 0      3        NaN   \n",
       "...                                                    ...    ...        ...   \n",
       "LC-2021-0652849       ALBERDI, JUAN BAUTISTA AV. y GUAMINI      9    AVENIDA   \n",
       "LC-2021-0652865            ALBERDI, JUAN BAUTISTA AV. 4436      9    AVENIDA   \n",
       "LC-2021-0652907  Barrio Padre Carlos Mugica (Villa 31 bis)      1        NaN   \n",
       "LC-2021-0652921                    LINIERS VIRREY y MORENO      5      CALLE   \n",
       "LC-2020-0244615                                         SD    NaN        NaN   \n",
       "\n",
       "                                      calle altura    cruce          longitud  \\\n",
       "id                                                                              \n",
       "LC-2019-0000179                         NaN      0                 -58.408911   \n",
       "LC-2019-0000053                         NaN      0                  -58.44351   \n",
       "LC-2019-0000063                         NaN      0                 -58.468335   \n",
       "LC-2019-0000079                         NaN      0                 -58.437425   \n",
       "LC-2019-0000082                         NaN      0                 -58.398225   \n",
       "...                                     ...    ...      ...               ...   \n",
       "LC-2021-0652849  ALBERDI, JUAN BAUTISTA AV.      0  GUAMINI  -58.513477158887   \n",
       "LC-2021-0652865  ALBERDI, JUAN BAUTISTA AV.   4436           -58.488326609395   \n",
       "LC-2021-0652907                         NaN      0                 -58.382894   \n",
       "LC-2021-0652921              LINIERS VIRREY      0   MORENO  -58.414532050899   \n",
       "LC-2020-0244615                         NaN      0                -5829963273   \n",
       "\n",
       "                          latitud   victima             acusado  \\\n",
       "id                                                                \n",
       "LC-2019-0000179        -34.559658  CICLISTA                 NaN   \n",
       "LC-2019-0000053        -34.669125      AUTO                 NaN   \n",
       "LC-2019-0000063        -34.677556       NaN                 NaN   \n",
       "LC-2019-0000079        -34.647349    PEATON                 NaN   \n",
       "LC-2019-0000082        -34.604579      AUTO                 NaN   \n",
       "...                           ...       ...                 ...   \n",
       "LC-2021-0652849  -34.659713573880       NaN                 NaN   \n",
       "LC-2021-0652865  -34.641753304864       NaN                 NaN   \n",
       "LC-2021-0652907        -34.583083       NaN                 NaN   \n",
       "LC-2021-0652921  -34.614288229345      MOTO  TRANSPORTE PUBLICO   \n",
       "LC-2020-0244615       -3472890716      MOTO                AUTO   \n",
       "\n",
       "                           participantes  gravedad  data_geo  \\\n",
       "id                                                             \n",
       "LC-2019-0000179              CICLISTA-SD  NO_GRAVE      True   \n",
       "LC-2019-0000053                  AUTO-SD  NO_GRAVE      True   \n",
       "LC-2019-0000063                    SD-SD  NO_GRAVE      True   \n",
       "LC-2019-0000079                PEATON-SD  NO_GRAVE      True   \n",
       "LC-2019-0000082                  AUTO-SD  NO_GRAVE      True   \n",
       "...                                  ...       ...       ...   \n",
       "LC-2021-0652849                    SD-SD  NO_GRAVE      True   \n",
       "LC-2021-0652865                    SD-SD  NO_GRAVE      True   \n",
       "LC-2021-0652907                    SD-SD  NO_GRAVE      True   \n",
       "LC-2021-0652921  MOTO-TRANSPORTE PUBLICO     GRAVE      True   \n",
       "LC-2020-0244615                MOTO-AUTO  NO_GRAVE      True   \n",
       "\n",
       "                        involucrado                                   barrio  \n",
       "id                                                                            \n",
       "LC-2019-0000179            CICLISTA                                Palermo    \n",
       "LC-2019-0000053                AUTO                          Villa Soldati    \n",
       "LC-2019-0000063                MOTO                           Villa Lugano    \n",
       "LC-2019-0000079                MOTO  Parque Chacabuco interior Pasaje Roldan  \n",
       "LC-2019-0000082  TRANSPORTE_PUBLICO                              Balvanera    \n",
       "...                             ...                                      ...  \n",
       "LC-2021-0652849                MOTO                                      NaN  \n",
       "LC-2021-0652865                MOTO                                      NaN  \n",
       "LC-2021-0652907                MOTO                                      NaN  \n",
       "LC-2021-0652921                MOTO                                      NaN  \n",
       "LC-2020-0244615                MOTO                                      NaN  \n",
       "\n",
       "[23763 rows x 18 columns]"
      ]
     },
     "execution_count": 86,
     "metadata": {},
     "output_type": "execute_result"
    }
   ],
   "source": [
    "data_hl.fillna({'hora': '00:00:00'}, inplace=True)\n",
    "data_hl.loc[:, 'hora']=data_hl.loc[:, 'hora'].str.lower().replace('sd')\n",
    "data_hl"
   ]
  },
  {
   "cell_type": "code",
   "execution_count": 87,
   "metadata": {},
   "outputs": [],
   "source": [
    "for i in  data_hl['hora'].index:\n",
    "    try:\n",
    "        data_hl.loc[i, 'hora'] = pd.to_datetime(data_hl.loc[i, 'hora'], format='mixed')\n",
    "    except:\n",
    "        print(data_hl.loc[i, 'hora'])\n",
    "        "
   ]
  },
  {
   "cell_type": "code",
   "execution_count": 88,
   "metadata": {},
   "outputs": [
    {
     "data": {
      "text/html": [
       "<div>\n",
       "<style scoped>\n",
       "    .dataframe tbody tr th:only-of-type {\n",
       "        vertical-align: middle;\n",
       "    }\n",
       "\n",
       "    .dataframe tbody tr th {\n",
       "        vertical-align: top;\n",
       "    }\n",
       "\n",
       "    .dataframe thead th {\n",
       "        text-align: right;\n",
       "    }\n",
       "</style>\n",
       "<table border=\"1\" class=\"dataframe\">\n",
       "  <thead>\n",
       "    <tr style=\"text-align: right;\">\n",
       "      <th></th>\n",
       "      <th>n_victimas</th>\n",
       "      <th>fecha</th>\n",
       "      <th>hora</th>\n",
       "      <th>direccion_normalizada</th>\n",
       "      <th>comuna</th>\n",
       "      <th>tipo_calle</th>\n",
       "      <th>calle</th>\n",
       "      <th>altura</th>\n",
       "      <th>cruce</th>\n",
       "      <th>longitud</th>\n",
       "      <th>latitud</th>\n",
       "      <th>victima</th>\n",
       "      <th>acusado</th>\n",
       "      <th>participantes</th>\n",
       "      <th>gravedad</th>\n",
       "      <th>data_geo</th>\n",
       "      <th>involucrado</th>\n",
       "      <th>barrio</th>\n",
       "      <th>fecha_hora</th>\n",
       "    </tr>\n",
       "    <tr>\n",
       "      <th>id</th>\n",
       "      <th></th>\n",
       "      <th></th>\n",
       "      <th></th>\n",
       "      <th></th>\n",
       "      <th></th>\n",
       "      <th></th>\n",
       "      <th></th>\n",
       "      <th></th>\n",
       "      <th></th>\n",
       "      <th></th>\n",
       "      <th></th>\n",
       "      <th></th>\n",
       "      <th></th>\n",
       "      <th></th>\n",
       "      <th></th>\n",
       "      <th></th>\n",
       "      <th></th>\n",
       "      <th></th>\n",
       "      <th></th>\n",
       "    </tr>\n",
       "  </thead>\n",
       "  <tbody>\n",
       "    <tr>\n",
       "      <th>LC-2019-0000179</th>\n",
       "      <td>1</td>\n",
       "      <td>2019-01-01</td>\n",
       "      <td>2024-04-17 09:00:00</td>\n",
       "      <td>Obligado Rafael, Av.Costanera 3300</td>\n",
       "      <td>14</td>\n",
       "      <td>NaN</td>\n",
       "      <td>NaN</td>\n",
       "      <td>0</td>\n",
       "      <td></td>\n",
       "      <td>-58.408911</td>\n",
       "      <td>-34.559658</td>\n",
       "      <td>CICLISTA</td>\n",
       "      <td>NaN</td>\n",
       "      <td>CICLISTA-SD</td>\n",
       "      <td>NO_GRAVE</td>\n",
       "      <td>True</td>\n",
       "      <td>CICLISTA</td>\n",
       "      <td>Palermo</td>\n",
       "      <td>2019-01-01 09:00:00</td>\n",
       "    </tr>\n",
       "    <tr>\n",
       "      <th>LC-2019-0000053</th>\n",
       "      <td>1</td>\n",
       "      <td>2019-01-01</td>\n",
       "      <td>2024-04-17 01:55:00</td>\n",
       "      <td>SD</td>\n",
       "      <td>8</td>\n",
       "      <td>AUTOPISTA</td>\n",
       "      <td>NaN</td>\n",
       "      <td>0</td>\n",
       "      <td></td>\n",
       "      <td>-58.44351</td>\n",
       "      <td>-34.669125</td>\n",
       "      <td>AUTO</td>\n",
       "      <td>NaN</td>\n",
       "      <td>AUTO-SD</td>\n",
       "      <td>NO_GRAVE</td>\n",
       "      <td>True</td>\n",
       "      <td>AUTO</td>\n",
       "      <td>Villa Soldati</td>\n",
       "      <td>2019-01-01 01:55:00</td>\n",
       "    </tr>\n",
       "    <tr>\n",
       "      <th>LC-2019-0000063</th>\n",
       "      <td>1</td>\n",
       "      <td>2019-01-01</td>\n",
       "      <td>2024-04-17 02:00:00</td>\n",
       "      <td>Barros Pazos, Jose y Larraya 0</td>\n",
       "      <td>8</td>\n",
       "      <td>NaN</td>\n",
       "      <td>NaN</td>\n",
       "      <td>0</td>\n",
       "      <td></td>\n",
       "      <td>-58.468335</td>\n",
       "      <td>-34.677556</td>\n",
       "      <td>NaN</td>\n",
       "      <td>NaN</td>\n",
       "      <td>SD-SD</td>\n",
       "      <td>NO_GRAVE</td>\n",
       "      <td>True</td>\n",
       "      <td>MOTO</td>\n",
       "      <td>Villa Lugano</td>\n",
       "      <td>2019-01-01 02:00:00</td>\n",
       "    </tr>\n",
       "    <tr>\n",
       "      <th>LC-2019-0000079</th>\n",
       "      <td>1</td>\n",
       "      <td>2019-01-01</td>\n",
       "      <td>2024-04-17 02:30:00</td>\n",
       "      <td>Torres Y Tenorio, Pres. y Riestra Av. 0</td>\n",
       "      <td>7</td>\n",
       "      <td>NaN</td>\n",
       "      <td>NaN</td>\n",
       "      <td>0</td>\n",
       "      <td></td>\n",
       "      <td>-58.437425</td>\n",
       "      <td>-34.647349</td>\n",
       "      <td>PEATON</td>\n",
       "      <td>NaN</td>\n",
       "      <td>PEATON-SD</td>\n",
       "      <td>NO_GRAVE</td>\n",
       "      <td>True</td>\n",
       "      <td>MOTO</td>\n",
       "      <td>Parque Chacabuco interior Pasaje Roldan</td>\n",
       "      <td>2019-01-01 02:30:00</td>\n",
       "    </tr>\n",
       "    <tr>\n",
       "      <th>LC-2019-0000082</th>\n",
       "      <td>4</td>\n",
       "      <td>2019-01-01</td>\n",
       "      <td>2024-04-17 04:30:00</td>\n",
       "      <td>Corrientes Av. y Uriburu Jose E., Pres. 0</td>\n",
       "      <td>3</td>\n",
       "      <td>NaN</td>\n",
       "      <td>NaN</td>\n",
       "      <td>0</td>\n",
       "      <td></td>\n",
       "      <td>-58.398225</td>\n",
       "      <td>-34.604579</td>\n",
       "      <td>AUTO</td>\n",
       "      <td>NaN</td>\n",
       "      <td>AUTO-SD</td>\n",
       "      <td>NO_GRAVE</td>\n",
       "      <td>True</td>\n",
       "      <td>TRANSPORTE_PUBLICO</td>\n",
       "      <td>Balvanera</td>\n",
       "      <td>2019-01-01 04:30:00</td>\n",
       "    </tr>\n",
       "    <tr>\n",
       "      <th>...</th>\n",
       "      <td>...</td>\n",
       "      <td>...</td>\n",
       "      <td>...</td>\n",
       "      <td>...</td>\n",
       "      <td>...</td>\n",
       "      <td>...</td>\n",
       "      <td>...</td>\n",
       "      <td>...</td>\n",
       "      <td>...</td>\n",
       "      <td>...</td>\n",
       "      <td>...</td>\n",
       "      <td>...</td>\n",
       "      <td>...</td>\n",
       "      <td>...</td>\n",
       "      <td>...</td>\n",
       "      <td>...</td>\n",
       "      <td>...</td>\n",
       "      <td>...</td>\n",
       "      <td>...</td>\n",
       "    </tr>\n",
       "    <tr>\n",
       "      <th>LC-2021-0652849</th>\n",
       "      <td>1</td>\n",
       "      <td>2021-12-31</td>\n",
       "      <td>2024-04-17 19:30:00</td>\n",
       "      <td>ALBERDI, JUAN BAUTISTA AV. y GUAMINI</td>\n",
       "      <td>9</td>\n",
       "      <td>AVENIDA</td>\n",
       "      <td>ALBERDI, JUAN BAUTISTA AV.</td>\n",
       "      <td>0</td>\n",
       "      <td>GUAMINI</td>\n",
       "      <td>-58.513477158887</td>\n",
       "      <td>-34.659713573880</td>\n",
       "      <td>NaN</td>\n",
       "      <td>NaN</td>\n",
       "      <td>SD-SD</td>\n",
       "      <td>NO_GRAVE</td>\n",
       "      <td>True</td>\n",
       "      <td>MOTO</td>\n",
       "      <td>NaN</td>\n",
       "      <td>2021-12-31 19:30:00</td>\n",
       "    </tr>\n",
       "    <tr>\n",
       "      <th>LC-2021-0652865</th>\n",
       "      <td>2</td>\n",
       "      <td>2021-12-31</td>\n",
       "      <td>2024-04-17 19:40:00</td>\n",
       "      <td>ALBERDI, JUAN BAUTISTA AV. 4436</td>\n",
       "      <td>9</td>\n",
       "      <td>AVENIDA</td>\n",
       "      <td>ALBERDI, JUAN BAUTISTA AV.</td>\n",
       "      <td>4436</td>\n",
       "      <td></td>\n",
       "      <td>-58.488326609395</td>\n",
       "      <td>-34.641753304864</td>\n",
       "      <td>NaN</td>\n",
       "      <td>NaN</td>\n",
       "      <td>SD-SD</td>\n",
       "      <td>NO_GRAVE</td>\n",
       "      <td>True</td>\n",
       "      <td>MOTO</td>\n",
       "      <td>NaN</td>\n",
       "      <td>2021-12-31 19:40:00</td>\n",
       "    </tr>\n",
       "    <tr>\n",
       "      <th>LC-2021-0652907</th>\n",
       "      <td>1</td>\n",
       "      <td>2021-12-31</td>\n",
       "      <td>2024-04-17 20:00:00</td>\n",
       "      <td>Barrio Padre Carlos Mugica (Villa 31 bis)</td>\n",
       "      <td>1</td>\n",
       "      <td>NaN</td>\n",
       "      <td>NaN</td>\n",
       "      <td>0</td>\n",
       "      <td></td>\n",
       "      <td>-58.382894</td>\n",
       "      <td>-34.583083</td>\n",
       "      <td>NaN</td>\n",
       "      <td>NaN</td>\n",
       "      <td>SD-SD</td>\n",
       "      <td>NO_GRAVE</td>\n",
       "      <td>True</td>\n",
       "      <td>MOTO</td>\n",
       "      <td>NaN</td>\n",
       "      <td>2021-12-31 20:00:00</td>\n",
       "    </tr>\n",
       "    <tr>\n",
       "      <th>LC-2021-0652921</th>\n",
       "      <td>1</td>\n",
       "      <td>2021-12-31</td>\n",
       "      <td>2024-04-17 22:00:00</td>\n",
       "      <td>LINIERS VIRREY y MORENO</td>\n",
       "      <td>5</td>\n",
       "      <td>CALLE</td>\n",
       "      <td>LINIERS VIRREY</td>\n",
       "      <td>0</td>\n",
       "      <td>MORENO</td>\n",
       "      <td>-58.414532050899</td>\n",
       "      <td>-34.614288229345</td>\n",
       "      <td>MOTO</td>\n",
       "      <td>TRANSPORTE PUBLICO</td>\n",
       "      <td>MOTO-TRANSPORTE PUBLICO</td>\n",
       "      <td>GRAVE</td>\n",
       "      <td>True</td>\n",
       "      <td>MOTO</td>\n",
       "      <td>NaN</td>\n",
       "      <td>2021-12-31 22:00:00</td>\n",
       "    </tr>\n",
       "    <tr>\n",
       "      <th>LC-2020-0244615</th>\n",
       "      <td>1</td>\n",
       "      <td>2020-05-17</td>\n",
       "      <td>2024-04-17 21:00:00</td>\n",
       "      <td>SD</td>\n",
       "      <td>NaN</td>\n",
       "      <td>NaN</td>\n",
       "      <td>NaN</td>\n",
       "      <td>0</td>\n",
       "      <td></td>\n",
       "      <td>-5829963273</td>\n",
       "      <td>-3472890716</td>\n",
       "      <td>MOTO</td>\n",
       "      <td>AUTO</td>\n",
       "      <td>MOTO-AUTO</td>\n",
       "      <td>NO_GRAVE</td>\n",
       "      <td>True</td>\n",
       "      <td>MOTO</td>\n",
       "      <td>NaN</td>\n",
       "      <td>2020-05-17 21:00:00</td>\n",
       "    </tr>\n",
       "  </tbody>\n",
       "</table>\n",
       "<p>23763 rows × 19 columns</p>\n",
       "</div>"
      ],
      "text/plain": [
       "                 n_victimas      fecha                 hora  \\\n",
       "id                                                            \n",
       "LC-2019-0000179           1 2019-01-01  2024-04-17 09:00:00   \n",
       "LC-2019-0000053           1 2019-01-01  2024-04-17 01:55:00   \n",
       "LC-2019-0000063           1 2019-01-01  2024-04-17 02:00:00   \n",
       "LC-2019-0000079           1 2019-01-01  2024-04-17 02:30:00   \n",
       "LC-2019-0000082           4 2019-01-01  2024-04-17 04:30:00   \n",
       "...                     ...        ...                  ...   \n",
       "LC-2021-0652849           1 2021-12-31  2024-04-17 19:30:00   \n",
       "LC-2021-0652865           2 2021-12-31  2024-04-17 19:40:00   \n",
       "LC-2021-0652907           1 2021-12-31  2024-04-17 20:00:00   \n",
       "LC-2021-0652921           1 2021-12-31  2024-04-17 22:00:00   \n",
       "LC-2020-0244615           1 2020-05-17  2024-04-17 21:00:00   \n",
       "\n",
       "                                     direccion_normalizada comuna tipo_calle  \\\n",
       "id                                                                             \n",
       "LC-2019-0000179         Obligado Rafael, Av.Costanera 3300     14        NaN   \n",
       "LC-2019-0000053                                         SD      8  AUTOPISTA   \n",
       "LC-2019-0000063             Barros Pazos, Jose y Larraya 0      8        NaN   \n",
       "LC-2019-0000079    Torres Y Tenorio, Pres. y Riestra Av. 0      7        NaN   \n",
       "LC-2019-0000082  Corrientes Av. y Uriburu Jose E., Pres. 0      3        NaN   \n",
       "...                                                    ...    ...        ...   \n",
       "LC-2021-0652849       ALBERDI, JUAN BAUTISTA AV. y GUAMINI      9    AVENIDA   \n",
       "LC-2021-0652865            ALBERDI, JUAN BAUTISTA AV. 4436      9    AVENIDA   \n",
       "LC-2021-0652907  Barrio Padre Carlos Mugica (Villa 31 bis)      1        NaN   \n",
       "LC-2021-0652921                    LINIERS VIRREY y MORENO      5      CALLE   \n",
       "LC-2020-0244615                                         SD    NaN        NaN   \n",
       "\n",
       "                                      calle altura    cruce          longitud  \\\n",
       "id                                                                              \n",
       "LC-2019-0000179                         NaN      0                 -58.408911   \n",
       "LC-2019-0000053                         NaN      0                  -58.44351   \n",
       "LC-2019-0000063                         NaN      0                 -58.468335   \n",
       "LC-2019-0000079                         NaN      0                 -58.437425   \n",
       "LC-2019-0000082                         NaN      0                 -58.398225   \n",
       "...                                     ...    ...      ...               ...   \n",
       "LC-2021-0652849  ALBERDI, JUAN BAUTISTA AV.      0  GUAMINI  -58.513477158887   \n",
       "LC-2021-0652865  ALBERDI, JUAN BAUTISTA AV.   4436           -58.488326609395   \n",
       "LC-2021-0652907                         NaN      0                 -58.382894   \n",
       "LC-2021-0652921              LINIERS VIRREY      0   MORENO  -58.414532050899   \n",
       "LC-2020-0244615                         NaN      0                -5829963273   \n",
       "\n",
       "                          latitud   victima             acusado  \\\n",
       "id                                                                \n",
       "LC-2019-0000179        -34.559658  CICLISTA                 NaN   \n",
       "LC-2019-0000053        -34.669125      AUTO                 NaN   \n",
       "LC-2019-0000063        -34.677556       NaN                 NaN   \n",
       "LC-2019-0000079        -34.647349    PEATON                 NaN   \n",
       "LC-2019-0000082        -34.604579      AUTO                 NaN   \n",
       "...                           ...       ...                 ...   \n",
       "LC-2021-0652849  -34.659713573880       NaN                 NaN   \n",
       "LC-2021-0652865  -34.641753304864       NaN                 NaN   \n",
       "LC-2021-0652907        -34.583083       NaN                 NaN   \n",
       "LC-2021-0652921  -34.614288229345      MOTO  TRANSPORTE PUBLICO   \n",
       "LC-2020-0244615       -3472890716      MOTO                AUTO   \n",
       "\n",
       "                           participantes  gravedad  data_geo  \\\n",
       "id                                                             \n",
       "LC-2019-0000179              CICLISTA-SD  NO_GRAVE      True   \n",
       "LC-2019-0000053                  AUTO-SD  NO_GRAVE      True   \n",
       "LC-2019-0000063                    SD-SD  NO_GRAVE      True   \n",
       "LC-2019-0000079                PEATON-SD  NO_GRAVE      True   \n",
       "LC-2019-0000082                  AUTO-SD  NO_GRAVE      True   \n",
       "...                                  ...       ...       ...   \n",
       "LC-2021-0652849                    SD-SD  NO_GRAVE      True   \n",
       "LC-2021-0652865                    SD-SD  NO_GRAVE      True   \n",
       "LC-2021-0652907                    SD-SD  NO_GRAVE      True   \n",
       "LC-2021-0652921  MOTO-TRANSPORTE PUBLICO     GRAVE      True   \n",
       "LC-2020-0244615                MOTO-AUTO  NO_GRAVE      True   \n",
       "\n",
       "                        involucrado                                   barrio  \\\n",
       "id                                                                             \n",
       "LC-2019-0000179            CICLISTA                                Palermo     \n",
       "LC-2019-0000053                AUTO                          Villa Soldati     \n",
       "LC-2019-0000063                MOTO                           Villa Lugano     \n",
       "LC-2019-0000079                MOTO  Parque Chacabuco interior Pasaje Roldan   \n",
       "LC-2019-0000082  TRANSPORTE_PUBLICO                              Balvanera     \n",
       "...                             ...                                      ...   \n",
       "LC-2021-0652849                MOTO                                      NaN   \n",
       "LC-2021-0652865                MOTO                                      NaN   \n",
       "LC-2021-0652907                MOTO                                      NaN   \n",
       "LC-2021-0652921                MOTO                                      NaN   \n",
       "LC-2020-0244615                MOTO                                      NaN   \n",
       "\n",
       "                         fecha_hora  \n",
       "id                                   \n",
       "LC-2019-0000179 2019-01-01 09:00:00  \n",
       "LC-2019-0000053 2019-01-01 01:55:00  \n",
       "LC-2019-0000063 2019-01-01 02:00:00  \n",
       "LC-2019-0000079 2019-01-01 02:30:00  \n",
       "LC-2019-0000082 2019-01-01 04:30:00  \n",
       "...                             ...  \n",
       "LC-2021-0652849 2021-12-31 19:30:00  \n",
       "LC-2021-0652865 2021-12-31 19:40:00  \n",
       "LC-2021-0652907 2021-12-31 20:00:00  \n",
       "LC-2021-0652921 2021-12-31 22:00:00  \n",
       "LC-2020-0244615 2020-05-17 21:00:00  \n",
       "\n",
       "[23763 rows x 19 columns]"
      ]
     },
     "execution_count": 88,
     "metadata": {},
     "output_type": "execute_result"
    }
   ],
   "source": [
    "import re\n",
    "\n",
    "pattern = r'[:\\s;-]'\n",
    "\n",
    "data_hl['fecha_hora'] = (data_hl['fecha'].astype(str) + ' ' + data_hl['hora'].astype(str)).apply(lambda x: re.split(pattern, x))\n",
    "data_hl['fecha_hora'] = data_hl['fecha_hora'].apply(lambda x: list(map(int, x)))\n",
    "\n",
    "def to_date(t):\n",
    "    t2 = [t[0],t[1],t[2],t[6],t[7],t[8]]\n",
    "    return datetime(* t2)\n",
    "\n",
    "data_hl['fecha_hora'] = data_hl['fecha_hora'].apply(to_date)\n",
    "data_hl"
   ]
  },
  {
   "cell_type": "code",
   "execution_count": 89,
   "metadata": {},
   "outputs": [],
   "source": [
    "pd.DataFrame(data_hl['hora'].unique()).to_csv('horas_unicas.csv')"
   ]
  },
  {
   "cell_type": "code",
   "execution_count": 90,
   "metadata": {},
   "outputs": [],
   "source": [
    "data_hl.rename({'Barrio': 'barrio'}, axis=1, inplace=True)"
   ]
  },
  {
   "cell_type": "markdown",
   "metadata": {},
   "source": [
    "Una vez limpia la fecha y la hora, podemos terminar con las columnas faltantes, para luego compatibilizar los 2 datasets"
   ]
  },
  {
   "cell_type": "code",
   "execution_count": 91,
   "metadata": {},
   "outputs": [
    {
     "data": {
      "image/png": "[encoded data removed]",
      "text/plain": [
       "<Figure size 640x480 with 1 Axes>"
      ]
     },
     "metadata": {},
     "output_type": "display_data"
    }
   ],
   "source": [
    "ver_nulos_x_columna(data_hl.query('data_geo'))"
   ]
  },
  {
   "cell_type": "code",
   "execution_count": 92,
   "metadata": {},
   "outputs": [],
   "source": [
    "# En su momento cambiamos los 'SD' por nulos, para ayudar la verificacion, una vez que ya se trabajaron los nulos, podemos volver a la etiqueta ya mencionada\n",
    "data_hl.fillna({'barrio': 'SD', 'acusado': 'SD', 'victima':'SD', 'calle':'SD', 'tipo_calle':'SD', 'comuna':'SD'}, inplace=True)"
   ]
  },
  {
   "cell_type": "code",
   "execution_count": 93,
   "metadata": {},
   "outputs": [
    {
     "data": {
      "text/plain": [
       "(Index(['n_victimas', 'fecha', 'hora', 'direccion_normalizada', 'comuna',\n",
       "        'tipo_calle', 'calle', 'altura', 'cruce', 'longitud', 'latitud',\n",
       "        'victima', 'acusado', 'participantes', 'gravedad', 'data_geo',\n",
       "        'involucrado', 'barrio', 'fecha_hora'],\n",
       "       dtype='object'),\n",
       " Index(['id', 'n_victimas', 'fecha', 'hora', 'lugar_del_hecho', 'tipo_de_calle',\n",
       "        'calle', 'altura', 'cruce', 'dirección_normalizada', 'comuna', 'pos_x',\n",
       "        'pos_y', 'participantes', 'victima', 'acusado', 'data_geo',\n",
       "        'fecha_hora', 'es_cruce'],\n",
       "       dtype='object'))"
      ]
     },
     "execution_count": 93,
     "metadata": {},
     "output_type": "execute_result"
    }
   ],
   "source": [
    "data_hl.columns, data_hm.columns"
   ]
  },
  {
   "cell_type": "markdown",
   "metadata": {},
   "source": [
    "Comenzamos a compatibilizar"
   ]
  },
  {
   "cell_type": "code",
   "execution_count": 94,
   "metadata": {},
   "outputs": [],
   "source": [
    "data_hl.drop(['fecha', 'hora'], axis=1, inplace=True)"
   ]
  },
  {
   "cell_type": "code",
   "execution_count": 95,
   "metadata": {},
   "outputs": [],
   "source": [
    "data_hl['es_cruce'] = data_hl.cruce != ''"
   ]
  },
  {
   "cell_type": "code",
   "execution_count": 96,
   "metadata": {},
   "outputs": [],
   "source": [
    "data_hl['info_cruce'] = data_hl['calle'] != 'SD'\n",
    "data_hm['info_cruce'] = data_hm['calle'] != 'SD'"
   ]
  },
  {
   "cell_type": "code",
   "execution_count": 97,
   "metadata": {},
   "outputs": [],
   "source": [
    "data_hm.fillna({'cruce': 'NA'}, inplace=True)"
   ]
  },
  {
   "cell_type": "code",
   "execution_count": 98,
   "metadata": {},
   "outputs": [
    {
     "data": {
      "text/html": [
       "<div>\n",
       "<style scoped>\n",
       "    .dataframe tbody tr th:only-of-type {\n",
       "        vertical-align: middle;\n",
       "    }\n",
       "\n",
       "    .dataframe tbody tr th {\n",
       "        vertical-align: top;\n",
       "    }\n",
       "\n",
       "    .dataframe thead th {\n",
       "        text-align: right;\n",
       "    }\n",
       "</style>\n",
       "<table border=\"1\" class=\"dataframe\">\n",
       "  <thead>\n",
       "    <tr style=\"text-align: right;\">\n",
       "      <th></th>\n",
       "      <th>n_victimas</th>\n",
       "      <th>direccion_normalizada</th>\n",
       "      <th>comuna</th>\n",
       "      <th>tipo_calle</th>\n",
       "      <th>calle</th>\n",
       "      <th>altura</th>\n",
       "      <th>cruce</th>\n",
       "      <th>longitud</th>\n",
       "      <th>latitud</th>\n",
       "      <th>victima</th>\n",
       "      <th>acusado</th>\n",
       "      <th>participantes</th>\n",
       "      <th>gravedad</th>\n",
       "      <th>data_geo</th>\n",
       "      <th>involucrado</th>\n",
       "      <th>barrio</th>\n",
       "      <th>fecha_hora</th>\n",
       "      <th>es_cruce</th>\n",
       "      <th>info_cruce</th>\n",
       "    </tr>\n",
       "    <tr>\n",
       "      <th>id</th>\n",
       "      <th></th>\n",
       "      <th></th>\n",
       "      <th></th>\n",
       "      <th></th>\n",
       "      <th></th>\n",
       "      <th></th>\n",
       "      <th></th>\n",
       "      <th></th>\n",
       "      <th></th>\n",
       "      <th></th>\n",
       "      <th></th>\n",
       "      <th></th>\n",
       "      <th></th>\n",
       "      <th></th>\n",
       "      <th></th>\n",
       "      <th></th>\n",
       "      <th></th>\n",
       "      <th></th>\n",
       "      <th></th>\n",
       "    </tr>\n",
       "  </thead>\n",
       "  <tbody>\n",
       "  </tbody>\n",
       "</table>\n",
       "</div>"
      ],
      "text/plain": [
       "Empty DataFrame\n",
       "Columns: [n_victimas, direccion_normalizada, comuna, tipo_calle, calle, altura, cruce, longitud, latitud, victima, acusado, participantes, gravedad, data_geo, involucrado, barrio, fecha_hora, es_cruce, info_cruce]\n",
       "Index: []"
      ]
     },
     "execution_count": 98,
     "metadata": {},
     "output_type": "execute_result"
    }
   ],
   "source": [
    "data_hl.query('cruce.isna()')"
   ]
  },
  {
   "cell_type": "code",
   "execution_count": 99,
   "metadata": {},
   "outputs": [],
   "source": [
    "data_hl.query('info_cruce')['cruce'] = data_hl.query('info_cruce')['cruce'].replace('', 'NA')"
   ]
  },
  {
   "cell_type": "code",
   "execution_count": 100,
   "metadata": {},
   "outputs": [],
   "source": [
    "data_hm.rename({'pos_x': 'longitud', 'pos_y': 'latitud'}, axis=1, inplace=True)"
   ]
  },
  {
   "cell_type": "code",
   "execution_count": 101,
   "metadata": {},
   "outputs": [],
   "source": [
    "data_hm['gravedad'] = 'FATAL'\n",
    "data_hm['involucrado'] = 'SD'\n",
    "data_hm['barrio'] = 'SD'"
   ]
  },
  {
   "cell_type": "code",
   "execution_count": 102,
   "metadata": {},
   "outputs": [],
   "source": [
    "data_hl[(data_hl['info_cruce'])&(data_hl['cruce']=='')]['cruce'] = 'SD'"
   ]
  },
  {
   "cell_type": "code",
   "execution_count": 103,
   "metadata": {},
   "outputs": [],
   "source": [
    "data_hl[(~data_hl['info_cruce'])&(data_hl['cruce']=='')]['cruce']= 'SD'\n",
    "data_hl[data_hl[\"cruce\"] == \"\"]['cruce'] ='SD'\n",
    "data_hl[\"altura\"] = data_hl[\"altura\"].astype(int)\n",
    "data_hl[data_hl[\"altura\"] > 0]['cruce'] = 'N_A'"
   ]
  },
  {
   "cell_type": "code",
   "execution_count": 104,
   "metadata": {},
   "outputs": [],
   "source": [
    "def altura_nro(st):\n",
    "    if st == 'ESQ':\n",
    "        return False\n",
    "    if int(st) > 0:\n",
    "        return True\n",
    "    return False\n",
    "\n",
    "data_hl[data_hl['altura'].apply(altura_nro)]['cruce'] = 'N_A'"
   ]
  },
  {
   "cell_type": "code",
   "execution_count": 105,
   "metadata": {},
   "outputs": [],
   "source": [
    "data_hl['longitud'] = data_hl['longitud'].astype('float')\n",
    "data_hl['latitud'] = data_hl['latitud'].astype('float')"
   ]
  },
  {
   "cell_type": "code",
   "execution_count": 106,
   "metadata": {},
   "outputs": [
    {
     "name": "stdout",
     "output_type": "stream",
     "text": [
      "-5829963273.0\n"
     ]
    }
   ],
   "source": [
    "\n",
    "min = data_hl['longitud'].min()#/1e+08\n",
    "factor = 1e+08\n",
    "print(min)\n",
    "indice = data_hl.query(f'longitud == {min}').index \n",
    "data_hl.loc[indice, 'longitud'] /= factor\n",
    "data_hl.loc[indice, 'latitud'] /= factor\n"
   ]
  },
  {
   "cell_type": "code",
   "execution_count": 107,
   "metadata": {},
   "outputs": [],
   "source": [
    "data_hl = data_hl[['n_victimas', 'tipo_calle', 'calle', 'altura', 'cruce',\n",
    "        'direccion_normalizada', 'comuna', 'longitud', 'latitud',\n",
    "        'participantes', 'victima', 'acusado', 'data_geo', 'fecha_hora',\n",
    "        'es_cruce', 'info_cruce', 'gravedad', 'involucrado', 'barrio']]"
   ]
  },
  {
   "cell_type": "code",
   "execution_count": 108,
   "metadata": {},
   "outputs": [],
   "source": [
    "data_hm.rename({'tipo_de_calle':'tipo_calle', 'dirección_normalizada':'direccion_normalizada'}, axis=1,inplace=True)"
   ]
  },
  {
   "cell_type": "code",
   "execution_count": 109,
   "metadata": {},
   "outputs": [],
   "source": [
    "conjunto = pd.concat([data_hm, data_hl])"
   ]
  },
  {
   "cell_type": "code",
   "execution_count": 110,
   "metadata": {},
   "outputs": [],
   "source": [
    "conjunto['cruce'] = conjunto['cruce'].astype(str)"
   ]
  },
  {
   "cell_type": "code",
   "execution_count": 111,
   "metadata": {},
   "outputs": [],
   "source": [
    "conjunto[conjunto['altura'].apply(altura_nro)]['cruce'] = 'N_A'"
   ]
  },
  {
   "cell_type": "code",
   "execution_count": 112,
   "metadata": {},
   "outputs": [],
   "source": [
    "conjunto.fillna({'longitud':conjunto.longitud.mean(),'latitud':conjunto.latitud.mean()}, inplace=True)"
   ]
  },
  {
   "cell_type": "code",
   "execution_count": 113,
   "metadata": {},
   "outputs": [],
   "source": [
    "conjunto.reset_index(inplace=True)"
   ]
  },
  {
   "cell_type": "code",
   "execution_count": 114,
   "metadata": {},
   "outputs": [
    {
     "data": {
      "text/plain": [
       "24459"
      ]
     },
     "execution_count": 114,
     "metadata": {},
     "output_type": "execute_result"
    }
   ],
   "source": [
    "from sqlalchemy import create_engine\n",
    "from dotenv import load_dotenv\n",
    "import os\n",
    "\n",
    "# Load environment variables from .env file\n",
    "load_dotenv()\n",
    "\n",
    "# Get database connection details from environment variables\n",
    "db_username = os.getenv(\"DB_USERNAME\")\n",
    "db_password = os.getenv(\"DB_PASSWORD\")\n",
    "db_host = os.getenv(\"DB_HOST\")\n",
    "db_port = os.getenv(\"DB_PORT\")\n",
    "db_database = os.getenv(\"DB_DATABASE\")\n",
    "\n",
    "# Define the connection URL\n",
    "conn_url = f\"mysql+pymysql://{db_username}:{db_password}@{db_host}:{db_port}/{db_database}\"\n",
    "\n",
    "# Create a SQLAlchemy engine\n",
    "engine = create_engine(conn_url)\n",
    "table_name = \"conjunto\"\n",
    "\n",
    "# Now you can use the engine to interact with your database\n",
    "conjunto.to_sql(name=table_name, con=engine, if_exists='replace', index=True)"
   ]
  },
  {
   "cell_type": "code",
   "execution_count": 115,
   "metadata": {},
   "outputs": [],
   "source": [
    "conjunto.to_csv('data/generated/conjunto.csv', quoting=csv.QUOTE_ALL)"
   ]
  },
  {
   "cell_type": "markdown",
   "metadata": {},
   "source": [
    "Ya generados los datasets necesarios podemos proceder al EDA."
   ]
  },
  {
   "cell_type": "markdown",
   "metadata": {},
   "source": [
    "# 2. EDA"
   ]
  },
  {
   "cell_type": "code",
   "execution_count": null,
   "metadata": {},
   "outputs": [],
   "source": []
  },
  {
   "cell_type": "code",
   "execution_count": 131,
   "metadata": {},
   "outputs": [
    {
     "data": {
      "application/vnd.plotly.v1+json": {
       "config": {
        "plotlyServerURL": "https://plot.ly"
       },
       "data": [
        {
         "domain": {
          "x": [
           0,
           1
          ],
          "y": [
           0,
           1
          ]
         },
         "hovertemplate": "valor=%{label}<br>ocurrencia=%{value}<extra></extra>",
         "labels": [
          "NO_GRAVE",
          "FATAL",
          "GRAVE",
          "Otros"
         ],
         "legendgroup": "",
         "name": "",
         "showlegend": true,
         "textinfo": "percent+label",
         "textposition": "outside",
         "type": "pie",
         "values": [
          21859,
          685,
          454,
          0
         ]
        }
       ],
       "layout": {
        "legend": {
         "tracegroupgap": 0
        },
        "margin": {
         "t": 60
        },
        "template": {
         "data": {
          "bar": [
           {
            "error_x": {
             "color": "#2a3f5f"
            },
            "error_y": {
             "color": "#2a3f5f"
            },
            "marker": {
             "line": {
              "color": "#E5ECF6",
              "width": 0.5
             },
             "pattern": {
              "fillmode": "overlay",
              "size": 10,
              "solidity": 0.2
             }
            },
            "type": "bar"
           }
          ],
          "barpolar": [
           {
            "marker": {
             "line": {
              "color": "#E5ECF6",
              "width": 0.5
             },
             "pattern": {
              "fillmode": "overlay",
              "size": 10,
              "solidity": 0.2
             }
            },
            "type": "barpolar"
           }
          ],
          "carpet": [
           {
            "aaxis": {
             "endlinecolor": "#2a3f5f",
             "gridcolor": "white",
             "linecolor": "white",
             "minorgridcolor": "white",
             "startlinecolor": "#2a3f5f"
            },
            "baxis": {
             "endlinecolor": "#2a3f5f",
             "gridcolor": "white",
             "linecolor": "white",
             "minorgridcolor": "white",
             "startlinecolor": "#2a3f5f"
            },
            "type": "carpet"
           }
          ],
          "choropleth": [
           {
            "colorbar": {
             "outlinewidth": 0,
             "ticks": ""
            },
            "type": "choropleth"
           }
          ],
          "contour": [
           {
            "colorbar": {
             "outlinewidth": 0,
             "ticks": ""
            },
            "colorscale": [
             [
              0,
              "#0d0887"
             ],
             [
              0.1111111111111111,
              "#46039f"
             ],
             [
              0.2222222222222222,
              "#7201a8"
             ],
             [
              0.3333333333333333,
              "#9c179e"
             ],
             [
              0.4444444444444444,
              "#bd3786"
             ],
             [
              0.5555555555555556,
              "#d8576b"
             ],
             [
              0.6666666666666666,
              "#ed7953"
             ],
             [
              0.7777777777777778,
              "#fb9f3a"
             ],
             [
              0.8888888888888888,
              "#fdca26"
             ],
             [
              1,
              "#f0f921"
             ]
            ],
            "type": "contour"
           }
          ],
          "contourcarpet": [
           {
            "colorbar": {
             "outlinewidth": 0,
             "ticks": ""
            },
            "type": "contourcarpet"
           }
          ],
          "heatmap": [
           {
            "colorbar": {
             "outlinewidth": 0,
             "ticks": ""
            },
            "colorscale": [
             [
              0,
              "#0d0887"
             ],
             [
              0.1111111111111111,
              "#46039f"
             ],
             [
              0.2222222222222222,
              "#7201a8"
             ],
             [
              0.3333333333333333,
              "#9c179e"
             ],
             [
              0.4444444444444444,
              "#bd3786"
             ],
             [
              0.5555555555555556,
              "#d8576b"
             ],
             [
              0.6666666666666666,
              "#ed7953"
             ],
             [
              0.7777777777777778,
              "#fb9f3a"
             ],
             [
              0.8888888888888888,
              "#fdca26"
             ],
             [
              1,
              "#f0f921"
             ]
            ],
            "type": "heatmap"
           }
          ],
          "heatmapgl": [
           {
            "colorbar": {
             "outlinewidth": 0,
             "ticks": ""
            },
            "colorscale": [
             [
              0,
              "#0d0887"
             ],
             [
              0.1111111111111111,
              "#46039f"
             ],
             [
              0.2222222222222222,
              "#7201a8"
             ],
             [
              0.3333333333333333,
              "#9c179e"
             ],
             [
              0.4444444444444444,
              "#bd3786"
             ],
             [
              0.5555555555555556,
              "#d8576b"
             ],
             [
              0.6666666666666666,
              "#ed7953"
             ],
             [
              0.7777777777777778,
              "#fb9f3a"
             ],
             [
              0.8888888888888888,
              "#fdca26"
             ],
             [
              1,
              "#f0f921"
             ]
            ],
            "type": "heatmapgl"
           }
          ],
          "histogram": [
           {
            "marker": {
             "pattern": {
              "fillmode": "overlay",
              "size": 10,
              "solidity": 0.2
             }
            },
            "type": "histogram"
           }
          ],
          "histogram2d": [
           {
            "colorbar": {
             "outlinewidth": 0,
             "ticks": ""
            },
            "colorscale": [
             [
              0,
              "#0d0887"
             ],
             [
              0.1111111111111111,
              "#46039f"
             ],
             [
              0.2222222222222222,
              "#7201a8"
             ],
             [
              0.3333333333333333,
              "#9c179e"
             ],
             [
              0.4444444444444444,
              "#bd3786"
             ],
             [
              0.5555555555555556,
              "#d8576b"
             ],
             [
              0.6666666666666666,
              "#ed7953"
             ],
             [
              0.7777777777777778,
              "#fb9f3a"
             ],
             [
              0.8888888888888888,
              "#fdca26"
             ],
             [
              1,
              "#f0f921"
             ]
            ],
            "type": "histogram2d"
           }
          ],
          "histogram2dcontour": [
           {
            "colorbar": {
             "outlinewidth": 0,
             "ticks": ""
            },
            "colorscale": [
             [
              0,
              "#0d0887"
             ],
             [
              0.1111111111111111,
              "#46039f"
             ],
             [
              0.2222222222222222,
              "#7201a8"
             ],
             [
              0.3333333333333333,
              "#9c179e"
             ],
             [
              0.4444444444444444,
              "#bd3786"
             ],
             [
              0.5555555555555556,
              "#d8576b"
             ],
             [
              0.6666666666666666,
              "#ed7953"
             ],
             [
              0.7777777777777778,
              "#fb9f3a"
             ],
             [
              0.8888888888888888,
              "#fdca26"
             ],
             [
              1,
              "#f0f921"
             ]
            ],
            "type": "histogram2dcontour"
           }
          ],
          "mesh3d": [
           {
            "colorbar": {
             "outlinewidth": 0,
             "ticks": ""
            },
            "type": "mesh3d"
           }
          ],
          "parcoords": [
           {
            "line": {
             "colorbar": {
              "outlinewidth": 0,
              "ticks": ""
             }
            },
            "type": "parcoords"
           }
          ],
          "pie": [
           {
            "automargin": true,
            "type": "pie"
           }
          ],
          "scatter": [
           {
            "fillpattern": {
             "fillmode": "overlay",
             "size": 10,
             "solidity": 0.2
            },
            "type": "scatter"
           }
          ],
          "scatter3d": [
           {
            "line": {
             "colorbar": {
              "outlinewidth": 0,
              "ticks": ""
             }
            },
            "marker": {
             "colorbar": {
              "outlinewidth": 0,
              "ticks": ""
             }
            },
            "type": "scatter3d"
           }
          ],
          "scattercarpet": [
           {
            "marker": {
             "colorbar": {
              "outlinewidth": 0,
              "ticks": ""
             }
            },
            "type": "scattercarpet"
           }
          ],
          "scattergeo": [
           {
            "marker": {
             "colorbar": {
              "outlinewidth": 0,
              "ticks": ""
             }
            },
            "type": "scattergeo"
           }
          ],
          "scattergl": [
           {
            "marker": {
             "colorbar": {
              "outlinewidth": 0,
              "ticks": ""
             }
            },
            "type": "scattergl"
           }
          ],
          "scattermapbox": [
           {
            "marker": {
             "colorbar": {
              "outlinewidth": 0,
              "ticks": ""
             }
            },
            "type": "scattermapbox"
           }
          ],
          "scatterpolar": [
           {
            "marker": {
             "colorbar": {
              "outlinewidth": 0,
              "ticks": ""
             }
            },
            "type": "scatterpolar"
           }
          ],
          "scatterpolargl": [
           {
            "marker": {
             "colorbar": {
              "outlinewidth": 0,
              "ticks": ""
             }
            },
            "type": "scatterpolargl"
           }
          ],
          "scatterternary": [
           {
            "marker": {
             "colorbar": {
              "outlinewidth": 0,
              "ticks": ""
             }
            },
            "type": "scatterternary"
           }
          ],
          "surface": [
           {
            "colorbar": {
             "outlinewidth": 0,
             "ticks": ""
            },
            "colorscale": [
             [
              0,
              "#0d0887"
             ],
             [
              0.1111111111111111,
              "#46039f"
             ],
             [
              0.2222222222222222,
              "#7201a8"
             ],
             [
              0.3333333333333333,
              "#9c179e"
             ],
             [
              0.4444444444444444,
              "#bd3786"
             ],
             [
              0.5555555555555556,
              "#d8576b"
             ],
             [
              0.6666666666666666,
              "#ed7953"
             ],
             [
              0.7777777777777778,
              "#fb9f3a"
             ],
             [
              0.8888888888888888,
              "#fdca26"
             ],
             [
              1,
              "#f0f921"
             ]
            ],
            "type": "surface"
           }
          ],
          "table": [
           {
            "cells": {
             "fill": {
              "color": "#EBF0F8"
             },
             "line": {
              "color": "white"
             }
            },
            "header": {
             "fill": {
              "color": "#C8D4E3"
             },
             "line": {
              "color": "white"
             }
            },
            "type": "table"
           }
          ]
         },
         "layout": {
          "annotationdefaults": {
           "arrowcolor": "#2a3f5f",
           "arrowhead": 0,
           "arrowwidth": 1
          },
          "autotypenumbers": "strict",
          "coloraxis": {
           "colorbar": {
            "outlinewidth": 0,
            "ticks": ""
           }
          },
          "colorscale": {
           "diverging": [
            [
             0,
             "#8e0152"
            ],
            [
             0.1,
             "#c51b7d"
            ],
            [
             0.2,
             "#de77ae"
            ],
            [
             0.3,
             "#f1b6da"
            ],
            [
             0.4,
             "#fde0ef"
            ],
            [
             0.5,
             "#f7f7f7"
            ],
            [
             0.6,
             "#e6f5d0"
            ],
            [
             0.7,
             "#b8e186"
            ],
            [
             0.8,
             "#7fbc41"
            ],
            [
             0.9,
             "#4d9221"
            ],
            [
             1,
             "#276419"
            ]
           ],
           "sequential": [
            [
             0,
             "#0d0887"
            ],
            [
             0.1111111111111111,
             "#46039f"
            ],
            [
             0.2222222222222222,
             "#7201a8"
            ],
            [
             0.3333333333333333,
             "#9c179e"
            ],
            [
             0.4444444444444444,
             "#bd3786"
            ],
            [
             0.5555555555555556,
             "#d8576b"
            ],
            [
             0.6666666666666666,
             "#ed7953"
            ],
            [
             0.7777777777777778,
             "#fb9f3a"
            ],
            [
             0.8888888888888888,
             "#fdca26"
            ],
            [
             1,
             "#f0f921"
            ]
           ],
           "sequentialminus": [
            [
             0,
             "#0d0887"
            ],
            [
             0.1111111111111111,
             "#46039f"
            ],
            [
             0.2222222222222222,
             "#7201a8"
            ],
            [
             0.3333333333333333,
             "#9c179e"
            ],
            [
             0.4444444444444444,
             "#bd3786"
            ],
            [
             0.5555555555555556,
             "#d8576b"
            ],
            [
             0.6666666666666666,
             "#ed7953"
            ],
            [
             0.7777777777777778,
             "#fb9f3a"
            ],
            [
             0.8888888888888888,
             "#fdca26"
            ],
            [
             1,
             "#f0f921"
            ]
           ]
          },
          "colorway": [
           "#636efa",
           "#EF553B",
           "#00cc96",
           "#ab63fa",
           "#FFA15A",
           "#19d3f3",
           "#FF6692",
           "#B6E880",
           "#FF97FF",
           "#FECB52"
          ],
          "font": {
           "color": "#2a3f5f"
          },
          "geo": {
           "bgcolor": "white",
           "lakecolor": "white",
           "landcolor": "#E5ECF6",
           "showlakes": true,
           "showland": true,
           "subunitcolor": "white"
          },
          "hoverlabel": {
           "align": "left"
          },
          "hovermode": "closest",
          "mapbox": {
           "style": "light"
          },
          "paper_bgcolor": "white",
          "plot_bgcolor": "#E5ECF6",
          "polar": {
           "angularaxis": {
            "gridcolor": "white",
            "linecolor": "white",
            "ticks": ""
           },
           "bgcolor": "#E5ECF6",
           "radialaxis": {
            "gridcolor": "white",
            "linecolor": "white",
            "ticks": ""
           }
          },
          "scene": {
           "xaxis": {
            "backgroundcolor": "#E5ECF6",
            "gridcolor": "white",
            "gridwidth": 2,
            "linecolor": "white",
            "showbackground": true,
            "ticks": "",
            "zerolinecolor": "white"
           },
           "yaxis": {
            "backgroundcolor": "#E5ECF6",
            "gridcolor": "white",
            "gridwidth": 2,
            "linecolor": "white",
            "showbackground": true,
            "ticks": "",
            "zerolinecolor": "white"
           },
           "zaxis": {
            "backgroundcolor": "#E5ECF6",
            "gridcolor": "white",
            "gridwidth": 2,
            "linecolor": "white",
            "showbackground": true,
            "ticks": "",
            "zerolinecolor": "white"
           }
          },
          "shapedefaults": {
           "line": {
            "color": "#2a3f5f"
           }
          },
          "ternary": {
           "aaxis": {
            "gridcolor": "white",
            "linecolor": "white",
            "ticks": ""
           },
           "baxis": {
            "gridcolor": "white",
            "linecolor": "white",
            "ticks": ""
           },
           "bgcolor": "#E5ECF6",
           "caxis": {
            "gridcolor": "white",
            "linecolor": "white",
            "ticks": ""
           }
          },
          "title": {
           "x": 0.05
          },
          "xaxis": {
           "automargin": true,
           "gridcolor": "white",
           "linecolor": "white",
           "ticks": "",
           "title": {
            "standoff": 15
           },
           "zerolinecolor": "white",
           "zerolinewidth": 2
          },
          "yaxis": {
           "automargin": true,
           "gridcolor": "white",
           "linecolor": "white",
           "ticks": "",
           "title": {
            "standoff": 15
           },
           "zerolinecolor": "white",
           "zerolinewidth": 2
          }
         }
        }
       }
      }
     },
     "metadata": {},
     "output_type": "display_data"
    }
   ],
   "source": [
    "showPiePx(conjunto.query('data_geo')['gravedad'])"
   ]
  },
  {
   "cell_type": "markdown",
   "metadata": {},
   "source": [
    "Vemos que el 95% de los accidentes no son graves, siquiera, sólo el 3% es fatal y el 2% es grave. "
   ]
  },
  {
   "cell_type": "code",
   "execution_count": 135,
   "metadata": {},
   "outputs": [
    {
     "data": {
      "application/vnd.plotly.v1+json": {
       "config": {
        "plotlyServerURL": "https://plot.ly"
       },
       "data": [
        {
         "domain": {
          "x": [
           0,
           1
          ],
          "y": [
           0,
           1
          ]
         },
         "hovertemplate": "valor=%{label}<br>ocurrencia=%{value}<extra></extra>",
         "labels": [
          "Esquina",
          "Calle",
          "Otros"
         ],
         "legendgroup": "",
         "name": "",
         "showlegend": true,
         "textinfo": "percent+label",
         "textposition": "outside",
         "type": "pie",
         "values": [
          9407,
          3460,
          0
         ]
        }
       ],
       "layout": {
        "legend": {
         "tracegroupgap": 0
        },
        "template": {
         "data": {
          "bar": [
           {
            "error_x": {
             "color": "#2a3f5f"
            },
            "error_y": {
             "color": "#2a3f5f"
            },
            "marker": {
             "line": {
              "color": "#E5ECF6",
              "width": 0.5
             },
             "pattern": {
              "fillmode": "overlay",
              "size": 10,
              "solidity": 0.2
             }
            },
            "type": "bar"
           }
          ],
          "barpolar": [
           {
            "marker": {
             "line": {
              "color": "#E5ECF6",
              "width": 0.5
             },
             "pattern": {
              "fillmode": "overlay",
              "size": 10,
              "solidity": 0.2
             }
            },
            "type": "barpolar"
           }
          ],
          "carpet": [
           {
            "aaxis": {
             "endlinecolor": "#2a3f5f",
             "gridcolor": "white",
             "linecolor": "white",
             "minorgridcolor": "white",
             "startlinecolor": "#2a3f5f"
            },
            "baxis": {
             "endlinecolor": "#2a3f5f",
             "gridcolor": "white",
             "linecolor": "white",
             "minorgridcolor": "white",
             "startlinecolor": "#2a3f5f"
            },
            "type": "carpet"
           }
          ],
          "choropleth": [
           {
            "colorbar": {
             "outlinewidth": 0,
             "ticks": ""
            },
            "type": "choropleth"
           }
          ],
          "contour": [
           {
            "colorbar": {
             "outlinewidth": 0,
             "ticks": ""
            },
            "colorscale": [
             [
              0,
              "#0d0887"
             ],
             [
              0.1111111111111111,
              "#46039f"
             ],
             [
              0.2222222222222222,
              "#7201a8"
             ],
             [
              0.3333333333333333,
              "#9c179e"
             ],
             [
              0.4444444444444444,
              "#bd3786"
             ],
             [
              0.5555555555555556,
              "#d8576b"
             ],
             [
              0.6666666666666666,
              "#ed7953"
             ],
             [
              0.7777777777777778,
              "#fb9f3a"
             ],
             [
              0.8888888888888888,
              "#fdca26"
             ],
             [
              1,
              "#f0f921"
             ]
            ],
            "type": "contour"
           }
          ],
          "contourcarpet": [
           {
            "colorbar": {
             "outlinewidth": 0,
             "ticks": ""
            },
            "type": "contourcarpet"
           }
          ],
          "heatmap": [
           {
            "colorbar": {
             "outlinewidth": 0,
             "ticks": ""
            },
            "colorscale": [
             [
              0,
              "#0d0887"
             ],
             [
              0.1111111111111111,
              "#46039f"
             ],
             [
              0.2222222222222222,
              "#7201a8"
             ],
             [
              0.3333333333333333,
              "#9c179e"
             ],
             [
              0.4444444444444444,
              "#bd3786"
             ],
             [
              0.5555555555555556,
              "#d8576b"
             ],
             [
              0.6666666666666666,
              "#ed7953"
             ],
             [
              0.7777777777777778,
              "#fb9f3a"
             ],
             [
              0.8888888888888888,
              "#fdca26"
             ],
             [
              1,
              "#f0f921"
             ]
            ],
            "type": "heatmap"
           }
          ],
          "heatmapgl": [
           {
            "colorbar": {
             "outlinewidth": 0,
             "ticks": ""
            },
            "colorscale": [
             [
              0,
              "#0d0887"
             ],
             [
              0.1111111111111111,
              "#46039f"
             ],
             [
              0.2222222222222222,
              "#7201a8"
             ],
             [
              0.3333333333333333,
              "#9c179e"
             ],
             [
              0.4444444444444444,
              "#bd3786"
             ],
             [
              0.5555555555555556,
              "#d8576b"
             ],
             [
              0.6666666666666666,
              "#ed7953"
             ],
             [
              0.7777777777777778,
              "#fb9f3a"
             ],
             [
              0.8888888888888888,
              "#fdca26"
             ],
             [
              1,
              "#f0f921"
             ]
            ],
            "type": "heatmapgl"
           }
          ],
          "histogram": [
           {
            "marker": {
             "pattern": {
              "fillmode": "overlay",
              "size": 10,
              "solidity": 0.2
             }
            },
            "type": "histogram"
           }
          ],
          "histogram2d": [
           {
            "colorbar": {
             "outlinewidth": 0,
             "ticks": ""
            },
            "colorscale": [
             [
              0,
              "#0d0887"
             ],
             [
              0.1111111111111111,
              "#46039f"
             ],
             [
              0.2222222222222222,
              "#7201a8"
             ],
             [
              0.3333333333333333,
              "#9c179e"
             ],
             [
              0.4444444444444444,
              "#bd3786"
             ],
             [
              0.5555555555555556,
              "#d8576b"
             ],
             [
              0.6666666666666666,
              "#ed7953"
             ],
             [
              0.7777777777777778,
              "#fb9f3a"
             ],
             [
              0.8888888888888888,
              "#fdca26"
             ],
             [
              1,
              "#f0f921"
             ]
            ],
            "type": "histogram2d"
           }
          ],
          "histogram2dcontour": [
           {
            "colorbar": {
             "outlinewidth": 0,
             "ticks": ""
            },
            "colorscale": [
             [
              0,
              "#0d0887"
             ],
             [
              0.1111111111111111,
              "#46039f"
             ],
             [
              0.2222222222222222,
              "#7201a8"
             ],
             [
              0.3333333333333333,
              "#9c179e"
             ],
             [
              0.4444444444444444,
              "#bd3786"
             ],
             [
              0.5555555555555556,
              "#d8576b"
             ],
             [
              0.6666666666666666,
              "#ed7953"
             ],
             [
              0.7777777777777778,
              "#fb9f3a"
             ],
             [
              0.8888888888888888,
              "#fdca26"
             ],
             [
              1,
              "#f0f921"
             ]
            ],
            "type": "histogram2dcontour"
           }
          ],
          "mesh3d": [
           {
            "colorbar": {
             "outlinewidth": 0,
             "ticks": ""
            },
            "type": "mesh3d"
           }
          ],
          "parcoords": [
           {
            "line": {
             "colorbar": {
              "outlinewidth": 0,
              "ticks": ""
             }
            },
            "type": "parcoords"
           }
          ],
          "pie": [
           {
            "automargin": true,
            "type": "pie"
           }
          ],
          "scatter": [
           {
            "fillpattern": {
             "fillmode": "overlay",
             "size": 10,
             "solidity": 0.2
            },
            "type": "scatter"
           }
          ],
          "scatter3d": [
           {
            "line": {
             "colorbar": {
              "outlinewidth": 0,
              "ticks": ""
             }
            },
            "marker": {
             "colorbar": {
              "outlinewidth": 0,
              "ticks": ""
             }
            },
            "type": "scatter3d"
           }
          ],
          "scattercarpet": [
           {
            "marker": {
             "colorbar": {
              "outlinewidth": 0,
              "ticks": ""
             }
            },
            "type": "scattercarpet"
           }
          ],
          "scattergeo": [
           {
            "marker": {
             "colorbar": {
              "outlinewidth": 0,
              "ticks": ""
             }
            },
            "type": "scattergeo"
           }
          ],
          "scattergl": [
           {
            "marker": {
             "colorbar": {
              "outlinewidth": 0,
              "ticks": ""
             }
            },
            "type": "scattergl"
           }
          ],
          "scattermapbox": [
           {
            "marker": {
             "colorbar": {
              "outlinewidth": 0,
              "ticks": ""
             }
            },
            "type": "scattermapbox"
           }
          ],
          "scatterpolar": [
           {
            "marker": {
             "colorbar": {
              "outlinewidth": 0,
              "ticks": ""
             }
            },
            "type": "scatterpolar"
           }
          ],
          "scatterpolargl": [
           {
            "marker": {
             "colorbar": {
              "outlinewidth": 0,
              "ticks": ""
             }
            },
            "type": "scatterpolargl"
           }
          ],
          "scatterternary": [
           {
            "marker": {
             "colorbar": {
              "outlinewidth": 0,
              "ticks": ""
             }
            },
            "type": "scatterternary"
           }
          ],
          "surface": [
           {
            "colorbar": {
             "outlinewidth": 0,
             "ticks": ""
            },
            "colorscale": [
             [
              0,
              "#0d0887"
             ],
             [
              0.1111111111111111,
              "#46039f"
             ],
             [
              0.2222222222222222,
              "#7201a8"
             ],
             [
              0.3333333333333333,
              "#9c179e"
             ],
             [
              0.4444444444444444,
              "#bd3786"
             ],
             [
              0.5555555555555556,
              "#d8576b"
             ],
             [
              0.6666666666666666,
              "#ed7953"
             ],
             [
              0.7777777777777778,
              "#fb9f3a"
             ],
             [
              0.8888888888888888,
              "#fdca26"
             ],
             [
              1,
              "#f0f921"
             ]
            ],
            "type": "surface"
           }
          ],
          "table": [
           {
            "cells": {
             "fill": {
              "color": "#EBF0F8"
             },
             "line": {
              "color": "white"
             }
            },
            "header": {
             "fill": {
              "color": "#C8D4E3"
             },
             "line": {
              "color": "white"
             }
            },
            "type": "table"
           }
          ]
         },
         "layout": {
          "annotationdefaults": {
           "arrowcolor": "#2a3f5f",
           "arrowhead": 0,
           "arrowwidth": 1
          },
          "autotypenumbers": "strict",
          "coloraxis": {
           "colorbar": {
            "outlinewidth": 0,
            "ticks": ""
           }
          },
          "colorscale": {
           "diverging": [
            [
             0,
             "#8e0152"
            ],
            [
             0.1,
             "#c51b7d"
            ],
            [
             0.2,
             "#de77ae"
            ],
            [
             0.3,
             "#f1b6da"
            ],
            [
             0.4,
             "#fde0ef"
            ],
            [
             0.5,
             "#f7f7f7"
            ],
            [
             0.6,
             "#e6f5d0"
            ],
            [
             0.7,
             "#b8e186"
            ],
            [
             0.8,
             "#7fbc41"
            ],
            [
             0.9,
             "#4d9221"
            ],
            [
             1,
             "#276419"
            ]
           ],
           "sequential": [
            [
             0,
             "#0d0887"
            ],
            [
             0.1111111111111111,
             "#46039f"
            ],
            [
             0.2222222222222222,
             "#7201a8"
            ],
            [
             0.3333333333333333,
             "#9c179e"
            ],
            [
             0.4444444444444444,
             "#bd3786"
            ],
            [
             0.5555555555555556,
             "#d8576b"
            ],
            [
             0.6666666666666666,
             "#ed7953"
            ],
            [
             0.7777777777777778,
             "#fb9f3a"
            ],
            [
             0.8888888888888888,
             "#fdca26"
            ],
            [
             1,
             "#f0f921"
            ]
           ],
           "sequentialminus": [
            [
             0,
             "#0d0887"
            ],
            [
             0.1111111111111111,
             "#46039f"
            ],
            [
             0.2222222222222222,
             "#7201a8"
            ],
            [
             0.3333333333333333,
             "#9c179e"
            ],
            [
             0.4444444444444444,
             "#bd3786"
            ],
            [
             0.5555555555555556,
             "#d8576b"
            ],
            [
             0.6666666666666666,
             "#ed7953"
            ],
            [
             0.7777777777777778,
             "#fb9f3a"
            ],
            [
             0.8888888888888888,
             "#fdca26"
            ],
            [
             1,
             "#f0f921"
            ]
           ]
          },
          "colorway": [
           "#636efa",
           "#EF553B",
           "#00cc96",
           "#ab63fa",
           "#FFA15A",
           "#19d3f3",
           "#FF6692",
           "#B6E880",
           "#FF97FF",
           "#FECB52"
          ],
          "font": {
           "color": "#2a3f5f"
          },
          "geo": {
           "bgcolor": "white",
           "lakecolor": "white",
           "landcolor": "#E5ECF6",
           "showlakes": true,
           "showland": true,
           "subunitcolor": "white"
          },
          "hoverlabel": {
           "align": "left"
          },
          "hovermode": "closest",
          "mapbox": {
           "style": "light"
          },
          "paper_bgcolor": "white",
          "plot_bgcolor": "#E5ECF6",
          "polar": {
           "angularaxis": {
            "gridcolor": "white",
            "linecolor": "white",
            "ticks": ""
           },
           "bgcolor": "#E5ECF6",
           "radialaxis": {
            "gridcolor": "white",
            "linecolor": "white",
            "ticks": ""
           }
          },
          "scene": {
           "xaxis": {
            "backgroundcolor": "#E5ECF6",
            "gridcolor": "white",
            "gridwidth": 2,
            "linecolor": "white",
            "showbackground": true,
            "ticks": "",
            "zerolinecolor": "white"
           },
           "yaxis": {
            "backgroundcolor": "#E5ECF6",
            "gridcolor": "white",
            "gridwidth": 2,
            "linecolor": "white",
            "showbackground": true,
            "ticks": "",
            "zerolinecolor": "white"
           },
           "zaxis": {
            "backgroundcolor": "#E5ECF6",
            "gridcolor": "white",
            "gridwidth": 2,
            "linecolor": "white",
            "showbackground": true,
            "ticks": "",
            "zerolinecolor": "white"
           }
          },
          "shapedefaults": {
           "line": {
            "color": "#2a3f5f"
           }
          },
          "ternary": {
           "aaxis": {
            "gridcolor": "white",
            "linecolor": "white",
            "ticks": ""
           },
           "baxis": {
            "gridcolor": "white",
            "linecolor": "white",
            "ticks": ""
           },
           "bgcolor": "#E5ECF6",
           "caxis": {
            "gridcolor": "white",
            "linecolor": "white",
            "ticks": ""
           }
          },
          "title": {
           "x": 0.05
          },
          "xaxis": {
           "automargin": true,
           "gridcolor": "white",
           "linecolor": "white",
           "ticks": "",
           "title": {
            "standoff": 15
           },
           "zerolinecolor": "white",
           "zerolinewidth": 2
          },
          "yaxis": {
           "automargin": true,
           "gridcolor": "white",
           "linecolor": "white",
           "ticks": "",
           "title": {
            "standoff": 15
           },
           "zerolinecolor": "white",
           "zerolinewidth": 2
          }
         }
        },
        "title": {
         "text": "Accientes por Tipo de Cruce"
        }
       }
      }
     },
     "metadata": {},
     "output_type": "display_data"
    }
   ],
   "source": [
    "showPiePx(data_hl.query('info_cruce')['es_cruce'].map({False: \"Calle\", True:\"Esquina\"}), title=\"Accientes por Tipo de Cruce\")"
   ]
  },
  {
   "cell_type": "markdown",
   "metadata": {},
   "source": [
    "Aproximadamente 3/4 de las veces los accidentes ocurren en una intersección."
   ]
  },
  {
   "cell_type": "code",
   "execution_count": 119,
   "metadata": {},
   "outputs": [],
   "source": [
    "import json\n",
    "data_geo = data_hl.query(\"data_geo\")\n",
    "coordinates = [data_geo['longitud'].sample(1).values[0], data_geo['latitud'].sample(2).values[0]]\n",
    "data_geo['longitud'] = data_geo['longitud'].astype(float)\n",
    "data_geo['latitud'] = data_geo['latitud'].astype(float)\n",
    "\n",
    "\n",
    "point_geojson = [{\n",
    "    \"type\": \"Feature\",\n",
    "    \"geometry\": {\n",
    "        \"type\": \"Point\",\n",
    "        \"coordinates\": [x, y]\n",
    "    },\n",
    "    \"properties\": {\"participantes\" : str(p), 'direccion': str(d)},\n",
    "    \"id\": id\n",
    "} for x, y, p, d, id in zip(data_geo['longitud'].values, data_geo['latitud'].values, data_geo['participantes'].values, data_geo['direccion_normalizada'].values, range(data_geo.shape[0]))]\n",
    "\n",
    "# Convert the GeoJSON to a JSON string\n",
    "point_geojson_str = json.dumps(point_geojson)\n",
    "\n",
    "pd.DataFrame(point_geojson)\n",
    "\n",
    "json_file_path = \"data/generated/output_hl.json\"\n",
    "\n",
    "# Write the data to the JSON file\n",
    "with open(json_file_path, \"w\") as json_file:\n",
    "    json.dump(point_geojson, json_file, indent=4) "
   ]
  },
  {
   "cell_type": "markdown",
   "metadata": {},
   "source": [
    "Generamos un archivo geojson para cargar en diferentes aplicaciones como QGis."
   ]
  },
  {
   "cell_type": "code",
   "execution_count": 140,
   "metadata": {},
   "outputs": [
    {
     "data": {
      "application/vnd.plotly.v1+json": {
       "config": {
        "plotlyServerURL": "https://plot.ly"
       },
       "data": [
        {
         "domain": {
          "x": [
           0,
           1
          ],
          "y": [
           0,
           1
          ]
         },
         "hovertemplate": "valor=%{label}<br>ocurrencia=%{value}<extra></extra>",
         "labels": [
          "MOTO",
          "PEATON",
          "CICLISTA",
          "AUTO",
          "TRANSPORTE PUBLICO",
          "CAMIONETA",
          "TAXI",
          "Otros"
         ],
         "legendgroup": "",
         "name": "",
         "showlegend": true,
         "textinfo": "percent+label",
         "textposition": "outside",
         "type": "pie",
         "values": [
          5747,
          2290,
          2208,
          2116,
          678,
          189,
          182,
          319
         ]
        }
       ],
       "layout": {
        "legend": {
         "tracegroupgap": 0
        },
        "margin": {
         "t": 60
        },
        "template": {
         "data": {
          "bar": [
           {
            "error_x": {
             "color": "#2a3f5f"
            },
            "error_y": {
             "color": "#2a3f5f"
            },
            "marker": {
             "line": {
              "color": "#E5ECF6",
              "width": 0.5
             },
             "pattern": {
              "fillmode": "overlay",
              "size": 10,
              "solidity": 0.2
             }
            },
            "type": "bar"
           }
          ],
          "barpolar": [
           {
            "marker": {
             "line": {
              "color": "#E5ECF6",
              "width": 0.5
             },
             "pattern": {
              "fillmode": "overlay",
              "size": 10,
              "solidity": 0.2
             }
            },
            "type": "barpolar"
           }
          ],
          "carpet": [
           {
            "aaxis": {
             "endlinecolor": "#2a3f5f",
             "gridcolor": "white",
             "linecolor": "white",
             "minorgridcolor": "white",
             "startlinecolor": "#2a3f5f"
            },
            "baxis": {
             "endlinecolor": "#2a3f5f",
             "gridcolor": "white",
             "linecolor": "white",
             "minorgridcolor": "white",
             "startlinecolor": "#2a3f5f"
            },
            "type": "carpet"
           }
          ],
          "choropleth": [
           {
            "colorbar": {
             "outlinewidth": 0,
             "ticks": ""
            },
            "type": "choropleth"
           }
          ],
          "contour": [
           {
            "colorbar": {
             "outlinewidth": 0,
             "ticks": ""
            },
            "colorscale": [
             [
              0,
              "#0d0887"
             ],
             [
              0.1111111111111111,
              "#46039f"
             ],
             [
              0.2222222222222222,
              "#7201a8"
             ],
             [
              0.3333333333333333,
              "#9c179e"
             ],
             [
              0.4444444444444444,
              "#bd3786"
             ],
             [
              0.5555555555555556,
              "#d8576b"
             ],
             [
              0.6666666666666666,
              "#ed7953"
             ],
             [
              0.7777777777777778,
              "#fb9f3a"
             ],
             [
              0.8888888888888888,
              "#fdca26"
             ],
             [
              1,
              "#f0f921"
             ]
            ],
            "type": "contour"
           }
          ],
          "contourcarpet": [
           {
            "colorbar": {
             "outlinewidth": 0,
             "ticks": ""
            },
            "type": "contourcarpet"
           }
          ],
          "heatmap": [
           {
            "colorbar": {
             "outlinewidth": 0,
             "ticks": ""
            },
            "colorscale": [
             [
              0,
              "#0d0887"
             ],
             [
              0.1111111111111111,
              "#46039f"
             ],
             [
              0.2222222222222222,
              "#7201a8"
             ],
             [
              0.3333333333333333,
              "#9c179e"
             ],
             [
              0.4444444444444444,
              "#bd3786"
             ],
             [
              0.5555555555555556,
              "#d8576b"
             ],
             [
              0.6666666666666666,
              "#ed7953"
             ],
             [
              0.7777777777777778,
              "#fb9f3a"
             ],
             [
              0.8888888888888888,
              "#fdca26"
             ],
             [
              1,
              "#f0f921"
             ]
            ],
            "type": "heatmap"
           }
          ],
          "heatmapgl": [
           {
            "colorbar": {
             "outlinewidth": 0,
             "ticks": ""
            },
            "colorscale": [
             [
              0,
              "#0d0887"
             ],
             [
              0.1111111111111111,
              "#46039f"
             ],
             [
              0.2222222222222222,
              "#7201a8"
             ],
             [
              0.3333333333333333,
              "#9c179e"
             ],
             [
              0.4444444444444444,
              "#bd3786"
             ],
             [
              0.5555555555555556,
              "#d8576b"
             ],
             [
              0.6666666666666666,
              "#ed7953"
             ],
             [
              0.7777777777777778,
              "#fb9f3a"
             ],
             [
              0.8888888888888888,
              "#fdca26"
             ],
             [
              1,
              "#f0f921"
             ]
            ],
            "type": "heatmapgl"
           }
          ],
          "histogram": [
           {
            "marker": {
             "pattern": {
              "fillmode": "overlay",
              "size": 10,
              "solidity": 0.2
             }
            },
            "type": "histogram"
           }
          ],
          "histogram2d": [
           {
            "colorbar": {
             "outlinewidth": 0,
             "ticks": ""
            },
            "colorscale": [
             [
              0,
              "#0d0887"
             ],
             [
              0.1111111111111111,
              "#46039f"
             ],
             [
              0.2222222222222222,
              "#7201a8"
             ],
             [
              0.3333333333333333,
              "#9c179e"
             ],
             [
              0.4444444444444444,
              "#bd3786"
             ],
             [
              0.5555555555555556,
              "#d8576b"
             ],
             [
              0.6666666666666666,
              "#ed7953"
             ],
             [
              0.7777777777777778,
              "#fb9f3a"
             ],
             [
              0.8888888888888888,
              "#fdca26"
             ],
             [
              1,
              "#f0f921"
             ]
            ],
            "type": "histogram2d"
           }
          ],
          "histogram2dcontour": [
           {
            "colorbar": {
             "outlinewidth": 0,
             "ticks": ""
            },
            "colorscale": [
             [
              0,
              "#0d0887"
             ],
             [
              0.1111111111111111,
              "#46039f"
             ],
             [
              0.2222222222222222,
              "#7201a8"
             ],
             [
              0.3333333333333333,
              "#9c179e"
             ],
             [
              0.4444444444444444,
              "#bd3786"
             ],
             [
              0.5555555555555556,
              "#d8576b"
             ],
             [
              0.6666666666666666,
              "#ed7953"
             ],
             [
              0.7777777777777778,
              "#fb9f3a"
             ],
             [
              0.8888888888888888,
              "#fdca26"
             ],
             [
              1,
              "#f0f921"
             ]
            ],
            "type": "histogram2dcontour"
           }
          ],
          "mesh3d": [
           {
            "colorbar": {
             "outlinewidth": 0,
             "ticks": ""
            },
            "type": "mesh3d"
           }
          ],
          "parcoords": [
           {
            "line": {
             "colorbar": {
              "outlinewidth": 0,
              "ticks": ""
             }
            },
            "type": "parcoords"
           }
          ],
          "pie": [
           {
            "automargin": true,
            "type": "pie"
           }
          ],
          "scatter": [
           {
            "fillpattern": {
             "fillmode": "overlay",
             "size": 10,
             "solidity": 0.2
            },
            "type": "scatter"
           }
          ],
          "scatter3d": [
           {
            "line": {
             "colorbar": {
              "outlinewidth": 0,
              "ticks": ""
             }
            },
            "marker": {
             "colorbar": {
              "outlinewidth": 0,
              "ticks": ""
             }
            },
            "type": "scatter3d"
           }
          ],
          "scattercarpet": [
           {
            "marker": {
             "colorbar": {
              "outlinewidth": 0,
              "ticks": ""
             }
            },
            "type": "scattercarpet"
           }
          ],
          "scattergeo": [
           {
            "marker": {
             "colorbar": {
              "outlinewidth": 0,
              "ticks": ""
             }
            },
            "type": "scattergeo"
           }
          ],
          "scattergl": [
           {
            "marker": {
             "colorbar": {
              "outlinewidth": 0,
              "ticks": ""
             }
            },
            "type": "scattergl"
           }
          ],
          "scattermapbox": [
           {
            "marker": {
             "colorbar": {
              "outlinewidth": 0,
              "ticks": ""
             }
            },
            "type": "scattermapbox"
           }
          ],
          "scatterpolar": [
           {
            "marker": {
             "colorbar": {
              "outlinewidth": 0,
              "ticks": ""
             }
            },
            "type": "scatterpolar"
           }
          ],
          "scatterpolargl": [
           {
            "marker": {
             "colorbar": {
              "outlinewidth": 0,
              "ticks": ""
             }
            },
            "type": "scatterpolargl"
           }
          ],
          "scatterternary": [
           {
            "marker": {
             "colorbar": {
              "outlinewidth": 0,
              "ticks": ""
             }
            },
            "type": "scatterternary"
           }
          ],
          "surface": [
           {
            "colorbar": {
             "outlinewidth": 0,
             "ticks": ""
            },
            "colorscale": [
             [
              0,
              "#0d0887"
             ],
             [
              0.1111111111111111,
              "#46039f"
             ],
             [
              0.2222222222222222,
              "#7201a8"
             ],
             [
              0.3333333333333333,
              "#9c179e"
             ],
             [
              0.4444444444444444,
              "#bd3786"
             ],
             [
              0.5555555555555556,
              "#d8576b"
             ],
             [
              0.6666666666666666,
              "#ed7953"
             ],
             [
              0.7777777777777778,
              "#fb9f3a"
             ],
             [
              0.8888888888888888,
              "#fdca26"
             ],
             [
              1,
              "#f0f921"
             ]
            ],
            "type": "surface"
           }
          ],
          "table": [
           {
            "cells": {
             "fill": {
              "color": "#EBF0F8"
             },
             "line": {
              "color": "white"
             }
            },
            "header": {
             "fill": {
              "color": "#C8D4E3"
             },
             "line": {
              "color": "white"
             }
            },
            "type": "table"
           }
          ]
         },
         "layout": {
          "annotationdefaults": {
           "arrowcolor": "#2a3f5f",
           "arrowhead": 0,
           "arrowwidth": 1
          },
          "autotypenumbers": "strict",
          "coloraxis": {
           "colorbar": {
            "outlinewidth": 0,
            "ticks": ""
           }
          },
          "colorscale": {
           "diverging": [
            [
             0,
             "#8e0152"
            ],
            [
             0.1,
             "#c51b7d"
            ],
            [
             0.2,
             "#de77ae"
            ],
            [
             0.3,
             "#f1b6da"
            ],
            [
             0.4,
             "#fde0ef"
            ],
            [
             0.5,
             "#f7f7f7"
            ],
            [
             0.6,
             "#e6f5d0"
            ],
            [
             0.7,
             "#b8e186"
            ],
            [
             0.8,
             "#7fbc41"
            ],
            [
             0.9,
             "#4d9221"
            ],
            [
             1,
             "#276419"
            ]
           ],
           "sequential": [
            [
             0,
             "#0d0887"
            ],
            [
             0.1111111111111111,
             "#46039f"
            ],
            [
             0.2222222222222222,
             "#7201a8"
            ],
            [
             0.3333333333333333,
             "#9c179e"
            ],
            [
             0.4444444444444444,
             "#bd3786"
            ],
            [
             0.5555555555555556,
             "#d8576b"
            ],
            [
             0.6666666666666666,
             "#ed7953"
            ],
            [
             0.7777777777777778,
             "#fb9f3a"
            ],
            [
             0.8888888888888888,
             "#fdca26"
            ],
            [
             1,
             "#f0f921"
            ]
           ],
           "sequentialminus": [
            [
             0,
             "#0d0887"
            ],
            [
             0.1111111111111111,
             "#46039f"
            ],
            [
             0.2222222222222222,
             "#7201a8"
            ],
            [
             0.3333333333333333,
             "#9c179e"
            ],
            [
             0.4444444444444444,
             "#bd3786"
            ],
            [
             0.5555555555555556,
             "#d8576b"
            ],
            [
             0.6666666666666666,
             "#ed7953"
            ],
            [
             0.7777777777777778,
             "#fb9f3a"
            ],
            [
             0.8888888888888888,
             "#fdca26"
            ],
            [
             1,
             "#f0f921"
            ]
           ]
          },
          "colorway": [
           "#636efa",
           "#EF553B",
           "#00cc96",
           "#ab63fa",
           "#FFA15A",
           "#19d3f3",
           "#FF6692",
           "#B6E880",
           "#FF97FF",
           "#FECB52"
          ],
          "font": {
           "color": "#2a3f5f"
          },
          "geo": {
           "bgcolor": "white",
           "lakecolor": "white",
           "landcolor": "#E5ECF6",
           "showlakes": true,
           "showland": true,
           "subunitcolor": "white"
          },
          "hoverlabel": {
           "align": "left"
          },
          "hovermode": "closest",
          "mapbox": {
           "style": "light"
          },
          "paper_bgcolor": "white",
          "plot_bgcolor": "#E5ECF6",
          "polar": {
           "angularaxis": {
            "gridcolor": "white",
            "linecolor": "white",
            "ticks": ""
           },
           "bgcolor": "#E5ECF6",
           "radialaxis": {
            "gridcolor": "white",
            "linecolor": "white",
            "ticks": ""
           }
          },
          "scene": {
           "xaxis": {
            "backgroundcolor": "#E5ECF6",
            "gridcolor": "white",
            "gridwidth": 2,
            "linecolor": "white",
            "showbackground": true,
            "ticks": "",
            "zerolinecolor": "white"
           },
           "yaxis": {
            "backgroundcolor": "#E5ECF6",
            "gridcolor": "white",
            "gridwidth": 2,
            "linecolor": "white",
            "showbackground": true,
            "ticks": "",
            "zerolinecolor": "white"
           },
           "zaxis": {
            "backgroundcolor": "#E5ECF6",
            "gridcolor": "white",
            "gridwidth": 2,
            "linecolor": "white",
            "showbackground": true,
            "ticks": "",
            "zerolinecolor": "white"
           }
          },
          "shapedefaults": {
           "line": {
            "color": "#2a3f5f"
           }
          },
          "ternary": {
           "aaxis": {
            "gridcolor": "white",
            "linecolor": "white",
            "ticks": ""
           },
           "baxis": {
            "gridcolor": "white",
            "linecolor": "white",
            "ticks": ""
           },
           "bgcolor": "#E5ECF6",
           "caxis": {
            "gridcolor": "white",
            "linecolor": "white",
            "ticks": ""
           }
          },
          "title": {
           "x": 0.05
          },
          "xaxis": {
           "automargin": true,
           "gridcolor": "white",
           "linecolor": "white",
           "ticks": "",
           "title": {
            "standoff": 15
           },
           "zerolinecolor": "white",
           "zerolinewidth": 2
          },
          "yaxis": {
           "automargin": true,
           "gridcolor": "white",
           "linecolor": "white",
           "ticks": "",
           "title": {
            "standoff": 15
           },
           "zerolinecolor": "white",
           "zerolinewidth": 2
          }
         }
        }
       }
      }
     },
     "metadata": {},
     "output_type": "display_data"
    }
   ],
   "source": [
    "showPiePx(conjunto.query(\"victima != 'SD'\")['victima'], max=7)"
   ]
  },
  {
   "cell_type": "markdown",
   "metadata": {},
   "source": [
    "Vemos la mayoría de las víctimas son los motociclistas, seguidos de los peatones."
   ]
  },
  {
   "cell_type": "code",
   "execution_count": 143,
   "metadata": {},
   "outputs": [
    {
     "data": {
      "application/vnd.plotly.v1+json": {
       "config": {
        "plotlyServerURL": "https://plot.ly"
       },
       "data": [
        {
         "domain": {
          "x": [
           0,
           1
          ],
          "y": [
           0,
           1
          ]
         },
         "hovertemplate": "valor=%{label}<br>ocurrencia=%{value}<extra></extra>",
         "labels": [
          "AUTO",
          "TRANSPORTE PUBLICO",
          "CAMIONETA",
          "MOTO",
          "TAXI",
          "OBJETO FIJO",
          "CAMION",
          "Otros"
         ],
         "legendgroup": "",
         "name": "",
         "showlegend": true,
         "textinfo": "percent+label",
         "textposition": "outside",
         "type": "pie",
         "values": [
          4835,
          975,
          872,
          682,
          591,
          341,
          288,
          576
         ]
        }
       ],
       "layout": {
        "legend": {
         "tracegroupgap": 0
        },
        "template": {
         "data": {
          "bar": [
           {
            "error_x": {
             "color": "#2a3f5f"
            },
            "error_y": {
             "color": "#2a3f5f"
            },
            "marker": {
             "line": {
              "color": "#E5ECF6",
              "width": 0.5
             },
             "pattern": {
              "fillmode": "overlay",
              "size": 10,
              "solidity": 0.2
             }
            },
            "type": "bar"
           }
          ],
          "barpolar": [
           {
            "marker": {
             "line": {
              "color": "#E5ECF6",
              "width": 0.5
             },
             "pattern": {
              "fillmode": "overlay",
              "size": 10,
              "solidity": 0.2
             }
            },
            "type": "barpolar"
           }
          ],
          "carpet": [
           {
            "aaxis": {
             "endlinecolor": "#2a3f5f",
             "gridcolor": "white",
             "linecolor": "white",
             "minorgridcolor": "white",
             "startlinecolor": "#2a3f5f"
            },
            "baxis": {
             "endlinecolor": "#2a3f5f",
             "gridcolor": "white",
             "linecolor": "white",
             "minorgridcolor": "white",
             "startlinecolor": "#2a3f5f"
            },
            "type": "carpet"
           }
          ],
          "choropleth": [
           {
            "colorbar": {
             "outlinewidth": 0,
             "ticks": ""
            },
            "type": "choropleth"
           }
          ],
          "contour": [
           {
            "colorbar": {
             "outlinewidth": 0,
             "ticks": ""
            },
            "colorscale": [
             [
              0,
              "#0d0887"
             ],
             [
              0.1111111111111111,
              "#46039f"
             ],
             [
              0.2222222222222222,
              "#7201a8"
             ],
             [
              0.3333333333333333,
              "#9c179e"
             ],
             [
              0.4444444444444444,
              "#bd3786"
             ],
             [
              0.5555555555555556,
              "#d8576b"
             ],
             [
              0.6666666666666666,
              "#ed7953"
             ],
             [
              0.7777777777777778,
              "#fb9f3a"
             ],
             [
              0.8888888888888888,
              "#fdca26"
             ],
             [
              1,
              "#f0f921"
             ]
            ],
            "type": "contour"
           }
          ],
          "contourcarpet": [
           {
            "colorbar": {
             "outlinewidth": 0,
             "ticks": ""
            },
            "type": "contourcarpet"
           }
          ],
          "heatmap": [
           {
            "colorbar": {
             "outlinewidth": 0,
             "ticks": ""
            },
            "colorscale": [
             [
              0,
              "#0d0887"
             ],
             [
              0.1111111111111111,
              "#46039f"
             ],
             [
              0.2222222222222222,
              "#7201a8"
             ],
             [
              0.3333333333333333,
              "#9c179e"
             ],
             [
              0.4444444444444444,
              "#bd3786"
             ],
             [
              0.5555555555555556,
              "#d8576b"
             ],
             [
              0.6666666666666666,
              "#ed7953"
             ],
             [
              0.7777777777777778,
              "#fb9f3a"
             ],
             [
              0.8888888888888888,
              "#fdca26"
             ],
             [
              1,
              "#f0f921"
             ]
            ],
            "type": "heatmap"
           }
          ],
          "heatmapgl": [
           {
            "colorbar": {
             "outlinewidth": 0,
             "ticks": ""
            },
            "colorscale": [
             [
              0,
              "#0d0887"
             ],
             [
              0.1111111111111111,
              "#46039f"
             ],
             [
              0.2222222222222222,
              "#7201a8"
             ],
             [
              0.3333333333333333,
              "#9c179e"
             ],
             [
              0.4444444444444444,
              "#bd3786"
             ],
             [
              0.5555555555555556,
              "#d8576b"
             ],
             [
              0.6666666666666666,
              "#ed7953"
             ],
             [
              0.7777777777777778,
              "#fb9f3a"
             ],
             [
              0.8888888888888888,
              "#fdca26"
             ],
             [
              1,
              "#f0f921"
             ]
            ],
            "type": "heatmapgl"
           }
          ],
          "histogram": [
           {
            "marker": {
             "pattern": {
              "fillmode": "overlay",
              "size": 10,
              "solidity": 0.2
             }
            },
            "type": "histogram"
           }
          ],
          "histogram2d": [
           {
            "colorbar": {
             "outlinewidth": 0,
             "ticks": ""
            },
            "colorscale": [
             [
              0,
              "#0d0887"
             ],
             [
              0.1111111111111111,
              "#46039f"
             ],
             [
              0.2222222222222222,
              "#7201a8"
             ],
             [
              0.3333333333333333,
              "#9c179e"
             ],
             [
              0.4444444444444444,
              "#bd3786"
             ],
             [
              0.5555555555555556,
              "#d8576b"
             ],
             [
              0.6666666666666666,
              "#ed7953"
             ],
             [
              0.7777777777777778,
              "#fb9f3a"
             ],
             [
              0.8888888888888888,
              "#fdca26"
             ],
             [
              1,
              "#f0f921"
             ]
            ],
            "type": "histogram2d"
           }
          ],
          "histogram2dcontour": [
           {
            "colorbar": {
             "outlinewidth": 0,
             "ticks": ""
            },
            "colorscale": [
             [
              0,
              "#0d0887"
             ],
             [
              0.1111111111111111,
              "#46039f"
             ],
             [
              0.2222222222222222,
              "#7201a8"
             ],
             [
              0.3333333333333333,
              "#9c179e"
             ],
             [
              0.4444444444444444,
              "#bd3786"
             ],
             [
              0.5555555555555556,
              "#d8576b"
             ],
             [
              0.6666666666666666,
              "#ed7953"
             ],
             [
              0.7777777777777778,
              "#fb9f3a"
             ],
             [
              0.8888888888888888,
              "#fdca26"
             ],
             [
              1,
              "#f0f921"
             ]
            ],
            "type": "histogram2dcontour"
           }
          ],
          "mesh3d": [
           {
            "colorbar": {
             "outlinewidth": 0,
             "ticks": ""
            },
            "type": "mesh3d"
           }
          ],
          "parcoords": [
           {
            "line": {
             "colorbar": {
              "outlinewidth": 0,
              "ticks": ""
             }
            },
            "type": "parcoords"
           }
          ],
          "pie": [
           {
            "automargin": true,
            "type": "pie"
           }
          ],
          "scatter": [
           {
            "fillpattern": {
             "fillmode": "overlay",
             "size": 10,
             "solidity": 0.2
            },
            "type": "scatter"
           }
          ],
          "scatter3d": [
           {
            "line": {
             "colorbar": {
              "outlinewidth": 0,
              "ticks": ""
             }
            },
            "marker": {
             "colorbar": {
              "outlinewidth": 0,
              "ticks": ""
             }
            },
            "type": "scatter3d"
           }
          ],
          "scattercarpet": [
           {
            "marker": {
             "colorbar": {
              "outlinewidth": 0,
              "ticks": ""
             }
            },
            "type": "scattercarpet"
           }
          ],
          "scattergeo": [
           {
            "marker": {
             "colorbar": {
              "outlinewidth": 0,
              "ticks": ""
             }
            },
            "type": "scattergeo"
           }
          ],
          "scattergl": [
           {
            "marker": {
             "colorbar": {
              "outlinewidth": 0,
              "ticks": ""
             }
            },
            "type": "scattergl"
           }
          ],
          "scattermapbox": [
           {
            "marker": {
             "colorbar": {
              "outlinewidth": 0,
              "ticks": ""
             }
            },
            "type": "scattermapbox"
           }
          ],
          "scatterpolar": [
           {
            "marker": {
             "colorbar": {
              "outlinewidth": 0,
              "ticks": ""
             }
            },
            "type": "scatterpolar"
           }
          ],
          "scatterpolargl": [
           {
            "marker": {
             "colorbar": {
              "outlinewidth": 0,
              "ticks": ""
             }
            },
            "type": "scatterpolargl"
           }
          ],
          "scatterternary": [
           {
            "marker": {
             "colorbar": {
              "outlinewidth": 0,
              "ticks": ""
             }
            },
            "type": "scatterternary"
           }
          ],
          "surface": [
           {
            "colorbar": {
             "outlinewidth": 0,
             "ticks": ""
            },
            "colorscale": [
             [
              0,
              "#0d0887"
             ],
             [
              0.1111111111111111,
              "#46039f"
             ],
             [
              0.2222222222222222,
              "#7201a8"
             ],
             [
              0.3333333333333333,
              "#9c179e"
             ],
             [
              0.4444444444444444,
              "#bd3786"
             ],
             [
              0.5555555555555556,
              "#d8576b"
             ],
             [
              0.6666666666666666,
              "#ed7953"
             ],
             [
              0.7777777777777778,
              "#fb9f3a"
             ],
             [
              0.8888888888888888,
              "#fdca26"
             ],
             [
              1,
              "#f0f921"
             ]
            ],
            "type": "surface"
           }
          ],
          "table": [
           {
            "cells": {
             "fill": {
              "color": "#EBF0F8"
             },
             "line": {
              "color": "white"
             }
            },
            "header": {
             "fill": {
              "color": "#C8D4E3"
             },
             "line": {
              "color": "white"
             }
            },
            "type": "table"
           }
          ]
         },
         "layout": {
          "annotationdefaults": {
           "arrowcolor": "#2a3f5f",
           "arrowhead": 0,
           "arrowwidth": 1
          },
          "autotypenumbers": "strict",
          "coloraxis": {
           "colorbar": {
            "outlinewidth": 0,
            "ticks": ""
           }
          },
          "colorscale": {
           "diverging": [
            [
             0,
             "#8e0152"
            ],
            [
             0.1,
             "#c51b7d"
            ],
            [
             0.2,
             "#de77ae"
            ],
            [
             0.3,
             "#f1b6da"
            ],
            [
             0.4,
             "#fde0ef"
            ],
            [
             0.5,
             "#f7f7f7"
            ],
            [
             0.6,
             "#e6f5d0"
            ],
            [
             0.7,
             "#b8e186"
            ],
            [
             0.8,
             "#7fbc41"
            ],
            [
             0.9,
             "#4d9221"
            ],
            [
             1,
             "#276419"
            ]
           ],
           "sequential": [
            [
             0,
             "#0d0887"
            ],
            [
             0.1111111111111111,
             "#46039f"
            ],
            [
             0.2222222222222222,
             "#7201a8"
            ],
            [
             0.3333333333333333,
             "#9c179e"
            ],
            [
             0.4444444444444444,
             "#bd3786"
            ],
            [
             0.5555555555555556,
             "#d8576b"
            ],
            [
             0.6666666666666666,
             "#ed7953"
            ],
            [
             0.7777777777777778,
             "#fb9f3a"
            ],
            [
             0.8888888888888888,
             "#fdca26"
            ],
            [
             1,
             "#f0f921"
            ]
           ],
           "sequentialminus": [
            [
             0,
             "#0d0887"
            ],
            [
             0.1111111111111111,
             "#46039f"
            ],
            [
             0.2222222222222222,
             "#7201a8"
            ],
            [
             0.3333333333333333,
             "#9c179e"
            ],
            [
             0.4444444444444444,
             "#bd3786"
            ],
            [
             0.5555555555555556,
             "#d8576b"
            ],
            [
             0.6666666666666666,
             "#ed7953"
            ],
            [
             0.7777777777777778,
             "#fb9f3a"
            ],
            [
             0.8888888888888888,
             "#fdca26"
            ],
            [
             1,
             "#f0f921"
            ]
           ]
          },
          "colorway": [
           "#636efa",
           "#EF553B",
           "#00cc96",
           "#ab63fa",
           "#FFA15A",
           "#19d3f3",
           "#FF6692",
           "#B6E880",
           "#FF97FF",
           "#FECB52"
          ],
          "font": {
           "color": "#2a3f5f"
          },
          "geo": {
           "bgcolor": "white",
           "lakecolor": "white",
           "landcolor": "#E5ECF6",
           "showlakes": true,
           "showland": true,
           "subunitcolor": "white"
          },
          "hoverlabel": {
           "align": "left"
          },
          "hovermode": "closest",
          "mapbox": {
           "style": "light"
          },
          "paper_bgcolor": "white",
          "plot_bgcolor": "#E5ECF6",
          "polar": {
           "angularaxis": {
            "gridcolor": "white",
            "linecolor": "white",
            "ticks": ""
           },
           "bgcolor": "#E5ECF6",
           "radialaxis": {
            "gridcolor": "white",
            "linecolor": "white",
            "ticks": ""
           }
          },
          "scene": {
           "xaxis": {
            "backgroundcolor": "#E5ECF6",
            "gridcolor": "white",
            "gridwidth": 2,
            "linecolor": "white",
            "showbackground": true,
            "ticks": "",
            "zerolinecolor": "white"
           },
           "yaxis": {
            "backgroundcolor": "#E5ECF6",
            "gridcolor": "white",
            "gridwidth": 2,
            "linecolor": "white",
            "showbackground": true,
            "ticks": "",
            "zerolinecolor": "white"
           },
           "zaxis": {
            "backgroundcolor": "#E5ECF6",
            "gridcolor": "white",
            "gridwidth": 2,
            "linecolor": "white",
            "showbackground": true,
            "ticks": "",
            "zerolinecolor": "white"
           }
          },
          "shapedefaults": {
           "line": {
            "color": "#2a3f5f"
           }
          },
          "ternary": {
           "aaxis": {
            "gridcolor": "white",
            "linecolor": "white",
            "ticks": ""
           },
           "baxis": {
            "gridcolor": "white",
            "linecolor": "white",
            "ticks": ""
           },
           "bgcolor": "#E5ECF6",
           "caxis": {
            "gridcolor": "white",
            "linecolor": "white",
            "ticks": ""
           }
          },
          "title": {
           "x": 0.05
          },
          "xaxis": {
           "automargin": true,
           "gridcolor": "white",
           "linecolor": "white",
           "ticks": "",
           "title": {
            "standoff": 15
           },
           "zerolinecolor": "white",
           "zerolinewidth": 2
          },
          "yaxis": {
           "automargin": true,
           "gridcolor": "white",
           "linecolor": "white",
           "ticks": "",
           "title": {
            "standoff": 15
           },
           "zerolinecolor": "white",
           "zerolinewidth": 2
          }
         }
        },
        "title": {
         "text": "Análisis Acusado"
        }
       }
      }
     },
     "metadata": {},
     "output_type": "display_data"
    }
   ],
   "source": [
    "showPiePx(conjunto.query(\"acusado != 'SD'\")['acusado'], title=\"Análisis Acusado\", max=7)"
   ]
  },
  {
   "cell_type": "markdown",
   "metadata": {},
   "source": [
    "Los automóvilistas son los mayores involucrados como culpables en los siniestros."
   ]
  },
  {
   "cell_type": "code",
   "execution_count": 151,
   "metadata": {},
   "outputs": [
    {
     "data": {
      "application/vnd.plotly.v1+json": {
       "config": {
        "plotlyServerURL": "https://plot.ly"
       },
       "data": [
        {
         "domain": {
          "x": [
           0,
           1
          ],
          "y": [
           0,
           1
          ]
         },
         "hovertemplate": "valor=%{label}<br>ocurrencia=%{value}<extra></extra>",
         "labels": [
          "MOTO-AUTO",
          "CICLISTA-AUTO",
          "PEATON-AUTO",
          "AUTO-AUTO",
          "MOTO-CAMIONETA",
          "TRANSPORTE PUBLICO-TRANSPORTE PUBLICO",
          "PEATON-MOTO",
          "Otros"
         ],
         "legendgroup": "",
         "name": "",
         "showlegend": true,
         "textinfo": "percent+label",
         "textposition": "outside",
         "type": "pie",
         "values": [
          2332,
          795,
          736,
          597,
          405,
          349,
          276,
          3468
         ]
        }
       ],
       "layout": {
        "legend": {
         "tracegroupgap": 0
        },
        "margin": {
         "t": 60
        },
        "template": {
         "data": {
          "bar": [
           {
            "error_x": {
             "color": "#2a3f5f"
            },
            "error_y": {
             "color": "#2a3f5f"
            },
            "marker": {
             "line": {
              "color": "#E5ECF6",
              "width": 0.5
             },
             "pattern": {
              "fillmode": "overlay",
              "size": 10,
              "solidity": 0.2
             }
            },
            "type": "bar"
           }
          ],
          "barpolar": [
           {
            "marker": {
             "line": {
              "color": "#E5ECF6",
              "width": 0.5
             },
             "pattern": {
              "fillmode": "overlay",
              "size": 10,
              "solidity": 0.2
             }
            },
            "type": "barpolar"
           }
          ],
          "carpet": [
           {
            "aaxis": {
             "endlinecolor": "#2a3f5f",
             "gridcolor": "white",
             "linecolor": "white",
             "minorgridcolor": "white",
             "startlinecolor": "#2a3f5f"
            },
            "baxis": {
             "endlinecolor": "#2a3f5f",
             "gridcolor": "white",
             "linecolor": "white",
             "minorgridcolor": "white",
             "startlinecolor": "#2a3f5f"
            },
            "type": "carpet"
           }
          ],
          "choropleth": [
           {
            "colorbar": {
             "outlinewidth": 0,
             "ticks": ""
            },
            "type": "choropleth"
           }
          ],
          "contour": [
           {
            "colorbar": {
             "outlinewidth": 0,
             "ticks": ""
            },
            "colorscale": [
             [
              0,
              "#0d0887"
             ],
             [
              0.1111111111111111,
              "#46039f"
             ],
             [
              0.2222222222222222,
              "#7201a8"
             ],
             [
              0.3333333333333333,
              "#9c179e"
             ],
             [
              0.4444444444444444,
              "#bd3786"
             ],
             [
              0.5555555555555556,
              "#d8576b"
             ],
             [
              0.6666666666666666,
              "#ed7953"
             ],
             [
              0.7777777777777778,
              "#fb9f3a"
             ],
             [
              0.8888888888888888,
              "#fdca26"
             ],
             [
              1,
              "#f0f921"
             ]
            ],
            "type": "contour"
           }
          ],
          "contourcarpet": [
           {
            "colorbar": {
             "outlinewidth": 0,
             "ticks": ""
            },
            "type": "contourcarpet"
           }
          ],
          "heatmap": [
           {
            "colorbar": {
             "outlinewidth": 0,
             "ticks": ""
            },
            "colorscale": [
             [
              0,
              "#0d0887"
             ],
             [
              0.1111111111111111,
              "#46039f"
             ],
             [
              0.2222222222222222,
              "#7201a8"
             ],
             [
              0.3333333333333333,
              "#9c179e"
             ],
             [
              0.4444444444444444,
              "#bd3786"
             ],
             [
              0.5555555555555556,
              "#d8576b"
             ],
             [
              0.6666666666666666,
              "#ed7953"
             ],
             [
              0.7777777777777778,
              "#fb9f3a"
             ],
             [
              0.8888888888888888,
              "#fdca26"
             ],
             [
              1,
              "#f0f921"
             ]
            ],
            "type": "heatmap"
           }
          ],
          "heatmapgl": [
           {
            "colorbar": {
             "outlinewidth": 0,
             "ticks": ""
            },
            "colorscale": [
             [
              0,
              "#0d0887"
             ],
             [
              0.1111111111111111,
              "#46039f"
             ],
             [
              0.2222222222222222,
              "#7201a8"
             ],
             [
              0.3333333333333333,
              "#9c179e"
             ],
             [
              0.4444444444444444,
              "#bd3786"
             ],
             [
              0.5555555555555556,
              "#d8576b"
             ],
             [
              0.6666666666666666,
              "#ed7953"
             ],
             [
              0.7777777777777778,
              "#fb9f3a"
             ],
             [
              0.8888888888888888,
              "#fdca26"
             ],
             [
              1,
              "#f0f921"
             ]
            ],
            "type": "heatmapgl"
           }
          ],
          "histogram": [
           {
            "marker": {
             "pattern": {
              "fillmode": "overlay",
              "size": 10,
              "solidity": 0.2
             }
            },
            "type": "histogram"
           }
          ],
          "histogram2d": [
           {
            "colorbar": {
             "outlinewidth": 0,
             "ticks": ""
            },
            "colorscale": [
             [
              0,
              "#0d0887"
             ],
             [
              0.1111111111111111,
              "#46039f"
             ],
             [
              0.2222222222222222,
              "#7201a8"
             ],
             [
              0.3333333333333333,
              "#9c179e"
             ],
             [
              0.4444444444444444,
              "#bd3786"
             ],
             [
              0.5555555555555556,
              "#d8576b"
             ],
             [
              0.6666666666666666,
              "#ed7953"
             ],
             [
              0.7777777777777778,
              "#fb9f3a"
             ],
             [
              0.8888888888888888,
              "#fdca26"
             ],
             [
              1,
              "#f0f921"
             ]
            ],
            "type": "histogram2d"
           }
          ],
          "histogram2dcontour": [
           {
            "colorbar": {
             "outlinewidth": 0,
             "ticks": ""
            },
            "colorscale": [
             [
              0,
              "#0d0887"
             ],
             [
              0.1111111111111111,
              "#46039f"
             ],
             [
              0.2222222222222222,
              "#7201a8"
             ],
             [
              0.3333333333333333,
              "#9c179e"
             ],
             [
              0.4444444444444444,
              "#bd3786"
             ],
             [
              0.5555555555555556,
              "#d8576b"
             ],
             [
              0.6666666666666666,
              "#ed7953"
             ],
             [
              0.7777777777777778,
              "#fb9f3a"
             ],
             [
              0.8888888888888888,
              "#fdca26"
             ],
             [
              1,
              "#f0f921"
             ]
            ],
            "type": "histogram2dcontour"
           }
          ],
          "mesh3d": [
           {
            "colorbar": {
             "outlinewidth": 0,
             "ticks": ""
            },
            "type": "mesh3d"
           }
          ],
          "parcoords": [
           {
            "line": {
             "colorbar": {
              "outlinewidth": 0,
              "ticks": ""
             }
            },
            "type": "parcoords"
           }
          ],
          "pie": [
           {
            "automargin": true,
            "type": "pie"
           }
          ],
          "scatter": [
           {
            "fillpattern": {
             "fillmode": "overlay",
             "size": 10,
             "solidity": 0.2
            },
            "type": "scatter"
           }
          ],
          "scatter3d": [
           {
            "line": {
             "colorbar": {
              "outlinewidth": 0,
              "ticks": ""
             }
            },
            "marker": {
             "colorbar": {
              "outlinewidth": 0,
              "ticks": ""
             }
            },
            "type": "scatter3d"
           }
          ],
          "scattercarpet": [
           {
            "marker": {
             "colorbar": {
              "outlinewidth": 0,
              "ticks": ""
             }
            },
            "type": "scattercarpet"
           }
          ],
          "scattergeo": [
           {
            "marker": {
             "colorbar": {
              "outlinewidth": 0,
              "ticks": ""
             }
            },
            "type": "scattergeo"
           }
          ],
          "scattergl": [
           {
            "marker": {
             "colorbar": {
              "outlinewidth": 0,
              "ticks": ""
             }
            },
            "type": "scattergl"
           }
          ],
          "scattermapbox": [
           {
            "marker": {
             "colorbar": {
              "outlinewidth": 0,
              "ticks": ""
             }
            },
            "type": "scattermapbox"
           }
          ],
          "scatterpolar": [
           {
            "marker": {
             "colorbar": {
              "outlinewidth": 0,
              "ticks": ""
             }
            },
            "type": "scatterpolar"
           }
          ],
          "scatterpolargl": [
           {
            "marker": {
             "colorbar": {
              "outlinewidth": 0,
              "ticks": ""
             }
            },
            "type": "scatterpolargl"
           }
          ],
          "scatterternary": [
           {
            "marker": {
             "colorbar": {
              "outlinewidth": 0,
              "ticks": ""
             }
            },
            "type": "scatterternary"
           }
          ],
          "surface": [
           {
            "colorbar": {
             "outlinewidth": 0,
             "ticks": ""
            },
            "colorscale": [
             [
              0,
              "#0d0887"
             ],
             [
              0.1111111111111111,
              "#46039f"
             ],
             [
              0.2222222222222222,
              "#7201a8"
             ],
             [
              0.3333333333333333,
              "#9c179e"
             ],
             [
              0.4444444444444444,
              "#bd3786"
             ],
             [
              0.5555555555555556,
              "#d8576b"
             ],
             [
              0.6666666666666666,
              "#ed7953"
             ],
             [
              0.7777777777777778,
              "#fb9f3a"
             ],
             [
              0.8888888888888888,
              "#fdca26"
             ],
             [
              1,
              "#f0f921"
             ]
            ],
            "type": "surface"
           }
          ],
          "table": [
           {
            "cells": {
             "fill": {
              "color": "#EBF0F8"
             },
             "line": {
              "color": "white"
             }
            },
            "header": {
             "fill": {
              "color": "#C8D4E3"
             },
             "line": {
              "color": "white"
             }
            },
            "type": "table"
           }
          ]
         },
         "layout": {
          "annotationdefaults": {
           "arrowcolor": "#2a3f5f",
           "arrowhead": 0,
           "arrowwidth": 1
          },
          "autotypenumbers": "strict",
          "coloraxis": {
           "colorbar": {
            "outlinewidth": 0,
            "ticks": ""
           }
          },
          "colorscale": {
           "diverging": [
            [
             0,
             "#8e0152"
            ],
            [
             0.1,
             "#c51b7d"
            ],
            [
             0.2,
             "#de77ae"
            ],
            [
             0.3,
             "#f1b6da"
            ],
            [
             0.4,
             "#fde0ef"
            ],
            [
             0.5,
             "#f7f7f7"
            ],
            [
             0.6,
             "#e6f5d0"
            ],
            [
             0.7,
             "#b8e186"
            ],
            [
             0.8,
             "#7fbc41"
            ],
            [
             0.9,
             "#4d9221"
            ],
            [
             1,
             "#276419"
            ]
           ],
           "sequential": [
            [
             0,
             "#0d0887"
            ],
            [
             0.1111111111111111,
             "#46039f"
            ],
            [
             0.2222222222222222,
             "#7201a8"
            ],
            [
             0.3333333333333333,
             "#9c179e"
            ],
            [
             0.4444444444444444,
             "#bd3786"
            ],
            [
             0.5555555555555556,
             "#d8576b"
            ],
            [
             0.6666666666666666,
             "#ed7953"
            ],
            [
             0.7777777777777778,
             "#fb9f3a"
            ],
            [
             0.8888888888888888,
             "#fdca26"
            ],
            [
             1,
             "#f0f921"
            ]
           ],
           "sequentialminus": [
            [
             0,
             "#0d0887"
            ],
            [
             0.1111111111111111,
             "#46039f"
            ],
            [
             0.2222222222222222,
             "#7201a8"
            ],
            [
             0.3333333333333333,
             "#9c179e"
            ],
            [
             0.4444444444444444,
             "#bd3786"
            ],
            [
             0.5555555555555556,
             "#d8576b"
            ],
            [
             0.6666666666666666,
             "#ed7953"
            ],
            [
             0.7777777777777778,
             "#fb9f3a"
            ],
            [
             0.8888888888888888,
             "#fdca26"
            ],
            [
             1,
             "#f0f921"
            ]
           ]
          },
          "colorway": [
           "#636efa",
           "#EF553B",
           "#00cc96",
           "#ab63fa",
           "#FFA15A",
           "#19d3f3",
           "#FF6692",
           "#B6E880",
           "#FF97FF",
           "#FECB52"
          ],
          "font": {
           "color": "#2a3f5f"
          },
          "geo": {
           "bgcolor": "white",
           "lakecolor": "white",
           "landcolor": "#E5ECF6",
           "showlakes": true,
           "showland": true,
           "subunitcolor": "white"
          },
          "hoverlabel": {
           "align": "left"
          },
          "hovermode": "closest",
          "mapbox": {
           "style": "light"
          },
          "paper_bgcolor": "white",
          "plot_bgcolor": "#E5ECF6",
          "polar": {
           "angularaxis": {
            "gridcolor": "white",
            "linecolor": "white",
            "ticks": ""
           },
           "bgcolor": "#E5ECF6",
           "radialaxis": {
            "gridcolor": "white",
            "linecolor": "white",
            "ticks": ""
           }
          },
          "scene": {
           "xaxis": {
            "backgroundcolor": "#E5ECF6",
            "gridcolor": "white",
            "gridwidth": 2,
            "linecolor": "white",
            "showbackground": true,
            "ticks": "",
            "zerolinecolor": "white"
           },
           "yaxis": {
            "backgroundcolor": "#E5ECF6",
            "gridcolor": "white",
            "gridwidth": 2,
            "linecolor": "white",
            "showbackground": true,
            "ticks": "",
            "zerolinecolor": "white"
           },
           "zaxis": {
            "backgroundcolor": "#E5ECF6",
            "gridcolor": "white",
            "gridwidth": 2,
            "linecolor": "white",
            "showbackground": true,
            "ticks": "",
            "zerolinecolor": "white"
           }
          },
          "shapedefaults": {
           "line": {
            "color": "#2a3f5f"
           }
          },
          "ternary": {
           "aaxis": {
            "gridcolor": "white",
            "linecolor": "white",
            "ticks": ""
           },
           "baxis": {
            "gridcolor": "white",
            "linecolor": "white",
            "ticks": ""
           },
           "bgcolor": "#E5ECF6",
           "caxis": {
            "gridcolor": "white",
            "linecolor": "white",
            "ticks": ""
           }
          },
          "title": {
           "x": 0.05
          },
          "xaxis": {
           "automargin": true,
           "gridcolor": "white",
           "linecolor": "white",
           "ticks": "",
           "title": {
            "standoff": 15
           },
           "zerolinecolor": "white",
           "zerolinewidth": 2
          },
          "yaxis": {
           "automargin": true,
           "gridcolor": "white",
           "linecolor": "white",
           "ticks": "",
           "title": {
            "standoff": 15
           },
           "zerolinecolor": "white",
           "zerolinewidth": 2
          }
         }
        }
       }
      }
     },
     "metadata": {},
     "output_type": "display_data"
    }
   ],
   "source": [
    "showPiePx(conjunto[~conjunto['participantes'].str.contains('SD')]['participantes'], max=7)"
   ]
  },
  {
   "cell_type": "markdown",
   "metadata": {},
   "source": [
    "Vemos que la dupla MOTO-AUTO es la que más sufre siniestros, seguidos por CICLISTA-AUTO y PEATÓN AUTO, seguido de una gran heterogeneidad de casos."
   ]
  },
  {
   "cell_type": "code",
   "execution_count": 124,
   "metadata": {},
   "outputs": [],
   "source": [
    "# data['ACUSADO'].corr(data['VICTIMA'])"
   ]
  },
  {
   "cell_type": "code",
   "execution_count": null,
   "metadata": {},
   "outputs": [],
   "source": []
  },
  {
   "cell_type": "code",
   "execution_count": null,
   "metadata": {},
   "outputs": [],
   "source": [
    "# %pip install ipywidgets"
   ]
  },
  {
   "cell_type": "code",
   "execution_count": 157,
   "metadata": {},
   "outputs": [
    {
     "data": {
      "text/html": [
       "<div>\n",
       "<style scoped>\n",
       "    .dataframe tbody tr th:only-of-type {\n",
       "        vertical-align: middle;\n",
       "    }\n",
       "\n",
       "    .dataframe tbody tr th {\n",
       "        vertical-align: top;\n",
       "    }\n",
       "\n",
       "    .dataframe thead th {\n",
       "        text-align: right;\n",
       "    }\n",
       "</style>\n",
       "<table border=\"1\" class=\"dataframe\">\n",
       "  <thead>\n",
       "    <tr style=\"text-align: right;\">\n",
       "      <th>acusado</th>\n",
       "      <th>AUTO</th>\n",
       "      <th>BICICLETA</th>\n",
       "      <th>CAMION</th>\n",
       "      <th>CAMIONETA</th>\n",
       "      <th>CARGAS</th>\n",
       "      <th>CICLISTA</th>\n",
       "      <th>MONOPATIN</th>\n",
       "      <th>MOTO</th>\n",
       "      <th>MOVIL</th>\n",
       "      <th>MULTIPLE</th>\n",
       "      <th>OBJETO FIJO</th>\n",
       "      <th>OTRO</th>\n",
       "      <th>PASAJEROS</th>\n",
       "      <th>PEATON</th>\n",
       "      <th>SD</th>\n",
       "      <th>TAXI</th>\n",
       "      <th>TRANSPORTE PUBLICO</th>\n",
       "      <th>TREN</th>\n",
       "      <th>UTILITARIO</th>\n",
       "    </tr>\n",
       "    <tr>\n",
       "      <th>victima</th>\n",
       "      <th></th>\n",
       "      <th></th>\n",
       "      <th></th>\n",
       "      <th></th>\n",
       "      <th></th>\n",
       "      <th></th>\n",
       "      <th></th>\n",
       "      <th></th>\n",
       "      <th></th>\n",
       "      <th></th>\n",
       "      <th></th>\n",
       "      <th></th>\n",
       "      <th></th>\n",
       "      <th></th>\n",
       "      <th></th>\n",
       "      <th></th>\n",
       "      <th></th>\n",
       "      <th></th>\n",
       "      <th></th>\n",
       "    </tr>\n",
       "  </thead>\n",
       "  <tbody>\n",
       "    <tr>\n",
       "      <th>AUTO</th>\n",
       "      <td>597</td>\n",
       "      <td>0</td>\n",
       "      <td>59</td>\n",
       "      <td>120</td>\n",
       "      <td>14</td>\n",
       "      <td>1</td>\n",
       "      <td>0</td>\n",
       "      <td>16</td>\n",
       "      <td>18</td>\n",
       "      <td>3</td>\n",
       "      <td>93</td>\n",
       "      <td>6</td>\n",
       "      <td>9</td>\n",
       "      <td>0</td>\n",
       "      <td>1051</td>\n",
       "      <td>47</td>\n",
       "      <td>79</td>\n",
       "      <td>0</td>\n",
       "      <td>3</td>\n",
       "    </tr>\n",
       "    <tr>\n",
       "      <th>BICICLETA</th>\n",
       "      <td>8</td>\n",
       "      <td>0</td>\n",
       "      <td>0</td>\n",
       "      <td>0</td>\n",
       "      <td>10</td>\n",
       "      <td>0</td>\n",
       "      <td>0</td>\n",
       "      <td>0</td>\n",
       "      <td>0</td>\n",
       "      <td>1</td>\n",
       "      <td>0</td>\n",
       "      <td>1</td>\n",
       "      <td>8</td>\n",
       "      <td>0</td>\n",
       "      <td>0</td>\n",
       "      <td>0</td>\n",
       "      <td>0</td>\n",
       "      <td>1</td>\n",
       "      <td>0</td>\n",
       "    </tr>\n",
       "    <tr>\n",
       "      <th>CAMION</th>\n",
       "      <td>6</td>\n",
       "      <td>0</td>\n",
       "      <td>8</td>\n",
       "      <td>0</td>\n",
       "      <td>0</td>\n",
       "      <td>0</td>\n",
       "      <td>0</td>\n",
       "      <td>1</td>\n",
       "      <td>0</td>\n",
       "      <td>0</td>\n",
       "      <td>6</td>\n",
       "      <td>0</td>\n",
       "      <td>0</td>\n",
       "      <td>0</td>\n",
       "      <td>54</td>\n",
       "      <td>0</td>\n",
       "      <td>4</td>\n",
       "      <td>0</td>\n",
       "      <td>0</td>\n",
       "    </tr>\n",
       "    <tr>\n",
       "      <th>CAMIONETA</th>\n",
       "      <td>64</td>\n",
       "      <td>0</td>\n",
       "      <td>11</td>\n",
       "      <td>18</td>\n",
       "      <td>0</td>\n",
       "      <td>0</td>\n",
       "      <td>0</td>\n",
       "      <td>2</td>\n",
       "      <td>0</td>\n",
       "      <td>0</td>\n",
       "      <td>10</td>\n",
       "      <td>0</td>\n",
       "      <td>0</td>\n",
       "      <td>0</td>\n",
       "      <td>62</td>\n",
       "      <td>3</td>\n",
       "      <td>19</td>\n",
       "      <td>0</td>\n",
       "      <td>0</td>\n",
       "    </tr>\n",
       "    <tr>\n",
       "      <th>CARGAS</th>\n",
       "      <td>1</td>\n",
       "      <td>0</td>\n",
       "      <td>0</td>\n",
       "      <td>0</td>\n",
       "      <td>4</td>\n",
       "      <td>0</td>\n",
       "      <td>0</td>\n",
       "      <td>0</td>\n",
       "      <td>0</td>\n",
       "      <td>0</td>\n",
       "      <td>1</td>\n",
       "      <td>0</td>\n",
       "      <td>1</td>\n",
       "      <td>0</td>\n",
       "      <td>0</td>\n",
       "      <td>0</td>\n",
       "      <td>0</td>\n",
       "      <td>0</td>\n",
       "      <td>0</td>\n",
       "    </tr>\n",
       "    <tr>\n",
       "      <th>CICLISTA</th>\n",
       "      <td>795</td>\n",
       "      <td>0</td>\n",
       "      <td>31</td>\n",
       "      <td>163</td>\n",
       "      <td>0</td>\n",
       "      <td>25</td>\n",
       "      <td>0</td>\n",
       "      <td>97</td>\n",
       "      <td>7</td>\n",
       "      <td>0</td>\n",
       "      <td>24</td>\n",
       "      <td>3</td>\n",
       "      <td>0</td>\n",
       "      <td>4</td>\n",
       "      <td>804</td>\n",
       "      <td>133</td>\n",
       "      <td>118</td>\n",
       "      <td>0</td>\n",
       "      <td>4</td>\n",
       "    </tr>\n",
       "    <tr>\n",
       "      <th>MIXTO</th>\n",
       "      <td>12</td>\n",
       "      <td>0</td>\n",
       "      <td>4</td>\n",
       "      <td>2</td>\n",
       "      <td>0</td>\n",
       "      <td>0</td>\n",
       "      <td>0</td>\n",
       "      <td>2</td>\n",
       "      <td>0</td>\n",
       "      <td>0</td>\n",
       "      <td>0</td>\n",
       "      <td>0</td>\n",
       "      <td>0</td>\n",
       "      <td>0</td>\n",
       "      <td>3</td>\n",
       "      <td>2</td>\n",
       "      <td>17</td>\n",
       "      <td>0</td>\n",
       "      <td>0</td>\n",
       "    </tr>\n",
       "    <tr>\n",
       "      <th>MONOPATIN</th>\n",
       "      <td>9</td>\n",
       "      <td>0</td>\n",
       "      <td>0</td>\n",
       "      <td>1</td>\n",
       "      <td>0</td>\n",
       "      <td>1</td>\n",
       "      <td>0</td>\n",
       "      <td>2</td>\n",
       "      <td>0</td>\n",
       "      <td>0</td>\n",
       "      <td>2</td>\n",
       "      <td>0</td>\n",
       "      <td>0</td>\n",
       "      <td>0</td>\n",
       "      <td>6</td>\n",
       "      <td>6</td>\n",
       "      <td>1</td>\n",
       "      <td>0</td>\n",
       "      <td>0</td>\n",
       "    </tr>\n",
       "    <tr>\n",
       "      <th>MOTO</th>\n",
       "      <td>2332</td>\n",
       "      <td>2</td>\n",
       "      <td>106</td>\n",
       "      <td>405</td>\n",
       "      <td>78</td>\n",
       "      <td>19</td>\n",
       "      <td>2</td>\n",
       "      <td>242</td>\n",
       "      <td>36</td>\n",
       "      <td>8</td>\n",
       "      <td>188</td>\n",
       "      <td>15</td>\n",
       "      <td>46</td>\n",
       "      <td>9</td>\n",
       "      <td>1807</td>\n",
       "      <td>268</td>\n",
       "      <td>170</td>\n",
       "      <td>0</td>\n",
       "      <td>14</td>\n",
       "    </tr>\n",
       "    <tr>\n",
       "      <th>MOVIL</th>\n",
       "      <td>39</td>\n",
       "      <td>0</td>\n",
       "      <td>3</td>\n",
       "      <td>10</td>\n",
       "      <td>1</td>\n",
       "      <td>0</td>\n",
       "      <td>0</td>\n",
       "      <td>1</td>\n",
       "      <td>2</td>\n",
       "      <td>0</td>\n",
       "      <td>4</td>\n",
       "      <td>0</td>\n",
       "      <td>1</td>\n",
       "      <td>0</td>\n",
       "      <td>28</td>\n",
       "      <td>3</td>\n",
       "      <td>9</td>\n",
       "      <td>0</td>\n",
       "      <td>1</td>\n",
       "    </tr>\n",
       "    <tr>\n",
       "      <th>OBJETO FIJO</th>\n",
       "      <td>1</td>\n",
       "      <td>0</td>\n",
       "      <td>0</td>\n",
       "      <td>0</td>\n",
       "      <td>0</td>\n",
       "      <td>0</td>\n",
       "      <td>0</td>\n",
       "      <td>0</td>\n",
       "      <td>0</td>\n",
       "      <td>0</td>\n",
       "      <td>0</td>\n",
       "      <td>0</td>\n",
       "      <td>0</td>\n",
       "      <td>0</td>\n",
       "      <td>0</td>\n",
       "      <td>0</td>\n",
       "      <td>0</td>\n",
       "      <td>0</td>\n",
       "      <td>0</td>\n",
       "    </tr>\n",
       "    <tr>\n",
       "      <th>OTRO</th>\n",
       "      <td>1</td>\n",
       "      <td>0</td>\n",
       "      <td>1</td>\n",
       "      <td>0</td>\n",
       "      <td>0</td>\n",
       "      <td>0</td>\n",
       "      <td>0</td>\n",
       "      <td>0</td>\n",
       "      <td>0</td>\n",
       "      <td>0</td>\n",
       "      <td>0</td>\n",
       "      <td>0</td>\n",
       "      <td>0</td>\n",
       "      <td>0</td>\n",
       "      <td>10</td>\n",
       "      <td>0</td>\n",
       "      <td>1</td>\n",
       "      <td>0</td>\n",
       "      <td>0</td>\n",
       "    </tr>\n",
       "    <tr>\n",
       "      <th>PASAJEROS</th>\n",
       "      <td>1</td>\n",
       "      <td>0</td>\n",
       "      <td>0</td>\n",
       "      <td>0</td>\n",
       "      <td>0</td>\n",
       "      <td>0</td>\n",
       "      <td>0</td>\n",
       "      <td>0</td>\n",
       "      <td>0</td>\n",
       "      <td>0</td>\n",
       "      <td>0</td>\n",
       "      <td>0</td>\n",
       "      <td>3</td>\n",
       "      <td>0</td>\n",
       "      <td>1</td>\n",
       "      <td>0</td>\n",
       "      <td>0</td>\n",
       "      <td>0</td>\n",
       "      <td>0</td>\n",
       "    </tr>\n",
       "    <tr>\n",
       "      <th>PEATON</th>\n",
       "      <td>736</td>\n",
       "      <td>5</td>\n",
       "      <td>36</td>\n",
       "      <td>107</td>\n",
       "      <td>38</td>\n",
       "      <td>30</td>\n",
       "      <td>1</td>\n",
       "      <td>276</td>\n",
       "      <td>15</td>\n",
       "      <td>5</td>\n",
       "      <td>2</td>\n",
       "      <td>4</td>\n",
       "      <td>105</td>\n",
       "      <td>0</td>\n",
       "      <td>671</td>\n",
       "      <td>96</td>\n",
       "      <td>158</td>\n",
       "      <td>0</td>\n",
       "      <td>5</td>\n",
       "    </tr>\n",
       "    <tr>\n",
       "      <th>PEATON_MOTO</th>\n",
       "      <td>0</td>\n",
       "      <td>0</td>\n",
       "      <td>0</td>\n",
       "      <td>0</td>\n",
       "      <td>0</td>\n",
       "      <td>0</td>\n",
       "      <td>0</td>\n",
       "      <td>1</td>\n",
       "      <td>0</td>\n",
       "      <td>0</td>\n",
       "      <td>0</td>\n",
       "      <td>0</td>\n",
       "      <td>0</td>\n",
       "      <td>0</td>\n",
       "      <td>0</td>\n",
       "      <td>0</td>\n",
       "      <td>0</td>\n",
       "      <td>0</td>\n",
       "      <td>0</td>\n",
       "    </tr>\n",
       "    <tr>\n",
       "      <th>SD</th>\n",
       "      <td>101</td>\n",
       "      <td>0</td>\n",
       "      <td>10</td>\n",
       "      <td>16</td>\n",
       "      <td>1</td>\n",
       "      <td>0</td>\n",
       "      <td>0</td>\n",
       "      <td>25</td>\n",
       "      <td>1</td>\n",
       "      <td>0</td>\n",
       "      <td>2</td>\n",
       "      <td>1</td>\n",
       "      <td>0</td>\n",
       "      <td>0</td>\n",
       "      <td>10528</td>\n",
       "      <td>14</td>\n",
       "      <td>31</td>\n",
       "      <td>0</td>\n",
       "      <td>0</td>\n",
       "    </tr>\n",
       "    <tr>\n",
       "      <th>TAXI</th>\n",
       "      <td>72</td>\n",
       "      <td>0</td>\n",
       "      <td>11</td>\n",
       "      <td>15</td>\n",
       "      <td>0</td>\n",
       "      <td>0</td>\n",
       "      <td>0</td>\n",
       "      <td>1</td>\n",
       "      <td>2</td>\n",
       "      <td>0</td>\n",
       "      <td>8</td>\n",
       "      <td>0</td>\n",
       "      <td>0</td>\n",
       "      <td>0</td>\n",
       "      <td>40</td>\n",
       "      <td>14</td>\n",
       "      <td>19</td>\n",
       "      <td>0</td>\n",
       "      <td>0</td>\n",
       "    </tr>\n",
       "    <tr>\n",
       "      <th>TRANSPORTE PUBLICO</th>\n",
       "      <td>59</td>\n",
       "      <td>0</td>\n",
       "      <td>7</td>\n",
       "      <td>15</td>\n",
       "      <td>0</td>\n",
       "      <td>1</td>\n",
       "      <td>0</td>\n",
       "      <td>16</td>\n",
       "      <td>0</td>\n",
       "      <td>0</td>\n",
       "      <td>1</td>\n",
       "      <td>0</td>\n",
       "      <td>0</td>\n",
       "      <td>0</td>\n",
       "      <td>226</td>\n",
       "      <td>4</td>\n",
       "      <td>349</td>\n",
       "      <td>0</td>\n",
       "      <td>0</td>\n",
       "    </tr>\n",
       "    <tr>\n",
       "      <th>UTILITARIO</th>\n",
       "      <td>1</td>\n",
       "      <td>0</td>\n",
       "      <td>1</td>\n",
       "      <td>0</td>\n",
       "      <td>0</td>\n",
       "      <td>0</td>\n",
       "      <td>0</td>\n",
       "      <td>0</td>\n",
       "      <td>0</td>\n",
       "      <td>0</td>\n",
       "      <td>0</td>\n",
       "      <td>0</td>\n",
       "      <td>0</td>\n",
       "      <td>0</td>\n",
       "      <td>8</td>\n",
       "      <td>1</td>\n",
       "      <td>0</td>\n",
       "      <td>0</td>\n",
       "      <td>1</td>\n",
       "    </tr>\n",
       "  </tbody>\n",
       "</table>\n",
       "</div>"
      ],
      "text/plain": [
       "acusado             AUTO  BICICLETA  CAMION  CAMIONETA  CARGAS  CICLISTA  \\\n",
       "victima                                                                    \n",
       "AUTO                 597          0      59        120      14         1   \n",
       "BICICLETA              8          0       0          0      10         0   \n",
       "CAMION                 6          0       8          0       0         0   \n",
       "CAMIONETA             64          0      11         18       0         0   \n",
       "CARGAS                 1          0       0          0       4         0   \n",
       "CICLISTA             795          0      31        163       0        25   \n",
       "MIXTO                 12          0       4          2       0         0   \n",
       "MONOPATIN              9          0       0          1       0         1   \n",
       "MOTO                2332          2     106        405      78        19   \n",
       "MOVIL                 39          0       3         10       1         0   \n",
       "OBJETO FIJO            1          0       0          0       0         0   \n",
       "OTRO                   1          0       1          0       0         0   \n",
       "PASAJEROS              1          0       0          0       0         0   \n",
       "PEATON               736          5      36        107      38        30   \n",
       "PEATON_MOTO            0          0       0          0       0         0   \n",
       "SD                   101          0      10         16       1         0   \n",
       "TAXI                  72          0      11         15       0         0   \n",
       "TRANSPORTE PUBLICO    59          0       7         15       0         1   \n",
       "UTILITARIO             1          0       1          0       0         0   \n",
       "\n",
       "acusado             MONOPATIN  MOTO  MOVIL  MULTIPLE  OBJETO FIJO  OTRO  \\\n",
       "victima                                                                   \n",
       "AUTO                        0    16     18         3           93     6   \n",
       "BICICLETA                   0     0      0         1            0     1   \n",
       "CAMION                      0     1      0         0            6     0   \n",
       "CAMIONETA                   0     2      0         0           10     0   \n",
       "CARGAS                      0     0      0         0            1     0   \n",
       "CICLISTA                    0    97      7         0           24     3   \n",
       "MIXTO                       0     2      0         0            0     0   \n",
       "MONOPATIN                   0     2      0         0            2     0   \n",
       "MOTO                        2   242     36         8          188    15   \n",
       "MOVIL                       0     1      2         0            4     0   \n",
       "OBJETO FIJO                 0     0      0         0            0     0   \n",
       "OTRO                        0     0      0         0            0     0   \n",
       "PASAJEROS                   0     0      0         0            0     0   \n",
       "PEATON                      1   276     15         5            2     4   \n",
       "PEATON_MOTO                 0     1      0         0            0     0   \n",
       "SD                          0    25      1         0            2     1   \n",
       "TAXI                        0     1      2         0            8     0   \n",
       "TRANSPORTE PUBLICO          0    16      0         0            1     0   \n",
       "UTILITARIO                  0     0      0         0            0     0   \n",
       "\n",
       "acusado             PASAJEROS  PEATON     SD  TAXI  TRANSPORTE PUBLICO  TREN  \\\n",
       "victima                                                                        \n",
       "AUTO                        9       0   1051    47                  79     0   \n",
       "BICICLETA                   8       0      0     0                   0     1   \n",
       "CAMION                      0       0     54     0                   4     0   \n",
       "CAMIONETA                   0       0     62     3                  19     0   \n",
       "CARGAS                      1       0      0     0                   0     0   \n",
       "CICLISTA                    0       4    804   133                 118     0   \n",
       "MIXTO                       0       0      3     2                  17     0   \n",
       "MONOPATIN                   0       0      6     6                   1     0   \n",
       "MOTO                       46       9   1807   268                 170     0   \n",
       "MOVIL                       1       0     28     3                   9     0   \n",
       "OBJETO FIJO                 0       0      0     0                   0     0   \n",
       "OTRO                        0       0     10     0                   1     0   \n",
       "PASAJEROS                   3       0      1     0                   0     0   \n",
       "PEATON                    105       0    671    96                 158     0   \n",
       "PEATON_MOTO                 0       0      0     0                   0     0   \n",
       "SD                          0       0  10528    14                  31     0   \n",
       "TAXI                        0       0     40    14                  19     0   \n",
       "TRANSPORTE PUBLICO          0       0    226     4                 349     0   \n",
       "UTILITARIO                  0       0      8     1                   0     0   \n",
       "\n",
       "acusado             UTILITARIO  \n",
       "victima                         \n",
       "AUTO                         3  \n",
       "BICICLETA                    0  \n",
       "CAMION                       0  \n",
       "CAMIONETA                    0  \n",
       "CARGAS                       0  \n",
       "CICLISTA                     4  \n",
       "MIXTO                        0  \n",
       "MONOPATIN                    0  \n",
       "MOTO                        14  \n",
       "MOVIL                        1  \n",
       "OBJETO FIJO                  0  \n",
       "OTRO                         0  \n",
       "PASAJEROS                    0  \n",
       "PEATON                       5  \n",
       "PEATON_MOTO                  0  \n",
       "SD                           0  \n",
       "TAXI                         0  \n",
       "TRANSPORTE PUBLICO           0  \n",
       "UTILITARIO                   1  "
      ]
     },
     "execution_count": 157,
     "metadata": {},
     "output_type": "execute_result"
    }
   ],
   "source": [
    "conjunto_filtrado = conjunto.query(\"victima != 'SD' and acusado != 'SD'\")\n",
    "pd.crosstab(conjunto['victima'], conjunto['acusado'])\n"
   ]
  },
  {
   "cell_type": "code",
   "execution_count": 162,
   "metadata": {},
   "outputs": [
    {
     "data": {
      "text/html": [
       "<div>\n",
       "<style scoped>\n",
       "    .dataframe tbody tr th:only-of-type {\n",
       "        vertical-align: middle;\n",
       "    }\n",
       "\n",
       "    .dataframe tbody tr th {\n",
       "        vertical-align: top;\n",
       "    }\n",
       "\n",
       "    .dataframe thead th {\n",
       "        text-align: right;\n",
       "    }\n",
       "</style>\n",
       "<table border=\"1\" class=\"dataframe\">\n",
       "  <thead>\n",
       "    <tr style=\"text-align: right;\">\n",
       "      <th>es_cruce</th>\n",
       "      <th>False</th>\n",
       "      <th>True</th>\n",
       "    </tr>\n",
       "    <tr>\n",
       "      <th>participantes</th>\n",
       "      <th></th>\n",
       "      <th></th>\n",
       "    </tr>\n",
       "  </thead>\n",
       "  <tbody>\n",
       "    <tr>\n",
       "      <th>MOTO-AUTO</th>\n",
       "      <td>621</td>\n",
       "      <td>1711</td>\n",
       "    </tr>\n",
       "  </tbody>\n",
       "</table>\n",
       "</div>"
      ],
      "text/plain": [
       "es_cruce       False  True \n",
       "participantes              \n",
       "MOTO-AUTO        621   1711"
      ]
     },
     "execution_count": 162,
     "metadata": {},
     "output_type": "execute_result"
    }
   ],
   "source": [
    "pd.crosstab(conjunto.query(\"participantes == 'MOTO-AUTO'\")['participantes'], conjunto['es_cruce'])"
   ]
  },
  {
   "cell_type": "markdown",
   "metadata": {},
   "source": [
    "Podemos cruzar variables y sacar más información en alguna posterior etapa con mayor profundidad."
   ]
  },
  {
   "cell_type": "code",
   "execution_count": 179,
   "metadata": {},
   "outputs": [],
   "source": [
    "import matplotlib.pyplot as plt\n",
    "\n",
    "day_mapping = {\n",
    "    'Monday': 'Lunes',\n",
    "    'Tuesday': 'Martes',\n",
    "    'Wednesday': 'Miércoles',\n",
    "    'Thursday': 'Jueves',\n",
    "    'Friday': 'Viernes',\n",
    "    'Saturday': 'Sábado',\n",
    "    'Sunday': 'Domingo'\n",
    "}\n"
   ]
  },
  {
   "cell_type": "code",
   "execution_count": 181,
   "metadata": {},
   "outputs": [
    {
     "data": {
      "image/png": "[encoded data removed]",
      "text/plain": [
       "<Figure size 1000x600 with 1 Axes>"
      ]
     },
     "metadata": {},
     "output_type": "display_data"
    }
   ],
   "source": [
    "grouped_data = conjunto.groupby([conjunto['fecha_hora'].dt.day_name().map(day_mapping), conjunto['fecha_hora'].dt.hour])['n_victimas'].sum()\n",
    "grouped_data = grouped_data.nlargest(20).sort_values(ascending=True)\n",
    "\n",
    "# Plot the result\n",
    "grouped_data.plot(kind='barh', figsize=(10, 6))\n",
    "plt.xlabel('Dia de la Semana, Hora del dia')\n",
    "plt.ylabel('Vìctimas')\n",
    "plt.title('Victimas por Dia de la Semana y hora del día')\n",
    "plt.grid(True)\n",
    "plt.show()"
   ]
  },
  {
   "cell_type": "code",
   "execution_count": 180,
   "metadata": {},
   "outputs": [
    {
     "data": {
      "image/png": "[encoded data removed]",
      "text/plain": [
       "<Figure size 1000x600 with 1 Axes>"
      ]
     },
     "metadata": {},
     "output_type": "display_data"
    }
   ],
   "source": [
    "grouped_data = conjunto.query(\"gravedad == 'FATAL'\").groupby([conjunto['fecha_hora'].dt.day_name().map(day_mapping), conjunto['fecha_hora'].dt.hour])['n_victimas'].sum()\n",
    "grouped_data = grouped_data.nlargest(20).sort_values(ascending=True)\n",
    "\n",
    "# Plot the result\n",
    "grouped_data.plot(kind='barh', figsize=(10, 6))\n",
    "plt.xlabel('Dia de la Semana, Hora del dia')\n",
    "plt.ylabel('Vìctimas')\n",
    "plt.title('Victimas Fatales por Dia de la Semana y hora del día')\n",
    "plt.grid(True)\n",
    "plt.show()"
   ]
  },
  {
   "cell_type": "markdown",
   "metadata": {},
   "source": [
    "Podemos ver que en los grupos hay 2 diferentes tipos que ocasiones preponderantes, no fatales son los dias de la semana a la tarde, y los fatales los fines de semana a la madrugada y mañana."
   ]
  },
  {
   "cell_type": "code",
   "execution_count": 187,
   "metadata": {},
   "outputs": [
    {
     "data": {
      "application/vnd.plotly.v1+json": {
       "config": {
        "plotlyServerURL": "https://plot.ly"
       },
       "data": [
        {
         "alignmentgroup": "True",
         "hovertemplate": "Dia_Semana=Friday<br>Hora del Día=%{x}<br>Victimas Totales=%{y}<extra></extra>",
         "legendgroup": "Friday",
         "marker": {
          "color": "#B6E880",
          "pattern": {
           "shape": ""
          }
         },
         "name": "Friday",
         "offsetgroup": "Friday",
         "orientation": "v",
         "showlegend": true,
         "textposition": "auto",
         "type": "bar",
         "x": [
          0,
          1,
          2,
          3,
          4,
          5,
          6,
          7,
          8,
          9,
          10,
          11,
          12,
          13,
          14,
          15,
          16,
          17,
          18,
          19,
          20,
          21,
          22,
          23
         ],
         "xaxis": "x",
         "y": [
          155,
          52,
          26,
          29,
          37,
          55,
          87,
          138,
          179,
          224,
          245,
          251,
          301,
          339,
          325,
          344,
          374,
          351,
          314,
          280,
          220,
          185,
          152,
          125
         ],
         "yaxis": "y"
        },
        {
         "alignmentgroup": "True",
         "hovertemplate": "Dia_Semana=Monday<br>Hora del Día=%{x}<br>Victimas Totales=%{y}<extra></extra>",
         "legendgroup": "Monday",
         "marker": {
          "color": "#FF97FF",
          "pattern": {
           "shape": ""
          }
         },
         "name": "Monday",
         "offsetgroup": "Monday",
         "orientation": "v",
         "showlegend": true,
         "textposition": "auto",
         "type": "bar",
         "x": [
          0,
          1,
          2,
          3,
          4,
          5,
          6,
          7,
          8,
          9,
          10,
          11,
          12,
          13,
          14,
          15,
          16,
          17,
          18,
          19,
          20,
          21,
          22,
          23
         ],
         "xaxis": "x",
         "y": [
          115,
          71,
          30,
          22,
          22,
          44,
          79,
          143,
          204,
          209,
          231,
          268,
          284,
          279,
          261,
          256,
          271,
          344,
          246,
          233,
          200,
          157,
          113,
          86
         ],
         "yaxis": "y"
        },
        {
         "alignmentgroup": "True",
         "hovertemplate": "Dia_Semana=Saturday<br>Hora del Día=%{x}<br>Victimas Totales=%{y}<extra></extra>",
         "legendgroup": "Saturday",
         "marker": {
          "color": "#FECB52",
          "pattern": {
           "shape": ""
          }
         },
         "name": "Saturday",
         "offsetgroup": "Saturday",
         "orientation": "v",
         "showlegend": true,
         "textposition": "auto",
         "type": "bar",
         "x": [
          0,
          1,
          2,
          3,
          4,
          5,
          6,
          7,
          8,
          9,
          10,
          11,
          12,
          13,
          14,
          15,
          16,
          17,
          18,
          19,
          20,
          21,
          22,
          23
         ],
         "xaxis": "x",
         "y": [
          126,
          89,
          64,
          50,
          56,
          82,
          93,
          87,
          114,
          116,
          109,
          161,
          207,
          209,
          207,
          180,
          194,
          189,
          159,
          197,
          190,
          163,
          135,
          116
         ],
         "yaxis": "y"
        },
        {
         "alignmentgroup": "True",
         "hovertemplate": "Dia_Semana=Sunday<br>Hora del Día=%{x}<br>Victimas Totales=%{y}<extra></extra>",
         "legendgroup": "Sunday",
         "marker": {
          "color": "#636efa",
          "pattern": {
           "shape": ""
          }
         },
         "name": "Sunday",
         "offsetgroup": "Sunday",
         "orientation": "v",
         "showlegend": true,
         "textposition": "auto",
         "type": "bar",
         "x": [
          0,
          1,
          2,
          3,
          4,
          5,
          6,
          7,
          8,
          9,
          10,
          11,
          12,
          13,
          14,
          15,
          16,
          17,
          18,
          19,
          20,
          21,
          22,
          23
         ],
         "xaxis": "x",
         "y": [
          153,
          79,
          86,
          57,
          90,
          88,
          127,
          113,
          84,
          78,
          77,
          75,
          129,
          116,
          136,
          105,
          145,
          135,
          161,
          130,
          148,
          158,
          132,
          115
         ],
         "yaxis": "y"
        },
        {
         "alignmentgroup": "True",
         "hovertemplate": "Dia_Semana=Thursday<br>Hora del Día=%{x}<br>Victimas Totales=%{y}<extra></extra>",
         "legendgroup": "Thursday",
         "marker": {
          "color": "#EF553B",
          "pattern": {
           "shape": ""
          }
         },
         "name": "Thursday",
         "offsetgroup": "Thursday",
         "orientation": "v",
         "showlegend": true,
         "textposition": "auto",
         "type": "bar",
         "x": [
          0,
          1,
          2,
          3,
          4,
          5,
          6,
          7,
          8,
          9,
          10,
          11,
          12,
          13,
          14,
          15,
          16,
          17,
          18,
          19,
          20,
          21,
          22,
          23
         ],
         "xaxis": "x",
         "y": [
          133,
          67,
          41,
          27,
          14,
          49,
          53,
          143,
          205,
          250,
          218,
          241,
          283,
          324,
          318,
          305,
          330,
          309,
          327,
          258,
          219,
          161,
          146,
          95
         ],
         "yaxis": "y"
        },
        {
         "alignmentgroup": "True",
         "hovertemplate": "Dia_Semana=Tuesday<br>Hora del Día=%{x}<br>Victimas Totales=%{y}<extra></extra>",
         "legendgroup": "Tuesday",
         "marker": {
          "color": "#00cc96",
          "pattern": {
           "shape": ""
          }
         },
         "name": "Tuesday",
         "offsetgroup": "Tuesday",
         "orientation": "v",
         "showlegend": true,
         "textposition": "auto",
         "type": "bar",
         "x": [
          0,
          1,
          2,
          3,
          4,
          5,
          6,
          7,
          8,
          9,
          10,
          11,
          12,
          13,
          14,
          15,
          16,
          17,
          18,
          19,
          20,
          21,
          22,
          23
         ],
         "xaxis": "x",
         "y": [
          129,
          49,
          29,
          25,
          16,
          42,
          70,
          135,
          239,
          230,
          190,
          273,
          305,
          262,
          321,
          301,
          342,
          335,
          267,
          213,
          186,
          159,
          116,
          83
         ],
         "yaxis": "y"
        },
        {
         "alignmentgroup": "True",
         "hovertemplate": "Dia_Semana=Wednesday<br>Hora del Día=%{x}<br>Victimas Totales=%{y}<extra></extra>",
         "legendgroup": "Wednesday",
         "marker": {
          "color": "#ab63fa",
          "pattern": {
           "shape": ""
          }
         },
         "name": "Wednesday",
         "offsetgroup": "Wednesday",
         "orientation": "v",
         "showlegend": true,
         "textposition": "auto",
         "type": "bar",
         "x": [
          0,
          1,
          2,
          3,
          4,
          5,
          6,
          7,
          8,
          9,
          10,
          11,
          12,
          13,
          14,
          15,
          16,
          17,
          18,
          19,
          20,
          21,
          22,
          23
         ],
         "xaxis": "x",
         "y": [
          130,
          38,
          17,
          23,
          21,
          26,
          55,
          119,
          240,
          220,
          231,
          215,
          314,
          328,
          325,
          318,
          350,
          368,
          335,
          251,
          197,
          172,
          126,
          81
         ],
         "yaxis": "y"
        }
       ],
       "layout": {
        "barmode": "relative",
        "legend": {
         "title": {
          "text": "Dia_Semana"
         },
         "tracegroupgap": 0
        },
        "template": {
         "data": {
          "bar": [
           {
            "error_x": {
             "color": "#2a3f5f"
            },
            "error_y": {
             "color": "#2a3f5f"
            },
            "marker": {
             "line": {
              "color": "#E5ECF6",
              "width": 0.5
             },
             "pattern": {
              "fillmode": "overlay",
              "size": 10,
              "solidity": 0.2
             }
            },
            "type": "bar"
           }
          ],
          "barpolar": [
           {
            "marker": {
             "line": {
              "color": "#E5ECF6",
              "width": 0.5
             },
             "pattern": {
              "fillmode": "overlay",
              "size": 10,
              "solidity": 0.2
             }
            },
            "type": "barpolar"
           }
          ],
          "carpet": [
           {
            "aaxis": {
             "endlinecolor": "#2a3f5f",
             "gridcolor": "white",
             "linecolor": "white",
             "minorgridcolor": "white",
             "startlinecolor": "#2a3f5f"
            },
            "baxis": {
             "endlinecolor": "#2a3f5f",
             "gridcolor": "white",
             "linecolor": "white",
             "minorgridcolor": "white",
             "startlinecolor": "#2a3f5f"
            },
            "type": "carpet"
           }
          ],
          "choropleth": [
           {
            "colorbar": {
             "outlinewidth": 0,
             "ticks": ""
            },
            "type": "choropleth"
           }
          ],
          "contour": [
           {
            "colorbar": {
             "outlinewidth": 0,
             "ticks": ""
            },
            "colorscale": [
             [
              0,
              "#0d0887"
             ],
             [
              0.1111111111111111,
              "#46039f"
             ],
             [
              0.2222222222222222,
              "#7201a8"
             ],
             [
              0.3333333333333333,
              "#9c179e"
             ],
             [
              0.4444444444444444,
              "#bd3786"
             ],
             [
              0.5555555555555556,
              "#d8576b"
             ],
             [
              0.6666666666666666,
              "#ed7953"
             ],
             [
              0.7777777777777778,
              "#fb9f3a"
             ],
             [
              0.8888888888888888,
              "#fdca26"
             ],
             [
              1,
              "#f0f921"
             ]
            ],
            "type": "contour"
           }
          ],
          "contourcarpet": [
           {
            "colorbar": {
             "outlinewidth": 0,
             "ticks": ""
            },
            "type": "contourcarpet"
           }
          ],
          "heatmap": [
           {
            "colorbar": {
             "outlinewidth": 0,
             "ticks": ""
            },
            "colorscale": [
             [
              0,
              "#0d0887"
             ],
             [
              0.1111111111111111,
              "#46039f"
             ],
             [
              0.2222222222222222,
              "#7201a8"
             ],
             [
              0.3333333333333333,
              "#9c179e"
             ],
             [
              0.4444444444444444,
              "#bd3786"
             ],
             [
              0.5555555555555556,
              "#d8576b"
             ],
             [
              0.6666666666666666,
              "#ed7953"
             ],
             [
              0.7777777777777778,
              "#fb9f3a"
             ],
             [
              0.8888888888888888,
              "#fdca26"
             ],
             [
              1,
              "#f0f921"
             ]
            ],
            "type": "heatmap"
           }
          ],
          "heatmapgl": [
           {
            "colorbar": {
             "outlinewidth": 0,
             "ticks": ""
            },
            "colorscale": [
             [
              0,
              "#0d0887"
             ],
             [
              0.1111111111111111,
              "#46039f"
             ],
             [
              0.2222222222222222,
              "#7201a8"
             ],
             [
              0.3333333333333333,
              "#9c179e"
             ],
             [
              0.4444444444444444,
              "#bd3786"
             ],
             [
              0.5555555555555556,
              "#d8576b"
             ],
             [
              0.6666666666666666,
              "#ed7953"
             ],
             [
              0.7777777777777778,
              "#fb9f3a"
             ],
             [
              0.8888888888888888,
              "#fdca26"
             ],
             [
              1,
              "#f0f921"
             ]
            ],
            "type": "heatmapgl"
           }
          ],
          "histogram": [
           {
            "marker": {
             "pattern": {
              "fillmode": "overlay",
              "size": 10,
              "solidity": 0.2
             }
            },
            "type": "histogram"
           }
          ],
          "histogram2d": [
           {
            "colorbar": {
             "outlinewidth": 0,
             "ticks": ""
            },
            "colorscale": [
             [
              0,
              "#0d0887"
             ],
             [
              0.1111111111111111,
              "#46039f"
             ],
             [
              0.2222222222222222,
              "#7201a8"
             ],
             [
              0.3333333333333333,
              "#9c179e"
             ],
             [
              0.4444444444444444,
              "#bd3786"
             ],
             [
              0.5555555555555556,
              "#d8576b"
             ],
             [
              0.6666666666666666,
              "#ed7953"
             ],
             [
              0.7777777777777778,
              "#fb9f3a"
             ],
             [
              0.8888888888888888,
              "#fdca26"
             ],
             [
              1,
              "#f0f921"
             ]
            ],
            "type": "histogram2d"
           }
          ],
          "histogram2dcontour": [
           {
            "colorbar": {
             "outlinewidth": 0,
             "ticks": ""
            },
            "colorscale": [
             [
              0,
              "#0d0887"
             ],
             [
              0.1111111111111111,
              "#46039f"
             ],
             [
              0.2222222222222222,
              "#7201a8"
             ],
             [
              0.3333333333333333,
              "#9c179e"
             ],
             [
              0.4444444444444444,
              "#bd3786"
             ],
             [
              0.5555555555555556,
              "#d8576b"
             ],
             [
              0.6666666666666666,
              "#ed7953"
             ],
             [
              0.7777777777777778,
              "#fb9f3a"
             ],
             [
              0.8888888888888888,
              "#fdca26"
             ],
             [
              1,
              "#f0f921"
             ]
            ],
            "type": "histogram2dcontour"
           }
          ],
          "mesh3d": [
           {
            "colorbar": {
             "outlinewidth": 0,
             "ticks": ""
            },
            "type": "mesh3d"
           }
          ],
          "parcoords": [
           {
            "line": {
             "colorbar": {
              "outlinewidth": 0,
              "ticks": ""
             }
            },
            "type": "parcoords"
           }
          ],
          "pie": [
           {
            "automargin": true,
            "type": "pie"
           }
          ],
          "scatter": [
           {
            "fillpattern": {
             "fillmode": "overlay",
             "size": 10,
             "solidity": 0.2
            },
            "type": "scatter"
           }
          ],
          "scatter3d": [
           {
            "line": {
             "colorbar": {
              "outlinewidth": 0,
              "ticks": ""
             }
            },
            "marker": {
             "colorbar": {
              "outlinewidth": 0,
              "ticks": ""
             }
            },
            "type": "scatter3d"
           }
          ],
          "scattercarpet": [
           {
            "marker": {
             "colorbar": {
              "outlinewidth": 0,
              "ticks": ""
             }
            },
            "type": "scattercarpet"
           }
          ],
          "scattergeo": [
           {
            "marker": {
             "colorbar": {
              "outlinewidth": 0,
              "ticks": ""
             }
            },
            "type": "scattergeo"
           }
          ],
          "scattergl": [
           {
            "marker": {
             "colorbar": {
              "outlinewidth": 0,
              "ticks": ""
             }
            },
            "type": "scattergl"
           }
          ],
          "scattermapbox": [
           {
            "marker": {
             "colorbar": {
              "outlinewidth": 0,
              "ticks": ""
             }
            },
            "type": "scattermapbox"
           }
          ],
          "scatterpolar": [
           {
            "marker": {
             "colorbar": {
              "outlinewidth": 0,
              "ticks": ""
             }
            },
            "type": "scatterpolar"
           }
          ],
          "scatterpolargl": [
           {
            "marker": {
             "colorbar": {
              "outlinewidth": 0,
              "ticks": ""
             }
            },
            "type": "scatterpolargl"
           }
          ],
          "scatterternary": [
           {
            "marker": {
             "colorbar": {
              "outlinewidth": 0,
              "ticks": ""
             }
            },
            "type": "scatterternary"
           }
          ],
          "surface": [
           {
            "colorbar": {
             "outlinewidth": 0,
             "ticks": ""
            },
            "colorscale": [
             [
              0,
              "#0d0887"
             ],
             [
              0.1111111111111111,
              "#46039f"
             ],
             [
              0.2222222222222222,
              "#7201a8"
             ],
             [
              0.3333333333333333,
              "#9c179e"
             ],
             [
              0.4444444444444444,
              "#bd3786"
             ],
             [
              0.5555555555555556,
              "#d8576b"
             ],
             [
              0.6666666666666666,
              "#ed7953"
             ],
             [
              0.7777777777777778,
              "#fb9f3a"
             ],
             [
              0.8888888888888888,
              "#fdca26"
             ],
             [
              1,
              "#f0f921"
             ]
            ],
            "type": "surface"
           }
          ],
          "table": [
           {
            "cells": {
             "fill": {
              "color": "#EBF0F8"
             },
             "line": {
              "color": "white"
             }
            },
            "header": {
             "fill": {
              "color": "#C8D4E3"
             },
             "line": {
              "color": "white"
             }
            },
            "type": "table"
           }
          ]
         },
         "layout": {
          "annotationdefaults": {
           "arrowcolor": "#2a3f5f",
           "arrowhead": 0,
           "arrowwidth": 1
          },
          "autotypenumbers": "strict",
          "coloraxis": {
           "colorbar": {
            "outlinewidth": 0,
            "ticks": ""
           }
          },
          "colorscale": {
           "diverging": [
            [
             0,
             "#8e0152"
            ],
            [
             0.1,
             "#c51b7d"
            ],
            [
             0.2,
             "#de77ae"
            ],
            [
             0.3,
             "#f1b6da"
            ],
            [
             0.4,
             "#fde0ef"
            ],
            [
             0.5,
             "#f7f7f7"
            ],
            [
             0.6,
             "#e6f5d0"
            ],
            [
             0.7,
             "#b8e186"
            ],
            [
             0.8,
             "#7fbc41"
            ],
            [
             0.9,
             "#4d9221"
            ],
            [
             1,
             "#276419"
            ]
           ],
           "sequential": [
            [
             0,
             "#0d0887"
            ],
            [
             0.1111111111111111,
             "#46039f"
            ],
            [
             0.2222222222222222,
             "#7201a8"
            ],
            [
             0.3333333333333333,
             "#9c179e"
            ],
            [
             0.4444444444444444,
             "#bd3786"
            ],
            [
             0.5555555555555556,
             "#d8576b"
            ],
            [
             0.6666666666666666,
             "#ed7953"
            ],
            [
             0.7777777777777778,
             "#fb9f3a"
            ],
            [
             0.8888888888888888,
             "#fdca26"
            ],
            [
             1,
             "#f0f921"
            ]
           ],
           "sequentialminus": [
            [
             0,
             "#0d0887"
            ],
            [
             0.1111111111111111,
             "#46039f"
            ],
            [
             0.2222222222222222,
             "#7201a8"
            ],
            [
             0.3333333333333333,
             "#9c179e"
            ],
            [
             0.4444444444444444,
             "#bd3786"
            ],
            [
             0.5555555555555556,
             "#d8576b"
            ],
            [
             0.6666666666666666,
             "#ed7953"
            ],
            [
             0.7777777777777778,
             "#fb9f3a"
            ],
            [
             0.8888888888888888,
             "#fdca26"
            ],
            [
             1,
             "#f0f921"
            ]
           ]
          },
          "colorway": [
           "#636efa",
           "#EF553B",
           "#00cc96",
           "#ab63fa",
           "#FFA15A",
           "#19d3f3",
           "#FF6692",
           "#B6E880",
           "#FF97FF",
           "#FECB52"
          ],
          "font": {
           "color": "#2a3f5f"
          },
          "geo": {
           "bgcolor": "white",
           "lakecolor": "white",
           "landcolor": "#E5ECF6",
           "showlakes": true,
           "showland": true,
           "subunitcolor": "white"
          },
          "hoverlabel": {
           "align": "left"
          },
          "hovermode": "closest",
          "mapbox": {
           "style": "light"
          },
          "paper_bgcolor": "white",
          "plot_bgcolor": "#E5ECF6",
          "polar": {
           "angularaxis": {
            "gridcolor": "white",
            "linecolor": "white",
            "ticks": ""
           },
           "bgcolor": "#E5ECF6",
           "radialaxis": {
            "gridcolor": "white",
            "linecolor": "white",
            "ticks": ""
           }
          },
          "scene": {
           "xaxis": {
            "backgroundcolor": "#E5ECF6",
            "gridcolor": "white",
            "gridwidth": 2,
            "linecolor": "white",
            "showbackground": true,
            "ticks": "",
            "zerolinecolor": "white"
           },
           "yaxis": {
            "backgroundcolor": "#E5ECF6",
            "gridcolor": "white",
            "gridwidth": 2,
            "linecolor": "white",
            "showbackground": true,
            "ticks": "",
            "zerolinecolor": "white"
           },
           "zaxis": {
            "backgroundcolor": "#E5ECF6",
            "gridcolor": "white",
            "gridwidth": 2,
            "linecolor": "white",
            "showbackground": true,
            "ticks": "",
            "zerolinecolor": "white"
           }
          },
          "shapedefaults": {
           "line": {
            "color": "#2a3f5f"
           }
          },
          "ternary": {
           "aaxis": {
            "gridcolor": "white",
            "linecolor": "white",
            "ticks": ""
           },
           "baxis": {
            "gridcolor": "white",
            "linecolor": "white",
            "ticks": ""
           },
           "bgcolor": "#E5ECF6",
           "caxis": {
            "gridcolor": "white",
            "linecolor": "white",
            "ticks": ""
           }
          },
          "title": {
           "x": 0.05
          },
          "xaxis": {
           "automargin": true,
           "gridcolor": "white",
           "linecolor": "white",
           "ticks": "",
           "title": {
            "standoff": 15
           },
           "zerolinecolor": "white",
           "zerolinewidth": 2
          },
          "yaxis": {
           "automargin": true,
           "gridcolor": "white",
           "linecolor": "white",
           "ticks": "",
           "title": {
            "standoff": 15
           },
           "zerolinecolor": "white",
           "zerolinewidth": 2
          }
         }
        },
        "title": {
         "text": "Segùn la hora del dia y el dia de la semana"
        },
        "xaxis": {
         "anchor": "y",
         "domain": [
          0,
          1
         ],
         "title": {
          "text": "Hora del Día"
         }
        },
        "yaxis": {
         "anchor": "x",
         "domain": [
          0,
          1
         ],
         "title": {
          "text": "Victimas Totales"
         }
        }
       }
      }
     },
     "metadata": {},
     "output_type": "display_data"
    }
   ],
   "source": [
    "import plotly.express as px\n",
    "\n",
    "# Group data by day name and hour, summing 'n_victimas'\n",
    "grouped_data = conjunto.groupby([conjunto['fecha_hora'].dt.day_name().rename('Dia_Semana'), \n",
    "                                 conjunto['fecha_hora'].dt.hour.rename('Hora_Dia')])['n_victimas'].sum().reset_index()\n",
    "\n",
    "# Create a bar plot using Plotly Express\n",
    "fig = px.bar(grouped_data, x='Hora_Dia', y='n_victimas', color='Dia_Semana', \n",
    "             title='Segùn la hora del dia y el dia de la semana',\n",
    "             labels={'Hora_Dia': 'Hora del Día', 'n_victimas': 'Victimas Totales'},\n",
    "             category_orders={'Dia_Semana': ['Lunes', 'MArtes', 'Miercoles', 'Jueves', 'Viernes', 'Sabado', 'Domingo']})\n",
    "\n",
    "# Show the plot\n",
    "fig.show()\n"
   ]
  },
  {
   "cell_type": "markdown",
   "metadata": {},
   "source": [
    "Gran forma de visualizar esta correlación."
   ]
  },
  {
   "cell_type": "code",
   "execution_count": 199,
   "metadata": {},
   "outputs": [
    {
     "data": {
      "application/vnd.plotly.v1+json": {
       "config": {
        "plotlyServerURL": "https://plot.ly"
       },
       "data": [
        {
         "alignmentgroup": "True",
         "hovertemplate": "Dia de la Semana=%{x}<br>Total Victims=%{y}<br>Hour_of_Day=%{marker.color}<extra></extra>",
         "legendgroup": "",
         "marker": {
          "color": [
           0,
           1,
           2,
           3,
           4,
           5,
           6,
           7,
           8,
           9,
           10,
           11,
           12,
           13,
           14,
           15,
           16,
           17,
           18,
           19,
           20,
           21,
           22,
           23,
           0,
           1,
           2,
           3,
           4,
           5,
           6,
           7,
           8,
           9,
           10,
           11,
           12,
           13,
           14,
           15,
           16,
           17,
           18,
           19,
           20,
           21,
           22,
           23,
           0,
           1,
           2,
           3,
           4,
           5,
           6,
           7,
           8,
           9,
           10,
           11,
           12,
           13,
           14,
           15,
           16,
           17,
           18,
           19,
           20,
           21,
           22,
           23,
           0,
           1,
           2,
           3,
           4,
           5,
           6,
           7,
           8,
           9,
           10,
           11,
           12,
           13,
           14,
           15,
           16,
           17,
           18,
           19,
           20,
           21,
           22,
           23,
           0,
           1,
           2,
           3,
           4,
           5,
           6,
           7,
           8,
           9,
           10,
           11,
           12,
           13,
           14,
           15,
           16,
           17,
           18,
           19,
           20,
           21,
           22,
           23,
           0,
           1,
           2,
           3,
           4,
           5,
           6,
           7,
           8,
           9,
           10,
           11,
           12,
           13,
           14,
           15,
           16,
           17,
           18,
           19,
           20,
           21,
           22,
           23,
           0,
           1,
           2,
           3,
           4,
           5,
           6,
           7,
           8,
           9,
           10,
           11,
           12,
           13,
           14,
           15,
           16,
           17,
           18,
           19,
           20,
           21,
           22,
           23
          ],
          "coloraxis": "coloraxis",
          "pattern": {
           "shape": ""
          }
         },
         "name": "",
         "offsetgroup": "",
         "orientation": "v",
         "showlegend": false,
         "textposition": "auto",
         "type": "bar",
         "x": [
          "Friday",
          "Friday",
          "Friday",
          "Friday",
          "Friday",
          "Friday",
          "Friday",
          "Friday",
          "Friday",
          "Friday",
          "Friday",
          "Friday",
          "Friday",
          "Friday",
          "Friday",
          "Friday",
          "Friday",
          "Friday",
          "Friday",
          "Friday",
          "Friday",
          "Friday",
          "Friday",
          "Friday",
          "Monday",
          "Monday",
          "Monday",
          "Monday",
          "Monday",
          "Monday",
          "Monday",
          "Monday",
          "Monday",
          "Monday",
          "Monday",
          "Monday",
          "Monday",
          "Monday",
          "Monday",
          "Monday",
          "Monday",
          "Monday",
          "Monday",
          "Monday",
          "Monday",
          "Monday",
          "Monday",
          "Monday",
          "Saturday",
          "Saturday",
          "Saturday",
          "Saturday",
          "Saturday",
          "Saturday",
          "Saturday",
          "Saturday",
          "Saturday",
          "Saturday",
          "Saturday",
          "Saturday",
          "Saturday",
          "Saturday",
          "Saturday",
          "Saturday",
          "Saturday",
          "Saturday",
          "Saturday",
          "Saturday",
          "Saturday",
          "Saturday",
          "Saturday",
          "Saturday",
          "Sunday",
          "Sunday",
          "Sunday",
          "Sunday",
          "Sunday",
          "Sunday",
          "Sunday",
          "Sunday",
          "Sunday",
          "Sunday",
          "Sunday",
          "Sunday",
          "Sunday",
          "Sunday",
          "Sunday",
          "Sunday",
          "Sunday",
          "Sunday",
          "Sunday",
          "Sunday",
          "Sunday",
          "Sunday",
          "Sunday",
          "Sunday",
          "Thursday",
          "Thursday",
          "Thursday",
          "Thursday",
          "Thursday",
          "Thursday",
          "Thursday",
          "Thursday",
          "Thursday",
          "Thursday",
          "Thursday",
          "Thursday",
          "Thursday",
          "Thursday",
          "Thursday",
          "Thursday",
          "Thursday",
          "Thursday",
          "Thursday",
          "Thursday",
          "Thursday",
          "Thursday",
          "Thursday",
          "Thursday",
          "Tuesday",
          "Tuesday",
          "Tuesday",
          "Tuesday",
          "Tuesday",
          "Tuesday",
          "Tuesday",
          "Tuesday",
          "Tuesday",
          "Tuesday",
          "Tuesday",
          "Tuesday",
          "Tuesday",
          "Tuesday",
          "Tuesday",
          "Tuesday",
          "Tuesday",
          "Tuesday",
          "Tuesday",
          "Tuesday",
          "Tuesday",
          "Tuesday",
          "Tuesday",
          "Tuesday",
          "Wednesday",
          "Wednesday",
          "Wednesday",
          "Wednesday",
          "Wednesday",
          "Wednesday",
          "Wednesday",
          "Wednesday",
          "Wednesday",
          "Wednesday",
          "Wednesday",
          "Wednesday",
          "Wednesday",
          "Wednesday",
          "Wednesday",
          "Wednesday",
          "Wednesday",
          "Wednesday",
          "Wednesday",
          "Wednesday",
          "Wednesday",
          "Wednesday",
          "Wednesday",
          "Wednesday"
         ],
         "xaxis": "x",
         "y": [
          155,
          52,
          26,
          29,
          37,
          55,
          87,
          138,
          179,
          224,
          245,
          251,
          301,
          339,
          325,
          344,
          374,
          351,
          314,
          280,
          220,
          185,
          152,
          125,
          115,
          71,
          30,
          22,
          22,
          44,
          79,
          143,
          204,
          209,
          231,
          268,
          284,
          279,
          261,
          256,
          271,
          344,
          246,
          233,
          200,
          157,
          113,
          86,
          126,
          89,
          64,
          50,
          56,
          82,
          93,
          87,
          114,
          116,
          109,
          161,
          207,
          209,
          207,
          180,
          194,
          189,
          159,
          197,
          190,
          163,
          135,
          116,
          153,
          79,
          86,
          57,
          90,
          88,
          127,
          113,
          84,
          78,
          77,
          75,
          129,
          116,
          136,
          105,
          145,
          135,
          161,
          130,
          148,
          158,
          132,
          115,
          133,
          67,
          41,
          27,
          14,
          49,
          53,
          143,
          205,
          250,
          218,
          241,
          283,
          324,
          318,
          305,
          330,
          309,
          327,
          258,
          219,
          161,
          146,
          95,
          129,
          49,
          29,
          25,
          16,
          42,
          70,
          135,
          239,
          230,
          190,
          273,
          305,
          262,
          321,
          301,
          342,
          335,
          267,
          213,
          186,
          159,
          116,
          83,
          130,
          38,
          17,
          23,
          21,
          26,
          55,
          119,
          240,
          220,
          231,
          215,
          314,
          328,
          325,
          318,
          350,
          368,
          335,
          251,
          197,
          172,
          126,
          81
         ],
         "yaxis": "y"
        }
       ],
       "layout": {
        "barmode": "relative",
        "coloraxis": {
         "colorbar": {
          "title": {
           "text": "Hour_of_Day"
          }
         },
         "colorscale": [
          [
           0,
           "#0d0887"
          ],
          [
           0.1111111111111111,
           "#46039f"
          ],
          [
           0.2222222222222222,
           "#7201a8"
          ],
          [
           0.3333333333333333,
           "#9c179e"
          ],
          [
           0.4444444444444444,
           "#bd3786"
          ],
          [
           0.5555555555555556,
           "#d8576b"
          ],
          [
           0.6666666666666666,
           "#ed7953"
          ],
          [
           0.7777777777777778,
           "#fb9f3a"
          ],
          [
           0.8888888888888888,
           "#fdca26"
          ],
          [
           1,
           "#f0f921"
          ]
         ]
        },
        "legend": {
         "tracegroupgap": 0
        },
        "template": {
         "data": {
          "bar": [
           {
            "error_x": {
             "color": "#2a3f5f"
            },
            "error_y": {
             "color": "#2a3f5f"
            },
            "marker": {
             "line": {
              "color": "#E5ECF6",
              "width": 0.5
             },
             "pattern": {
              "fillmode": "overlay",
              "size": 10,
              "solidity": 0.2
             }
            },
            "type": "bar"
           }
          ],
          "barpolar": [
           {
            "marker": {
             "line": {
              "color": "#E5ECF6",
              "width": 0.5
             },
             "pattern": {
              "fillmode": "overlay",
              "size": 10,
              "solidity": 0.2
             }
            },
            "type": "barpolar"
           }
          ],
          "carpet": [
           {
            "aaxis": {
             "endlinecolor": "#2a3f5f",
             "gridcolor": "white",
             "linecolor": "white",
             "minorgridcolor": "white",
             "startlinecolor": "#2a3f5f"
            },
            "baxis": {
             "endlinecolor": "#2a3f5f",
             "gridcolor": "white",
             "linecolor": "white",
             "minorgridcolor": "white",
             "startlinecolor": "#2a3f5f"
            },
            "type": "carpet"
           }
          ],
          "choropleth": [
           {
            "colorbar": {
             "outlinewidth": 0,
             "ticks": ""
            },
            "type": "choropleth"
           }
          ],
          "contour": [
           {
            "colorbar": {
             "outlinewidth": 0,
             "ticks": ""
            },
            "colorscale": [
             [
              0,
              "#0d0887"
             ],
             [
              0.1111111111111111,
              "#46039f"
             ],
             [
              0.2222222222222222,
              "#7201a8"
             ],
             [
              0.3333333333333333,
              "#9c179e"
             ],
             [
              0.4444444444444444,
              "#bd3786"
             ],
             [
              0.5555555555555556,
              "#d8576b"
             ],
             [
              0.6666666666666666,
              "#ed7953"
             ],
             [
              0.7777777777777778,
              "#fb9f3a"
             ],
             [
              0.8888888888888888,
              "#fdca26"
             ],
             [
              1,
              "#f0f921"
             ]
            ],
            "type": "contour"
           }
          ],
          "contourcarpet": [
           {
            "colorbar": {
             "outlinewidth": 0,
             "ticks": ""
            },
            "type": "contourcarpet"
           }
          ],
          "heatmap": [
           {
            "colorbar": {
             "outlinewidth": 0,
             "ticks": ""
            },
            "colorscale": [
             [
              0,
              "#0d0887"
             ],
             [
              0.1111111111111111,
              "#46039f"
             ],
             [
              0.2222222222222222,
              "#7201a8"
             ],
             [
              0.3333333333333333,
              "#9c179e"
             ],
             [
              0.4444444444444444,
              "#bd3786"
             ],
             [
              0.5555555555555556,
              "#d8576b"
             ],
             [
              0.6666666666666666,
              "#ed7953"
             ],
             [
              0.7777777777777778,
              "#fb9f3a"
             ],
             [
              0.8888888888888888,
              "#fdca26"
             ],
             [
              1,
              "#f0f921"
             ]
            ],
            "type": "heatmap"
           }
          ],
          "heatmapgl": [
           {
            "colorbar": {
             "outlinewidth": 0,
             "ticks": ""
            },
            "colorscale": [
             [
              0,
              "#0d0887"
             ],
             [
              0.1111111111111111,
              "#46039f"
             ],
             [
              0.2222222222222222,
              "#7201a8"
             ],
             [
              0.3333333333333333,
              "#9c179e"
             ],
             [
              0.4444444444444444,
              "#bd3786"
             ],
             [
              0.5555555555555556,
              "#d8576b"
             ],
             [
              0.6666666666666666,
              "#ed7953"
             ],
             [
              0.7777777777777778,
              "#fb9f3a"
             ],
             [
              0.8888888888888888,
              "#fdca26"
             ],
             [
              1,
              "#f0f921"
             ]
            ],
            "type": "heatmapgl"
           }
          ],
          "histogram": [
           {
            "marker": {
             "pattern": {
              "fillmode": "overlay",
              "size": 10,
              "solidity": 0.2
             }
            },
            "type": "histogram"
           }
          ],
          "histogram2d": [
           {
            "colorbar": {
             "outlinewidth": 0,
             "ticks": ""
            },
            "colorscale": [
             [
              0,
              "#0d0887"
             ],
             [
              0.1111111111111111,
              "#46039f"
             ],
             [
              0.2222222222222222,
              "#7201a8"
             ],
             [
              0.3333333333333333,
              "#9c179e"
             ],
             [
              0.4444444444444444,
              "#bd3786"
             ],
             [
              0.5555555555555556,
              "#d8576b"
             ],
             [
              0.6666666666666666,
              "#ed7953"
             ],
             [
              0.7777777777777778,
              "#fb9f3a"
             ],
             [
              0.8888888888888888,
              "#fdca26"
             ],
             [
              1,
              "#f0f921"
             ]
            ],
            "type": "histogram2d"
           }
          ],
          "histogram2dcontour": [
           {
            "colorbar": {
             "outlinewidth": 0,
             "ticks": ""
            },
            "colorscale": [
             [
              0,
              "#0d0887"
             ],
             [
              0.1111111111111111,
              "#46039f"
             ],
             [
              0.2222222222222222,
              "#7201a8"
             ],
             [
              0.3333333333333333,
              "#9c179e"
             ],
             [
              0.4444444444444444,
              "#bd3786"
             ],
             [
              0.5555555555555556,
              "#d8576b"
             ],
             [
              0.6666666666666666,
              "#ed7953"
             ],
             [
              0.7777777777777778,
              "#fb9f3a"
             ],
             [
              0.8888888888888888,
              "#fdca26"
             ],
             [
              1,
              "#f0f921"
             ]
            ],
            "type": "histogram2dcontour"
           }
          ],
          "mesh3d": [
           {
            "colorbar": {
             "outlinewidth": 0,
             "ticks": ""
            },
            "type": "mesh3d"
           }
          ],
          "parcoords": [
           {
            "line": {
             "colorbar": {
              "outlinewidth": 0,
              "ticks": ""
             }
            },
            "type": "parcoords"
           }
          ],
          "pie": [
           {
            "automargin": true,
            "type": "pie"
           }
          ],
          "scatter": [
           {
            "fillpattern": {
             "fillmode": "overlay",
             "size": 10,
             "solidity": 0.2
            },
            "type": "scatter"
           }
          ],
          "scatter3d": [
           {
            "line": {
             "colorbar": {
              "outlinewidth": 0,
              "ticks": ""
             }
            },
            "marker": {
             "colorbar": {
              "outlinewidth": 0,
              "ticks": ""
             }
            },
            "type": "scatter3d"
           }
          ],
          "scattercarpet": [
           {
            "marker": {
             "colorbar": {
              "outlinewidth": 0,
              "ticks": ""
             }
            },
            "type": "scattercarpet"
           }
          ],
          "scattergeo": [
           {
            "marker": {
             "colorbar": {
              "outlinewidth": 0,
              "ticks": ""
             }
            },
            "type": "scattergeo"
           }
          ],
          "scattergl": [
           {
            "marker": {
             "colorbar": {
              "outlinewidth": 0,
              "ticks": ""
             }
            },
            "type": "scattergl"
           }
          ],
          "scattermapbox": [
           {
            "marker": {
             "colorbar": {
              "outlinewidth": 0,
              "ticks": ""
             }
            },
            "type": "scattermapbox"
           }
          ],
          "scatterpolar": [
           {
            "marker": {
             "colorbar": {
              "outlinewidth": 0,
              "ticks": ""
             }
            },
            "type": "scatterpolar"
           }
          ],
          "scatterpolargl": [
           {
            "marker": {
             "colorbar": {
              "outlinewidth": 0,
              "ticks": ""
             }
            },
            "type": "scatterpolargl"
           }
          ],
          "scatterternary": [
           {
            "marker": {
             "colorbar": {
              "outlinewidth": 0,
              "ticks": ""
             }
            },
            "type": "scatterternary"
           }
          ],
          "surface": [
           {
            "colorbar": {
             "outlinewidth": 0,
             "ticks": ""
            },
            "colorscale": [
             [
              0,
              "#0d0887"
             ],
             [
              0.1111111111111111,
              "#46039f"
             ],
             [
              0.2222222222222222,
              "#7201a8"
             ],
             [
              0.3333333333333333,
              "#9c179e"
             ],
             [
              0.4444444444444444,
              "#bd3786"
             ],
             [
              0.5555555555555556,
              "#d8576b"
             ],
             [
              0.6666666666666666,
              "#ed7953"
             ],
             [
              0.7777777777777778,
              "#fb9f3a"
             ],
             [
              0.8888888888888888,
              "#fdca26"
             ],
             [
              1,
              "#f0f921"
             ]
            ],
            "type": "surface"
           }
          ],
          "table": [
           {
            "cells": {
             "fill": {
              "color": "#EBF0F8"
             },
             "line": {
              "color": "white"
             }
            },
            "header": {
             "fill": {
              "color": "#C8D4E3"
             },
             "line": {
              "color": "white"
             }
            },
            "type": "table"
           }
          ]
         },
         "layout": {
          "annotationdefaults": {
           "arrowcolor": "#2a3f5f",
           "arrowhead": 0,
           "arrowwidth": 1
          },
          "autotypenumbers": "strict",
          "coloraxis": {
           "colorbar": {
            "outlinewidth": 0,
            "ticks": ""
           }
          },
          "colorscale": {
           "diverging": [
            [
             0,
             "#8e0152"
            ],
            [
             0.1,
             "#c51b7d"
            ],
            [
             0.2,
             "#de77ae"
            ],
            [
             0.3,
             "#f1b6da"
            ],
            [
             0.4,
             "#fde0ef"
            ],
            [
             0.5,
             "#f7f7f7"
            ],
            [
             0.6,
             "#e6f5d0"
            ],
            [
             0.7,
             "#b8e186"
            ],
            [
             0.8,
             "#7fbc41"
            ],
            [
             0.9,
             "#4d9221"
            ],
            [
             1,
             "#276419"
            ]
           ],
           "sequential": [
            [
             0,
             "#0d0887"
            ],
            [
             0.1111111111111111,
             "#46039f"
            ],
            [
             0.2222222222222222,
             "#7201a8"
            ],
            [
             0.3333333333333333,
             "#9c179e"
            ],
            [
             0.4444444444444444,
             "#bd3786"
            ],
            [
             0.5555555555555556,
             "#d8576b"
            ],
            [
             0.6666666666666666,
             "#ed7953"
            ],
            [
             0.7777777777777778,
             "#fb9f3a"
            ],
            [
             0.8888888888888888,
             "#fdca26"
            ],
            [
             1,
             "#f0f921"
            ]
           ],
           "sequentialminus": [
            [
             0,
             "#0d0887"
            ],
            [
             0.1111111111111111,
             "#46039f"
            ],
            [
             0.2222222222222222,
             "#7201a8"
            ],
            [
             0.3333333333333333,
             "#9c179e"
            ],
            [
             0.4444444444444444,
             "#bd3786"
            ],
            [
             0.5555555555555556,
             "#d8576b"
            ],
            [
             0.6666666666666666,
             "#ed7953"
            ],
            [
             0.7777777777777778,
             "#fb9f3a"
            ],
            [
             0.8888888888888888,
             "#fdca26"
            ],
            [
             1,
             "#f0f921"
            ]
           ]
          },
          "colorway": [
           "#636efa",
           "#EF553B",
           "#00cc96",
           "#ab63fa",
           "#FFA15A",
           "#19d3f3",
           "#FF6692",
           "#B6E880",
           "#FF97FF",
           "#FECB52"
          ],
          "font": {
           "color": "#2a3f5f"
          },
          "geo": {
           "bgcolor": "white",
           "lakecolor": "white",
           "landcolor": "#E5ECF6",
           "showlakes": true,
           "showland": true,
           "subunitcolor": "white"
          },
          "hoverlabel": {
           "align": "left"
          },
          "hovermode": "closest",
          "mapbox": {
           "style": "light"
          },
          "paper_bgcolor": "white",
          "plot_bgcolor": "#E5ECF6",
          "polar": {
           "angularaxis": {
            "gridcolor": "white",
            "linecolor": "white",
            "ticks": ""
           },
           "bgcolor": "#E5ECF6",
           "radialaxis": {
            "gridcolor": "white",
            "linecolor": "white",
            "ticks": ""
           }
          },
          "scene": {
           "xaxis": {
            "backgroundcolor": "#E5ECF6",
            "gridcolor": "white",
            "gridwidth": 2,
            "linecolor": "white",
            "showbackground": true,
            "ticks": "",
            "zerolinecolor": "white"
           },
           "yaxis": {
            "backgroundcolor": "#E5ECF6",
            "gridcolor": "white",
            "gridwidth": 2,
            "linecolor": "white",
            "showbackground": true,
            "ticks": "",
            "zerolinecolor": "white"
           },
           "zaxis": {
            "backgroundcolor": "#E5ECF6",
            "gridcolor": "white",
            "gridwidth": 2,
            "linecolor": "white",
            "showbackground": true,
            "ticks": "",
            "zerolinecolor": "white"
           }
          },
          "shapedefaults": {
           "line": {
            "color": "#2a3f5f"
           }
          },
          "ternary": {
           "aaxis": {
            "gridcolor": "white",
            "linecolor": "white",
            "ticks": ""
           },
           "baxis": {
            "gridcolor": "white",
            "linecolor": "white",
            "ticks": ""
           },
           "bgcolor": "#E5ECF6",
           "caxis": {
            "gridcolor": "white",
            "linecolor": "white",
            "ticks": ""
           }
          },
          "title": {
           "x": 0.05
          },
          "xaxis": {
           "automargin": true,
           "gridcolor": "white",
           "linecolor": "white",
           "ticks": "",
           "title": {
            "standoff": 15
           },
           "zerolinecolor": "white",
           "zerolinewidth": 2
          },
          "yaxis": {
           "automargin": true,
           "gridcolor": "white",
           "linecolor": "white",
           "ticks": "",
           "title": {
            "standoff": 15
           },
           "zerolinecolor": "white",
           "zerolinewidth": 2
          }
         }
        },
        "title": {
         "text": "Víctimas por Dia y Horas"
        },
        "xaxis": {
         "anchor": "y",
         "categoryarray": [
          "Monday",
          "Tuesday",
          "Wednesday",
          "Thursday",
          "Friday",
          "Saturday",
          "Sunday"
         ],
         "categoryorder": "array",
         "domain": [
          0,
          1
         ],
         "title": {
          "text": "Dia de la Semana"
         }
        },
        "yaxis": {
         "anchor": "x",
         "domain": [
          0,
          1
         ],
         "title": {
          "text": "Total Victims"
         }
        }
       }
      }
     },
     "metadata": {},
     "output_type": "display_data"
    }
   ],
   "source": [
    "import plotly.express as px\n",
    "\n",
    "# Group data by day name and hour, summing 'n_victimas'\n",
    "grouped_data = conjunto.groupby([conjunto['fecha_hora'].dt.day_name().rename('Day_of_Week'), \n",
    "                                 conjunto['fecha_hora'].dt.hour.rename('Hour_of_Day')])['n_victimas'].sum().reset_index()\n",
    "\n",
    "# Create a bar plot using Plotly Express\n",
    "fig = px.bar(grouped_data, x='Day_of_Week', y='n_victimas', color='Hour_of_Day', \n",
    "             title='Víctimas por Dia y Horas',\n",
    "             labels={'Day_of_Week': 'Dia de la Semana', 'n_victimas': 'Total Victims'},\n",
    "             category_orders={'Day_of_Week': ['Monday', 'Tuesday', 'Wednesday', 'Thursday', 'Friday', 'Saturday', 'Sunday']})\n",
    "\n",
    "# Show the plot\n",
    "fig.show()\n"
   ]
  },
  {
   "cell_type": "markdown",
   "metadata": {},
   "source": [
    "Visto desde otra perspectiva da más información."
   ]
  },
  {
   "cell_type": "code",
   "execution_count": 207,
   "metadata": {},
   "outputs": [
    {
     "data": {
      "image/png": "[encoded data removed]",
      "text/plain": [
       "<Figure size 1000x600 with 1 Axes>"
      ]
     },
     "metadata": {},
     "output_type": "display_data"
    }
   ],
   "source": [
    "import seaborn as sns\n",
    "import matplotlib.pyplot as plt\n",
    "\n",
    "conjunto = conjunto.query(\"gravedad == 'FATAL'\")\n",
    "\n",
    "grouped_data = conjunto.groupby([conjunto['fecha_hora'].dt.year.rename('Año'), \n",
    "                                conjunto['fecha_hora'].dt.month.rename('Mes')])['n_victimas'].sum().reset_index()\n",
    "\n",
    "# Create a bar plot using Seaborn\n",
    "plt.figure(figsize=(10, 6))\n",
    "sns.barplot(data=grouped_data, x='Año', y='n_victimas', hue='Mes')\n",
    "\n",
    "# Set plot title and labels\n",
    "plt.title('Victimas por Año y Mes')\n",
    "plt.xlabel('Año')\n",
    "plt.ylabel('Victimas')\n",
    "\n",
    "# Show the plot\n",
    "plt.show()\n"
   ]
  },
  {
   "cell_type": "markdown",
   "metadata": {},
   "source": [
    "Ya podemos ver cómo afectó la pandemia a la baja y cómo subieron cuando se liberó el aislamiento"
   ]
  },
  {
   "cell_type": "code",
   "execution_count": 212,
   "metadata": {},
   "outputs": [
    {
     "data": {
      "application/vnd.plotly.v1+json": {
       "config": {
        "plotlyServerURL": "https://plot.ly"
       },
       "data": [
        {
         "hovertemplate": "Month=%{x}<br>Total Victims=%{y}<extra></extra>",
         "legendgroup": "",
         "line": {
          "color": "#636efa",
          "dash": "solid"
         },
         "marker": {
          "symbol": "circle"
         },
         "mode": "lines",
         "name": "",
         "orientation": "v",
         "showlegend": false,
         "type": "scatter",
         "x": [
          "2016",
          "2017",
          "2018",
          "2019",
          "2020",
          "2021"
         ],
         "xaxis": "x",
         "y": [
          146,
          140,
          149,
          104,
          86,
          97
         ],
         "yaxis": "y"
        }
       ],
       "layout": {
        "legend": {
         "tracegroupgap": 0
        },
        "template": {
         "data": {
          "bar": [
           {
            "error_x": {
             "color": "#2a3f5f"
            },
            "error_y": {
             "color": "#2a3f5f"
            },
            "marker": {
             "line": {
              "color": "#E5ECF6",
              "width": 0.5
             },
             "pattern": {
              "fillmode": "overlay",
              "size": 10,
              "solidity": 0.2
             }
            },
            "type": "bar"
           }
          ],
          "barpolar": [
           {
            "marker": {
             "line": {
              "color": "#E5ECF6",
              "width": 0.5
             },
             "pattern": {
              "fillmode": "overlay",
              "size": 10,
              "solidity": 0.2
             }
            },
            "type": "barpolar"
           }
          ],
          "carpet": [
           {
            "aaxis": {
             "endlinecolor": "#2a3f5f",
             "gridcolor": "white",
             "linecolor": "white",
             "minorgridcolor": "white",
             "startlinecolor": "#2a3f5f"
            },
            "baxis": {
             "endlinecolor": "#2a3f5f",
             "gridcolor": "white",
             "linecolor": "white",
             "minorgridcolor": "white",
             "startlinecolor": "#2a3f5f"
            },
            "type": "carpet"
           }
          ],
          "choropleth": [
           {
            "colorbar": {
             "outlinewidth": 0,
             "ticks": ""
            },
            "type": "choropleth"
           }
          ],
          "contour": [
           {
            "colorbar": {
             "outlinewidth": 0,
             "ticks": ""
            },
            "colorscale": [
             [
              0,
              "#0d0887"
             ],
             [
              0.1111111111111111,
              "#46039f"
             ],
             [
              0.2222222222222222,
              "#7201a8"
             ],
             [
              0.3333333333333333,
              "#9c179e"
             ],
             [
              0.4444444444444444,
              "#bd3786"
             ],
             [
              0.5555555555555556,
              "#d8576b"
             ],
             [
              0.6666666666666666,
              "#ed7953"
             ],
             [
              0.7777777777777778,
              "#fb9f3a"
             ],
             [
              0.8888888888888888,
              "#fdca26"
             ],
             [
              1,
              "#f0f921"
             ]
            ],
            "type": "contour"
           }
          ],
          "contourcarpet": [
           {
            "colorbar": {
             "outlinewidth": 0,
             "ticks": ""
            },
            "type": "contourcarpet"
           }
          ],
          "heatmap": [
           {
            "colorbar": {
             "outlinewidth": 0,
             "ticks": ""
            },
            "colorscale": [
             [
              0,
              "#0d0887"
             ],
             [
              0.1111111111111111,
              "#46039f"
             ],
             [
              0.2222222222222222,
              "#7201a8"
             ],
             [
              0.3333333333333333,
              "#9c179e"
             ],
             [
              0.4444444444444444,
              "#bd3786"
             ],
             [
              0.5555555555555556,
              "#d8576b"
             ],
             [
              0.6666666666666666,
              "#ed7953"
             ],
             [
              0.7777777777777778,
              "#fb9f3a"
             ],
             [
              0.8888888888888888,
              "#fdca26"
             ],
             [
              1,
              "#f0f921"
             ]
            ],
            "type": "heatmap"
           }
          ],
          "heatmapgl": [
           {
            "colorbar": {
             "outlinewidth": 0,
             "ticks": ""
            },
            "colorscale": [
             [
              0,
              "#0d0887"
             ],
             [
              0.1111111111111111,
              "#46039f"
             ],
             [
              0.2222222222222222,
              "#7201a8"
             ],
             [
              0.3333333333333333,
              "#9c179e"
             ],
             [
              0.4444444444444444,
              "#bd3786"
             ],
             [
              0.5555555555555556,
              "#d8576b"
             ],
             [
              0.6666666666666666,
              "#ed7953"
             ],
             [
              0.7777777777777778,
              "#fb9f3a"
             ],
             [
              0.8888888888888888,
              "#fdca26"
             ],
             [
              1,
              "#f0f921"
             ]
            ],
            "type": "heatmapgl"
           }
          ],
          "histogram": [
           {
            "marker": {
             "pattern": {
              "fillmode": "overlay",
              "size": 10,
              "solidity": 0.2
             }
            },
            "type": "histogram"
           }
          ],
          "histogram2d": [
           {
            "colorbar": {
             "outlinewidth": 0,
             "ticks": ""
            },
            "colorscale": [
             [
              0,
              "#0d0887"
             ],
             [
              0.1111111111111111,
              "#46039f"
             ],
             [
              0.2222222222222222,
              "#7201a8"
             ],
             [
              0.3333333333333333,
              "#9c179e"
             ],
             [
              0.4444444444444444,
              "#bd3786"
             ],
             [
              0.5555555555555556,
              "#d8576b"
             ],
             [
              0.6666666666666666,
              "#ed7953"
             ],
             [
              0.7777777777777778,
              "#fb9f3a"
             ],
             [
              0.8888888888888888,
              "#fdca26"
             ],
             [
              1,
              "#f0f921"
             ]
            ],
            "type": "histogram2d"
           }
          ],
          "histogram2dcontour": [
           {
            "colorbar": {
             "outlinewidth": 0,
             "ticks": ""
            },
            "colorscale": [
             [
              0,
              "#0d0887"
             ],
             [
              0.1111111111111111,
              "#46039f"
             ],
             [
              0.2222222222222222,
              "#7201a8"
             ],
             [
              0.3333333333333333,
              "#9c179e"
             ],
             [
              0.4444444444444444,
              "#bd3786"
             ],
             [
              0.5555555555555556,
              "#d8576b"
             ],
             [
              0.6666666666666666,
              "#ed7953"
             ],
             [
              0.7777777777777778,
              "#fb9f3a"
             ],
             [
              0.8888888888888888,
              "#fdca26"
             ],
             [
              1,
              "#f0f921"
             ]
            ],
            "type": "histogram2dcontour"
           }
          ],
          "mesh3d": [
           {
            "colorbar": {
             "outlinewidth": 0,
             "ticks": ""
            },
            "type": "mesh3d"
           }
          ],
          "parcoords": [
           {
            "line": {
             "colorbar": {
              "outlinewidth": 0,
              "ticks": ""
             }
            },
            "type": "parcoords"
           }
          ],
          "pie": [
           {
            "automargin": true,
            "type": "pie"
           }
          ],
          "scatter": [
           {
            "fillpattern": {
             "fillmode": "overlay",
             "size": 10,
             "solidity": 0.2
            },
            "type": "scatter"
           }
          ],
          "scatter3d": [
           {
            "line": {
             "colorbar": {
              "outlinewidth": 0,
              "ticks": ""
             }
            },
            "marker": {
             "colorbar": {
              "outlinewidth": 0,
              "ticks": ""
             }
            },
            "type": "scatter3d"
           }
          ],
          "scattercarpet": [
           {
            "marker": {
             "colorbar": {
              "outlinewidth": 0,
              "ticks": ""
             }
            },
            "type": "scattercarpet"
           }
          ],
          "scattergeo": [
           {
            "marker": {
             "colorbar": {
              "outlinewidth": 0,
              "ticks": ""
             }
            },
            "type": "scattergeo"
           }
          ],
          "scattergl": [
           {
            "marker": {
             "colorbar": {
              "outlinewidth": 0,
              "ticks": ""
             }
            },
            "type": "scattergl"
           }
          ],
          "scattermapbox": [
           {
            "marker": {
             "colorbar": {
              "outlinewidth": 0,
              "ticks": ""
             }
            },
            "type": "scattermapbox"
           }
          ],
          "scatterpolar": [
           {
            "marker": {
             "colorbar": {
              "outlinewidth": 0,
              "ticks": ""
             }
            },
            "type": "scatterpolar"
           }
          ],
          "scatterpolargl": [
           {
            "marker": {
             "colorbar": {
              "outlinewidth": 0,
              "ticks": ""
             }
            },
            "type": "scatterpolargl"
           }
          ],
          "scatterternary": [
           {
            "marker": {
             "colorbar": {
              "outlinewidth": 0,
              "ticks": ""
             }
            },
            "type": "scatterternary"
           }
          ],
          "surface": [
           {
            "colorbar": {
             "outlinewidth": 0,
             "ticks": ""
            },
            "colorscale": [
             [
              0,
              "#0d0887"
             ],
             [
              0.1111111111111111,
              "#46039f"
             ],
             [
              0.2222222222222222,
              "#7201a8"
             ],
             [
              0.3333333333333333,
              "#9c179e"
             ],
             [
              0.4444444444444444,
              "#bd3786"
             ],
             [
              0.5555555555555556,
              "#d8576b"
             ],
             [
              0.6666666666666666,
              "#ed7953"
             ],
             [
              0.7777777777777778,
              "#fb9f3a"
             ],
             [
              0.8888888888888888,
              "#fdca26"
             ],
             [
              1,
              "#f0f921"
             ]
            ],
            "type": "surface"
           }
          ],
          "table": [
           {
            "cells": {
             "fill": {
              "color": "#EBF0F8"
             },
             "line": {
              "color": "white"
             }
            },
            "header": {
             "fill": {
              "color": "#C8D4E3"
             },
             "line": {
              "color": "white"
             }
            },
            "type": "table"
           }
          ]
         },
         "layout": {
          "annotationdefaults": {
           "arrowcolor": "#2a3f5f",
           "arrowhead": 0,
           "arrowwidth": 1
          },
          "autotypenumbers": "strict",
          "coloraxis": {
           "colorbar": {
            "outlinewidth": 0,
            "ticks": ""
           }
          },
          "colorscale": {
           "diverging": [
            [
             0,
             "#8e0152"
            ],
            [
             0.1,
             "#c51b7d"
            ],
            [
             0.2,
             "#de77ae"
            ],
            [
             0.3,
             "#f1b6da"
            ],
            [
             0.4,
             "#fde0ef"
            ],
            [
             0.5,
             "#f7f7f7"
            ],
            [
             0.6,
             "#e6f5d0"
            ],
            [
             0.7,
             "#b8e186"
            ],
            [
             0.8,
             "#7fbc41"
            ],
            [
             0.9,
             "#4d9221"
            ],
            [
             1,
             "#276419"
            ]
           ],
           "sequential": [
            [
             0,
             "#0d0887"
            ],
            [
             0.1111111111111111,
             "#46039f"
            ],
            [
             0.2222222222222222,
             "#7201a8"
            ],
            [
             0.3333333333333333,
             "#9c179e"
            ],
            [
             0.4444444444444444,
             "#bd3786"
            ],
            [
             0.5555555555555556,
             "#d8576b"
            ],
            [
             0.6666666666666666,
             "#ed7953"
            ],
            [
             0.7777777777777778,
             "#fb9f3a"
            ],
            [
             0.8888888888888888,
             "#fdca26"
            ],
            [
             1,
             "#f0f921"
            ]
           ],
           "sequentialminus": [
            [
             0,
             "#0d0887"
            ],
            [
             0.1111111111111111,
             "#46039f"
            ],
            [
             0.2222222222222222,
             "#7201a8"
            ],
            [
             0.3333333333333333,
             "#9c179e"
            ],
            [
             0.4444444444444444,
             "#bd3786"
            ],
            [
             0.5555555555555556,
             "#d8576b"
            ],
            [
             0.6666666666666666,
             "#ed7953"
            ],
            [
             0.7777777777777778,
             "#fb9f3a"
            ],
            [
             0.8888888888888888,
             "#fdca26"
            ],
            [
             1,
             "#f0f921"
            ]
           ]
          },
          "colorway": [
           "#636efa",
           "#EF553B",
           "#00cc96",
           "#ab63fa",
           "#FFA15A",
           "#19d3f3",
           "#FF6692",
           "#B6E880",
           "#FF97FF",
           "#FECB52"
          ],
          "font": {
           "color": "#2a3f5f"
          },
          "geo": {
           "bgcolor": "white",
           "lakecolor": "white",
           "landcolor": "#E5ECF6",
           "showlakes": true,
           "showland": true,
           "subunitcolor": "white"
          },
          "hoverlabel": {
           "align": "left"
          },
          "hovermode": "closest",
          "mapbox": {
           "style": "light"
          },
          "paper_bgcolor": "white",
          "plot_bgcolor": "#E5ECF6",
          "polar": {
           "angularaxis": {
            "gridcolor": "white",
            "linecolor": "white",
            "ticks": ""
           },
           "bgcolor": "#E5ECF6",
           "radialaxis": {
            "gridcolor": "white",
            "linecolor": "white",
            "ticks": ""
           }
          },
          "scene": {
           "xaxis": {
            "backgroundcolor": "#E5ECF6",
            "gridcolor": "white",
            "gridwidth": 2,
            "linecolor": "white",
            "showbackground": true,
            "ticks": "",
            "zerolinecolor": "white"
           },
           "yaxis": {
            "backgroundcolor": "#E5ECF6",
            "gridcolor": "white",
            "gridwidth": 2,
            "linecolor": "white",
            "showbackground": true,
            "ticks": "",
            "zerolinecolor": "white"
           },
           "zaxis": {
            "backgroundcolor": "#E5ECF6",
            "gridcolor": "white",
            "gridwidth": 2,
            "linecolor": "white",
            "showbackground": true,
            "ticks": "",
            "zerolinecolor": "white"
           }
          },
          "shapedefaults": {
           "line": {
            "color": "#2a3f5f"
           }
          },
          "ternary": {
           "aaxis": {
            "gridcolor": "white",
            "linecolor": "white",
            "ticks": ""
           },
           "baxis": {
            "gridcolor": "white",
            "linecolor": "white",
            "ticks": ""
           },
           "bgcolor": "#E5ECF6",
           "caxis": {
            "gridcolor": "white",
            "linecolor": "white",
            "ticks": ""
           }
          },
          "title": {
           "x": 0.05
          },
          "xaxis": {
           "automargin": true,
           "gridcolor": "white",
           "linecolor": "white",
           "ticks": "",
           "title": {
            "standoff": 15
           },
           "zerolinecolor": "white",
           "zerolinewidth": 2
          },
          "yaxis": {
           "automargin": true,
           "gridcolor": "white",
           "linecolor": "white",
           "ticks": "",
           "title": {
            "standoff": 15
           },
           "zerolinecolor": "white",
           "zerolinewidth": 2
          }
         }
        },
        "title": {
         "text": "Total de Victimas a lo largo los años"
        },
        "xaxis": {
         "anchor": "y",
         "domain": [
          0,
          1
         ],
         "title": {
          "text": "Month"
         }
        },
        "yaxis": {
         "anchor": "x",
         "domain": [
          0,
          1
         ],
         "title": {
          "text": "Total Victims"
         }
        }
       }
      }
     },
     "metadata": {},
     "output_type": "display_data"
    }
   ],
   "source": [
    "import plotly.express as px\n",
    "\n",
    "# Group data by month, summing 'n_victimas'\n",
    "grouped_data = conjunto.groupby(conjunto['fecha_hora'].dt.to_period('Y'))['n_victimas'].sum().reset_index()\n",
    "\n",
    "# Convert Period objects to strings\n",
    "grouped_data['fecha_hora'] = grouped_data['fecha_hora'].astype(str)\n",
    "\n",
    "# Create a line plot using Plotly Express\n",
    "fig = px.line(grouped_data, x='fecha_hora', y='n_victimas', \n",
    "              title='Total de Victimas a lo largo los años',\n",
    "              labels={'fecha_hora': 'Month', 'n_victimas': 'Total Victims'})\n",
    "\n",
    "# Show the plot\n",
    "fig.show()\n"
   ]
  },
  {
   "cell_type": "code",
   "execution_count": null,
   "metadata": {},
   "outputs": [],
   "source": [
    "# data_hm.to_excel('data/generated/data_hm.xlsx')"
   ]
  },
  {
   "cell_type": "code",
   "execution_count": null,
   "metadata": {},
   "outputs": [],
   "source": [
    "import csv\n",
    "\n",
    "# data_hm.to_csv('data/generated/data_hm.csv', sep=';', quoting=csv.QUOTE_NONNUMERIC, encoding='utf-8')"
   ]
  },
  {
   "cell_type": "code",
   "execution_count": null,
   "metadata": {},
   "outputs": [],
   "source": [
    "# data = pd.read_csv('data/generated/data_hm.csv', sep=';', encoding='utf-8')"
   ]
  },
  {
   "cell_type": "code",
   "execution_count": null,
   "metadata": {},
   "outputs": [],
   "source": [
    "# data_hm.to_excel('data/generated/data_hm.xlsx', engine='openpyxl')"
   ]
  },
  {
   "cell_type": "code",
   "execution_count": 216,
   "metadata": {},
   "outputs": [
    {
     "data": {
      "text/html": [
       "<div>\n",
       "<style scoped>\n",
       "    .dataframe tbody tr th:only-of-type {\n",
       "        vertical-align: middle;\n",
       "    }\n",
       "\n",
       "    .dataframe tbody tr th {\n",
       "        vertical-align: top;\n",
       "    }\n",
       "\n",
       "    .dataframe thead th {\n",
       "        text-align: right;\n",
       "    }\n",
       "</style>\n",
       "<table border=\"1\" class=\"dataframe\">\n",
       "  <thead>\n",
       "    <tr style=\"text-align: right;\">\n",
       "      <th></th>\n",
       "      <th>fecha_hora</th>\n",
       "      <th>n_victimas</th>\n",
       "    </tr>\n",
       "  </thead>\n",
       "  <tbody>\n",
       "    <tr>\n",
       "      <th>0</th>\n",
       "      <td>0</td>\n",
       "      <td>103</td>\n",
       "    </tr>\n",
       "    <tr>\n",
       "      <th>1</th>\n",
       "      <td>1</td>\n",
       "      <td>96</td>\n",
       "    </tr>\n",
       "    <tr>\n",
       "      <th>2</th>\n",
       "      <td>2</td>\n",
       "      <td>97</td>\n",
       "    </tr>\n",
       "    <tr>\n",
       "      <th>3</th>\n",
       "      <td>3</td>\n",
       "      <td>94</td>\n",
       "    </tr>\n",
       "    <tr>\n",
       "      <th>4</th>\n",
       "      <td>4</td>\n",
       "      <td>95</td>\n",
       "    </tr>\n",
       "    <tr>\n",
       "      <th>5</th>\n",
       "      <td>5</td>\n",
       "      <td>102</td>\n",
       "    </tr>\n",
       "    <tr>\n",
       "      <th>6</th>\n",
       "      <td>6</td>\n",
       "      <td>97</td>\n",
       "    </tr>\n",
       "  </tbody>\n",
       "</table>\n",
       "</div>"
      ],
      "text/plain": [
       "   fecha_hora  n_victimas\n",
       "0           0         103\n",
       "1           1          96\n",
       "2           2          97\n",
       "3           3          94\n",
       "4           4          95\n",
       "5           5         102\n",
       "6           6          97"
      ]
     },
     "execution_count": 216,
     "metadata": {},
     "output_type": "execute_result"
    }
   ],
   "source": [
    "data = pd.read_excel('data/generated/data_hm.xlsx', engine='openpyxl')\n",
    "\n",
    "data.groupby(data['fecha_hora'].dt.day_of_week)['n_victimas'].count().reset_index()"
   ]
  },
  {
   "cell_type": "markdown",
   "metadata": {},
   "source": [
    "Por día de la semana"
   ]
  },
  {
   "cell_type": "code",
   "execution_count": null,
   "metadata": {},
   "outputs": [],
   "source": [
    "data.query('fecha_hora.dt.month == 12 and fecha_hora.dt.year == 2020').n_victimas.sum()"
   ]
  },
  {
   "cell_type": "code",
   "execution_count": 221,
   "metadata": {},
   "outputs": [
    {
     "data": {
      "application/vnd.plotly.v1+json": {
       "config": {
        "plotlyServerURL": "https://plot.ly"
       },
       "data": [
        {
         "alignmentgroup": "True",
         "hovertemplate": "Fecha=%{x}<br>Victimas=%{marker.color}<extra></extra>",
         "legendgroup": "",
         "marker": {
          "color": [
           8,
           12,
           13,
           10,
           7,
           14,
           11,
           13,
           12,
           11,
           13,
           18,
           10,
           11,
           12,
           6,
           17,
           9,
           12,
           9,
           13,
           11,
           13,
           12,
           14,
           11,
           8,
           14,
           10,
           12,
           14,
           16,
           8,
           12,
           15,
           14,
           9,
           8,
           11,
           9,
           9,
           11,
           5,
           14,
           9,
           6,
           8,
           5,
           8,
           8,
           5,
           3,
           3,
           3,
           2,
           6,
           4,
           6,
           9,
           22,
           13,
           9,
           6,
           5,
           12,
           9,
           7,
           9,
           4,
           5,
           8,
           9
          ],
          "coloraxis": "coloraxis",
          "pattern": {
           "shape": ""
          }
         },
         "name": "",
         "offsetgroup": "",
         "orientation": "v",
         "showlegend": false,
         "textposition": "auto",
         "type": "bar",
         "x": [
          "2016-01",
          "2016-02",
          "2016-03",
          "2016-04",
          "2016-05",
          "2016-06",
          "2016-07",
          "2016-08",
          "2016-09",
          "2016-10",
          "2016-11",
          "2016-12",
          "2017-01",
          "2017-02",
          "2017-03",
          "2017-04",
          "2017-05",
          "2017-06",
          "2017-07",
          "2017-08",
          "2017-09",
          "2017-10",
          "2017-11",
          "2017-12",
          "2018-01",
          "2018-02",
          "2018-03",
          "2018-04",
          "2018-05",
          "2018-06",
          "2018-07",
          "2018-08",
          "2018-09",
          "2018-10",
          "2018-11",
          "2018-12",
          "2019-01",
          "2019-02",
          "2019-03",
          "2019-04",
          "2019-05",
          "2019-06",
          "2019-07",
          "2019-08",
          "2019-09",
          "2019-10",
          "2019-11",
          "2019-12",
          "2020-01",
          "2020-02",
          "2020-03",
          "2020-04",
          "2020-05",
          "2020-06",
          "2020-07",
          "2020-08",
          "2020-09",
          "2020-10",
          "2020-11",
          "2020-12",
          "2021-01",
          "2021-02",
          "2021-03",
          "2021-04",
          "2021-05",
          "2021-06",
          "2021-07",
          "2021-08",
          "2021-09",
          "2021-10",
          "2021-11",
          "2021-12"
         ],
         "xaxis": "x",
         "y": [
          8,
          12,
          13,
          10,
          7,
          14,
          11,
          13,
          12,
          11,
          13,
          18,
          10,
          11,
          12,
          6,
          17,
          9,
          12,
          9,
          13,
          11,
          13,
          12,
          14,
          11,
          8,
          14,
          10,
          12,
          14,
          16,
          8,
          12,
          15,
          14,
          9,
          8,
          11,
          9,
          9,
          11,
          5,
          14,
          9,
          6,
          8,
          5,
          8,
          8,
          5,
          3,
          3,
          3,
          2,
          6,
          4,
          6,
          9,
          22,
          13,
          9,
          6,
          5,
          12,
          9,
          7,
          9,
          4,
          5,
          8,
          9
         ],
         "yaxis": "y"
        }
       ],
       "layout": {
        "barmode": "relative",
        "coloraxis": {
         "colorbar": {
          "title": {
           "text": "Victimas"
          }
         },
         "colorscale": [
          [
           0,
           "lightgreen"
          ],
          [
           0.5,
           "yellow"
          ],
          [
           1,
           "red"
          ]
         ]
        },
        "legend": {
         "tracegroupgap": 0
        },
        "template": {
         "data": {
          "bar": [
           {
            "error_x": {
             "color": "#2a3f5f"
            },
            "error_y": {
             "color": "#2a3f5f"
            },
            "marker": {
             "line": {
              "color": "#E5ECF6",
              "width": 0.5
             },
             "pattern": {
              "fillmode": "overlay",
              "size": 10,
              "solidity": 0.2
             }
            },
            "type": "bar"
           }
          ],
          "barpolar": [
           {
            "marker": {
             "line": {
              "color": "#E5ECF6",
              "width": 0.5
             },
             "pattern": {
              "fillmode": "overlay",
              "size": 10,
              "solidity": 0.2
             }
            },
            "type": "barpolar"
           }
          ],
          "carpet": [
           {
            "aaxis": {
             "endlinecolor": "#2a3f5f",
             "gridcolor": "white",
             "linecolor": "white",
             "minorgridcolor": "white",
             "startlinecolor": "#2a3f5f"
            },
            "baxis": {
             "endlinecolor": "#2a3f5f",
             "gridcolor": "white",
             "linecolor": "white",
             "minorgridcolor": "white",
             "startlinecolor": "#2a3f5f"
            },
            "type": "carpet"
           }
          ],
          "choropleth": [
           {
            "colorbar": {
             "outlinewidth": 0,
             "ticks": ""
            },
            "type": "choropleth"
           }
          ],
          "contour": [
           {
            "colorbar": {
             "outlinewidth": 0,
             "ticks": ""
            },
            "colorscale": [
             [
              0,
              "#0d0887"
             ],
             [
              0.1111111111111111,
              "#46039f"
             ],
             [
              0.2222222222222222,
              "#7201a8"
             ],
             [
              0.3333333333333333,
              "#9c179e"
             ],
             [
              0.4444444444444444,
              "#bd3786"
             ],
             [
              0.5555555555555556,
              "#d8576b"
             ],
             [
              0.6666666666666666,
              "#ed7953"
             ],
             [
              0.7777777777777778,
              "#fb9f3a"
             ],
             [
              0.8888888888888888,
              "#fdca26"
             ],
             [
              1,
              "#f0f921"
             ]
            ],
            "type": "contour"
           }
          ],
          "contourcarpet": [
           {
            "colorbar": {
             "outlinewidth": 0,
             "ticks": ""
            },
            "type": "contourcarpet"
           }
          ],
          "heatmap": [
           {
            "colorbar": {
             "outlinewidth": 0,
             "ticks": ""
            },
            "colorscale": [
             [
              0,
              "#0d0887"
             ],
             [
              0.1111111111111111,
              "#46039f"
             ],
             [
              0.2222222222222222,
              "#7201a8"
             ],
             [
              0.3333333333333333,
              "#9c179e"
             ],
             [
              0.4444444444444444,
              "#bd3786"
             ],
             [
              0.5555555555555556,
              "#d8576b"
             ],
             [
              0.6666666666666666,
              "#ed7953"
             ],
             [
              0.7777777777777778,
              "#fb9f3a"
             ],
             [
              0.8888888888888888,
              "#fdca26"
             ],
             [
              1,
              "#f0f921"
             ]
            ],
            "type": "heatmap"
           }
          ],
          "heatmapgl": [
           {
            "colorbar": {
             "outlinewidth": 0,
             "ticks": ""
            },
            "colorscale": [
             [
              0,
              "#0d0887"
             ],
             [
              0.1111111111111111,
              "#46039f"
             ],
             [
              0.2222222222222222,
              "#7201a8"
             ],
             [
              0.3333333333333333,
              "#9c179e"
             ],
             [
              0.4444444444444444,
              "#bd3786"
             ],
             [
              0.5555555555555556,
              "#d8576b"
             ],
             [
              0.6666666666666666,
              "#ed7953"
             ],
             [
              0.7777777777777778,
              "#fb9f3a"
             ],
             [
              0.8888888888888888,
              "#fdca26"
             ],
             [
              1,
              "#f0f921"
             ]
            ],
            "type": "heatmapgl"
           }
          ],
          "histogram": [
           {
            "marker": {
             "pattern": {
              "fillmode": "overlay",
              "size": 10,
              "solidity": 0.2
             }
            },
            "type": "histogram"
           }
          ],
          "histogram2d": [
           {
            "colorbar": {
             "outlinewidth": 0,
             "ticks": ""
            },
            "colorscale": [
             [
              0,
              "#0d0887"
             ],
             [
              0.1111111111111111,
              "#46039f"
             ],
             [
              0.2222222222222222,
              "#7201a8"
             ],
             [
              0.3333333333333333,
              "#9c179e"
             ],
             [
              0.4444444444444444,
              "#bd3786"
             ],
             [
              0.5555555555555556,
              "#d8576b"
             ],
             [
              0.6666666666666666,
              "#ed7953"
             ],
             [
              0.7777777777777778,
              "#fb9f3a"
             ],
             [
              0.8888888888888888,
              "#fdca26"
             ],
             [
              1,
              "#f0f921"
             ]
            ],
            "type": "histogram2d"
           }
          ],
          "histogram2dcontour": [
           {
            "colorbar": {
             "outlinewidth": 0,
             "ticks": ""
            },
            "colorscale": [
             [
              0,
              "#0d0887"
             ],
             [
              0.1111111111111111,
              "#46039f"
             ],
             [
              0.2222222222222222,
              "#7201a8"
             ],
             [
              0.3333333333333333,
              "#9c179e"
             ],
             [
              0.4444444444444444,
              "#bd3786"
             ],
             [
              0.5555555555555556,
              "#d8576b"
             ],
             [
              0.6666666666666666,
              "#ed7953"
             ],
             [
              0.7777777777777778,
              "#fb9f3a"
             ],
             [
              0.8888888888888888,
              "#fdca26"
             ],
             [
              1,
              "#f0f921"
             ]
            ],
            "type": "histogram2dcontour"
           }
          ],
          "mesh3d": [
           {
            "colorbar": {
             "outlinewidth": 0,
             "ticks": ""
            },
            "type": "mesh3d"
           }
          ],
          "parcoords": [
           {
            "line": {
             "colorbar": {
              "outlinewidth": 0,
              "ticks": ""
             }
            },
            "type": "parcoords"
           }
          ],
          "pie": [
           {
            "automargin": true,
            "type": "pie"
           }
          ],
          "scatter": [
           {
            "fillpattern": {
             "fillmode": "overlay",
             "size": 10,
             "solidity": 0.2
            },
            "type": "scatter"
           }
          ],
          "scatter3d": [
           {
            "line": {
             "colorbar": {
              "outlinewidth": 0,
              "ticks": ""
             }
            },
            "marker": {
             "colorbar": {
              "outlinewidth": 0,
              "ticks": ""
             }
            },
            "type": "scatter3d"
           }
          ],
          "scattercarpet": [
           {
            "marker": {
             "colorbar": {
              "outlinewidth": 0,
              "ticks": ""
             }
            },
            "type": "scattercarpet"
           }
          ],
          "scattergeo": [
           {
            "marker": {
             "colorbar": {
              "outlinewidth": 0,
              "ticks": ""
             }
            },
            "type": "scattergeo"
           }
          ],
          "scattergl": [
           {
            "marker": {
             "colorbar": {
              "outlinewidth": 0,
              "ticks": ""
             }
            },
            "type": "scattergl"
           }
          ],
          "scattermapbox": [
           {
            "marker": {
             "colorbar": {
              "outlinewidth": 0,
              "ticks": ""
             }
            },
            "type": "scattermapbox"
           }
          ],
          "scatterpolar": [
           {
            "marker": {
             "colorbar": {
              "outlinewidth": 0,
              "ticks": ""
             }
            },
            "type": "scatterpolar"
           }
          ],
          "scatterpolargl": [
           {
            "marker": {
             "colorbar": {
              "outlinewidth": 0,
              "ticks": ""
             }
            },
            "type": "scatterpolargl"
           }
          ],
          "scatterternary": [
           {
            "marker": {
             "colorbar": {
              "outlinewidth": 0,
              "ticks": ""
             }
            },
            "type": "scatterternary"
           }
          ],
          "surface": [
           {
            "colorbar": {
             "outlinewidth": 0,
             "ticks": ""
            },
            "colorscale": [
             [
              0,
              "#0d0887"
             ],
             [
              0.1111111111111111,
              "#46039f"
             ],
             [
              0.2222222222222222,
              "#7201a8"
             ],
             [
              0.3333333333333333,
              "#9c179e"
             ],
             [
              0.4444444444444444,
              "#bd3786"
             ],
             [
              0.5555555555555556,
              "#d8576b"
             ],
             [
              0.6666666666666666,
              "#ed7953"
             ],
             [
              0.7777777777777778,
              "#fb9f3a"
             ],
             [
              0.8888888888888888,
              "#fdca26"
             ],
             [
              1,
              "#f0f921"
             ]
            ],
            "type": "surface"
           }
          ],
          "table": [
           {
            "cells": {
             "fill": {
              "color": "#EBF0F8"
             },
             "line": {
              "color": "white"
             }
            },
            "header": {
             "fill": {
              "color": "#C8D4E3"
             },
             "line": {
              "color": "white"
             }
            },
            "type": "table"
           }
          ]
         },
         "layout": {
          "annotationdefaults": {
           "arrowcolor": "#2a3f5f",
           "arrowhead": 0,
           "arrowwidth": 1
          },
          "autotypenumbers": "strict",
          "coloraxis": {
           "colorbar": {
            "outlinewidth": 0,
            "ticks": ""
           }
          },
          "colorscale": {
           "diverging": [
            [
             0,
             "#8e0152"
            ],
            [
             0.1,
             "#c51b7d"
            ],
            [
             0.2,
             "#de77ae"
            ],
            [
             0.3,
             "#f1b6da"
            ],
            [
             0.4,
             "#fde0ef"
            ],
            [
             0.5,
             "#f7f7f7"
            ],
            [
             0.6,
             "#e6f5d0"
            ],
            [
             0.7,
             "#b8e186"
            ],
            [
             0.8,
             "#7fbc41"
            ],
            [
             0.9,
             "#4d9221"
            ],
            [
             1,
             "#276419"
            ]
           ],
           "sequential": [
            [
             0,
             "#0d0887"
            ],
            [
             0.1111111111111111,
             "#46039f"
            ],
            [
             0.2222222222222222,
             "#7201a8"
            ],
            [
             0.3333333333333333,
             "#9c179e"
            ],
            [
             0.4444444444444444,
             "#bd3786"
            ],
            [
             0.5555555555555556,
             "#d8576b"
            ],
            [
             0.6666666666666666,
             "#ed7953"
            ],
            [
             0.7777777777777778,
             "#fb9f3a"
            ],
            [
             0.8888888888888888,
             "#fdca26"
            ],
            [
             1,
             "#f0f921"
            ]
           ],
           "sequentialminus": [
            [
             0,
             "#0d0887"
            ],
            [
             0.1111111111111111,
             "#46039f"
            ],
            [
             0.2222222222222222,
             "#7201a8"
            ],
            [
             0.3333333333333333,
             "#9c179e"
            ],
            [
             0.4444444444444444,
             "#bd3786"
            ],
            [
             0.5555555555555556,
             "#d8576b"
            ],
            [
             0.6666666666666666,
             "#ed7953"
            ],
            [
             0.7777777777777778,
             "#fb9f3a"
            ],
            [
             0.8888888888888888,
             "#fdca26"
            ],
            [
             1,
             "#f0f921"
            ]
           ]
          },
          "colorway": [
           "#636efa",
           "#EF553B",
           "#00cc96",
           "#ab63fa",
           "#FFA15A",
           "#19d3f3",
           "#FF6692",
           "#B6E880",
           "#FF97FF",
           "#FECB52"
          ],
          "font": {
           "color": "#2a3f5f"
          },
          "geo": {
           "bgcolor": "white",
           "lakecolor": "white",
           "landcolor": "#E5ECF6",
           "showlakes": true,
           "showland": true,
           "subunitcolor": "white"
          },
          "hoverlabel": {
           "align": "left"
          },
          "hovermode": "closest",
          "mapbox": {
           "style": "light"
          },
          "paper_bgcolor": "white",
          "plot_bgcolor": "#E5ECF6",
          "polar": {
           "angularaxis": {
            "gridcolor": "white",
            "linecolor": "white",
            "ticks": ""
           },
           "bgcolor": "#E5ECF6",
           "radialaxis": {
            "gridcolor": "white",
            "linecolor": "white",
            "ticks": ""
           }
          },
          "scene": {
           "xaxis": {
            "backgroundcolor": "#E5ECF6",
            "gridcolor": "white",
            "gridwidth": 2,
            "linecolor": "white",
            "showbackground": true,
            "ticks": "",
            "zerolinecolor": "white"
           },
           "yaxis": {
            "backgroundcolor": "#E5ECF6",
            "gridcolor": "white",
            "gridwidth": 2,
            "linecolor": "white",
            "showbackground": true,
            "ticks": "",
            "zerolinecolor": "white"
           },
           "zaxis": {
            "backgroundcolor": "#E5ECF6",
            "gridcolor": "white",
            "gridwidth": 2,
            "linecolor": "white",
            "showbackground": true,
            "ticks": "",
            "zerolinecolor": "white"
           }
          },
          "shapedefaults": {
           "line": {
            "color": "#2a3f5f"
           }
          },
          "ternary": {
           "aaxis": {
            "gridcolor": "white",
            "linecolor": "white",
            "ticks": ""
           },
           "baxis": {
            "gridcolor": "white",
            "linecolor": "white",
            "ticks": ""
           },
           "bgcolor": "#E5ECF6",
           "caxis": {
            "gridcolor": "white",
            "linecolor": "white",
            "ticks": ""
           }
          },
          "title": {
           "x": 0.05
          },
          "xaxis": {
           "automargin": true,
           "gridcolor": "white",
           "linecolor": "white",
           "ticks": "",
           "title": {
            "standoff": 15
           },
           "zerolinecolor": "white",
           "zerolinewidth": 2
          },
          "yaxis": {
           "automargin": true,
           "gridcolor": "white",
           "linecolor": "white",
           "ticks": "",
           "title": {
            "standoff": 15
           },
           "zerolinecolor": "white",
           "zerolinewidth": 2
          }
         }
        },
        "title": {
         "text": "Victimas por mes y año"
        },
        "xaxis": {
         "anchor": "y",
         "domain": [
          0,
          1
         ],
         "title": {
          "text": "Fecha"
         }
        },
        "yaxis": {
         "anchor": "x",
         "domain": [
          0,
          1
         ],
         "title": {
          "text": "Victimas"
         }
        }
       }
      }
     },
     "metadata": {},
     "output_type": "display_data"
    }
   ],
   "source": [
    "data = pd.read_excel('data/generated/data_hm.xlsx', engine='openpyxl')\n",
    "\n",
    "datos = data.groupby([data['fecha_hora'].dt.year, data['fecha_hora'].dt.month//6 + 1, data['fecha_hora'].dt.month])['n_victimas'].sum()\n",
    "\n",
    "datos = datos.rename_axis(['Year', 'Semester', 'Month'])\n",
    "\n",
    "datos = datos.reset_index()\n",
    "\n",
    "# Create a new column 'date' combining 'Year' and 'Month' as a string\n",
    "datos['date'] = datos['Year'].astype(str) + '-' + datos['Month'].astype(str).str.zfill(2)\n",
    "\n",
    "# Create a bar plot using Plotly Express\n",
    "fig = px.bar(datos, x='date', y='n_victimas',\n",
    "             title='Victimas por mes y año',\n",
    "             labels={'date': 'Fecha', 'n_victimas': 'Victimas'},\n",
    "             color_continuous_scale = ['lightgreen', 'yellow', 'red'],\n",
    "             color='n_victimas')\n",
    "\n",
    "# Show the plot\n",
    "fig.show()\n",
    "\n",
    "# datos.head(50)"
   ]
  },
  {
   "cell_type": "code",
   "execution_count": 225,
   "metadata": {},
   "outputs": [
    {
     "data": {
      "application/vnd.plotly.v1+json": {
       "config": {
        "plotlyServerURL": "https://plot.ly"
       },
       "data": [
        {
         "alignmentgroup": "True",
         "hovertemplate": "Date=%{x}<br>Total Victims=%{marker.color}<extra></extra>",
         "legendgroup": "",
         "marker": {
          "color": [
           64,
           78,
           65,
           70,
           69,
           79,
           57,
           47,
           30,
           49,
           54,
           42
          ],
          "coloraxis": "coloraxis",
          "pattern": {
           "shape": ""
          }
         },
         "name": "",
         "offsetgroup": "",
         "orientation": "v",
         "showlegend": false,
         "textposition": "auto",
         "type": "bar",
         "x": [
          "2016-Semestre 1",
          "2016-Semestre 2",
          "2017-Semestre 1",
          "2017-Semestre 2",
          "2018-Semestre 1",
          "2018-Semestre 2",
          "2019-Semestre 1",
          "2019-Semestre 2",
          "2020-Semestre 1",
          "2020-Semestre 2",
          "2021-Semestre 1",
          "2021-Semestre 2"
         ],
         "xaxis": "x",
         "y": [
          64,
          78,
          65,
          70,
          69,
          79,
          57,
          47,
          30,
          49,
          54,
          42
         ],
         "yaxis": "y"
        }
       ],
       "layout": {
        "barmode": "relative",
        "coloraxis": {
         "colorbar": {
          "title": {
           "text": "Total Victims"
          }
         },
         "colorscale": [
          [
           0,
           "lightgreen"
          ],
          [
           0.5,
           "yellow"
          ],
          [
           1,
           "red"
          ]
         ]
        },
        "legend": {
         "tracegroupgap": 0
        },
        "template": {
         "data": {
          "bar": [
           {
            "error_x": {
             "color": "#2a3f5f"
            },
            "error_y": {
             "color": "#2a3f5f"
            },
            "marker": {
             "line": {
              "color": "#E5ECF6",
              "width": 0.5
             },
             "pattern": {
              "fillmode": "overlay",
              "size": 10,
              "solidity": 0.2
             }
            },
            "type": "bar"
           }
          ],
          "barpolar": [
           {
            "marker": {
             "line": {
              "color": "#E5ECF6",
              "width": 0.5
             },
             "pattern": {
              "fillmode": "overlay",
              "size": 10,
              "solidity": 0.2
             }
            },
            "type": "barpolar"
           }
          ],
          "carpet": [
           {
            "aaxis": {
             "endlinecolor": "#2a3f5f",
             "gridcolor": "white",
             "linecolor": "white",
             "minorgridcolor": "white",
             "startlinecolor": "#2a3f5f"
            },
            "baxis": {
             "endlinecolor": "#2a3f5f",
             "gridcolor": "white",
             "linecolor": "white",
             "minorgridcolor": "white",
             "startlinecolor": "#2a3f5f"
            },
            "type": "carpet"
           }
          ],
          "choropleth": [
           {
            "colorbar": {
             "outlinewidth": 0,
             "ticks": ""
            },
            "type": "choropleth"
           }
          ],
          "contour": [
           {
            "colorbar": {
             "outlinewidth": 0,
             "ticks": ""
            },
            "colorscale": [
             [
              0,
              "#0d0887"
             ],
             [
              0.1111111111111111,
              "#46039f"
             ],
             [
              0.2222222222222222,
              "#7201a8"
             ],
             [
              0.3333333333333333,
              "#9c179e"
             ],
             [
              0.4444444444444444,
              "#bd3786"
             ],
             [
              0.5555555555555556,
              "#d8576b"
             ],
             [
              0.6666666666666666,
              "#ed7953"
             ],
             [
              0.7777777777777778,
              "#fb9f3a"
             ],
             [
              0.8888888888888888,
              "#fdca26"
             ],
             [
              1,
              "#f0f921"
             ]
            ],
            "type": "contour"
           }
          ],
          "contourcarpet": [
           {
            "colorbar": {
             "outlinewidth": 0,
             "ticks": ""
            },
            "type": "contourcarpet"
           }
          ],
          "heatmap": [
           {
            "colorbar": {
             "outlinewidth": 0,
             "ticks": ""
            },
            "colorscale": [
             [
              0,
              "#0d0887"
             ],
             [
              0.1111111111111111,
              "#46039f"
             ],
             [
              0.2222222222222222,
              "#7201a8"
             ],
             [
              0.3333333333333333,
              "#9c179e"
             ],
             [
              0.4444444444444444,
              "#bd3786"
             ],
             [
              0.5555555555555556,
              "#d8576b"
             ],
             [
              0.6666666666666666,
              "#ed7953"
             ],
             [
              0.7777777777777778,
              "#fb9f3a"
             ],
             [
              0.8888888888888888,
              "#fdca26"
             ],
             [
              1,
              "#f0f921"
             ]
            ],
            "type": "heatmap"
           }
          ],
          "heatmapgl": [
           {
            "colorbar": {
             "outlinewidth": 0,
             "ticks": ""
            },
            "colorscale": [
             [
              0,
              "#0d0887"
             ],
             [
              0.1111111111111111,
              "#46039f"
             ],
             [
              0.2222222222222222,
              "#7201a8"
             ],
             [
              0.3333333333333333,
              "#9c179e"
             ],
             [
              0.4444444444444444,
              "#bd3786"
             ],
             [
              0.5555555555555556,
              "#d8576b"
             ],
             [
              0.6666666666666666,
              "#ed7953"
             ],
             [
              0.7777777777777778,
              "#fb9f3a"
             ],
             [
              0.8888888888888888,
              "#fdca26"
             ],
             [
              1,
              "#f0f921"
             ]
            ],
            "type": "heatmapgl"
           }
          ],
          "histogram": [
           {
            "marker": {
             "pattern": {
              "fillmode": "overlay",
              "size": 10,
              "solidity": 0.2
             }
            },
            "type": "histogram"
           }
          ],
          "histogram2d": [
           {
            "colorbar": {
             "outlinewidth": 0,
             "ticks": ""
            },
            "colorscale": [
             [
              0,
              "#0d0887"
             ],
             [
              0.1111111111111111,
              "#46039f"
             ],
             [
              0.2222222222222222,
              "#7201a8"
             ],
             [
              0.3333333333333333,
              "#9c179e"
             ],
             [
              0.4444444444444444,
              "#bd3786"
             ],
             [
              0.5555555555555556,
              "#d8576b"
             ],
             [
              0.6666666666666666,
              "#ed7953"
             ],
             [
              0.7777777777777778,
              "#fb9f3a"
             ],
             [
              0.8888888888888888,
              "#fdca26"
             ],
             [
              1,
              "#f0f921"
             ]
            ],
            "type": "histogram2d"
           }
          ],
          "histogram2dcontour": [
           {
            "colorbar": {
             "outlinewidth": 0,
             "ticks": ""
            },
            "colorscale": [
             [
              0,
              "#0d0887"
             ],
             [
              0.1111111111111111,
              "#46039f"
             ],
             [
              0.2222222222222222,
              "#7201a8"
             ],
             [
              0.3333333333333333,
              "#9c179e"
             ],
             [
              0.4444444444444444,
              "#bd3786"
             ],
             [
              0.5555555555555556,
              "#d8576b"
             ],
             [
              0.6666666666666666,
              "#ed7953"
             ],
             [
              0.7777777777777778,
              "#fb9f3a"
             ],
             [
              0.8888888888888888,
              "#fdca26"
             ],
             [
              1,
              "#f0f921"
             ]
            ],
            "type": "histogram2dcontour"
           }
          ],
          "mesh3d": [
           {
            "colorbar": {
             "outlinewidth": 0,
             "ticks": ""
            },
            "type": "mesh3d"
           }
          ],
          "parcoords": [
           {
            "line": {
             "colorbar": {
              "outlinewidth": 0,
              "ticks": ""
             }
            },
            "type": "parcoords"
           }
          ],
          "pie": [
           {
            "automargin": true,
            "type": "pie"
           }
          ],
          "scatter": [
           {
            "fillpattern": {
             "fillmode": "overlay",
             "size": 10,
             "solidity": 0.2
            },
            "type": "scatter"
           }
          ],
          "scatter3d": [
           {
            "line": {
             "colorbar": {
              "outlinewidth": 0,
              "ticks": ""
             }
            },
            "marker": {
             "colorbar": {
              "outlinewidth": 0,
              "ticks": ""
             }
            },
            "type": "scatter3d"
           }
          ],
          "scattercarpet": [
           {
            "marker": {
             "colorbar": {
              "outlinewidth": 0,
              "ticks": ""
             }
            },
            "type": "scattercarpet"
           }
          ],
          "scattergeo": [
           {
            "marker": {
             "colorbar": {
              "outlinewidth": 0,
              "ticks": ""
             }
            },
            "type": "scattergeo"
           }
          ],
          "scattergl": [
           {
            "marker": {
             "colorbar": {
              "outlinewidth": 0,
              "ticks": ""
             }
            },
            "type": "scattergl"
           }
          ],
          "scattermapbox": [
           {
            "marker": {
             "colorbar": {
              "outlinewidth": 0,
              "ticks": ""
             }
            },
            "type": "scattermapbox"
           }
          ],
          "scatterpolar": [
           {
            "marker": {
             "colorbar": {
              "outlinewidth": 0,
              "ticks": ""
             }
            },
            "type": "scatterpolar"
           }
          ],
          "scatterpolargl": [
           {
            "marker": {
             "colorbar": {
              "outlinewidth": 0,
              "ticks": ""
             }
            },
            "type": "scatterpolargl"
           }
          ],
          "scatterternary": [
           {
            "marker": {
             "colorbar": {
              "outlinewidth": 0,
              "ticks": ""
             }
            },
            "type": "scatterternary"
           }
          ],
          "surface": [
           {
            "colorbar": {
             "outlinewidth": 0,
             "ticks": ""
            },
            "colorscale": [
             [
              0,
              "#0d0887"
             ],
             [
              0.1111111111111111,
              "#46039f"
             ],
             [
              0.2222222222222222,
              "#7201a8"
             ],
             [
              0.3333333333333333,
              "#9c179e"
             ],
             [
              0.4444444444444444,
              "#bd3786"
             ],
             [
              0.5555555555555556,
              "#d8576b"
             ],
             [
              0.6666666666666666,
              "#ed7953"
             ],
             [
              0.7777777777777778,
              "#fb9f3a"
             ],
             [
              0.8888888888888888,
              "#fdca26"
             ],
             [
              1,
              "#f0f921"
             ]
            ],
            "type": "surface"
           }
          ],
          "table": [
           {
            "cells": {
             "fill": {
              "color": "#EBF0F8"
             },
             "line": {
              "color": "white"
             }
            },
            "header": {
             "fill": {
              "color": "#C8D4E3"
             },
             "line": {
              "color": "white"
             }
            },
            "type": "table"
           }
          ]
         },
         "layout": {
          "annotationdefaults": {
           "arrowcolor": "#2a3f5f",
           "arrowhead": 0,
           "arrowwidth": 1
          },
          "autotypenumbers": "strict",
          "coloraxis": {
           "colorbar": {
            "outlinewidth": 0,
            "ticks": ""
           }
          },
          "colorscale": {
           "diverging": [
            [
             0,
             "#8e0152"
            ],
            [
             0.1,
             "#c51b7d"
            ],
            [
             0.2,
             "#de77ae"
            ],
            [
             0.3,
             "#f1b6da"
            ],
            [
             0.4,
             "#fde0ef"
            ],
            [
             0.5,
             "#f7f7f7"
            ],
            [
             0.6,
             "#e6f5d0"
            ],
            [
             0.7,
             "#b8e186"
            ],
            [
             0.8,
             "#7fbc41"
            ],
            [
             0.9,
             "#4d9221"
            ],
            [
             1,
             "#276419"
            ]
           ],
           "sequential": [
            [
             0,
             "#0d0887"
            ],
            [
             0.1111111111111111,
             "#46039f"
            ],
            [
             0.2222222222222222,
             "#7201a8"
            ],
            [
             0.3333333333333333,
             "#9c179e"
            ],
            [
             0.4444444444444444,
             "#bd3786"
            ],
            [
             0.5555555555555556,
             "#d8576b"
            ],
            [
             0.6666666666666666,
             "#ed7953"
            ],
            [
             0.7777777777777778,
             "#fb9f3a"
            ],
            [
             0.8888888888888888,
             "#fdca26"
            ],
            [
             1,
             "#f0f921"
            ]
           ],
           "sequentialminus": [
            [
             0,
             "#0d0887"
            ],
            [
             0.1111111111111111,
             "#46039f"
            ],
            [
             0.2222222222222222,
             "#7201a8"
            ],
            [
             0.3333333333333333,
             "#9c179e"
            ],
            [
             0.4444444444444444,
             "#bd3786"
            ],
            [
             0.5555555555555556,
             "#d8576b"
            ],
            [
             0.6666666666666666,
             "#ed7953"
            ],
            [
             0.7777777777777778,
             "#fb9f3a"
            ],
            [
             0.8888888888888888,
             "#fdca26"
            ],
            [
             1,
             "#f0f921"
            ]
           ]
          },
          "colorway": [
           "#636efa",
           "#EF553B",
           "#00cc96",
           "#ab63fa",
           "#FFA15A",
           "#19d3f3",
           "#FF6692",
           "#B6E880",
           "#FF97FF",
           "#FECB52"
          ],
          "font": {
           "color": "#2a3f5f"
          },
          "geo": {
           "bgcolor": "white",
           "lakecolor": "white",
           "landcolor": "#E5ECF6",
           "showlakes": true,
           "showland": true,
           "subunitcolor": "white"
          },
          "hoverlabel": {
           "align": "left"
          },
          "hovermode": "closest",
          "mapbox": {
           "style": "light"
          },
          "paper_bgcolor": "white",
          "plot_bgcolor": "#E5ECF6",
          "polar": {
           "angularaxis": {
            "gridcolor": "white",
            "linecolor": "white",
            "ticks": ""
           },
           "bgcolor": "#E5ECF6",
           "radialaxis": {
            "gridcolor": "white",
            "linecolor": "white",
            "ticks": ""
           }
          },
          "scene": {
           "xaxis": {
            "backgroundcolor": "#E5ECF6",
            "gridcolor": "white",
            "gridwidth": 2,
            "linecolor": "white",
            "showbackground": true,
            "ticks": "",
            "zerolinecolor": "white"
           },
           "yaxis": {
            "backgroundcolor": "#E5ECF6",
            "gridcolor": "white",
            "gridwidth": 2,
            "linecolor": "white",
            "showbackground": true,
            "ticks": "",
            "zerolinecolor": "white"
           },
           "zaxis": {
            "backgroundcolor": "#E5ECF6",
            "gridcolor": "white",
            "gridwidth": 2,
            "linecolor": "white",
            "showbackground": true,
            "ticks": "",
            "zerolinecolor": "white"
           }
          },
          "shapedefaults": {
           "line": {
            "color": "#2a3f5f"
           }
          },
          "ternary": {
           "aaxis": {
            "gridcolor": "white",
            "linecolor": "white",
            "ticks": ""
           },
           "baxis": {
            "gridcolor": "white",
            "linecolor": "white",
            "ticks": ""
           },
           "bgcolor": "#E5ECF6",
           "caxis": {
            "gridcolor": "white",
            "linecolor": "white",
            "ticks": ""
           }
          },
          "title": {
           "x": 0.05
          },
          "xaxis": {
           "automargin": true,
           "gridcolor": "white",
           "linecolor": "white",
           "ticks": "",
           "title": {
            "standoff": 15
           },
           "zerolinecolor": "white",
           "zerolinewidth": 2
          },
          "yaxis": {
           "automargin": true,
           "gridcolor": "white",
           "linecolor": "white",
           "ticks": "",
           "title": {
            "standoff": 15
           },
           "zerolinecolor": "white",
           "zerolinewidth": 2
          }
         }
        },
        "title": {
         "text": "Total Victims by Year and Semester"
        },
        "xaxis": {
         "anchor": "y",
         "domain": [
          0,
          1
         ],
         "title": {
          "text": "Date"
         }
        },
        "yaxis": {
         "anchor": "x",
         "domain": [
          0,
          1
         ],
         "title": {
          "text": "Total Victims"
         }
        }
       }
      }
     },
     "metadata": {},
     "output_type": "display_data"
    }
   ],
   "source": [
    "datos = data.groupby([data['fecha_hora'].dt.year, (data['fecha_hora'].dt.month - 1) // 6 + 1])['n_victimas'].sum()\n",
    "\n",
    "# Rename the MultiIndex\n",
    "datos = datos.rename_axis(['Year', 'Semester'])\n",
    "\n",
    "# Reset the index\n",
    "datos = datos.reset_index()\n",
    "\n",
    "# Create a new column 'date' combining 'Year' and 'Semester' as a string\n",
    "datos['date'] = datos['Year'].astype(str) + '-Semestre ' + datos['Semester'].astype(str)\n",
    "\n",
    "# Create a bar plot using Plotly Express\n",
    "fig = px.bar(datos, x='date', y='n_victimas',\n",
    "             title='Total Victims by Year and Semester',\n",
    "             color='n_victimas',\n",
    "                         color_continuous_scale = ['lightgreen', 'yellow', 'red'],\n",
    "             labels={'date': 'Date', 'n_victimas': 'Total Victims'})\n",
    "\n",
    "# Show the plot\n",
    "fig.show()"
   ]
  },
  {
   "cell_type": "code",
   "execution_count": 227,
   "metadata": {},
   "outputs": [
    {
     "data": {
      "application/vnd.plotly.v1+json": {
       "config": {
        "plotlyServerURL": "https://plot.ly"
       },
       "data": [
        {
         "domain": {
          "x": [
           0,
           1
          ],
          "y": [
           0,
           1
          ]
         },
         "hovertemplate": "valor=%{label}<br>ocurrencia=%{value}<extra></extra>",
         "labels": [
          1,
          2,
          3,
          "Otros"
         ],
         "legendgroup": "",
         "name": "",
         "showlegend": true,
         "textinfo": "percent+label",
         "textposition": "outside",
         "type": "pie",
         "values": [
          676,
          19,
          1,
          0
         ]
        }
       ],
       "layout": {
        "legend": {
         "tracegroupgap": 0
        },
        "template": {
         "data": {
          "bar": [
           {
            "error_x": {
             "color": "#2a3f5f"
            },
            "error_y": {
             "color": "#2a3f5f"
            },
            "marker": {
             "line": {
              "color": "#E5ECF6",
              "width": 0.5
             },
             "pattern": {
              "fillmode": "overlay",
              "size": 10,
              "solidity": 0.2
             }
            },
            "type": "bar"
           }
          ],
          "barpolar": [
           {
            "marker": {
             "line": {
              "color": "#E5ECF6",
              "width": 0.5
             },
             "pattern": {
              "fillmode": "overlay",
              "size": 10,
              "solidity": 0.2
             }
            },
            "type": "barpolar"
           }
          ],
          "carpet": [
           {
            "aaxis": {
             "endlinecolor": "#2a3f5f",
             "gridcolor": "white",
             "linecolor": "white",
             "minorgridcolor": "white",
             "startlinecolor": "#2a3f5f"
            },
            "baxis": {
             "endlinecolor": "#2a3f5f",
             "gridcolor": "white",
             "linecolor": "white",
             "minorgridcolor": "white",
             "startlinecolor": "#2a3f5f"
            },
            "type": "carpet"
           }
          ],
          "choropleth": [
           {
            "colorbar": {
             "outlinewidth": 0,
             "ticks": ""
            },
            "type": "choropleth"
           }
          ],
          "contour": [
           {
            "colorbar": {
             "outlinewidth": 0,
             "ticks": ""
            },
            "colorscale": [
             [
              0,
              "#0d0887"
             ],
             [
              0.1111111111111111,
              "#46039f"
             ],
             [
              0.2222222222222222,
              "#7201a8"
             ],
             [
              0.3333333333333333,
              "#9c179e"
             ],
             [
              0.4444444444444444,
              "#bd3786"
             ],
             [
              0.5555555555555556,
              "#d8576b"
             ],
             [
              0.6666666666666666,
              "#ed7953"
             ],
             [
              0.7777777777777778,
              "#fb9f3a"
             ],
             [
              0.8888888888888888,
              "#fdca26"
             ],
             [
              1,
              "#f0f921"
             ]
            ],
            "type": "contour"
           }
          ],
          "contourcarpet": [
           {
            "colorbar": {
             "outlinewidth": 0,
             "ticks": ""
            },
            "type": "contourcarpet"
           }
          ],
          "heatmap": [
           {
            "colorbar": {
             "outlinewidth": 0,
             "ticks": ""
            },
            "colorscale": [
             [
              0,
              "#0d0887"
             ],
             [
              0.1111111111111111,
              "#46039f"
             ],
             [
              0.2222222222222222,
              "#7201a8"
             ],
             [
              0.3333333333333333,
              "#9c179e"
             ],
             [
              0.4444444444444444,
              "#bd3786"
             ],
             [
              0.5555555555555556,
              "#d8576b"
             ],
             [
              0.6666666666666666,
              "#ed7953"
             ],
             [
              0.7777777777777778,
              "#fb9f3a"
             ],
             [
              0.8888888888888888,
              "#fdca26"
             ],
             [
              1,
              "#f0f921"
             ]
            ],
            "type": "heatmap"
           }
          ],
          "heatmapgl": [
           {
            "colorbar": {
             "outlinewidth": 0,
             "ticks": ""
            },
            "colorscale": [
             [
              0,
              "#0d0887"
             ],
             [
              0.1111111111111111,
              "#46039f"
             ],
             [
              0.2222222222222222,
              "#7201a8"
             ],
             [
              0.3333333333333333,
              "#9c179e"
             ],
             [
              0.4444444444444444,
              "#bd3786"
             ],
             [
              0.5555555555555556,
              "#d8576b"
             ],
             [
              0.6666666666666666,
              "#ed7953"
             ],
             [
              0.7777777777777778,
              "#fb9f3a"
             ],
             [
              0.8888888888888888,
              "#fdca26"
             ],
             [
              1,
              "#f0f921"
             ]
            ],
            "type": "heatmapgl"
           }
          ],
          "histogram": [
           {
            "marker": {
             "pattern": {
              "fillmode": "overlay",
              "size": 10,
              "solidity": 0.2
             }
            },
            "type": "histogram"
           }
          ],
          "histogram2d": [
           {
            "colorbar": {
             "outlinewidth": 0,
             "ticks": ""
            },
            "colorscale": [
             [
              0,
              "#0d0887"
             ],
             [
              0.1111111111111111,
              "#46039f"
             ],
             [
              0.2222222222222222,
              "#7201a8"
             ],
             [
              0.3333333333333333,
              "#9c179e"
             ],
             [
              0.4444444444444444,
              "#bd3786"
             ],
             [
              0.5555555555555556,
              "#d8576b"
             ],
             [
              0.6666666666666666,
              "#ed7953"
             ],
             [
              0.7777777777777778,
              "#fb9f3a"
             ],
             [
              0.8888888888888888,
              "#fdca26"
             ],
             [
              1,
              "#f0f921"
             ]
            ],
            "type": "histogram2d"
           }
          ],
          "histogram2dcontour": [
           {
            "colorbar": {
             "outlinewidth": 0,
             "ticks": ""
            },
            "colorscale": [
             [
              0,
              "#0d0887"
             ],
             [
              0.1111111111111111,
              "#46039f"
             ],
             [
              0.2222222222222222,
              "#7201a8"
             ],
             [
              0.3333333333333333,
              "#9c179e"
             ],
             [
              0.4444444444444444,
              "#bd3786"
             ],
             [
              0.5555555555555556,
              "#d8576b"
             ],
             [
              0.6666666666666666,
              "#ed7953"
             ],
             [
              0.7777777777777778,
              "#fb9f3a"
             ],
             [
              0.8888888888888888,
              "#fdca26"
             ],
             [
              1,
              "#f0f921"
             ]
            ],
            "type": "histogram2dcontour"
           }
          ],
          "mesh3d": [
           {
            "colorbar": {
             "outlinewidth": 0,
             "ticks": ""
            },
            "type": "mesh3d"
           }
          ],
          "parcoords": [
           {
            "line": {
             "colorbar": {
              "outlinewidth": 0,
              "ticks": ""
             }
            },
            "type": "parcoords"
           }
          ],
          "pie": [
           {
            "automargin": true,
            "type": "pie"
           }
          ],
          "scatter": [
           {
            "fillpattern": {
             "fillmode": "overlay",
             "size": 10,
             "solidity": 0.2
            },
            "type": "scatter"
           }
          ],
          "scatter3d": [
           {
            "line": {
             "colorbar": {
              "outlinewidth": 0,
              "ticks": ""
             }
            },
            "marker": {
             "colorbar": {
              "outlinewidth": 0,
              "ticks": ""
             }
            },
            "type": "scatter3d"
           }
          ],
          "scattercarpet": [
           {
            "marker": {
             "colorbar": {
              "outlinewidth": 0,
              "ticks": ""
             }
            },
            "type": "scattercarpet"
           }
          ],
          "scattergeo": [
           {
            "marker": {
             "colorbar": {
              "outlinewidth": 0,
              "ticks": ""
             }
            },
            "type": "scattergeo"
           }
          ],
          "scattergl": [
           {
            "marker": {
             "colorbar": {
              "outlinewidth": 0,
              "ticks": ""
             }
            },
            "type": "scattergl"
           }
          ],
          "scattermapbox": [
           {
            "marker": {
             "colorbar": {
              "outlinewidth": 0,
              "ticks": ""
             }
            },
            "type": "scattermapbox"
           }
          ],
          "scatterpolar": [
           {
            "marker": {
             "colorbar": {
              "outlinewidth": 0,
              "ticks": ""
             }
            },
            "type": "scatterpolar"
           }
          ],
          "scatterpolargl": [
           {
            "marker": {
             "colorbar": {
              "outlinewidth": 0,
              "ticks": ""
             }
            },
            "type": "scatterpolargl"
           }
          ],
          "scatterternary": [
           {
            "marker": {
             "colorbar": {
              "outlinewidth": 0,
              "ticks": ""
             }
            },
            "type": "scatterternary"
           }
          ],
          "surface": [
           {
            "colorbar": {
             "outlinewidth": 0,
             "ticks": ""
            },
            "colorscale": [
             [
              0,
              "#0d0887"
             ],
             [
              0.1111111111111111,
              "#46039f"
             ],
             [
              0.2222222222222222,
              "#7201a8"
             ],
             [
              0.3333333333333333,
              "#9c179e"
             ],
             [
              0.4444444444444444,
              "#bd3786"
             ],
             [
              0.5555555555555556,
              "#d8576b"
             ],
             [
              0.6666666666666666,
              "#ed7953"
             ],
             [
              0.7777777777777778,
              "#fb9f3a"
             ],
             [
              0.8888888888888888,
              "#fdca26"
             ],
             [
              1,
              "#f0f921"
             ]
            ],
            "type": "surface"
           }
          ],
          "table": [
           {
            "cells": {
             "fill": {
              "color": "#EBF0F8"
             },
             "line": {
              "color": "white"
             }
            },
            "header": {
             "fill": {
              "color": "#C8D4E3"
             },
             "line": {
              "color": "white"
             }
            },
            "type": "table"
           }
          ]
         },
         "layout": {
          "annotationdefaults": {
           "arrowcolor": "#2a3f5f",
           "arrowhead": 0,
           "arrowwidth": 1
          },
          "autotypenumbers": "strict",
          "coloraxis": {
           "colorbar": {
            "outlinewidth": 0,
            "ticks": ""
           }
          },
          "colorscale": {
           "diverging": [
            [
             0,
             "#8e0152"
            ],
            [
             0.1,
             "#c51b7d"
            ],
            [
             0.2,
             "#de77ae"
            ],
            [
             0.3,
             "#f1b6da"
            ],
            [
             0.4,
             "#fde0ef"
            ],
            [
             0.5,
             "#f7f7f7"
            ],
            [
             0.6,
             "#e6f5d0"
            ],
            [
             0.7,
             "#b8e186"
            ],
            [
             0.8,
             "#7fbc41"
            ],
            [
             0.9,
             "#4d9221"
            ],
            [
             1,
             "#276419"
            ]
           ],
           "sequential": [
            [
             0,
             "#0d0887"
            ],
            [
             0.1111111111111111,
             "#46039f"
            ],
            [
             0.2222222222222222,
             "#7201a8"
            ],
            [
             0.3333333333333333,
             "#9c179e"
            ],
            [
             0.4444444444444444,
             "#bd3786"
            ],
            [
             0.5555555555555556,
             "#d8576b"
            ],
            [
             0.6666666666666666,
             "#ed7953"
            ],
            [
             0.7777777777777778,
             "#fb9f3a"
            ],
            [
             0.8888888888888888,
             "#fdca26"
            ],
            [
             1,
             "#f0f921"
            ]
           ],
           "sequentialminus": [
            [
             0,
             "#0d0887"
            ],
            [
             0.1111111111111111,
             "#46039f"
            ],
            [
             0.2222222222222222,
             "#7201a8"
            ],
            [
             0.3333333333333333,
             "#9c179e"
            ],
            [
             0.4444444444444444,
             "#bd3786"
            ],
            [
             0.5555555555555556,
             "#d8576b"
            ],
            [
             0.6666666666666666,
             "#ed7953"
            ],
            [
             0.7777777777777778,
             "#fb9f3a"
            ],
            [
             0.8888888888888888,
             "#fdca26"
            ],
            [
             1,
             "#f0f921"
            ]
           ]
          },
          "colorway": [
           "#636efa",
           "#EF553B",
           "#00cc96",
           "#ab63fa",
           "#FFA15A",
           "#19d3f3",
           "#FF6692",
           "#B6E880",
           "#FF97FF",
           "#FECB52"
          ],
          "font": {
           "color": "#2a3f5f"
          },
          "geo": {
           "bgcolor": "white",
           "lakecolor": "white",
           "landcolor": "#E5ECF6",
           "showlakes": true,
           "showland": true,
           "subunitcolor": "white"
          },
          "hoverlabel": {
           "align": "left"
          },
          "hovermode": "closest",
          "mapbox": {
           "style": "light"
          },
          "paper_bgcolor": "white",
          "plot_bgcolor": "#E5ECF6",
          "polar": {
           "angularaxis": {
            "gridcolor": "white",
            "linecolor": "white",
            "ticks": ""
           },
           "bgcolor": "#E5ECF6",
           "radialaxis": {
            "gridcolor": "white",
            "linecolor": "white",
            "ticks": ""
           }
          },
          "scene": {
           "xaxis": {
            "backgroundcolor": "#E5ECF6",
            "gridcolor": "white",
            "gridwidth": 2,
            "linecolor": "white",
            "showbackground": true,
            "ticks": "",
            "zerolinecolor": "white"
           },
           "yaxis": {
            "backgroundcolor": "#E5ECF6",
            "gridcolor": "white",
            "gridwidth": 2,
            "linecolor": "white",
            "showbackground": true,
            "ticks": "",
            "zerolinecolor": "white"
           },
           "zaxis": {
            "backgroundcolor": "#E5ECF6",
            "gridcolor": "white",
            "gridwidth": 2,
            "linecolor": "white",
            "showbackground": true,
            "ticks": "",
            "zerolinecolor": "white"
           }
          },
          "shapedefaults": {
           "line": {
            "color": "#2a3f5f"
           }
          },
          "ternary": {
           "aaxis": {
            "gridcolor": "white",
            "linecolor": "white",
            "ticks": ""
           },
           "baxis": {
            "gridcolor": "white",
            "linecolor": "white",
            "ticks": ""
           },
           "bgcolor": "#E5ECF6",
           "caxis": {
            "gridcolor": "white",
            "linecolor": "white",
            "ticks": ""
           }
          },
          "title": {
           "x": 0.05
          },
          "xaxis": {
           "automargin": true,
           "gridcolor": "white",
           "linecolor": "white",
           "ticks": "",
           "title": {
            "standoff": 15
           },
           "zerolinecolor": "white",
           "zerolinewidth": 2
          },
          "yaxis": {
           "automargin": true,
           "gridcolor": "white",
           "linecolor": "white",
           "ticks": "",
           "title": {
            "standoff": 15
           },
           "zerolinecolor": "white",
           "zerolinewidth": 2
          }
         }
        },
        "title": {
         "text": "Cantidad de Victimas por Accidentes"
        }
       }
      }
     },
     "metadata": {},
     "output_type": "display_data"
    }
   ],
   "source": [
    "showPiePx(data_hm.n_victimas, title='Cantidad de Victimas por Accidentes')"
   ]
  },
  {
   "cell_type": "code",
   "execution_count": null,
   "metadata": {},
   "outputs": [],
   "source": [
    "\n",
    "# sns.catplot(x=\"tipo_de_calle\", data = data_hm['tipo_de_calle', 'n_victimas'].groupby(\"tipo_de_calle\").sum(), kind='box')"
   ]
  },
  {
   "cell_type": "code",
   "execution_count": 229,
   "metadata": {},
   "outputs": [
    {
     "data": {
      "application/vnd.plotly.v1+json": {
       "config": {
        "plotlyServerURL": "https://plot.ly"
       },
       "data": [
        {
         "domain": {
          "x": [
           0,
           1
          ],
          "y": [
           0,
           1
          ]
         },
         "hovertemplate": "valor=%{label}<br>ocurrencia=%{value}<extra></extra>",
         "labels": [
          "AVENIDA",
          "CALLE",
          "GRAL PAZ",
          "AUTOPISTA",
          "SD",
          "Otros"
         ],
         "legendgroup": "",
         "name": "",
         "showlegend": true,
         "textinfo": "percent+label",
         "textposition": "outside",
         "type": "pie",
         "values": [
          429,
          136,
          66,
          66,
          2,
          0
         ]
        }
       ],
       "layout": {
        "legend": {
         "tracegroupgap": 0
        },
        "margin": {
         "t": 60
        },
        "template": {
         "data": {
          "bar": [
           {
            "error_x": {
             "color": "#2a3f5f"
            },
            "error_y": {
             "color": "#2a3f5f"
            },
            "marker": {
             "line": {
              "color": "#E5ECF6",
              "width": 0.5
             },
             "pattern": {
              "fillmode": "overlay",
              "size": 10,
              "solidity": 0.2
             }
            },
            "type": "bar"
           }
          ],
          "barpolar": [
           {
            "marker": {
             "line": {
              "color": "#E5ECF6",
              "width": 0.5
             },
             "pattern": {
              "fillmode": "overlay",
              "size": 10,
              "solidity": 0.2
             }
            },
            "type": "barpolar"
           }
          ],
          "carpet": [
           {
            "aaxis": {
             "endlinecolor": "#2a3f5f",
             "gridcolor": "white",
             "linecolor": "white",
             "minorgridcolor": "white",
             "startlinecolor": "#2a3f5f"
            },
            "baxis": {
             "endlinecolor": "#2a3f5f",
             "gridcolor": "white",
             "linecolor": "white",
             "minorgridcolor": "white",
             "startlinecolor": "#2a3f5f"
            },
            "type": "carpet"
           }
          ],
          "choropleth": [
           {
            "colorbar": {
             "outlinewidth": 0,
             "ticks": ""
            },
            "type": "choropleth"
           }
          ],
          "contour": [
           {
            "colorbar": {
             "outlinewidth": 0,
             "ticks": ""
            },
            "colorscale": [
             [
              0,
              "#0d0887"
             ],
             [
              0.1111111111111111,
              "#46039f"
             ],
             [
              0.2222222222222222,
              "#7201a8"
             ],
             [
              0.3333333333333333,
              "#9c179e"
             ],
             [
              0.4444444444444444,
              "#bd3786"
             ],
             [
              0.5555555555555556,
              "#d8576b"
             ],
             [
              0.6666666666666666,
              "#ed7953"
             ],
             [
              0.7777777777777778,
              "#fb9f3a"
             ],
             [
              0.8888888888888888,
              "#fdca26"
             ],
             [
              1,
              "#f0f921"
             ]
            ],
            "type": "contour"
           }
          ],
          "contourcarpet": [
           {
            "colorbar": {
             "outlinewidth": 0,
             "ticks": ""
            },
            "type": "contourcarpet"
           }
          ],
          "heatmap": [
           {
            "colorbar": {
             "outlinewidth": 0,
             "ticks": ""
            },
            "colorscale": [
             [
              0,
              "#0d0887"
             ],
             [
              0.1111111111111111,
              "#46039f"
             ],
             [
              0.2222222222222222,
              "#7201a8"
             ],
             [
              0.3333333333333333,
              "#9c179e"
             ],
             [
              0.4444444444444444,
              "#bd3786"
             ],
             [
              0.5555555555555556,
              "#d8576b"
             ],
             [
              0.6666666666666666,
              "#ed7953"
             ],
             [
              0.7777777777777778,
              "#fb9f3a"
             ],
             [
              0.8888888888888888,
              "#fdca26"
             ],
             [
              1,
              "#f0f921"
             ]
            ],
            "type": "heatmap"
           }
          ],
          "heatmapgl": [
           {
            "colorbar": {
             "outlinewidth": 0,
             "ticks": ""
            },
            "colorscale": [
             [
              0,
              "#0d0887"
             ],
             [
              0.1111111111111111,
              "#46039f"
             ],
             [
              0.2222222222222222,
              "#7201a8"
             ],
             [
              0.3333333333333333,
              "#9c179e"
             ],
             [
              0.4444444444444444,
              "#bd3786"
             ],
             [
              0.5555555555555556,
              "#d8576b"
             ],
             [
              0.6666666666666666,
              "#ed7953"
             ],
             [
              0.7777777777777778,
              "#fb9f3a"
             ],
             [
              0.8888888888888888,
              "#fdca26"
             ],
             [
              1,
              "#f0f921"
             ]
            ],
            "type": "heatmapgl"
           }
          ],
          "histogram": [
           {
            "marker": {
             "pattern": {
              "fillmode": "overlay",
              "size": 10,
              "solidity": 0.2
             }
            },
            "type": "histogram"
           }
          ],
          "histogram2d": [
           {
            "colorbar": {
             "outlinewidth": 0,
             "ticks": ""
            },
            "colorscale": [
             [
              0,
              "#0d0887"
             ],
             [
              0.1111111111111111,
              "#46039f"
             ],
             [
              0.2222222222222222,
              "#7201a8"
             ],
             [
              0.3333333333333333,
              "#9c179e"
             ],
             [
              0.4444444444444444,
              "#bd3786"
             ],
             [
              0.5555555555555556,
              "#d8576b"
             ],
             [
              0.6666666666666666,
              "#ed7953"
             ],
             [
              0.7777777777777778,
              "#fb9f3a"
             ],
             [
              0.8888888888888888,
              "#fdca26"
             ],
             [
              1,
              "#f0f921"
             ]
            ],
            "type": "histogram2d"
           }
          ],
          "histogram2dcontour": [
           {
            "colorbar": {
             "outlinewidth": 0,
             "ticks": ""
            },
            "colorscale": [
             [
              0,
              "#0d0887"
             ],
             [
              0.1111111111111111,
              "#46039f"
             ],
             [
              0.2222222222222222,
              "#7201a8"
             ],
             [
              0.3333333333333333,
              "#9c179e"
             ],
             [
              0.4444444444444444,
              "#bd3786"
             ],
             [
              0.5555555555555556,
              "#d8576b"
             ],
             [
              0.6666666666666666,
              "#ed7953"
             ],
             [
              0.7777777777777778,
              "#fb9f3a"
             ],
             [
              0.8888888888888888,
              "#fdca26"
             ],
             [
              1,
              "#f0f921"
             ]
            ],
            "type": "histogram2dcontour"
           }
          ],
          "mesh3d": [
           {
            "colorbar": {
             "outlinewidth": 0,
             "ticks": ""
            },
            "type": "mesh3d"
           }
          ],
          "parcoords": [
           {
            "line": {
             "colorbar": {
              "outlinewidth": 0,
              "ticks": ""
             }
            },
            "type": "parcoords"
           }
          ],
          "pie": [
           {
            "automargin": true,
            "type": "pie"
           }
          ],
          "scatter": [
           {
            "fillpattern": {
             "fillmode": "overlay",
             "size": 10,
             "solidity": 0.2
            },
            "type": "scatter"
           }
          ],
          "scatter3d": [
           {
            "line": {
             "colorbar": {
              "outlinewidth": 0,
              "ticks": ""
             }
            },
            "marker": {
             "colorbar": {
              "outlinewidth": 0,
              "ticks": ""
             }
            },
            "type": "scatter3d"
           }
          ],
          "scattercarpet": [
           {
            "marker": {
             "colorbar": {
              "outlinewidth": 0,
              "ticks": ""
             }
            },
            "type": "scattercarpet"
           }
          ],
          "scattergeo": [
           {
            "marker": {
             "colorbar": {
              "outlinewidth": 0,
              "ticks": ""
             }
            },
            "type": "scattergeo"
           }
          ],
          "scattergl": [
           {
            "marker": {
             "colorbar": {
              "outlinewidth": 0,
              "ticks": ""
             }
            },
            "type": "scattergl"
           }
          ],
          "scattermapbox": [
           {
            "marker": {
             "colorbar": {
              "outlinewidth": 0,
              "ticks": ""
             }
            },
            "type": "scattermapbox"
           }
          ],
          "scatterpolar": [
           {
            "marker": {
             "colorbar": {
              "outlinewidth": 0,
              "ticks": ""
             }
            },
            "type": "scatterpolar"
           }
          ],
          "scatterpolargl": [
           {
            "marker": {
             "colorbar": {
              "outlinewidth": 0,
              "ticks": ""
             }
            },
            "type": "scatterpolargl"
           }
          ],
          "scatterternary": [
           {
            "marker": {
             "colorbar": {
              "outlinewidth": 0,
              "ticks": ""
             }
            },
            "type": "scatterternary"
           }
          ],
          "surface": [
           {
            "colorbar": {
             "outlinewidth": 0,
             "ticks": ""
            },
            "colorscale": [
             [
              0,
              "#0d0887"
             ],
             [
              0.1111111111111111,
              "#46039f"
             ],
             [
              0.2222222222222222,
              "#7201a8"
             ],
             [
              0.3333333333333333,
              "#9c179e"
             ],
             [
              0.4444444444444444,
              "#bd3786"
             ],
             [
              0.5555555555555556,
              "#d8576b"
             ],
             [
              0.6666666666666666,
              "#ed7953"
             ],
             [
              0.7777777777777778,
              "#fb9f3a"
             ],
             [
              0.8888888888888888,
              "#fdca26"
             ],
             [
              1,
              "#f0f921"
             ]
            ],
            "type": "surface"
           }
          ],
          "table": [
           {
            "cells": {
             "fill": {
              "color": "#EBF0F8"
             },
             "line": {
              "color": "white"
             }
            },
            "header": {
             "fill": {
              "color": "#C8D4E3"
             },
             "line": {
              "color": "white"
             }
            },
            "type": "table"
           }
          ]
         },
         "layout": {
          "annotationdefaults": {
           "arrowcolor": "#2a3f5f",
           "arrowhead": 0,
           "arrowwidth": 1
          },
          "autotypenumbers": "strict",
          "coloraxis": {
           "colorbar": {
            "outlinewidth": 0,
            "ticks": ""
           }
          },
          "colorscale": {
           "diverging": [
            [
             0,
             "#8e0152"
            ],
            [
             0.1,
             "#c51b7d"
            ],
            [
             0.2,
             "#de77ae"
            ],
            [
             0.3,
             "#f1b6da"
            ],
            [
             0.4,
             "#fde0ef"
            ],
            [
             0.5,
             "#f7f7f7"
            ],
            [
             0.6,
             "#e6f5d0"
            ],
            [
             0.7,
             "#b8e186"
            ],
            [
             0.8,
             "#7fbc41"
            ],
            [
             0.9,
             "#4d9221"
            ],
            [
             1,
             "#276419"
            ]
           ],
           "sequential": [
            [
             0,
             "#0d0887"
            ],
            [
             0.1111111111111111,
             "#46039f"
            ],
            [
             0.2222222222222222,
             "#7201a8"
            ],
            [
             0.3333333333333333,
             "#9c179e"
            ],
            [
             0.4444444444444444,
             "#bd3786"
            ],
            [
             0.5555555555555556,
             "#d8576b"
            ],
            [
             0.6666666666666666,
             "#ed7953"
            ],
            [
             0.7777777777777778,
             "#fb9f3a"
            ],
            [
             0.8888888888888888,
             "#fdca26"
            ],
            [
             1,
             "#f0f921"
            ]
           ],
           "sequentialminus": [
            [
             0,
             "#0d0887"
            ],
            [
             0.1111111111111111,
             "#46039f"
            ],
            [
             0.2222222222222222,
             "#7201a8"
            ],
            [
             0.3333333333333333,
             "#9c179e"
            ],
            [
             0.4444444444444444,
             "#bd3786"
            ],
            [
             0.5555555555555556,
             "#d8576b"
            ],
            [
             0.6666666666666666,
             "#ed7953"
            ],
            [
             0.7777777777777778,
             "#fb9f3a"
            ],
            [
             0.8888888888888888,
             "#fdca26"
            ],
            [
             1,
             "#f0f921"
            ]
           ]
          },
          "colorway": [
           "#636efa",
           "#EF553B",
           "#00cc96",
           "#ab63fa",
           "#FFA15A",
           "#19d3f3",
           "#FF6692",
           "#B6E880",
           "#FF97FF",
           "#FECB52"
          ],
          "font": {
           "color": "#2a3f5f"
          },
          "geo": {
           "bgcolor": "white",
           "lakecolor": "white",
           "landcolor": "#E5ECF6",
           "showlakes": true,
           "showland": true,
           "subunitcolor": "white"
          },
          "hoverlabel": {
           "align": "left"
          },
          "hovermode": "closest",
          "mapbox": {
           "style": "light"
          },
          "paper_bgcolor": "white",
          "plot_bgcolor": "#E5ECF6",
          "polar": {
           "angularaxis": {
            "gridcolor": "white",
            "linecolor": "white",
            "ticks": ""
           },
           "bgcolor": "#E5ECF6",
           "radialaxis": {
            "gridcolor": "white",
            "linecolor": "white",
            "ticks": ""
           }
          },
          "scene": {
           "xaxis": {
            "backgroundcolor": "#E5ECF6",
            "gridcolor": "white",
            "gridwidth": 2,
            "linecolor": "white",
            "showbackground": true,
            "ticks": "",
            "zerolinecolor": "white"
           },
           "yaxis": {
            "backgroundcolor": "#E5ECF6",
            "gridcolor": "white",
            "gridwidth": 2,
            "linecolor": "white",
            "showbackground": true,
            "ticks": "",
            "zerolinecolor": "white"
           },
           "zaxis": {
            "backgroundcolor": "#E5ECF6",
            "gridcolor": "white",
            "gridwidth": 2,
            "linecolor": "white",
            "showbackground": true,
            "ticks": "",
            "zerolinecolor": "white"
           }
          },
          "shapedefaults": {
           "line": {
            "color": "#2a3f5f"
           }
          },
          "ternary": {
           "aaxis": {
            "gridcolor": "white",
            "linecolor": "white",
            "ticks": ""
           },
           "baxis": {
            "gridcolor": "white",
            "linecolor": "white",
            "ticks": ""
           },
           "bgcolor": "#E5ECF6",
           "caxis": {
            "gridcolor": "white",
            "linecolor": "white",
            "ticks": ""
           }
          },
          "title": {
           "x": 0.05
          },
          "xaxis": {
           "automargin": true,
           "gridcolor": "white",
           "linecolor": "white",
           "ticks": "",
           "title": {
            "standoff": 15
           },
           "zerolinecolor": "white",
           "zerolinewidth": 2
          },
          "yaxis": {
           "automargin": true,
           "gridcolor": "white",
           "linecolor": "white",
           "ticks": "",
           "title": {
            "standoff": 15
           },
           "zerolinecolor": "white",
           "zerolinewidth": 2
          }
         }
        }
       }
      }
     },
     "metadata": {},
     "output_type": "display_data"
    }
   ],
   "source": [
    "showPiePx(conjunto.tipo_calle)\n"
   ]
  },
  {
   "cell_type": "code",
   "execution_count": 231,
   "metadata": {},
   "outputs": [],
   "source": [
    "import pandas as pd\n",
    "\n",
    "autopista_counts = data_hm.query(\"tipo_calle == 'AUTOPISTA'\").groupby(data_hm['fecha_hora'].dt.day_of_week).count()['n_victimas']\n",
    "avenida_counts = data_hm.query(\"tipo_calle == 'AVENIDA'\").groupby(data_hm['fecha_hora'].dt.day_of_week).count()['n_victimas']\n",
    "\n",
    "concatenated_counts = pd.concat([autopista_counts, avenida_counts], axis=1)\n"
   ]
  },
  {
   "cell_type": "code",
   "execution_count": null,
   "metadata": {},
   "outputs": [],
   "source": [
    "data_hm.tipo_de_calle.value_counts()"
   ]
  },
  {
   "cell_type": "code",
   "execution_count": 237,
   "metadata": {},
   "outputs": [
    {
     "data": {
      "text/html": [
       "<div>\n",
       "<style scoped>\n",
       "    .dataframe tbody tr th:only-of-type {\n",
       "        vertical-align: middle;\n",
       "    }\n",
       "\n",
       "    .dataframe tbody tr th {\n",
       "        vertical-align: top;\n",
       "    }\n",
       "\n",
       "    .dataframe thead th {\n",
       "        text-align: right;\n",
       "    }\n",
       "</style>\n",
       "<table border=\"1\" class=\"dataframe\">\n",
       "  <thead>\n",
       "    <tr style=\"text-align: right;\">\n",
       "      <th></th>\n",
       "      <th>AVENIDA</th>\n",
       "      <th>GRAL PAZ</th>\n",
       "      <th>CALLE</th>\n",
       "      <th>AUTOPISTA</th>\n",
       "    </tr>\n",
       "    <tr>\n",
       "      <th>fecha_hora</th>\n",
       "      <th></th>\n",
       "      <th></th>\n",
       "      <th></th>\n",
       "      <th></th>\n",
       "    </tr>\n",
       "  </thead>\n",
       "  <tbody>\n",
       "    <tr>\n",
       "      <th>0</th>\n",
       "      <td>67</td>\n",
       "      <td>11</td>\n",
       "      <td>15</td>\n",
       "      <td>13</td>\n",
       "    </tr>\n",
       "    <tr>\n",
       "      <th>1</th>\n",
       "      <td>58</td>\n",
       "      <td>6</td>\n",
       "      <td>25</td>\n",
       "      <td>10</td>\n",
       "    </tr>\n",
       "    <tr>\n",
       "      <th>2</th>\n",
       "      <td>62</td>\n",
       "      <td>9</td>\n",
       "      <td>18</td>\n",
       "      <td>9</td>\n",
       "    </tr>\n",
       "    <tr>\n",
       "      <th>3</th>\n",
       "      <td>62</td>\n",
       "      <td>5</td>\n",
       "      <td>18</td>\n",
       "      <td>9</td>\n",
       "    </tr>\n",
       "    <tr>\n",
       "      <th>4</th>\n",
       "      <td>65</td>\n",
       "      <td>6</td>\n",
       "      <td>21</td>\n",
       "      <td>5</td>\n",
       "    </tr>\n",
       "    <tr>\n",
       "      <th>5</th>\n",
       "      <td>59</td>\n",
       "      <td>12</td>\n",
       "      <td>23</td>\n",
       "      <td>9</td>\n",
       "    </tr>\n",
       "    <tr>\n",
       "      <th>6</th>\n",
       "      <td>56</td>\n",
       "      <td>16</td>\n",
       "      <td>16</td>\n",
       "      <td>11</td>\n",
       "    </tr>\n",
       "  </tbody>\n",
       "</table>\n",
       "</div>"
      ],
      "text/plain": [
       "            AVENIDA  GRAL PAZ  CALLE  AUTOPISTA\n",
       "fecha_hora                                     \n",
       "0                67        11     15         13\n",
       "1                58         6     25         10\n",
       "2                62         9     18          9\n",
       "3                62         5     18          9\n",
       "4                65         6     21          5\n",
       "5                59        12     23          9\n",
       "6                56        16     16         11"
      ]
     },
     "execution_count": 237,
     "metadata": {},
     "output_type": "execute_result"
    }
   ],
   "source": [
    "pd.DataFrame([data_hm.query(f\"tipo_calle == '{st}'\").groupby(data_hm['fecha_hora'].dt.day_of_week).count()['n_victimas'].rename(f\"{st}\") for st in data_hm.tipo_calle.unique()]).T"
   ]
  },
  {
   "cell_type": "markdown",
   "metadata": {},
   "source": [
    "Tabla de Frecuencias por día de la semana."
   ]
  }
 ],
 "metadata": {
  "kernelspec": {
   "display_name": ".svenv",
   "language": "python",
   "name": "python3"
  },
  "language_info": {
   "codemirror_mode": {
    "name": "ipython",
    "version": 3
   },
   "file_extension": ".py",
   "mimetype": "text/x-python",
   "name": "python",
   "nbconvert_exporter": "python",
   "pygments_lexer": "ipython3",
   "version": "3.10.11"
  }
 },
 "nbformat": 4,
 "nbformat_minor": 2
}
